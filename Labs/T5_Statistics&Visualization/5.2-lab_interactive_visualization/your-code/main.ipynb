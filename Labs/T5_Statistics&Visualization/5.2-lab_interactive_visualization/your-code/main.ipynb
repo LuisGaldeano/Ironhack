{
 "cells": [
  {
   "cell_type": "markdown",
   "metadata": {},
   "source": [
    "# Interactive Visualization Lab\n",
    "\n",
    "Complete the following set of exercises to solidify your knowledge of interactive visualization using Plotly, Cufflinks, and IPyWidgets."
   ]
  },
  {
   "cell_type": "code",
   "execution_count": 28,
   "metadata": {},
   "outputs": [],
   "source": [
    "# %pip install ploty\n",
    "# %pip install chart-studio\n",
    "# %pip install cufflinks\n",
    "# %pip install openpyxl\n",
    "# %matplotlib inline"
   ]
  },
  {
   "cell_type": "code",
   "execution_count": 119,
   "metadata": {},
   "outputs": [
    {
     "data": {
      "text/html": [
       "        <script type=\"text/javascript\">\n",
       "        window.PlotlyConfig = {MathJaxConfig: 'local'};\n",
       "        if (window.MathJax && window.MathJax.Hub && window.MathJax.Hub.Config) {window.MathJax.Hub.Config({SVG: {font: \"STIX-Web\"}});}\n",
       "        if (typeof require !== 'undefined') {\n",
       "        require.undef(\"plotly\");\n",
       "        requirejs.config({\n",
       "            paths: {\n",
       "                'plotly': ['https://cdn.plot.ly/plotly-2.20.0.min']\n",
       "            }\n",
       "        });\n",
       "        require(['plotly'], function(Plotly) {\n",
       "            window._Plotly = Plotly;\n",
       "        });\n",
       "        }\n",
       "        </script>\n",
       "        "
      ]
     },
     "metadata": {},
     "output_type": "display_data"
    }
   ],
   "source": [
    "\n",
    "import pandas as pd\n",
    "import plotly.graph_objs as go\n",
    "import numpy as np\n",
    "import chart_studio.plotly as py\n",
    "import cufflinks as cf\n",
    "from ipywidgets import interact\n",
    "import plotly.express as px\n",
    "cf.go_offline()"
   ]
  },
  {
   "cell_type": "markdown",
   "metadata": {},
   "source": [
    "## 1. Create an interactive bar chart showing total quantity and revenue by country (excluding United Kingdom) for the month of April 2011."
   ]
  },
  {
   "cell_type": "code",
   "execution_count": 4,
   "metadata": {},
   "outputs": [],
   "source": [
    "online = pd.read_excel('../data/Online Retail.xlsx')"
   ]
  },
  {
   "cell_type": "code",
   "execution_count": 5,
   "metadata": {},
   "outputs": [
    {
     "data": {
      "text/html": [
       "<div>\n",
       "<style scoped>\n",
       "    .dataframe tbody tr th:only-of-type {\n",
       "        vertical-align: middle;\n",
       "    }\n",
       "\n",
       "    .dataframe tbody tr th {\n",
       "        vertical-align: top;\n",
       "    }\n",
       "\n",
       "    .dataframe thead th {\n",
       "        text-align: right;\n",
       "    }\n",
       "</style>\n",
       "<table border=\"1\" class=\"dataframe\">\n",
       "  <thead>\n",
       "    <tr style=\"text-align: right;\">\n",
       "      <th></th>\n",
       "      <th>InvoiceNo</th>\n",
       "      <th>InvoiceDate</th>\n",
       "      <th>StockCode</th>\n",
       "      <th>Description</th>\n",
       "      <th>Quantity</th>\n",
       "      <th>UnitPrice</th>\n",
       "      <th>Revenue</th>\n",
       "      <th>CustomerID</th>\n",
       "      <th>Country</th>\n",
       "    </tr>\n",
       "  </thead>\n",
       "  <tbody>\n",
       "    <tr>\n",
       "      <th>0</th>\n",
       "      <td>536365</td>\n",
       "      <td>2010-12-01 08:26:00</td>\n",
       "      <td>85123A</td>\n",
       "      <td>CREAM HANGING HEART T-LIGHT HOLDER</td>\n",
       "      <td>6</td>\n",
       "      <td>2.55</td>\n",
       "      <td>15.3</td>\n",
       "      <td>17850</td>\n",
       "      <td>United Kingdom</td>\n",
       "    </tr>\n",
       "    <tr>\n",
       "      <th>1</th>\n",
       "      <td>536373</td>\n",
       "      <td>2010-12-01 09:02:00</td>\n",
       "      <td>85123A</td>\n",
       "      <td>CREAM HANGING HEART T-LIGHT HOLDER</td>\n",
       "      <td>6</td>\n",
       "      <td>2.55</td>\n",
       "      <td>15.3</td>\n",
       "      <td>17850</td>\n",
       "      <td>United Kingdom</td>\n",
       "    </tr>\n",
       "    <tr>\n",
       "      <th>2</th>\n",
       "      <td>536375</td>\n",
       "      <td>2010-12-01 09:32:00</td>\n",
       "      <td>85123A</td>\n",
       "      <td>CREAM HANGING HEART T-LIGHT HOLDER</td>\n",
       "      <td>6</td>\n",
       "      <td>2.55</td>\n",
       "      <td>15.3</td>\n",
       "      <td>17850</td>\n",
       "      <td>United Kingdom</td>\n",
       "    </tr>\n",
       "    <tr>\n",
       "      <th>3</th>\n",
       "      <td>536390</td>\n",
       "      <td>2010-12-01 10:19:00</td>\n",
       "      <td>85123A</td>\n",
       "      <td>CREAM HANGING HEART T-LIGHT HOLDER</td>\n",
       "      <td>64</td>\n",
       "      <td>2.55</td>\n",
       "      <td>163.2</td>\n",
       "      <td>17511</td>\n",
       "      <td>United Kingdom</td>\n",
       "    </tr>\n",
       "    <tr>\n",
       "      <th>4</th>\n",
       "      <td>536394</td>\n",
       "      <td>2010-12-01 10:39:00</td>\n",
       "      <td>85123A</td>\n",
       "      <td>CREAM HANGING HEART T-LIGHT HOLDER</td>\n",
       "      <td>32</td>\n",
       "      <td>2.55</td>\n",
       "      <td>81.6</td>\n",
       "      <td>13408</td>\n",
       "      <td>United Kingdom</td>\n",
       "    </tr>\n",
       "  </tbody>\n",
       "</table>\n",
       "</div>"
      ],
      "text/plain": [
       "   InvoiceNo         InvoiceDate StockCode   \n",
       "0     536365 2010-12-01 08:26:00    85123A  \\\n",
       "1     536373 2010-12-01 09:02:00    85123A   \n",
       "2     536375 2010-12-01 09:32:00    85123A   \n",
       "3     536390 2010-12-01 10:19:00    85123A   \n",
       "4     536394 2010-12-01 10:39:00    85123A   \n",
       "\n",
       "                          Description  Quantity  UnitPrice  Revenue   \n",
       "0  CREAM HANGING HEART T-LIGHT HOLDER         6       2.55     15.3  \\\n",
       "1  CREAM HANGING HEART T-LIGHT HOLDER         6       2.55     15.3   \n",
       "2  CREAM HANGING HEART T-LIGHT HOLDER         6       2.55     15.3   \n",
       "3  CREAM HANGING HEART T-LIGHT HOLDER        64       2.55    163.2   \n",
       "4  CREAM HANGING HEART T-LIGHT HOLDER        32       2.55     81.6   \n",
       "\n",
       "   CustomerID         Country  \n",
       "0       17850  United Kingdom  \n",
       "1       17850  United Kingdom  \n",
       "2       17850  United Kingdom  \n",
       "3       17511  United Kingdom  \n",
       "4       13408  United Kingdom  "
      ]
     },
     "execution_count": 5,
     "metadata": {},
     "output_type": "execute_result"
    }
   ],
   "source": [
    "online.head()"
   ]
  },
  {
   "cell_type": "code",
   "execution_count": 6,
   "metadata": {},
   "outputs": [
    {
     "data": {
      "text/html": [
       "<div>\n",
       "<style scoped>\n",
       "    .dataframe tbody tr th:only-of-type {\n",
       "        vertical-align: middle;\n",
       "    }\n",
       "\n",
       "    .dataframe tbody tr th {\n",
       "        vertical-align: top;\n",
       "    }\n",
       "\n",
       "    .dataframe thead th {\n",
       "        text-align: right;\n",
       "    }\n",
       "</style>\n",
       "<table border=\"1\" class=\"dataframe\">\n",
       "  <thead>\n",
       "    <tr style=\"text-align: right;\">\n",
       "      <th></th>\n",
       "      <th>InvoiceNo</th>\n",
       "      <th>InvoiceDate</th>\n",
       "      <th>StockCode</th>\n",
       "      <th>Description</th>\n",
       "      <th>Quantity</th>\n",
       "      <th>UnitPrice</th>\n",
       "      <th>Revenue</th>\n",
       "      <th>CustomerID</th>\n",
       "      <th>Country</th>\n",
       "    </tr>\n",
       "  </thead>\n",
       "  <tbody>\n",
       "    <tr>\n",
       "      <th>724</th>\n",
       "      <td>549667</td>\n",
       "      <td>2011-04-11 12:20:00</td>\n",
       "      <td>85123A</td>\n",
       "      <td>CREAM HANGING HEART T-LIGHT HOLDER</td>\n",
       "      <td>6</td>\n",
       "      <td>2.95</td>\n",
       "      <td>17.70</td>\n",
       "      <td>14911</td>\n",
       "      <td>EIRE</td>\n",
       "    </tr>\n",
       "    <tr>\n",
       "      <th>807</th>\n",
       "      <td>551163</td>\n",
       "      <td>2011-04-26 15:52:00</td>\n",
       "      <td>85123A</td>\n",
       "      <td>CREAM HANGING HEART T-LIGHT HOLDER</td>\n",
       "      <td>9</td>\n",
       "      <td>2.95</td>\n",
       "      <td>26.55</td>\n",
       "      <td>12573</td>\n",
       "      <td>France</td>\n",
       "    </tr>\n",
       "    <tr>\n",
       "      <th>3320</th>\n",
       "      <td>550899</td>\n",
       "      <td>2011-04-21 12:07:00</td>\n",
       "      <td>22752</td>\n",
       "      <td>SET 7 BABUSHKA NESTING BOXES</td>\n",
       "      <td>2</td>\n",
       "      <td>8.50</td>\n",
       "      <td>17.00</td>\n",
       "      <td>13505</td>\n",
       "      <td>Switzerland</td>\n",
       "    </tr>\n",
       "    <tr>\n",
       "      <th>4880</th>\n",
       "      <td>550527</td>\n",
       "      <td>2011-04-19 10:48:00</td>\n",
       "      <td>84879</td>\n",
       "      <td>ASSORTED COLOUR BIRD ORNAMENT</td>\n",
       "      <td>40</td>\n",
       "      <td>1.69</td>\n",
       "      <td>67.60</td>\n",
       "      <td>12476</td>\n",
       "      <td>Germany</td>\n",
       "    </tr>\n",
       "    <tr>\n",
       "      <th>4882</th>\n",
       "      <td>550620</td>\n",
       "      <td>2011-04-19 13:39:00</td>\n",
       "      <td>84879</td>\n",
       "      <td>ASSORTED COLOUR BIRD ORNAMENT</td>\n",
       "      <td>32</td>\n",
       "      <td>1.69</td>\n",
       "      <td>54.08</td>\n",
       "      <td>12585</td>\n",
       "      <td>Germany</td>\n",
       "    </tr>\n",
       "  </tbody>\n",
       "</table>\n",
       "</div>"
      ],
      "text/plain": [
       "      InvoiceNo         InvoiceDate StockCode   \n",
       "724      549667 2011-04-11 12:20:00    85123A  \\\n",
       "807      551163 2011-04-26 15:52:00    85123A   \n",
       "3320     550899 2011-04-21 12:07:00     22752   \n",
       "4880     550527 2011-04-19 10:48:00     84879   \n",
       "4882     550620 2011-04-19 13:39:00     84879   \n",
       "\n",
       "                             Description  Quantity  UnitPrice  Revenue   \n",
       "724   CREAM HANGING HEART T-LIGHT HOLDER         6       2.95    17.70  \\\n",
       "807   CREAM HANGING HEART T-LIGHT HOLDER         9       2.95    26.55   \n",
       "3320        SET 7 BABUSHKA NESTING BOXES         2       8.50    17.00   \n",
       "4880       ASSORTED COLOUR BIRD ORNAMENT        40       1.69    67.60   \n",
       "4882       ASSORTED COLOUR BIRD ORNAMENT        32       1.69    54.08   \n",
       "\n",
       "      CustomerID      Country  \n",
       "724        14911         EIRE  \n",
       "807        12573       France  \n",
       "3320       13505  Switzerland  \n",
       "4880       12476      Germany  \n",
       "4882       12585      Germany  "
      ]
     },
     "execution_count": 6,
     "metadata": {},
     "output_type": "execute_result"
    }
   ],
   "source": [
    "data=online[online.Country!='United Kingdom']\n",
    "\n",
    "data= data.loc[(data.InvoiceDate >= '2011-04-01') & (data.InvoiceDate <= '2011-04-30')]\n",
    "\n",
    "data.head()"
   ]
  },
  {
   "cell_type": "code",
   "execution_count": 10,
   "metadata": {},
   "outputs": [],
   "source": [
    "data = data.groupby('Country')[['Quantity', 'Revenue']].sum()"
   ]
  },
  {
   "cell_type": "code",
   "execution_count": 11,
   "metadata": {},
   "outputs": [
    {
     "data": {
      "application/vnd.plotly.v1+json": {
       "config": {
        "linkText": "Export to plot.ly",
        "plotlyServerURL": "https://plot.ly",
        "showLink": true
       },
       "data": [
        {
         "marker": {
          "color": "rgba(255, 153, 51, 0.6)",
          "line": {
           "color": "rgba(255, 153, 51, 1.0)",
           "width": 1
          }
         },
         "name": "Quantity",
         "orientation": "v",
         "text": "",
         "type": "bar",
         "x": [
          "Australia",
          "Austria",
          "Belgium",
          "Brazil",
          "Channel Islands",
          "EIRE",
          "Finland",
          "France",
          "Germany",
          "Greece",
          "Iceland",
          "Italy",
          "Japan",
          "Netherlands",
          "Poland",
          "Portugal",
          "Singapore",
          "Spain",
          "Sweden",
          "Switzerland",
          "USA"
         ],
         "y": [
          224,
          308,
          1170,
          356,
          96,
          4129,
          810,
          2265,
          5702,
          260,
          483,
          653,
          8058,
          1762,
          432,
          951,
          1384,
          948,
          306,
          878,
          137
         ]
        },
        {
         "marker": {
          "color": "rgba(55, 128, 191, 0.6)",
          "line": {
           "color": "rgba(55, 128, 191, 1.0)",
           "width": 1
          }
         },
         "name": "Revenue",
         "orientation": "v",
         "text": "",
         "type": "bar",
         "x": [
          "Australia",
          "Austria",
          "Belgium",
          "Brazil",
          "Channel Islands",
          "EIRE",
          "Finland",
          "France",
          "Germany",
          "Greece",
          "Iceland",
          "Italy",
          "Japan",
          "Netherlands",
          "Poland",
          "Portugal",
          "Singapore",
          "Spain",
          "Sweden",
          "Switzerland",
          "USA"
         ],
         "y": [
          421.6,
          584.78,
          1788.48,
          1143.6,
          243,
          7270.5,
          1368.92,
          3899.31,
          10994.79,
          509.74,
          636.25,
          737.83,
          6548.5,
          2886.56,
          705.8399999999999,
          1687.75,
          2118.74,
          1645.65,
          649.1,
          1756.94,
          383.95
         ]
        }
       ],
       "layout": {
        "legend": {
         "bgcolor": "#F5F6F9",
         "font": {
          "color": "#4D5663"
         }
        },
        "paper_bgcolor": "#F5F6F9",
        "plot_bgcolor": "#F5F6F9",
        "template": {
         "data": {
          "bar": [
           {
            "error_x": {
             "color": "#2a3f5f"
            },
            "error_y": {
             "color": "#2a3f5f"
            },
            "marker": {
             "line": {
              "color": "#E5ECF6",
              "width": 0.5
             },
             "pattern": {
              "fillmode": "overlay",
              "size": 10,
              "solidity": 0.2
             }
            },
            "type": "bar"
           }
          ],
          "barpolar": [
           {
            "marker": {
             "line": {
              "color": "#E5ECF6",
              "width": 0.5
             },
             "pattern": {
              "fillmode": "overlay",
              "size": 10,
              "solidity": 0.2
             }
            },
            "type": "barpolar"
           }
          ],
          "carpet": [
           {
            "aaxis": {
             "endlinecolor": "#2a3f5f",
             "gridcolor": "white",
             "linecolor": "white",
             "minorgridcolor": "white",
             "startlinecolor": "#2a3f5f"
            },
            "baxis": {
             "endlinecolor": "#2a3f5f",
             "gridcolor": "white",
             "linecolor": "white",
             "minorgridcolor": "white",
             "startlinecolor": "#2a3f5f"
            },
            "type": "carpet"
           }
          ],
          "choropleth": [
           {
            "colorbar": {
             "outlinewidth": 0,
             "ticks": ""
            },
            "type": "choropleth"
           }
          ],
          "contour": [
           {
            "colorbar": {
             "outlinewidth": 0,
             "ticks": ""
            },
            "colorscale": [
             [
              0,
              "#0d0887"
             ],
             [
              0.1111111111111111,
              "#46039f"
             ],
             [
              0.2222222222222222,
              "#7201a8"
             ],
             [
              0.3333333333333333,
              "#9c179e"
             ],
             [
              0.4444444444444444,
              "#bd3786"
             ],
             [
              0.5555555555555556,
              "#d8576b"
             ],
             [
              0.6666666666666666,
              "#ed7953"
             ],
             [
              0.7777777777777778,
              "#fb9f3a"
             ],
             [
              0.8888888888888888,
              "#fdca26"
             ],
             [
              1,
              "#f0f921"
             ]
            ],
            "type": "contour"
           }
          ],
          "contourcarpet": [
           {
            "colorbar": {
             "outlinewidth": 0,
             "ticks": ""
            },
            "type": "contourcarpet"
           }
          ],
          "heatmap": [
           {
            "colorbar": {
             "outlinewidth": 0,
             "ticks": ""
            },
            "colorscale": [
             [
              0,
              "#0d0887"
             ],
             [
              0.1111111111111111,
              "#46039f"
             ],
             [
              0.2222222222222222,
              "#7201a8"
             ],
             [
              0.3333333333333333,
              "#9c179e"
             ],
             [
              0.4444444444444444,
              "#bd3786"
             ],
             [
              0.5555555555555556,
              "#d8576b"
             ],
             [
              0.6666666666666666,
              "#ed7953"
             ],
             [
              0.7777777777777778,
              "#fb9f3a"
             ],
             [
              0.8888888888888888,
              "#fdca26"
             ],
             [
              1,
              "#f0f921"
             ]
            ],
            "type": "heatmap"
           }
          ],
          "heatmapgl": [
           {
            "colorbar": {
             "outlinewidth": 0,
             "ticks": ""
            },
            "colorscale": [
             [
              0,
              "#0d0887"
             ],
             [
              0.1111111111111111,
              "#46039f"
             ],
             [
              0.2222222222222222,
              "#7201a8"
             ],
             [
              0.3333333333333333,
              "#9c179e"
             ],
             [
              0.4444444444444444,
              "#bd3786"
             ],
             [
              0.5555555555555556,
              "#d8576b"
             ],
             [
              0.6666666666666666,
              "#ed7953"
             ],
             [
              0.7777777777777778,
              "#fb9f3a"
             ],
             [
              0.8888888888888888,
              "#fdca26"
             ],
             [
              1,
              "#f0f921"
             ]
            ],
            "type": "heatmapgl"
           }
          ],
          "histogram": [
           {
            "marker": {
             "pattern": {
              "fillmode": "overlay",
              "size": 10,
              "solidity": 0.2
             }
            },
            "type": "histogram"
           }
          ],
          "histogram2d": [
           {
            "colorbar": {
             "outlinewidth": 0,
             "ticks": ""
            },
            "colorscale": [
             [
              0,
              "#0d0887"
             ],
             [
              0.1111111111111111,
              "#46039f"
             ],
             [
              0.2222222222222222,
              "#7201a8"
             ],
             [
              0.3333333333333333,
              "#9c179e"
             ],
             [
              0.4444444444444444,
              "#bd3786"
             ],
             [
              0.5555555555555556,
              "#d8576b"
             ],
             [
              0.6666666666666666,
              "#ed7953"
             ],
             [
              0.7777777777777778,
              "#fb9f3a"
             ],
             [
              0.8888888888888888,
              "#fdca26"
             ],
             [
              1,
              "#f0f921"
             ]
            ],
            "type": "histogram2d"
           }
          ],
          "histogram2dcontour": [
           {
            "colorbar": {
             "outlinewidth": 0,
             "ticks": ""
            },
            "colorscale": [
             [
              0,
              "#0d0887"
             ],
             [
              0.1111111111111111,
              "#46039f"
             ],
             [
              0.2222222222222222,
              "#7201a8"
             ],
             [
              0.3333333333333333,
              "#9c179e"
             ],
             [
              0.4444444444444444,
              "#bd3786"
             ],
             [
              0.5555555555555556,
              "#d8576b"
             ],
             [
              0.6666666666666666,
              "#ed7953"
             ],
             [
              0.7777777777777778,
              "#fb9f3a"
             ],
             [
              0.8888888888888888,
              "#fdca26"
             ],
             [
              1,
              "#f0f921"
             ]
            ],
            "type": "histogram2dcontour"
           }
          ],
          "mesh3d": [
           {
            "colorbar": {
             "outlinewidth": 0,
             "ticks": ""
            },
            "type": "mesh3d"
           }
          ],
          "parcoords": [
           {
            "line": {
             "colorbar": {
              "outlinewidth": 0,
              "ticks": ""
             }
            },
            "type": "parcoords"
           }
          ],
          "pie": [
           {
            "automargin": true,
            "type": "pie"
           }
          ],
          "scatter": [
           {
            "fillpattern": {
             "fillmode": "overlay",
             "size": 10,
             "solidity": 0.2
            },
            "type": "scatter"
           }
          ],
          "scatter3d": [
           {
            "line": {
             "colorbar": {
              "outlinewidth": 0,
              "ticks": ""
             }
            },
            "marker": {
             "colorbar": {
              "outlinewidth": 0,
              "ticks": ""
             }
            },
            "type": "scatter3d"
           }
          ],
          "scattercarpet": [
           {
            "marker": {
             "colorbar": {
              "outlinewidth": 0,
              "ticks": ""
             }
            },
            "type": "scattercarpet"
           }
          ],
          "scattergeo": [
           {
            "marker": {
             "colorbar": {
              "outlinewidth": 0,
              "ticks": ""
             }
            },
            "type": "scattergeo"
           }
          ],
          "scattergl": [
           {
            "marker": {
             "colorbar": {
              "outlinewidth": 0,
              "ticks": ""
             }
            },
            "type": "scattergl"
           }
          ],
          "scattermapbox": [
           {
            "marker": {
             "colorbar": {
              "outlinewidth": 0,
              "ticks": ""
             }
            },
            "type": "scattermapbox"
           }
          ],
          "scatterpolar": [
           {
            "marker": {
             "colorbar": {
              "outlinewidth": 0,
              "ticks": ""
             }
            },
            "type": "scatterpolar"
           }
          ],
          "scatterpolargl": [
           {
            "marker": {
             "colorbar": {
              "outlinewidth": 0,
              "ticks": ""
             }
            },
            "type": "scatterpolargl"
           }
          ],
          "scatterternary": [
           {
            "marker": {
             "colorbar": {
              "outlinewidth": 0,
              "ticks": ""
             }
            },
            "type": "scatterternary"
           }
          ],
          "surface": [
           {
            "colorbar": {
             "outlinewidth": 0,
             "ticks": ""
            },
            "colorscale": [
             [
              0,
              "#0d0887"
             ],
             [
              0.1111111111111111,
              "#46039f"
             ],
             [
              0.2222222222222222,
              "#7201a8"
             ],
             [
              0.3333333333333333,
              "#9c179e"
             ],
             [
              0.4444444444444444,
              "#bd3786"
             ],
             [
              0.5555555555555556,
              "#d8576b"
             ],
             [
              0.6666666666666666,
              "#ed7953"
             ],
             [
              0.7777777777777778,
              "#fb9f3a"
             ],
             [
              0.8888888888888888,
              "#fdca26"
             ],
             [
              1,
              "#f0f921"
             ]
            ],
            "type": "surface"
           }
          ],
          "table": [
           {
            "cells": {
             "fill": {
              "color": "#EBF0F8"
             },
             "line": {
              "color": "white"
             }
            },
            "header": {
             "fill": {
              "color": "#C8D4E3"
             },
             "line": {
              "color": "white"
             }
            },
            "type": "table"
           }
          ]
         },
         "layout": {
          "annotationdefaults": {
           "arrowcolor": "#2a3f5f",
           "arrowhead": 0,
           "arrowwidth": 1
          },
          "autotypenumbers": "strict",
          "coloraxis": {
           "colorbar": {
            "outlinewidth": 0,
            "ticks": ""
           }
          },
          "colorscale": {
           "diverging": [
            [
             0,
             "#8e0152"
            ],
            [
             0.1,
             "#c51b7d"
            ],
            [
             0.2,
             "#de77ae"
            ],
            [
             0.3,
             "#f1b6da"
            ],
            [
             0.4,
             "#fde0ef"
            ],
            [
             0.5,
             "#f7f7f7"
            ],
            [
             0.6,
             "#e6f5d0"
            ],
            [
             0.7,
             "#b8e186"
            ],
            [
             0.8,
             "#7fbc41"
            ],
            [
             0.9,
             "#4d9221"
            ],
            [
             1,
             "#276419"
            ]
           ],
           "sequential": [
            [
             0,
             "#0d0887"
            ],
            [
             0.1111111111111111,
             "#46039f"
            ],
            [
             0.2222222222222222,
             "#7201a8"
            ],
            [
             0.3333333333333333,
             "#9c179e"
            ],
            [
             0.4444444444444444,
             "#bd3786"
            ],
            [
             0.5555555555555556,
             "#d8576b"
            ],
            [
             0.6666666666666666,
             "#ed7953"
            ],
            [
             0.7777777777777778,
             "#fb9f3a"
            ],
            [
             0.8888888888888888,
             "#fdca26"
            ],
            [
             1,
             "#f0f921"
            ]
           ],
           "sequentialminus": [
            [
             0,
             "#0d0887"
            ],
            [
             0.1111111111111111,
             "#46039f"
            ],
            [
             0.2222222222222222,
             "#7201a8"
            ],
            [
             0.3333333333333333,
             "#9c179e"
            ],
            [
             0.4444444444444444,
             "#bd3786"
            ],
            [
             0.5555555555555556,
             "#d8576b"
            ],
            [
             0.6666666666666666,
             "#ed7953"
            ],
            [
             0.7777777777777778,
             "#fb9f3a"
            ],
            [
             0.8888888888888888,
             "#fdca26"
            ],
            [
             1,
             "#f0f921"
            ]
           ]
          },
          "colorway": [
           "#636efa",
           "#EF553B",
           "#00cc96",
           "#ab63fa",
           "#FFA15A",
           "#19d3f3",
           "#FF6692",
           "#B6E880",
           "#FF97FF",
           "#FECB52"
          ],
          "font": {
           "color": "#2a3f5f"
          },
          "geo": {
           "bgcolor": "white",
           "lakecolor": "white",
           "landcolor": "#E5ECF6",
           "showlakes": true,
           "showland": true,
           "subunitcolor": "white"
          },
          "hoverlabel": {
           "align": "left"
          },
          "hovermode": "closest",
          "mapbox": {
           "style": "light"
          },
          "paper_bgcolor": "white",
          "plot_bgcolor": "#E5ECF6",
          "polar": {
           "angularaxis": {
            "gridcolor": "white",
            "linecolor": "white",
            "ticks": ""
           },
           "bgcolor": "#E5ECF6",
           "radialaxis": {
            "gridcolor": "white",
            "linecolor": "white",
            "ticks": ""
           }
          },
          "scene": {
           "xaxis": {
            "backgroundcolor": "#E5ECF6",
            "gridcolor": "white",
            "gridwidth": 2,
            "linecolor": "white",
            "showbackground": true,
            "ticks": "",
            "zerolinecolor": "white"
           },
           "yaxis": {
            "backgroundcolor": "#E5ECF6",
            "gridcolor": "white",
            "gridwidth": 2,
            "linecolor": "white",
            "showbackground": true,
            "ticks": "",
            "zerolinecolor": "white"
           },
           "zaxis": {
            "backgroundcolor": "#E5ECF6",
            "gridcolor": "white",
            "gridwidth": 2,
            "linecolor": "white",
            "showbackground": true,
            "ticks": "",
            "zerolinecolor": "white"
           }
          },
          "shapedefaults": {
           "line": {
            "color": "#2a3f5f"
           }
          },
          "ternary": {
           "aaxis": {
            "gridcolor": "white",
            "linecolor": "white",
            "ticks": ""
           },
           "baxis": {
            "gridcolor": "white",
            "linecolor": "white",
            "ticks": ""
           },
           "bgcolor": "#E5ECF6",
           "caxis": {
            "gridcolor": "white",
            "linecolor": "white",
            "ticks": ""
           }
          },
          "title": {
           "x": 0.05
          },
          "xaxis": {
           "automargin": true,
           "gridcolor": "white",
           "linecolor": "white",
           "ticks": "",
           "title": {
            "standoff": 15
           },
           "zerolinecolor": "white",
           "zerolinewidth": 2
          },
          "yaxis": {
           "automargin": true,
           "gridcolor": "white",
           "linecolor": "white",
           "ticks": "",
           "title": {
            "standoff": 15
           },
           "zerolinecolor": "white",
           "zerolinewidth": 2
          }
         }
        },
        "title": {
         "font": {
          "color": "#4D5663"
         },
         "text": "Cantidad Total y Beneficio"
        },
        "xaxis": {
         "gridcolor": "#E1E5ED",
         "showgrid": true,
         "tickfont": {
          "color": "#4D5663"
         },
         "title": {
          "font": {
           "color": "#4D5663"
          },
          "text": "Country"
         },
         "zerolinecolor": "#E1E5ED"
        },
        "yaxis": {
         "gridcolor": "#E1E5ED",
         "showgrid": true,
         "tickfont": {
          "color": "#4D5663"
         },
         "title": {
          "font": {
           "color": "#4D5663"
          },
          "text": ""
         },
         "zerolinecolor": "#E1E5ED"
        }
       }
      },
      "text/html": [
       "<div>                            <div id=\"d12b16a6-12a1-46b5-9723-53f802f66e3b\" class=\"plotly-graph-div\" style=\"height:525px; width:100%;\"></div>            <script type=\"text/javascript\">                require([\"plotly\"], function(Plotly) {                    window.PLOTLYENV=window.PLOTLYENV || {};\n",
       "                    window.PLOTLYENV.BASE_URL='https://plot.ly';                                    if (document.getElementById(\"d12b16a6-12a1-46b5-9723-53f802f66e3b\")) {                    Plotly.newPlot(                        \"d12b16a6-12a1-46b5-9723-53f802f66e3b\",                        [{\"marker\":{\"color\":\"rgba(255, 153, 51, 0.6)\",\"line\":{\"color\":\"rgba(255, 153, 51, 1.0)\",\"width\":1}},\"name\":\"Quantity\",\"orientation\":\"v\",\"text\":\"\",\"x\":[\"Australia\",\"Austria\",\"Belgium\",\"Brazil\",\"Channel Islands\",\"EIRE\",\"Finland\",\"France\",\"Germany\",\"Greece\",\"Iceland\",\"Italy\",\"Japan\",\"Netherlands\",\"Poland\",\"Portugal\",\"Singapore\",\"Spain\",\"Sweden\",\"Switzerland\",\"USA\"],\"y\":[224,308,1170,356,96,4129,810,2265,5702,260,483,653,8058,1762,432,951,1384,948,306,878,137],\"type\":\"bar\"},{\"marker\":{\"color\":\"rgba(55, 128, 191, 0.6)\",\"line\":{\"color\":\"rgba(55, 128, 191, 1.0)\",\"width\":1}},\"name\":\"Revenue\",\"orientation\":\"v\",\"text\":\"\",\"x\":[\"Australia\",\"Austria\",\"Belgium\",\"Brazil\",\"Channel Islands\",\"EIRE\",\"Finland\",\"France\",\"Germany\",\"Greece\",\"Iceland\",\"Italy\",\"Japan\",\"Netherlands\",\"Poland\",\"Portugal\",\"Singapore\",\"Spain\",\"Sweden\",\"Switzerland\",\"USA\"],\"y\":[421.6,584.78,1788.48,1143.6,243.0,7270.5,1368.92,3899.31,10994.79,509.74,636.25,737.83,6548.5,2886.56,705.8399999999999,1687.75,2118.74,1645.65,649.1,1756.94,383.95],\"type\":\"bar\"}],                        {\"legend\":{\"bgcolor\":\"#F5F6F9\",\"font\":{\"color\":\"#4D5663\"}},\"paper_bgcolor\":\"#F5F6F9\",\"plot_bgcolor\":\"#F5F6F9\",\"template\":{\"data\":{\"barpolar\":[{\"marker\":{\"line\":{\"color\":\"#E5ECF6\",\"width\":0.5},\"pattern\":{\"fillmode\":\"overlay\",\"size\":10,\"solidity\":0.2}},\"type\":\"barpolar\"}],\"bar\":[{\"error_x\":{\"color\":\"#2a3f5f\"},\"error_y\":{\"color\":\"#2a3f5f\"},\"marker\":{\"line\":{\"color\":\"#E5ECF6\",\"width\":0.5},\"pattern\":{\"fillmode\":\"overlay\",\"size\":10,\"solidity\":0.2}},\"type\":\"bar\"}],\"carpet\":[{\"aaxis\":{\"endlinecolor\":\"#2a3f5f\",\"gridcolor\":\"white\",\"linecolor\":\"white\",\"minorgridcolor\":\"white\",\"startlinecolor\":\"#2a3f5f\"},\"baxis\":{\"endlinecolor\":\"#2a3f5f\",\"gridcolor\":\"white\",\"linecolor\":\"white\",\"minorgridcolor\":\"white\",\"startlinecolor\":\"#2a3f5f\"},\"type\":\"carpet\"}],\"choropleth\":[{\"colorbar\":{\"outlinewidth\":0,\"ticks\":\"\"},\"type\":\"choropleth\"}],\"contourcarpet\":[{\"colorbar\":{\"outlinewidth\":0,\"ticks\":\"\"},\"type\":\"contourcarpet\"}],\"contour\":[{\"colorbar\":{\"outlinewidth\":0,\"ticks\":\"\"},\"colorscale\":[[0.0,\"#0d0887\"],[0.1111111111111111,\"#46039f\"],[0.2222222222222222,\"#7201a8\"],[0.3333333333333333,\"#9c179e\"],[0.4444444444444444,\"#bd3786\"],[0.5555555555555556,\"#d8576b\"],[0.6666666666666666,\"#ed7953\"],[0.7777777777777778,\"#fb9f3a\"],[0.8888888888888888,\"#fdca26\"],[1.0,\"#f0f921\"]],\"type\":\"contour\"}],\"heatmapgl\":[{\"colorbar\":{\"outlinewidth\":0,\"ticks\":\"\"},\"colorscale\":[[0.0,\"#0d0887\"],[0.1111111111111111,\"#46039f\"],[0.2222222222222222,\"#7201a8\"],[0.3333333333333333,\"#9c179e\"],[0.4444444444444444,\"#bd3786\"],[0.5555555555555556,\"#d8576b\"],[0.6666666666666666,\"#ed7953\"],[0.7777777777777778,\"#fb9f3a\"],[0.8888888888888888,\"#fdca26\"],[1.0,\"#f0f921\"]],\"type\":\"heatmapgl\"}],\"heatmap\":[{\"colorbar\":{\"outlinewidth\":0,\"ticks\":\"\"},\"colorscale\":[[0.0,\"#0d0887\"],[0.1111111111111111,\"#46039f\"],[0.2222222222222222,\"#7201a8\"],[0.3333333333333333,\"#9c179e\"],[0.4444444444444444,\"#bd3786\"],[0.5555555555555556,\"#d8576b\"],[0.6666666666666666,\"#ed7953\"],[0.7777777777777778,\"#fb9f3a\"],[0.8888888888888888,\"#fdca26\"],[1.0,\"#f0f921\"]],\"type\":\"heatmap\"}],\"histogram2dcontour\":[{\"colorbar\":{\"outlinewidth\":0,\"ticks\":\"\"},\"colorscale\":[[0.0,\"#0d0887\"],[0.1111111111111111,\"#46039f\"],[0.2222222222222222,\"#7201a8\"],[0.3333333333333333,\"#9c179e\"],[0.4444444444444444,\"#bd3786\"],[0.5555555555555556,\"#d8576b\"],[0.6666666666666666,\"#ed7953\"],[0.7777777777777778,\"#fb9f3a\"],[0.8888888888888888,\"#fdca26\"],[1.0,\"#f0f921\"]],\"type\":\"histogram2dcontour\"}],\"histogram2d\":[{\"colorbar\":{\"outlinewidth\":0,\"ticks\":\"\"},\"colorscale\":[[0.0,\"#0d0887\"],[0.1111111111111111,\"#46039f\"],[0.2222222222222222,\"#7201a8\"],[0.3333333333333333,\"#9c179e\"],[0.4444444444444444,\"#bd3786\"],[0.5555555555555556,\"#d8576b\"],[0.6666666666666666,\"#ed7953\"],[0.7777777777777778,\"#fb9f3a\"],[0.8888888888888888,\"#fdca26\"],[1.0,\"#f0f921\"]],\"type\":\"histogram2d\"}],\"histogram\":[{\"marker\":{\"pattern\":{\"fillmode\":\"overlay\",\"size\":10,\"solidity\":0.2}},\"type\":\"histogram\"}],\"mesh3d\":[{\"colorbar\":{\"outlinewidth\":0,\"ticks\":\"\"},\"type\":\"mesh3d\"}],\"parcoords\":[{\"line\":{\"colorbar\":{\"outlinewidth\":0,\"ticks\":\"\"}},\"type\":\"parcoords\"}],\"pie\":[{\"automargin\":true,\"type\":\"pie\"}],\"scatter3d\":[{\"line\":{\"colorbar\":{\"outlinewidth\":0,\"ticks\":\"\"}},\"marker\":{\"colorbar\":{\"outlinewidth\":0,\"ticks\":\"\"}},\"type\":\"scatter3d\"}],\"scattercarpet\":[{\"marker\":{\"colorbar\":{\"outlinewidth\":0,\"ticks\":\"\"}},\"type\":\"scattercarpet\"}],\"scattergeo\":[{\"marker\":{\"colorbar\":{\"outlinewidth\":0,\"ticks\":\"\"}},\"type\":\"scattergeo\"}],\"scattergl\":[{\"marker\":{\"colorbar\":{\"outlinewidth\":0,\"ticks\":\"\"}},\"type\":\"scattergl\"}],\"scattermapbox\":[{\"marker\":{\"colorbar\":{\"outlinewidth\":0,\"ticks\":\"\"}},\"type\":\"scattermapbox\"}],\"scatterpolargl\":[{\"marker\":{\"colorbar\":{\"outlinewidth\":0,\"ticks\":\"\"}},\"type\":\"scatterpolargl\"}],\"scatterpolar\":[{\"marker\":{\"colorbar\":{\"outlinewidth\":0,\"ticks\":\"\"}},\"type\":\"scatterpolar\"}],\"scatter\":[{\"fillpattern\":{\"fillmode\":\"overlay\",\"size\":10,\"solidity\":0.2},\"type\":\"scatter\"}],\"scatterternary\":[{\"marker\":{\"colorbar\":{\"outlinewidth\":0,\"ticks\":\"\"}},\"type\":\"scatterternary\"}],\"surface\":[{\"colorbar\":{\"outlinewidth\":0,\"ticks\":\"\"},\"colorscale\":[[0.0,\"#0d0887\"],[0.1111111111111111,\"#46039f\"],[0.2222222222222222,\"#7201a8\"],[0.3333333333333333,\"#9c179e\"],[0.4444444444444444,\"#bd3786\"],[0.5555555555555556,\"#d8576b\"],[0.6666666666666666,\"#ed7953\"],[0.7777777777777778,\"#fb9f3a\"],[0.8888888888888888,\"#fdca26\"],[1.0,\"#f0f921\"]],\"type\":\"surface\"}],\"table\":[{\"cells\":{\"fill\":{\"color\":\"#EBF0F8\"},\"line\":{\"color\":\"white\"}},\"header\":{\"fill\":{\"color\":\"#C8D4E3\"},\"line\":{\"color\":\"white\"}},\"type\":\"table\"}]},\"layout\":{\"annotationdefaults\":{\"arrowcolor\":\"#2a3f5f\",\"arrowhead\":0,\"arrowwidth\":1},\"autotypenumbers\":\"strict\",\"coloraxis\":{\"colorbar\":{\"outlinewidth\":0,\"ticks\":\"\"}},\"colorscale\":{\"diverging\":[[0,\"#8e0152\"],[0.1,\"#c51b7d\"],[0.2,\"#de77ae\"],[0.3,\"#f1b6da\"],[0.4,\"#fde0ef\"],[0.5,\"#f7f7f7\"],[0.6,\"#e6f5d0\"],[0.7,\"#b8e186\"],[0.8,\"#7fbc41\"],[0.9,\"#4d9221\"],[1,\"#276419\"]],\"sequential\":[[0.0,\"#0d0887\"],[0.1111111111111111,\"#46039f\"],[0.2222222222222222,\"#7201a8\"],[0.3333333333333333,\"#9c179e\"],[0.4444444444444444,\"#bd3786\"],[0.5555555555555556,\"#d8576b\"],[0.6666666666666666,\"#ed7953\"],[0.7777777777777778,\"#fb9f3a\"],[0.8888888888888888,\"#fdca26\"],[1.0,\"#f0f921\"]],\"sequentialminus\":[[0.0,\"#0d0887\"],[0.1111111111111111,\"#46039f\"],[0.2222222222222222,\"#7201a8\"],[0.3333333333333333,\"#9c179e\"],[0.4444444444444444,\"#bd3786\"],[0.5555555555555556,\"#d8576b\"],[0.6666666666666666,\"#ed7953\"],[0.7777777777777778,\"#fb9f3a\"],[0.8888888888888888,\"#fdca26\"],[1.0,\"#f0f921\"]]},\"colorway\":[\"#636efa\",\"#EF553B\",\"#00cc96\",\"#ab63fa\",\"#FFA15A\",\"#19d3f3\",\"#FF6692\",\"#B6E880\",\"#FF97FF\",\"#FECB52\"],\"font\":{\"color\":\"#2a3f5f\"},\"geo\":{\"bgcolor\":\"white\",\"lakecolor\":\"white\",\"landcolor\":\"#E5ECF6\",\"showlakes\":true,\"showland\":true,\"subunitcolor\":\"white\"},\"hoverlabel\":{\"align\":\"left\"},\"hovermode\":\"closest\",\"mapbox\":{\"style\":\"light\"},\"paper_bgcolor\":\"white\",\"plot_bgcolor\":\"#E5ECF6\",\"polar\":{\"angularaxis\":{\"gridcolor\":\"white\",\"linecolor\":\"white\",\"ticks\":\"\"},\"bgcolor\":\"#E5ECF6\",\"radialaxis\":{\"gridcolor\":\"white\",\"linecolor\":\"white\",\"ticks\":\"\"}},\"scene\":{\"xaxis\":{\"backgroundcolor\":\"#E5ECF6\",\"gridcolor\":\"white\",\"gridwidth\":2,\"linecolor\":\"white\",\"showbackground\":true,\"ticks\":\"\",\"zerolinecolor\":\"white\"},\"yaxis\":{\"backgroundcolor\":\"#E5ECF6\",\"gridcolor\":\"white\",\"gridwidth\":2,\"linecolor\":\"white\",\"showbackground\":true,\"ticks\":\"\",\"zerolinecolor\":\"white\"},\"zaxis\":{\"backgroundcolor\":\"#E5ECF6\",\"gridcolor\":\"white\",\"gridwidth\":2,\"linecolor\":\"white\",\"showbackground\":true,\"ticks\":\"\",\"zerolinecolor\":\"white\"}},\"shapedefaults\":{\"line\":{\"color\":\"#2a3f5f\"}},\"ternary\":{\"aaxis\":{\"gridcolor\":\"white\",\"linecolor\":\"white\",\"ticks\":\"\"},\"baxis\":{\"gridcolor\":\"white\",\"linecolor\":\"white\",\"ticks\":\"\"},\"bgcolor\":\"#E5ECF6\",\"caxis\":{\"gridcolor\":\"white\",\"linecolor\":\"white\",\"ticks\":\"\"}},\"title\":{\"x\":0.05},\"xaxis\":{\"automargin\":true,\"gridcolor\":\"white\",\"linecolor\":\"white\",\"ticks\":\"\",\"title\":{\"standoff\":15},\"zerolinecolor\":\"white\",\"zerolinewidth\":2},\"yaxis\":{\"automargin\":true,\"gridcolor\":\"white\",\"linecolor\":\"white\",\"ticks\":\"\",\"title\":{\"standoff\":15},\"zerolinecolor\":\"white\",\"zerolinewidth\":2}}},\"title\":{\"font\":{\"color\":\"#4D5663\"},\"text\":\"Cantidad Total y Beneficio\"},\"xaxis\":{\"gridcolor\":\"#E1E5ED\",\"showgrid\":true,\"tickfont\":{\"color\":\"#4D5663\"},\"title\":{\"font\":{\"color\":\"#4D5663\"},\"text\":\"Country\"},\"zerolinecolor\":\"#E1E5ED\"},\"yaxis\":{\"gridcolor\":\"#E1E5ED\",\"showgrid\":true,\"tickfont\":{\"color\":\"#4D5663\"},\"title\":{\"font\":{\"color\":\"#4D5663\"},\"text\":\"\"},\"zerolinecolor\":\"#E1E5ED\"}},                        {\"showLink\": true, \"linkText\": \"Export to plot.ly\", \"plotlyServerURL\": \"https://plot.ly\", \"responsive\": true}                    ).then(function(){\n",
       "                            \n",
       "var gd = document.getElementById('d12b16a6-12a1-46b5-9723-53f802f66e3b');\n",
       "var x = new MutationObserver(function (mutations, observer) {{\n",
       "        var display = window.getComputedStyle(gd).display;\n",
       "        if (!display || display === 'none') {{\n",
       "            console.log([gd, 'removed!']);\n",
       "            Plotly.purge(gd);\n",
       "            observer.disconnect();\n",
       "        }}\n",
       "}});\n",
       "\n",
       "// Listen for the removal of the full notebook cells\n",
       "var notebookContainer = gd.closest('#notebook-container');\n",
       "if (notebookContainer) {{\n",
       "    x.observe(notebookContainer, {childList: true});\n",
       "}}\n",
       "\n",
       "// Listen for the clearing of the current output cell\n",
       "var outputEl = gd.closest('.output');\n",
       "if (outputEl) {{\n",
       "    x.observe(outputEl, {childList: true});\n",
       "}}\n",
       "\n",
       "                        })                };                });            </script>        </div>"
      ]
     },
     "metadata": {},
     "output_type": "display_data"
    }
   ],
   "source": [
    "data.iplot(kind='bar', \n",
    "           xTitle='Country', \n",
    "           title='Cantidad Total y Beneficio')"
   ]
  },
  {
   "cell_type": "markdown",
   "metadata": {},
   "source": [
    "## 2. Create an interactive line chart showing quantity and revenue sold to France between January 1st and May 31st 2011."
   ]
  },
  {
   "cell_type": "code",
   "execution_count": 23,
   "metadata": {},
   "outputs": [],
   "source": [
    "data_france=online[online.Country=='France']"
   ]
  },
  {
   "cell_type": "code",
   "execution_count": 25,
   "metadata": {},
   "outputs": [
    {
     "data": {
      "text/html": [
       "<div>\n",
       "<style scoped>\n",
       "    .dataframe tbody tr th:only-of-type {\n",
       "        vertical-align: middle;\n",
       "    }\n",
       "\n",
       "    .dataframe tbody tr th {\n",
       "        vertical-align: top;\n",
       "    }\n",
       "\n",
       "    .dataframe thead th {\n",
       "        text-align: right;\n",
       "    }\n",
       "</style>\n",
       "<table border=\"1\" class=\"dataframe\">\n",
       "  <thead>\n",
       "    <tr style=\"text-align: right;\">\n",
       "      <th></th>\n",
       "      <th>InvoiceNo</th>\n",
       "      <th>InvoiceDate</th>\n",
       "      <th>StockCode</th>\n",
       "      <th>Description</th>\n",
       "      <th>Quantity</th>\n",
       "      <th>UnitPrice</th>\n",
       "      <th>Revenue</th>\n",
       "      <th>CustomerID</th>\n",
       "      <th>Country</th>\n",
       "    </tr>\n",
       "  </thead>\n",
       "  <tbody>\n",
       "    <tr>\n",
       "      <th>807</th>\n",
       "      <td>551163</td>\n",
       "      <td>2011-04-26 15:52:00</td>\n",
       "      <td>85123A</td>\n",
       "      <td>CREAM HANGING HEART T-LIGHT HOLDER</td>\n",
       "      <td>9</td>\n",
       "      <td>2.95</td>\n",
       "      <td>26.55</td>\n",
       "      <td>12573</td>\n",
       "      <td>France</td>\n",
       "    </tr>\n",
       "    <tr>\n",
       "      <th>2645</th>\n",
       "      <td>540976</td>\n",
       "      <td>2011-01-12 15:00:00</td>\n",
       "      <td>84029G</td>\n",
       "      <td>KNITTED UNION FLAG HOT WATER BOTTLE</td>\n",
       "      <td>4</td>\n",
       "      <td>3.75</td>\n",
       "      <td>15.00</td>\n",
       "      <td>12652</td>\n",
       "      <td>France</td>\n",
       "    </tr>\n",
       "    <tr>\n",
       "      <th>3290</th>\n",
       "      <td>545181</td>\n",
       "      <td>2011-02-28 14:45:00</td>\n",
       "      <td>22752</td>\n",
       "      <td>SET 7 BABUSHKA NESTING BOXES</td>\n",
       "      <td>4</td>\n",
       "      <td>8.50</td>\n",
       "      <td>34.00</td>\n",
       "      <td>12509</td>\n",
       "      <td>France</td>\n",
       "    </tr>\n",
       "    <tr>\n",
       "      <th>4614</th>\n",
       "      <td>542629</td>\n",
       "      <td>2011-01-31 09:57:00</td>\n",
       "      <td>84879</td>\n",
       "      <td>ASSORTED COLOUR BIRD ORNAMENT</td>\n",
       "      <td>160</td>\n",
       "      <td>1.45</td>\n",
       "      <td>232.00</td>\n",
       "      <td>12731</td>\n",
       "      <td>France</td>\n",
       "    </tr>\n",
       "    <tr>\n",
       "      <th>4795</th>\n",
       "      <td>548409</td>\n",
       "      <td>2011-03-31 10:27:00</td>\n",
       "      <td>84879</td>\n",
       "      <td>ASSORTED COLOUR BIRD ORNAMENT</td>\n",
       "      <td>160</td>\n",
       "      <td>1.45</td>\n",
       "      <td>232.00</td>\n",
       "      <td>12731</td>\n",
       "      <td>France</td>\n",
       "    </tr>\n",
       "  </tbody>\n",
       "</table>\n",
       "</div>"
      ],
      "text/plain": [
       "      InvoiceNo         InvoiceDate StockCode   \n",
       "807      551163 2011-04-26 15:52:00    85123A  \\\n",
       "2645     540976 2011-01-12 15:00:00    84029G   \n",
       "3290     545181 2011-02-28 14:45:00     22752   \n",
       "4614     542629 2011-01-31 09:57:00     84879   \n",
       "4795     548409 2011-03-31 10:27:00     84879   \n",
       "\n",
       "                              Description  Quantity  UnitPrice  Revenue   \n",
       "807    CREAM HANGING HEART T-LIGHT HOLDER         9       2.95    26.55  \\\n",
       "2645  KNITTED UNION FLAG HOT WATER BOTTLE         4       3.75    15.00   \n",
       "3290         SET 7 BABUSHKA NESTING BOXES         4       8.50    34.00   \n",
       "4614        ASSORTED COLOUR BIRD ORNAMENT       160       1.45   232.00   \n",
       "4795        ASSORTED COLOUR BIRD ORNAMENT       160       1.45   232.00   \n",
       "\n",
       "      CustomerID Country  \n",
       "807        12573  France  \n",
       "2645       12652  France  \n",
       "3290       12509  France  \n",
       "4614       12731  France  \n",
       "4795       12731  France  "
      ]
     },
     "execution_count": 25,
     "metadata": {},
     "output_type": "execute_result"
    }
   ],
   "source": [
    "data_france= data_france.loc[(data_france.InvoiceDate >= '2011-01-01') & (data_france.InvoiceDate <= '2011-05-31')]\n",
    "\n",
    "data_france.head()"
   ]
  },
  {
   "cell_type": "code",
   "execution_count": 26,
   "metadata": {},
   "outputs": [
    {
     "data": {
      "text/html": [
       "<div>\n",
       "<style scoped>\n",
       "    .dataframe tbody tr th:only-of-type {\n",
       "        vertical-align: middle;\n",
       "    }\n",
       "\n",
       "    .dataframe tbody tr th {\n",
       "        vertical-align: top;\n",
       "    }\n",
       "\n",
       "    .dataframe thead th {\n",
       "        text-align: right;\n",
       "    }\n",
       "</style>\n",
       "<table border=\"1\" class=\"dataframe\">\n",
       "  <thead>\n",
       "    <tr style=\"text-align: right;\">\n",
       "      <th></th>\n",
       "      <th>Quantity</th>\n",
       "      <th>Revenue</th>\n",
       "    </tr>\n",
       "    <tr>\n",
       "      <th>Country</th>\n",
       "      <th></th>\n",
       "      <th></th>\n",
       "    </tr>\n",
       "  </thead>\n",
       "  <tbody>\n",
       "    <tr>\n",
       "      <th>France</th>\n",
       "      <td>34817</td>\n",
       "      <td>57220.98</td>\n",
       "    </tr>\n",
       "  </tbody>\n",
       "</table>\n",
       "</div>"
      ],
      "text/plain": [
       "         Quantity   Revenue\n",
       "Country                    \n",
       "France      34817  57220.98"
      ]
     },
     "execution_count": 26,
     "metadata": {},
     "output_type": "execute_result"
    }
   ],
   "source": [
    "data_france = data_france.groupby('Country')[['Quantity', 'Revenue']].sum()\n",
    "data_france.head()"
   ]
  },
  {
   "cell_type": "code",
   "execution_count": 27,
   "metadata": {},
   "outputs": [
    {
     "data": {
      "application/vnd.plotly.v1+json": {
       "config": {
        "linkText": "Export to plot.ly",
        "plotlyServerURL": "https://plot.ly",
        "showLink": true
       },
       "data": [
        {
         "marker": {
          "color": "rgba(255, 153, 51, 0.6)",
          "line": {
           "color": "rgba(255, 153, 51, 1.0)",
           "width": 1
          }
         },
         "name": "Quantity",
         "orientation": "v",
         "text": "",
         "type": "bar",
         "x": [
          "France"
         ],
         "y": [
          34817
         ]
        },
        {
         "marker": {
          "color": "rgba(55, 128, 191, 0.6)",
          "line": {
           "color": "rgba(55, 128, 191, 1.0)",
           "width": 1
          }
         },
         "name": "Revenue",
         "orientation": "v",
         "text": "",
         "type": "bar",
         "x": [
          "France"
         ],
         "y": [
          57220.98
         ]
        }
       ],
       "layout": {
        "legend": {
         "bgcolor": "#F5F6F9",
         "font": {
          "color": "#4D5663"
         }
        },
        "paper_bgcolor": "#F5F6F9",
        "plot_bgcolor": "#F5F6F9",
        "template": {
         "data": {
          "bar": [
           {
            "error_x": {
             "color": "#2a3f5f"
            },
            "error_y": {
             "color": "#2a3f5f"
            },
            "marker": {
             "line": {
              "color": "#E5ECF6",
              "width": 0.5
             },
             "pattern": {
              "fillmode": "overlay",
              "size": 10,
              "solidity": 0.2
             }
            },
            "type": "bar"
           }
          ],
          "barpolar": [
           {
            "marker": {
             "line": {
              "color": "#E5ECF6",
              "width": 0.5
             },
             "pattern": {
              "fillmode": "overlay",
              "size": 10,
              "solidity": 0.2
             }
            },
            "type": "barpolar"
           }
          ],
          "carpet": [
           {
            "aaxis": {
             "endlinecolor": "#2a3f5f",
             "gridcolor": "white",
             "linecolor": "white",
             "minorgridcolor": "white",
             "startlinecolor": "#2a3f5f"
            },
            "baxis": {
             "endlinecolor": "#2a3f5f",
             "gridcolor": "white",
             "linecolor": "white",
             "minorgridcolor": "white",
             "startlinecolor": "#2a3f5f"
            },
            "type": "carpet"
           }
          ],
          "choropleth": [
           {
            "colorbar": {
             "outlinewidth": 0,
             "ticks": ""
            },
            "type": "choropleth"
           }
          ],
          "contour": [
           {
            "colorbar": {
             "outlinewidth": 0,
             "ticks": ""
            },
            "colorscale": [
             [
              0,
              "#0d0887"
             ],
             [
              0.1111111111111111,
              "#46039f"
             ],
             [
              0.2222222222222222,
              "#7201a8"
             ],
             [
              0.3333333333333333,
              "#9c179e"
             ],
             [
              0.4444444444444444,
              "#bd3786"
             ],
             [
              0.5555555555555556,
              "#d8576b"
             ],
             [
              0.6666666666666666,
              "#ed7953"
             ],
             [
              0.7777777777777778,
              "#fb9f3a"
             ],
             [
              0.8888888888888888,
              "#fdca26"
             ],
             [
              1,
              "#f0f921"
             ]
            ],
            "type": "contour"
           }
          ],
          "contourcarpet": [
           {
            "colorbar": {
             "outlinewidth": 0,
             "ticks": ""
            },
            "type": "contourcarpet"
           }
          ],
          "heatmap": [
           {
            "colorbar": {
             "outlinewidth": 0,
             "ticks": ""
            },
            "colorscale": [
             [
              0,
              "#0d0887"
             ],
             [
              0.1111111111111111,
              "#46039f"
             ],
             [
              0.2222222222222222,
              "#7201a8"
             ],
             [
              0.3333333333333333,
              "#9c179e"
             ],
             [
              0.4444444444444444,
              "#bd3786"
             ],
             [
              0.5555555555555556,
              "#d8576b"
             ],
             [
              0.6666666666666666,
              "#ed7953"
             ],
             [
              0.7777777777777778,
              "#fb9f3a"
             ],
             [
              0.8888888888888888,
              "#fdca26"
             ],
             [
              1,
              "#f0f921"
             ]
            ],
            "type": "heatmap"
           }
          ],
          "heatmapgl": [
           {
            "colorbar": {
             "outlinewidth": 0,
             "ticks": ""
            },
            "colorscale": [
             [
              0,
              "#0d0887"
             ],
             [
              0.1111111111111111,
              "#46039f"
             ],
             [
              0.2222222222222222,
              "#7201a8"
             ],
             [
              0.3333333333333333,
              "#9c179e"
             ],
             [
              0.4444444444444444,
              "#bd3786"
             ],
             [
              0.5555555555555556,
              "#d8576b"
             ],
             [
              0.6666666666666666,
              "#ed7953"
             ],
             [
              0.7777777777777778,
              "#fb9f3a"
             ],
             [
              0.8888888888888888,
              "#fdca26"
             ],
             [
              1,
              "#f0f921"
             ]
            ],
            "type": "heatmapgl"
           }
          ],
          "histogram": [
           {
            "marker": {
             "pattern": {
              "fillmode": "overlay",
              "size": 10,
              "solidity": 0.2
             }
            },
            "type": "histogram"
           }
          ],
          "histogram2d": [
           {
            "colorbar": {
             "outlinewidth": 0,
             "ticks": ""
            },
            "colorscale": [
             [
              0,
              "#0d0887"
             ],
             [
              0.1111111111111111,
              "#46039f"
             ],
             [
              0.2222222222222222,
              "#7201a8"
             ],
             [
              0.3333333333333333,
              "#9c179e"
             ],
             [
              0.4444444444444444,
              "#bd3786"
             ],
             [
              0.5555555555555556,
              "#d8576b"
             ],
             [
              0.6666666666666666,
              "#ed7953"
             ],
             [
              0.7777777777777778,
              "#fb9f3a"
             ],
             [
              0.8888888888888888,
              "#fdca26"
             ],
             [
              1,
              "#f0f921"
             ]
            ],
            "type": "histogram2d"
           }
          ],
          "histogram2dcontour": [
           {
            "colorbar": {
             "outlinewidth": 0,
             "ticks": ""
            },
            "colorscale": [
             [
              0,
              "#0d0887"
             ],
             [
              0.1111111111111111,
              "#46039f"
             ],
             [
              0.2222222222222222,
              "#7201a8"
             ],
             [
              0.3333333333333333,
              "#9c179e"
             ],
             [
              0.4444444444444444,
              "#bd3786"
             ],
             [
              0.5555555555555556,
              "#d8576b"
             ],
             [
              0.6666666666666666,
              "#ed7953"
             ],
             [
              0.7777777777777778,
              "#fb9f3a"
             ],
             [
              0.8888888888888888,
              "#fdca26"
             ],
             [
              1,
              "#f0f921"
             ]
            ],
            "type": "histogram2dcontour"
           }
          ],
          "mesh3d": [
           {
            "colorbar": {
             "outlinewidth": 0,
             "ticks": ""
            },
            "type": "mesh3d"
           }
          ],
          "parcoords": [
           {
            "line": {
             "colorbar": {
              "outlinewidth": 0,
              "ticks": ""
             }
            },
            "type": "parcoords"
           }
          ],
          "pie": [
           {
            "automargin": true,
            "type": "pie"
           }
          ],
          "scatter": [
           {
            "fillpattern": {
             "fillmode": "overlay",
             "size": 10,
             "solidity": 0.2
            },
            "type": "scatter"
           }
          ],
          "scatter3d": [
           {
            "line": {
             "colorbar": {
              "outlinewidth": 0,
              "ticks": ""
             }
            },
            "marker": {
             "colorbar": {
              "outlinewidth": 0,
              "ticks": ""
             }
            },
            "type": "scatter3d"
           }
          ],
          "scattercarpet": [
           {
            "marker": {
             "colorbar": {
              "outlinewidth": 0,
              "ticks": ""
             }
            },
            "type": "scattercarpet"
           }
          ],
          "scattergeo": [
           {
            "marker": {
             "colorbar": {
              "outlinewidth": 0,
              "ticks": ""
             }
            },
            "type": "scattergeo"
           }
          ],
          "scattergl": [
           {
            "marker": {
             "colorbar": {
              "outlinewidth": 0,
              "ticks": ""
             }
            },
            "type": "scattergl"
           }
          ],
          "scattermapbox": [
           {
            "marker": {
             "colorbar": {
              "outlinewidth": 0,
              "ticks": ""
             }
            },
            "type": "scattermapbox"
           }
          ],
          "scatterpolar": [
           {
            "marker": {
             "colorbar": {
              "outlinewidth": 0,
              "ticks": ""
             }
            },
            "type": "scatterpolar"
           }
          ],
          "scatterpolargl": [
           {
            "marker": {
             "colorbar": {
              "outlinewidth": 0,
              "ticks": ""
             }
            },
            "type": "scatterpolargl"
           }
          ],
          "scatterternary": [
           {
            "marker": {
             "colorbar": {
              "outlinewidth": 0,
              "ticks": ""
             }
            },
            "type": "scatterternary"
           }
          ],
          "surface": [
           {
            "colorbar": {
             "outlinewidth": 0,
             "ticks": ""
            },
            "colorscale": [
             [
              0,
              "#0d0887"
             ],
             [
              0.1111111111111111,
              "#46039f"
             ],
             [
              0.2222222222222222,
              "#7201a8"
             ],
             [
              0.3333333333333333,
              "#9c179e"
             ],
             [
              0.4444444444444444,
              "#bd3786"
             ],
             [
              0.5555555555555556,
              "#d8576b"
             ],
             [
              0.6666666666666666,
              "#ed7953"
             ],
             [
              0.7777777777777778,
              "#fb9f3a"
             ],
             [
              0.8888888888888888,
              "#fdca26"
             ],
             [
              1,
              "#f0f921"
             ]
            ],
            "type": "surface"
           }
          ],
          "table": [
           {
            "cells": {
             "fill": {
              "color": "#EBF0F8"
             },
             "line": {
              "color": "white"
             }
            },
            "header": {
             "fill": {
              "color": "#C8D4E3"
             },
             "line": {
              "color": "white"
             }
            },
            "type": "table"
           }
          ]
         },
         "layout": {
          "annotationdefaults": {
           "arrowcolor": "#2a3f5f",
           "arrowhead": 0,
           "arrowwidth": 1
          },
          "autotypenumbers": "strict",
          "coloraxis": {
           "colorbar": {
            "outlinewidth": 0,
            "ticks": ""
           }
          },
          "colorscale": {
           "diverging": [
            [
             0,
             "#8e0152"
            ],
            [
             0.1,
             "#c51b7d"
            ],
            [
             0.2,
             "#de77ae"
            ],
            [
             0.3,
             "#f1b6da"
            ],
            [
             0.4,
             "#fde0ef"
            ],
            [
             0.5,
             "#f7f7f7"
            ],
            [
             0.6,
             "#e6f5d0"
            ],
            [
             0.7,
             "#b8e186"
            ],
            [
             0.8,
             "#7fbc41"
            ],
            [
             0.9,
             "#4d9221"
            ],
            [
             1,
             "#276419"
            ]
           ],
           "sequential": [
            [
             0,
             "#0d0887"
            ],
            [
             0.1111111111111111,
             "#46039f"
            ],
            [
             0.2222222222222222,
             "#7201a8"
            ],
            [
             0.3333333333333333,
             "#9c179e"
            ],
            [
             0.4444444444444444,
             "#bd3786"
            ],
            [
             0.5555555555555556,
             "#d8576b"
            ],
            [
             0.6666666666666666,
             "#ed7953"
            ],
            [
             0.7777777777777778,
             "#fb9f3a"
            ],
            [
             0.8888888888888888,
             "#fdca26"
            ],
            [
             1,
             "#f0f921"
            ]
           ],
           "sequentialminus": [
            [
             0,
             "#0d0887"
            ],
            [
             0.1111111111111111,
             "#46039f"
            ],
            [
             0.2222222222222222,
             "#7201a8"
            ],
            [
             0.3333333333333333,
             "#9c179e"
            ],
            [
             0.4444444444444444,
             "#bd3786"
            ],
            [
             0.5555555555555556,
             "#d8576b"
            ],
            [
             0.6666666666666666,
             "#ed7953"
            ],
            [
             0.7777777777777778,
             "#fb9f3a"
            ],
            [
             0.8888888888888888,
             "#fdca26"
            ],
            [
             1,
             "#f0f921"
            ]
           ]
          },
          "colorway": [
           "#636efa",
           "#EF553B",
           "#00cc96",
           "#ab63fa",
           "#FFA15A",
           "#19d3f3",
           "#FF6692",
           "#B6E880",
           "#FF97FF",
           "#FECB52"
          ],
          "font": {
           "color": "#2a3f5f"
          },
          "geo": {
           "bgcolor": "white",
           "lakecolor": "white",
           "landcolor": "#E5ECF6",
           "showlakes": true,
           "showland": true,
           "subunitcolor": "white"
          },
          "hoverlabel": {
           "align": "left"
          },
          "hovermode": "closest",
          "mapbox": {
           "style": "light"
          },
          "paper_bgcolor": "white",
          "plot_bgcolor": "#E5ECF6",
          "polar": {
           "angularaxis": {
            "gridcolor": "white",
            "linecolor": "white",
            "ticks": ""
           },
           "bgcolor": "#E5ECF6",
           "radialaxis": {
            "gridcolor": "white",
            "linecolor": "white",
            "ticks": ""
           }
          },
          "scene": {
           "xaxis": {
            "backgroundcolor": "#E5ECF6",
            "gridcolor": "white",
            "gridwidth": 2,
            "linecolor": "white",
            "showbackground": true,
            "ticks": "",
            "zerolinecolor": "white"
           },
           "yaxis": {
            "backgroundcolor": "#E5ECF6",
            "gridcolor": "white",
            "gridwidth": 2,
            "linecolor": "white",
            "showbackground": true,
            "ticks": "",
            "zerolinecolor": "white"
           },
           "zaxis": {
            "backgroundcolor": "#E5ECF6",
            "gridcolor": "white",
            "gridwidth": 2,
            "linecolor": "white",
            "showbackground": true,
            "ticks": "",
            "zerolinecolor": "white"
           }
          },
          "shapedefaults": {
           "line": {
            "color": "#2a3f5f"
           }
          },
          "ternary": {
           "aaxis": {
            "gridcolor": "white",
            "linecolor": "white",
            "ticks": ""
           },
           "baxis": {
            "gridcolor": "white",
            "linecolor": "white",
            "ticks": ""
           },
           "bgcolor": "#E5ECF6",
           "caxis": {
            "gridcolor": "white",
            "linecolor": "white",
            "ticks": ""
           }
          },
          "title": {
           "x": 0.05
          },
          "xaxis": {
           "automargin": true,
           "gridcolor": "white",
           "linecolor": "white",
           "ticks": "",
           "title": {
            "standoff": 15
           },
           "zerolinecolor": "white",
           "zerolinewidth": 2
          },
          "yaxis": {
           "automargin": true,
           "gridcolor": "white",
           "linecolor": "white",
           "ticks": "",
           "title": {
            "standoff": 15
           },
           "zerolinecolor": "white",
           "zerolinewidth": 2
          }
         }
        },
        "title": {
         "font": {
          "color": "#4D5663"
         },
         "text": "Cantidad Total y Beneficio"
        },
        "xaxis": {
         "gridcolor": "#E1E5ED",
         "showgrid": true,
         "tickfont": {
          "color": "#4D5663"
         },
         "title": {
          "font": {
           "color": "#4D5663"
          },
          "text": "Country"
         },
         "zerolinecolor": "#E1E5ED"
        },
        "yaxis": {
         "gridcolor": "#E1E5ED",
         "showgrid": true,
         "tickfont": {
          "color": "#4D5663"
         },
         "title": {
          "font": {
           "color": "#4D5663"
          },
          "text": ""
         },
         "zerolinecolor": "#E1E5ED"
        }
       }
      },
      "text/html": [
       "<div>                            <div id=\"e6e2082b-c915-4263-9a9f-29c9714cdc07\" class=\"plotly-graph-div\" style=\"height:525px; width:100%;\"></div>            <script type=\"text/javascript\">                require([\"plotly\"], function(Plotly) {                    window.PLOTLYENV=window.PLOTLYENV || {};\n",
       "                    window.PLOTLYENV.BASE_URL='https://plot.ly';                                    if (document.getElementById(\"e6e2082b-c915-4263-9a9f-29c9714cdc07\")) {                    Plotly.newPlot(                        \"e6e2082b-c915-4263-9a9f-29c9714cdc07\",                        [{\"marker\":{\"color\":\"rgba(255, 153, 51, 0.6)\",\"line\":{\"color\":\"rgba(255, 153, 51, 1.0)\",\"width\":1}},\"name\":\"Quantity\",\"orientation\":\"v\",\"text\":\"\",\"x\":[\"France\"],\"y\":[34817],\"type\":\"bar\"},{\"marker\":{\"color\":\"rgba(55, 128, 191, 0.6)\",\"line\":{\"color\":\"rgba(55, 128, 191, 1.0)\",\"width\":1}},\"name\":\"Revenue\",\"orientation\":\"v\",\"text\":\"\",\"x\":[\"France\"],\"y\":[57220.98],\"type\":\"bar\"}],                        {\"legend\":{\"bgcolor\":\"#F5F6F9\",\"font\":{\"color\":\"#4D5663\"}},\"paper_bgcolor\":\"#F5F6F9\",\"plot_bgcolor\":\"#F5F6F9\",\"template\":{\"data\":{\"barpolar\":[{\"marker\":{\"line\":{\"color\":\"#E5ECF6\",\"width\":0.5},\"pattern\":{\"fillmode\":\"overlay\",\"size\":10,\"solidity\":0.2}},\"type\":\"barpolar\"}],\"bar\":[{\"error_x\":{\"color\":\"#2a3f5f\"},\"error_y\":{\"color\":\"#2a3f5f\"},\"marker\":{\"line\":{\"color\":\"#E5ECF6\",\"width\":0.5},\"pattern\":{\"fillmode\":\"overlay\",\"size\":10,\"solidity\":0.2}},\"type\":\"bar\"}],\"carpet\":[{\"aaxis\":{\"endlinecolor\":\"#2a3f5f\",\"gridcolor\":\"white\",\"linecolor\":\"white\",\"minorgridcolor\":\"white\",\"startlinecolor\":\"#2a3f5f\"},\"baxis\":{\"endlinecolor\":\"#2a3f5f\",\"gridcolor\":\"white\",\"linecolor\":\"white\",\"minorgridcolor\":\"white\",\"startlinecolor\":\"#2a3f5f\"},\"type\":\"carpet\"}],\"choropleth\":[{\"colorbar\":{\"outlinewidth\":0,\"ticks\":\"\"},\"type\":\"choropleth\"}],\"contourcarpet\":[{\"colorbar\":{\"outlinewidth\":0,\"ticks\":\"\"},\"type\":\"contourcarpet\"}],\"contour\":[{\"colorbar\":{\"outlinewidth\":0,\"ticks\":\"\"},\"colorscale\":[[0.0,\"#0d0887\"],[0.1111111111111111,\"#46039f\"],[0.2222222222222222,\"#7201a8\"],[0.3333333333333333,\"#9c179e\"],[0.4444444444444444,\"#bd3786\"],[0.5555555555555556,\"#d8576b\"],[0.6666666666666666,\"#ed7953\"],[0.7777777777777778,\"#fb9f3a\"],[0.8888888888888888,\"#fdca26\"],[1.0,\"#f0f921\"]],\"type\":\"contour\"}],\"heatmapgl\":[{\"colorbar\":{\"outlinewidth\":0,\"ticks\":\"\"},\"colorscale\":[[0.0,\"#0d0887\"],[0.1111111111111111,\"#46039f\"],[0.2222222222222222,\"#7201a8\"],[0.3333333333333333,\"#9c179e\"],[0.4444444444444444,\"#bd3786\"],[0.5555555555555556,\"#d8576b\"],[0.6666666666666666,\"#ed7953\"],[0.7777777777777778,\"#fb9f3a\"],[0.8888888888888888,\"#fdca26\"],[1.0,\"#f0f921\"]],\"type\":\"heatmapgl\"}],\"heatmap\":[{\"colorbar\":{\"outlinewidth\":0,\"ticks\":\"\"},\"colorscale\":[[0.0,\"#0d0887\"],[0.1111111111111111,\"#46039f\"],[0.2222222222222222,\"#7201a8\"],[0.3333333333333333,\"#9c179e\"],[0.4444444444444444,\"#bd3786\"],[0.5555555555555556,\"#d8576b\"],[0.6666666666666666,\"#ed7953\"],[0.7777777777777778,\"#fb9f3a\"],[0.8888888888888888,\"#fdca26\"],[1.0,\"#f0f921\"]],\"type\":\"heatmap\"}],\"histogram2dcontour\":[{\"colorbar\":{\"outlinewidth\":0,\"ticks\":\"\"},\"colorscale\":[[0.0,\"#0d0887\"],[0.1111111111111111,\"#46039f\"],[0.2222222222222222,\"#7201a8\"],[0.3333333333333333,\"#9c179e\"],[0.4444444444444444,\"#bd3786\"],[0.5555555555555556,\"#d8576b\"],[0.6666666666666666,\"#ed7953\"],[0.7777777777777778,\"#fb9f3a\"],[0.8888888888888888,\"#fdca26\"],[1.0,\"#f0f921\"]],\"type\":\"histogram2dcontour\"}],\"histogram2d\":[{\"colorbar\":{\"outlinewidth\":0,\"ticks\":\"\"},\"colorscale\":[[0.0,\"#0d0887\"],[0.1111111111111111,\"#46039f\"],[0.2222222222222222,\"#7201a8\"],[0.3333333333333333,\"#9c179e\"],[0.4444444444444444,\"#bd3786\"],[0.5555555555555556,\"#d8576b\"],[0.6666666666666666,\"#ed7953\"],[0.7777777777777778,\"#fb9f3a\"],[0.8888888888888888,\"#fdca26\"],[1.0,\"#f0f921\"]],\"type\":\"histogram2d\"}],\"histogram\":[{\"marker\":{\"pattern\":{\"fillmode\":\"overlay\",\"size\":10,\"solidity\":0.2}},\"type\":\"histogram\"}],\"mesh3d\":[{\"colorbar\":{\"outlinewidth\":0,\"ticks\":\"\"},\"type\":\"mesh3d\"}],\"parcoords\":[{\"line\":{\"colorbar\":{\"outlinewidth\":0,\"ticks\":\"\"}},\"type\":\"parcoords\"}],\"pie\":[{\"automargin\":true,\"type\":\"pie\"}],\"scatter3d\":[{\"line\":{\"colorbar\":{\"outlinewidth\":0,\"ticks\":\"\"}},\"marker\":{\"colorbar\":{\"outlinewidth\":0,\"ticks\":\"\"}},\"type\":\"scatter3d\"}],\"scattercarpet\":[{\"marker\":{\"colorbar\":{\"outlinewidth\":0,\"ticks\":\"\"}},\"type\":\"scattercarpet\"}],\"scattergeo\":[{\"marker\":{\"colorbar\":{\"outlinewidth\":0,\"ticks\":\"\"}},\"type\":\"scattergeo\"}],\"scattergl\":[{\"marker\":{\"colorbar\":{\"outlinewidth\":0,\"ticks\":\"\"}},\"type\":\"scattergl\"}],\"scattermapbox\":[{\"marker\":{\"colorbar\":{\"outlinewidth\":0,\"ticks\":\"\"}},\"type\":\"scattermapbox\"}],\"scatterpolargl\":[{\"marker\":{\"colorbar\":{\"outlinewidth\":0,\"ticks\":\"\"}},\"type\":\"scatterpolargl\"}],\"scatterpolar\":[{\"marker\":{\"colorbar\":{\"outlinewidth\":0,\"ticks\":\"\"}},\"type\":\"scatterpolar\"}],\"scatter\":[{\"fillpattern\":{\"fillmode\":\"overlay\",\"size\":10,\"solidity\":0.2},\"type\":\"scatter\"}],\"scatterternary\":[{\"marker\":{\"colorbar\":{\"outlinewidth\":0,\"ticks\":\"\"}},\"type\":\"scatterternary\"}],\"surface\":[{\"colorbar\":{\"outlinewidth\":0,\"ticks\":\"\"},\"colorscale\":[[0.0,\"#0d0887\"],[0.1111111111111111,\"#46039f\"],[0.2222222222222222,\"#7201a8\"],[0.3333333333333333,\"#9c179e\"],[0.4444444444444444,\"#bd3786\"],[0.5555555555555556,\"#d8576b\"],[0.6666666666666666,\"#ed7953\"],[0.7777777777777778,\"#fb9f3a\"],[0.8888888888888888,\"#fdca26\"],[1.0,\"#f0f921\"]],\"type\":\"surface\"}],\"table\":[{\"cells\":{\"fill\":{\"color\":\"#EBF0F8\"},\"line\":{\"color\":\"white\"}},\"header\":{\"fill\":{\"color\":\"#C8D4E3\"},\"line\":{\"color\":\"white\"}},\"type\":\"table\"}]},\"layout\":{\"annotationdefaults\":{\"arrowcolor\":\"#2a3f5f\",\"arrowhead\":0,\"arrowwidth\":1},\"autotypenumbers\":\"strict\",\"coloraxis\":{\"colorbar\":{\"outlinewidth\":0,\"ticks\":\"\"}},\"colorscale\":{\"diverging\":[[0,\"#8e0152\"],[0.1,\"#c51b7d\"],[0.2,\"#de77ae\"],[0.3,\"#f1b6da\"],[0.4,\"#fde0ef\"],[0.5,\"#f7f7f7\"],[0.6,\"#e6f5d0\"],[0.7,\"#b8e186\"],[0.8,\"#7fbc41\"],[0.9,\"#4d9221\"],[1,\"#276419\"]],\"sequential\":[[0.0,\"#0d0887\"],[0.1111111111111111,\"#46039f\"],[0.2222222222222222,\"#7201a8\"],[0.3333333333333333,\"#9c179e\"],[0.4444444444444444,\"#bd3786\"],[0.5555555555555556,\"#d8576b\"],[0.6666666666666666,\"#ed7953\"],[0.7777777777777778,\"#fb9f3a\"],[0.8888888888888888,\"#fdca26\"],[1.0,\"#f0f921\"]],\"sequentialminus\":[[0.0,\"#0d0887\"],[0.1111111111111111,\"#46039f\"],[0.2222222222222222,\"#7201a8\"],[0.3333333333333333,\"#9c179e\"],[0.4444444444444444,\"#bd3786\"],[0.5555555555555556,\"#d8576b\"],[0.6666666666666666,\"#ed7953\"],[0.7777777777777778,\"#fb9f3a\"],[0.8888888888888888,\"#fdca26\"],[1.0,\"#f0f921\"]]},\"colorway\":[\"#636efa\",\"#EF553B\",\"#00cc96\",\"#ab63fa\",\"#FFA15A\",\"#19d3f3\",\"#FF6692\",\"#B6E880\",\"#FF97FF\",\"#FECB52\"],\"font\":{\"color\":\"#2a3f5f\"},\"geo\":{\"bgcolor\":\"white\",\"lakecolor\":\"white\",\"landcolor\":\"#E5ECF6\",\"showlakes\":true,\"showland\":true,\"subunitcolor\":\"white\"},\"hoverlabel\":{\"align\":\"left\"},\"hovermode\":\"closest\",\"mapbox\":{\"style\":\"light\"},\"paper_bgcolor\":\"white\",\"plot_bgcolor\":\"#E5ECF6\",\"polar\":{\"angularaxis\":{\"gridcolor\":\"white\",\"linecolor\":\"white\",\"ticks\":\"\"},\"bgcolor\":\"#E5ECF6\",\"radialaxis\":{\"gridcolor\":\"white\",\"linecolor\":\"white\",\"ticks\":\"\"}},\"scene\":{\"xaxis\":{\"backgroundcolor\":\"#E5ECF6\",\"gridcolor\":\"white\",\"gridwidth\":2,\"linecolor\":\"white\",\"showbackground\":true,\"ticks\":\"\",\"zerolinecolor\":\"white\"},\"yaxis\":{\"backgroundcolor\":\"#E5ECF6\",\"gridcolor\":\"white\",\"gridwidth\":2,\"linecolor\":\"white\",\"showbackground\":true,\"ticks\":\"\",\"zerolinecolor\":\"white\"},\"zaxis\":{\"backgroundcolor\":\"#E5ECF6\",\"gridcolor\":\"white\",\"gridwidth\":2,\"linecolor\":\"white\",\"showbackground\":true,\"ticks\":\"\",\"zerolinecolor\":\"white\"}},\"shapedefaults\":{\"line\":{\"color\":\"#2a3f5f\"}},\"ternary\":{\"aaxis\":{\"gridcolor\":\"white\",\"linecolor\":\"white\",\"ticks\":\"\"},\"baxis\":{\"gridcolor\":\"white\",\"linecolor\":\"white\",\"ticks\":\"\"},\"bgcolor\":\"#E5ECF6\",\"caxis\":{\"gridcolor\":\"white\",\"linecolor\":\"white\",\"ticks\":\"\"}},\"title\":{\"x\":0.05},\"xaxis\":{\"automargin\":true,\"gridcolor\":\"white\",\"linecolor\":\"white\",\"ticks\":\"\",\"title\":{\"standoff\":15},\"zerolinecolor\":\"white\",\"zerolinewidth\":2},\"yaxis\":{\"automargin\":true,\"gridcolor\":\"white\",\"linecolor\":\"white\",\"ticks\":\"\",\"title\":{\"standoff\":15},\"zerolinecolor\":\"white\",\"zerolinewidth\":2}}},\"title\":{\"font\":{\"color\":\"#4D5663\"},\"text\":\"Cantidad Total y Beneficio\"},\"xaxis\":{\"gridcolor\":\"#E1E5ED\",\"showgrid\":true,\"tickfont\":{\"color\":\"#4D5663\"},\"title\":{\"font\":{\"color\":\"#4D5663\"},\"text\":\"Country\"},\"zerolinecolor\":\"#E1E5ED\"},\"yaxis\":{\"gridcolor\":\"#E1E5ED\",\"showgrid\":true,\"tickfont\":{\"color\":\"#4D5663\"},\"title\":{\"font\":{\"color\":\"#4D5663\"},\"text\":\"\"},\"zerolinecolor\":\"#E1E5ED\"}},                        {\"showLink\": true, \"linkText\": \"Export to plot.ly\", \"plotlyServerURL\": \"https://plot.ly\", \"responsive\": true}                    ).then(function(){\n",
       "                            \n",
       "var gd = document.getElementById('e6e2082b-c915-4263-9a9f-29c9714cdc07');\n",
       "var x = new MutationObserver(function (mutations, observer) {{\n",
       "        var display = window.getComputedStyle(gd).display;\n",
       "        if (!display || display === 'none') {{\n",
       "            console.log([gd, 'removed!']);\n",
       "            Plotly.purge(gd);\n",
       "            observer.disconnect();\n",
       "        }}\n",
       "}});\n",
       "\n",
       "// Listen for the removal of the full notebook cells\n",
       "var notebookContainer = gd.closest('#notebook-container');\n",
       "if (notebookContainer) {{\n",
       "    x.observe(notebookContainer, {childList: true});\n",
       "}}\n",
       "\n",
       "// Listen for the clearing of the current output cell\n",
       "var outputEl = gd.closest('.output');\n",
       "if (outputEl) {{\n",
       "    x.observe(outputEl, {childList: true});\n",
       "}}\n",
       "\n",
       "                        })                };                });            </script>        </div>"
      ]
     },
     "metadata": {},
     "output_type": "display_data"
    }
   ],
   "source": [
    "data_france.iplot(kind='bar', \n",
    "           xTitle='Country', \n",
    "           title='Cantidad Total y Beneficio')"
   ]
  },
  {
   "cell_type": "markdown",
   "metadata": {},
   "source": [
    "## 3. Create an interactive scatter plot showing the relationship between average quantity (x-axis) and average unit price (y-axis) for the product PARTY BUNTING with the plot points color-coded by country (categories)."
   ]
  },
  {
   "cell_type": "code",
   "execution_count": 41,
   "metadata": {},
   "outputs": [],
   "source": [
    "data_party=online.loc[online.Description=='PARTY BUNTING']\n",
    "\n",
    "data_party=data_party.groupby('Country')[['Quantity', 'Revenue']].mean()"
   ]
  },
  {
   "cell_type": "code",
   "execution_count": 42,
   "metadata": {},
   "outputs": [],
   "source": [
    "data_party.reset_index(inplace=True)"
   ]
  },
  {
   "cell_type": "code",
   "execution_count": 57,
   "metadata": {},
   "outputs": [
    {
     "data": {
      "application/vnd.plotly.v1+json": {
       "config": {
        "plotlyServerURL": "https://plot.ly"
       },
       "data": [
        {
         "hovertemplate": "Quantity=%{x}<br>Revenue=%{y}<extra></extra>",
         "legendgroup": "",
         "marker": {
          "color": "#636efa",
          "symbol": "circle"
         },
         "mode": "markers",
         "name": "",
         "orientation": "v",
         "showlegend": false,
         "type": "scatter",
         "x": [
          33.125,
          8,
          4,
          13.333333333333334,
          2.3333333333333335,
          12,
          21.210526315789473,
          6,
          5.7272727272727275,
          6.8,
          1,
          56.666666666666664,
          15,
          50,
          6,
          8,
          4,
          4.75,
          17.2,
          10.705432287681713
         ],
         "xaxis": "x",
         "y": [
          143.78125000000003,
          39.6,
          19.8,
          66,
          10.950000000000001,
          59.40000000000001,
          90.67631578947368,
          29.700000000000003,
          28.213636363636365,
          33.06,
          4.95,
          225.16666666666666,
          69.75,
          207.5,
          29.700000000000003,
          39.6,
          19.8,
          23.1,
          77.14000000000001,
          48.285677123182865
         ],
         "yaxis": "y"
        }
       ],
       "layout": {
        "legend": {
         "tracegroupgap": 0
        },
        "template": {
         "data": {
          "bar": [
           {
            "error_x": {
             "color": "#2a3f5f"
            },
            "error_y": {
             "color": "#2a3f5f"
            },
            "marker": {
             "line": {
              "color": "#E5ECF6",
              "width": 0.5
             },
             "pattern": {
              "fillmode": "overlay",
              "size": 10,
              "solidity": 0.2
             }
            },
            "type": "bar"
           }
          ],
          "barpolar": [
           {
            "marker": {
             "line": {
              "color": "#E5ECF6",
              "width": 0.5
             },
             "pattern": {
              "fillmode": "overlay",
              "size": 10,
              "solidity": 0.2
             }
            },
            "type": "barpolar"
           }
          ],
          "carpet": [
           {
            "aaxis": {
             "endlinecolor": "#2a3f5f",
             "gridcolor": "white",
             "linecolor": "white",
             "minorgridcolor": "white",
             "startlinecolor": "#2a3f5f"
            },
            "baxis": {
             "endlinecolor": "#2a3f5f",
             "gridcolor": "white",
             "linecolor": "white",
             "minorgridcolor": "white",
             "startlinecolor": "#2a3f5f"
            },
            "type": "carpet"
           }
          ],
          "choropleth": [
           {
            "colorbar": {
             "outlinewidth": 0,
             "ticks": ""
            },
            "type": "choropleth"
           }
          ],
          "contour": [
           {
            "colorbar": {
             "outlinewidth": 0,
             "ticks": ""
            },
            "colorscale": [
             [
              0,
              "#0d0887"
             ],
             [
              0.1111111111111111,
              "#46039f"
             ],
             [
              0.2222222222222222,
              "#7201a8"
             ],
             [
              0.3333333333333333,
              "#9c179e"
             ],
             [
              0.4444444444444444,
              "#bd3786"
             ],
             [
              0.5555555555555556,
              "#d8576b"
             ],
             [
              0.6666666666666666,
              "#ed7953"
             ],
             [
              0.7777777777777778,
              "#fb9f3a"
             ],
             [
              0.8888888888888888,
              "#fdca26"
             ],
             [
              1,
              "#f0f921"
             ]
            ],
            "type": "contour"
           }
          ],
          "contourcarpet": [
           {
            "colorbar": {
             "outlinewidth": 0,
             "ticks": ""
            },
            "type": "contourcarpet"
           }
          ],
          "heatmap": [
           {
            "colorbar": {
             "outlinewidth": 0,
             "ticks": ""
            },
            "colorscale": [
             [
              0,
              "#0d0887"
             ],
             [
              0.1111111111111111,
              "#46039f"
             ],
             [
              0.2222222222222222,
              "#7201a8"
             ],
             [
              0.3333333333333333,
              "#9c179e"
             ],
             [
              0.4444444444444444,
              "#bd3786"
             ],
             [
              0.5555555555555556,
              "#d8576b"
             ],
             [
              0.6666666666666666,
              "#ed7953"
             ],
             [
              0.7777777777777778,
              "#fb9f3a"
             ],
             [
              0.8888888888888888,
              "#fdca26"
             ],
             [
              1,
              "#f0f921"
             ]
            ],
            "type": "heatmap"
           }
          ],
          "heatmapgl": [
           {
            "colorbar": {
             "outlinewidth": 0,
             "ticks": ""
            },
            "colorscale": [
             [
              0,
              "#0d0887"
             ],
             [
              0.1111111111111111,
              "#46039f"
             ],
             [
              0.2222222222222222,
              "#7201a8"
             ],
             [
              0.3333333333333333,
              "#9c179e"
             ],
             [
              0.4444444444444444,
              "#bd3786"
             ],
             [
              0.5555555555555556,
              "#d8576b"
             ],
             [
              0.6666666666666666,
              "#ed7953"
             ],
             [
              0.7777777777777778,
              "#fb9f3a"
             ],
             [
              0.8888888888888888,
              "#fdca26"
             ],
             [
              1,
              "#f0f921"
             ]
            ],
            "type": "heatmapgl"
           }
          ],
          "histogram": [
           {
            "marker": {
             "pattern": {
              "fillmode": "overlay",
              "size": 10,
              "solidity": 0.2
             }
            },
            "type": "histogram"
           }
          ],
          "histogram2d": [
           {
            "colorbar": {
             "outlinewidth": 0,
             "ticks": ""
            },
            "colorscale": [
             [
              0,
              "#0d0887"
             ],
             [
              0.1111111111111111,
              "#46039f"
             ],
             [
              0.2222222222222222,
              "#7201a8"
             ],
             [
              0.3333333333333333,
              "#9c179e"
             ],
             [
              0.4444444444444444,
              "#bd3786"
             ],
             [
              0.5555555555555556,
              "#d8576b"
             ],
             [
              0.6666666666666666,
              "#ed7953"
             ],
             [
              0.7777777777777778,
              "#fb9f3a"
             ],
             [
              0.8888888888888888,
              "#fdca26"
             ],
             [
              1,
              "#f0f921"
             ]
            ],
            "type": "histogram2d"
           }
          ],
          "histogram2dcontour": [
           {
            "colorbar": {
             "outlinewidth": 0,
             "ticks": ""
            },
            "colorscale": [
             [
              0,
              "#0d0887"
             ],
             [
              0.1111111111111111,
              "#46039f"
             ],
             [
              0.2222222222222222,
              "#7201a8"
             ],
             [
              0.3333333333333333,
              "#9c179e"
             ],
             [
              0.4444444444444444,
              "#bd3786"
             ],
             [
              0.5555555555555556,
              "#d8576b"
             ],
             [
              0.6666666666666666,
              "#ed7953"
             ],
             [
              0.7777777777777778,
              "#fb9f3a"
             ],
             [
              0.8888888888888888,
              "#fdca26"
             ],
             [
              1,
              "#f0f921"
             ]
            ],
            "type": "histogram2dcontour"
           }
          ],
          "mesh3d": [
           {
            "colorbar": {
             "outlinewidth": 0,
             "ticks": ""
            },
            "type": "mesh3d"
           }
          ],
          "parcoords": [
           {
            "line": {
             "colorbar": {
              "outlinewidth": 0,
              "ticks": ""
             }
            },
            "type": "parcoords"
           }
          ],
          "pie": [
           {
            "automargin": true,
            "type": "pie"
           }
          ],
          "scatter": [
           {
            "fillpattern": {
             "fillmode": "overlay",
             "size": 10,
             "solidity": 0.2
            },
            "type": "scatter"
           }
          ],
          "scatter3d": [
           {
            "line": {
             "colorbar": {
              "outlinewidth": 0,
              "ticks": ""
             }
            },
            "marker": {
             "colorbar": {
              "outlinewidth": 0,
              "ticks": ""
             }
            },
            "type": "scatter3d"
           }
          ],
          "scattercarpet": [
           {
            "marker": {
             "colorbar": {
              "outlinewidth": 0,
              "ticks": ""
             }
            },
            "type": "scattercarpet"
           }
          ],
          "scattergeo": [
           {
            "marker": {
             "colorbar": {
              "outlinewidth": 0,
              "ticks": ""
             }
            },
            "type": "scattergeo"
           }
          ],
          "scattergl": [
           {
            "marker": {
             "colorbar": {
              "outlinewidth": 0,
              "ticks": ""
             }
            },
            "type": "scattergl"
           }
          ],
          "scattermapbox": [
           {
            "marker": {
             "colorbar": {
              "outlinewidth": 0,
              "ticks": ""
             }
            },
            "type": "scattermapbox"
           }
          ],
          "scatterpolar": [
           {
            "marker": {
             "colorbar": {
              "outlinewidth": 0,
              "ticks": ""
             }
            },
            "type": "scatterpolar"
           }
          ],
          "scatterpolargl": [
           {
            "marker": {
             "colorbar": {
              "outlinewidth": 0,
              "ticks": ""
             }
            },
            "type": "scatterpolargl"
           }
          ],
          "scatterternary": [
           {
            "marker": {
             "colorbar": {
              "outlinewidth": 0,
              "ticks": ""
             }
            },
            "type": "scatterternary"
           }
          ],
          "surface": [
           {
            "colorbar": {
             "outlinewidth": 0,
             "ticks": ""
            },
            "colorscale": [
             [
              0,
              "#0d0887"
             ],
             [
              0.1111111111111111,
              "#46039f"
             ],
             [
              0.2222222222222222,
              "#7201a8"
             ],
             [
              0.3333333333333333,
              "#9c179e"
             ],
             [
              0.4444444444444444,
              "#bd3786"
             ],
             [
              0.5555555555555556,
              "#d8576b"
             ],
             [
              0.6666666666666666,
              "#ed7953"
             ],
             [
              0.7777777777777778,
              "#fb9f3a"
             ],
             [
              0.8888888888888888,
              "#fdca26"
             ],
             [
              1,
              "#f0f921"
             ]
            ],
            "type": "surface"
           }
          ],
          "table": [
           {
            "cells": {
             "fill": {
              "color": "#EBF0F8"
             },
             "line": {
              "color": "white"
             }
            },
            "header": {
             "fill": {
              "color": "#C8D4E3"
             },
             "line": {
              "color": "white"
             }
            },
            "type": "table"
           }
          ]
         },
         "layout": {
          "annotationdefaults": {
           "arrowcolor": "#2a3f5f",
           "arrowhead": 0,
           "arrowwidth": 1
          },
          "autotypenumbers": "strict",
          "coloraxis": {
           "colorbar": {
            "outlinewidth": 0,
            "ticks": ""
           }
          },
          "colorscale": {
           "diverging": [
            [
             0,
             "#8e0152"
            ],
            [
             0.1,
             "#c51b7d"
            ],
            [
             0.2,
             "#de77ae"
            ],
            [
             0.3,
             "#f1b6da"
            ],
            [
             0.4,
             "#fde0ef"
            ],
            [
             0.5,
             "#f7f7f7"
            ],
            [
             0.6,
             "#e6f5d0"
            ],
            [
             0.7,
             "#b8e186"
            ],
            [
             0.8,
             "#7fbc41"
            ],
            [
             0.9,
             "#4d9221"
            ],
            [
             1,
             "#276419"
            ]
           ],
           "sequential": [
            [
             0,
             "#0d0887"
            ],
            [
             0.1111111111111111,
             "#46039f"
            ],
            [
             0.2222222222222222,
             "#7201a8"
            ],
            [
             0.3333333333333333,
             "#9c179e"
            ],
            [
             0.4444444444444444,
             "#bd3786"
            ],
            [
             0.5555555555555556,
             "#d8576b"
            ],
            [
             0.6666666666666666,
             "#ed7953"
            ],
            [
             0.7777777777777778,
             "#fb9f3a"
            ],
            [
             0.8888888888888888,
             "#fdca26"
            ],
            [
             1,
             "#f0f921"
            ]
           ],
           "sequentialminus": [
            [
             0,
             "#0d0887"
            ],
            [
             0.1111111111111111,
             "#46039f"
            ],
            [
             0.2222222222222222,
             "#7201a8"
            ],
            [
             0.3333333333333333,
             "#9c179e"
            ],
            [
             0.4444444444444444,
             "#bd3786"
            ],
            [
             0.5555555555555556,
             "#d8576b"
            ],
            [
             0.6666666666666666,
             "#ed7953"
            ],
            [
             0.7777777777777778,
             "#fb9f3a"
            ],
            [
             0.8888888888888888,
             "#fdca26"
            ],
            [
             1,
             "#f0f921"
            ]
           ]
          },
          "colorway": [
           "#636efa",
           "#EF553B",
           "#00cc96",
           "#ab63fa",
           "#FFA15A",
           "#19d3f3",
           "#FF6692",
           "#B6E880",
           "#FF97FF",
           "#FECB52"
          ],
          "font": {
           "color": "#2a3f5f"
          },
          "geo": {
           "bgcolor": "white",
           "lakecolor": "white",
           "landcolor": "#E5ECF6",
           "showlakes": true,
           "showland": true,
           "subunitcolor": "white"
          },
          "hoverlabel": {
           "align": "left"
          },
          "hovermode": "closest",
          "mapbox": {
           "style": "light"
          },
          "paper_bgcolor": "white",
          "plot_bgcolor": "#E5ECF6",
          "polar": {
           "angularaxis": {
            "gridcolor": "white",
            "linecolor": "white",
            "ticks": ""
           },
           "bgcolor": "#E5ECF6",
           "radialaxis": {
            "gridcolor": "white",
            "linecolor": "white",
            "ticks": ""
           }
          },
          "scene": {
           "xaxis": {
            "backgroundcolor": "#E5ECF6",
            "gridcolor": "white",
            "gridwidth": 2,
            "linecolor": "white",
            "showbackground": true,
            "ticks": "",
            "zerolinecolor": "white"
           },
           "yaxis": {
            "backgroundcolor": "#E5ECF6",
            "gridcolor": "white",
            "gridwidth": 2,
            "linecolor": "white",
            "showbackground": true,
            "ticks": "",
            "zerolinecolor": "white"
           },
           "zaxis": {
            "backgroundcolor": "#E5ECF6",
            "gridcolor": "white",
            "gridwidth": 2,
            "linecolor": "white",
            "showbackground": true,
            "ticks": "",
            "zerolinecolor": "white"
           }
          },
          "shapedefaults": {
           "line": {
            "color": "#2a3f5f"
           }
          },
          "ternary": {
           "aaxis": {
            "gridcolor": "white",
            "linecolor": "white",
            "ticks": ""
           },
           "baxis": {
            "gridcolor": "white",
            "linecolor": "white",
            "ticks": ""
           },
           "bgcolor": "#E5ECF6",
           "caxis": {
            "gridcolor": "white",
            "linecolor": "white",
            "ticks": ""
           }
          },
          "title": {
           "x": 0.05
          },
          "xaxis": {
           "automargin": true,
           "gridcolor": "white",
           "linecolor": "white",
           "ticks": "",
           "title": {
            "standoff": 15
           },
           "zerolinecolor": "white",
           "zerolinewidth": 2
          },
          "yaxis": {
           "automargin": true,
           "gridcolor": "white",
           "linecolor": "white",
           "ticks": "",
           "title": {
            "standoff": 15
           },
           "zerolinecolor": "white",
           "zerolinewidth": 2
          }
         }
        },
        "title": {
         "text": "Average by country"
        },
        "xaxis": {
         "anchor": "y",
         "domain": [
          0,
          1
         ],
         "title": {
          "text": "Quantity"
         }
        },
        "yaxis": {
         "anchor": "x",
         "domain": [
          0,
          1
         ],
         "title": {
          "text": "Revenue"
         }
        }
       }
      },
      "text/html": [
       "<div>                            <div id=\"3c5ba4cb-ee6b-4355-bac1-2b1c25d67ebb\" class=\"plotly-graph-div\" style=\"height:525px; width:100%;\"></div>            <script type=\"text/javascript\">                require([\"plotly\"], function(Plotly) {                    window.PLOTLYENV=window.PLOTLYENV || {};                                    if (document.getElementById(\"3c5ba4cb-ee6b-4355-bac1-2b1c25d67ebb\")) {                    Plotly.newPlot(                        \"3c5ba4cb-ee6b-4355-bac1-2b1c25d67ebb\",                        [{\"hovertemplate\":\"Quantity=%{x}<br>Revenue=%{y}<extra></extra>\",\"legendgroup\":\"\",\"marker\":{\"color\":\"#636efa\",\"symbol\":\"circle\"},\"mode\":\"markers\",\"name\":\"\",\"orientation\":\"v\",\"showlegend\":false,\"x\":[33.125,8.0,4.0,13.333333333333334,2.3333333333333335,12.0,21.210526315789473,6.0,5.7272727272727275,6.8,1.0,56.666666666666664,15.0,50.0,6.0,8.0,4.0,4.75,17.2,10.705432287681713],\"xaxis\":\"x\",\"y\":[143.78125000000003,39.6,19.8,66.0,10.950000000000001,59.40000000000001,90.67631578947368,29.700000000000003,28.213636363636365,33.06,4.95,225.16666666666666,69.75,207.5,29.700000000000003,39.6,19.8,23.1,77.14000000000001,48.285677123182865],\"yaxis\":\"y\",\"type\":\"scatter\"}],                        {\"template\":{\"data\":{\"histogram2dcontour\":[{\"type\":\"histogram2dcontour\",\"colorbar\":{\"outlinewidth\":0,\"ticks\":\"\"},\"colorscale\":[[0.0,\"#0d0887\"],[0.1111111111111111,\"#46039f\"],[0.2222222222222222,\"#7201a8\"],[0.3333333333333333,\"#9c179e\"],[0.4444444444444444,\"#bd3786\"],[0.5555555555555556,\"#d8576b\"],[0.6666666666666666,\"#ed7953\"],[0.7777777777777778,\"#fb9f3a\"],[0.8888888888888888,\"#fdca26\"],[1.0,\"#f0f921\"]]}],\"choropleth\":[{\"type\":\"choropleth\",\"colorbar\":{\"outlinewidth\":0,\"ticks\":\"\"}}],\"histogram2d\":[{\"type\":\"histogram2d\",\"colorbar\":{\"outlinewidth\":0,\"ticks\":\"\"},\"colorscale\":[[0.0,\"#0d0887\"],[0.1111111111111111,\"#46039f\"],[0.2222222222222222,\"#7201a8\"],[0.3333333333333333,\"#9c179e\"],[0.4444444444444444,\"#bd3786\"],[0.5555555555555556,\"#d8576b\"],[0.6666666666666666,\"#ed7953\"],[0.7777777777777778,\"#fb9f3a\"],[0.8888888888888888,\"#fdca26\"],[1.0,\"#f0f921\"]]}],\"heatmap\":[{\"type\":\"heatmap\",\"colorbar\":{\"outlinewidth\":0,\"ticks\":\"\"},\"colorscale\":[[0.0,\"#0d0887\"],[0.1111111111111111,\"#46039f\"],[0.2222222222222222,\"#7201a8\"],[0.3333333333333333,\"#9c179e\"],[0.4444444444444444,\"#bd3786\"],[0.5555555555555556,\"#d8576b\"],[0.6666666666666666,\"#ed7953\"],[0.7777777777777778,\"#fb9f3a\"],[0.8888888888888888,\"#fdca26\"],[1.0,\"#f0f921\"]]}],\"heatmapgl\":[{\"type\":\"heatmapgl\",\"colorbar\":{\"outlinewidth\":0,\"ticks\":\"\"},\"colorscale\":[[0.0,\"#0d0887\"],[0.1111111111111111,\"#46039f\"],[0.2222222222222222,\"#7201a8\"],[0.3333333333333333,\"#9c179e\"],[0.4444444444444444,\"#bd3786\"],[0.5555555555555556,\"#d8576b\"],[0.6666666666666666,\"#ed7953\"],[0.7777777777777778,\"#fb9f3a\"],[0.8888888888888888,\"#fdca26\"],[1.0,\"#f0f921\"]]}],\"contourcarpet\":[{\"type\":\"contourcarpet\",\"colorbar\":{\"outlinewidth\":0,\"ticks\":\"\"}}],\"contour\":[{\"type\":\"contour\",\"colorbar\":{\"outlinewidth\":0,\"ticks\":\"\"},\"colorscale\":[[0.0,\"#0d0887\"],[0.1111111111111111,\"#46039f\"],[0.2222222222222222,\"#7201a8\"],[0.3333333333333333,\"#9c179e\"],[0.4444444444444444,\"#bd3786\"],[0.5555555555555556,\"#d8576b\"],[0.6666666666666666,\"#ed7953\"],[0.7777777777777778,\"#fb9f3a\"],[0.8888888888888888,\"#fdca26\"],[1.0,\"#f0f921\"]]}],\"surface\":[{\"type\":\"surface\",\"colorbar\":{\"outlinewidth\":0,\"ticks\":\"\"},\"colorscale\":[[0.0,\"#0d0887\"],[0.1111111111111111,\"#46039f\"],[0.2222222222222222,\"#7201a8\"],[0.3333333333333333,\"#9c179e\"],[0.4444444444444444,\"#bd3786\"],[0.5555555555555556,\"#d8576b\"],[0.6666666666666666,\"#ed7953\"],[0.7777777777777778,\"#fb9f3a\"],[0.8888888888888888,\"#fdca26\"],[1.0,\"#f0f921\"]]}],\"mesh3d\":[{\"type\":\"mesh3d\",\"colorbar\":{\"outlinewidth\":0,\"ticks\":\"\"}}],\"scatter\":[{\"fillpattern\":{\"fillmode\":\"overlay\",\"size\":10,\"solidity\":0.2},\"type\":\"scatter\"}],\"parcoords\":[{\"type\":\"parcoords\",\"line\":{\"colorbar\":{\"outlinewidth\":0,\"ticks\":\"\"}}}],\"scatterpolargl\":[{\"type\":\"scatterpolargl\",\"marker\":{\"colorbar\":{\"outlinewidth\":0,\"ticks\":\"\"}}}],\"bar\":[{\"error_x\":{\"color\":\"#2a3f5f\"},\"error_y\":{\"color\":\"#2a3f5f\"},\"marker\":{\"line\":{\"color\":\"#E5ECF6\",\"width\":0.5},\"pattern\":{\"fillmode\":\"overlay\",\"size\":10,\"solidity\":0.2}},\"type\":\"bar\"}],\"scattergeo\":[{\"type\":\"scattergeo\",\"marker\":{\"colorbar\":{\"outlinewidth\":0,\"ticks\":\"\"}}}],\"scatterpolar\":[{\"type\":\"scatterpolar\",\"marker\":{\"colorbar\":{\"outlinewidth\":0,\"ticks\":\"\"}}}],\"histogram\":[{\"marker\":{\"pattern\":{\"fillmode\":\"overlay\",\"size\":10,\"solidity\":0.2}},\"type\":\"histogram\"}],\"scattergl\":[{\"type\":\"scattergl\",\"marker\":{\"colorbar\":{\"outlinewidth\":0,\"ticks\":\"\"}}}],\"scatter3d\":[{\"type\":\"scatter3d\",\"line\":{\"colorbar\":{\"outlinewidth\":0,\"ticks\":\"\"}},\"marker\":{\"colorbar\":{\"outlinewidth\":0,\"ticks\":\"\"}}}],\"scattermapbox\":[{\"type\":\"scattermapbox\",\"marker\":{\"colorbar\":{\"outlinewidth\":0,\"ticks\":\"\"}}}],\"scatterternary\":[{\"type\":\"scatterternary\",\"marker\":{\"colorbar\":{\"outlinewidth\":0,\"ticks\":\"\"}}}],\"scattercarpet\":[{\"type\":\"scattercarpet\",\"marker\":{\"colorbar\":{\"outlinewidth\":0,\"ticks\":\"\"}}}],\"carpet\":[{\"aaxis\":{\"endlinecolor\":\"#2a3f5f\",\"gridcolor\":\"white\",\"linecolor\":\"white\",\"minorgridcolor\":\"white\",\"startlinecolor\":\"#2a3f5f\"},\"baxis\":{\"endlinecolor\":\"#2a3f5f\",\"gridcolor\":\"white\",\"linecolor\":\"white\",\"minorgridcolor\":\"white\",\"startlinecolor\":\"#2a3f5f\"},\"type\":\"carpet\"}],\"table\":[{\"cells\":{\"fill\":{\"color\":\"#EBF0F8\"},\"line\":{\"color\":\"white\"}},\"header\":{\"fill\":{\"color\":\"#C8D4E3\"},\"line\":{\"color\":\"white\"}},\"type\":\"table\"}],\"barpolar\":[{\"marker\":{\"line\":{\"color\":\"#E5ECF6\",\"width\":0.5},\"pattern\":{\"fillmode\":\"overlay\",\"size\":10,\"solidity\":0.2}},\"type\":\"barpolar\"}],\"pie\":[{\"automargin\":true,\"type\":\"pie\"}]},\"layout\":{\"autotypenumbers\":\"strict\",\"colorway\":[\"#636efa\",\"#EF553B\",\"#00cc96\",\"#ab63fa\",\"#FFA15A\",\"#19d3f3\",\"#FF6692\",\"#B6E880\",\"#FF97FF\",\"#FECB52\"],\"font\":{\"color\":\"#2a3f5f\"},\"hovermode\":\"closest\",\"hoverlabel\":{\"align\":\"left\"},\"paper_bgcolor\":\"white\",\"plot_bgcolor\":\"#E5ECF6\",\"polar\":{\"bgcolor\":\"#E5ECF6\",\"angularaxis\":{\"gridcolor\":\"white\",\"linecolor\":\"white\",\"ticks\":\"\"},\"radialaxis\":{\"gridcolor\":\"white\",\"linecolor\":\"white\",\"ticks\":\"\"}},\"ternary\":{\"bgcolor\":\"#E5ECF6\",\"aaxis\":{\"gridcolor\":\"white\",\"linecolor\":\"white\",\"ticks\":\"\"},\"baxis\":{\"gridcolor\":\"white\",\"linecolor\":\"white\",\"ticks\":\"\"},\"caxis\":{\"gridcolor\":\"white\",\"linecolor\":\"white\",\"ticks\":\"\"}},\"coloraxis\":{\"colorbar\":{\"outlinewidth\":0,\"ticks\":\"\"}},\"colorscale\":{\"sequential\":[[0.0,\"#0d0887\"],[0.1111111111111111,\"#46039f\"],[0.2222222222222222,\"#7201a8\"],[0.3333333333333333,\"#9c179e\"],[0.4444444444444444,\"#bd3786\"],[0.5555555555555556,\"#d8576b\"],[0.6666666666666666,\"#ed7953\"],[0.7777777777777778,\"#fb9f3a\"],[0.8888888888888888,\"#fdca26\"],[1.0,\"#f0f921\"]],\"sequentialminus\":[[0.0,\"#0d0887\"],[0.1111111111111111,\"#46039f\"],[0.2222222222222222,\"#7201a8\"],[0.3333333333333333,\"#9c179e\"],[0.4444444444444444,\"#bd3786\"],[0.5555555555555556,\"#d8576b\"],[0.6666666666666666,\"#ed7953\"],[0.7777777777777778,\"#fb9f3a\"],[0.8888888888888888,\"#fdca26\"],[1.0,\"#f0f921\"]],\"diverging\":[[0,\"#8e0152\"],[0.1,\"#c51b7d\"],[0.2,\"#de77ae\"],[0.3,\"#f1b6da\"],[0.4,\"#fde0ef\"],[0.5,\"#f7f7f7\"],[0.6,\"#e6f5d0\"],[0.7,\"#b8e186\"],[0.8,\"#7fbc41\"],[0.9,\"#4d9221\"],[1,\"#276419\"]]},\"xaxis\":{\"gridcolor\":\"white\",\"linecolor\":\"white\",\"ticks\":\"\",\"title\":{\"standoff\":15},\"zerolinecolor\":\"white\",\"automargin\":true,\"zerolinewidth\":2},\"yaxis\":{\"gridcolor\":\"white\",\"linecolor\":\"white\",\"ticks\":\"\",\"title\":{\"standoff\":15},\"zerolinecolor\":\"white\",\"automargin\":true,\"zerolinewidth\":2},\"scene\":{\"xaxis\":{\"backgroundcolor\":\"#E5ECF6\",\"gridcolor\":\"white\",\"linecolor\":\"white\",\"showbackground\":true,\"ticks\":\"\",\"zerolinecolor\":\"white\",\"gridwidth\":2},\"yaxis\":{\"backgroundcolor\":\"#E5ECF6\",\"gridcolor\":\"white\",\"linecolor\":\"white\",\"showbackground\":true,\"ticks\":\"\",\"zerolinecolor\":\"white\",\"gridwidth\":2},\"zaxis\":{\"backgroundcolor\":\"#E5ECF6\",\"gridcolor\":\"white\",\"linecolor\":\"white\",\"showbackground\":true,\"ticks\":\"\",\"zerolinecolor\":\"white\",\"gridwidth\":2}},\"shapedefaults\":{\"line\":{\"color\":\"#2a3f5f\"}},\"annotationdefaults\":{\"arrowcolor\":\"#2a3f5f\",\"arrowhead\":0,\"arrowwidth\":1},\"geo\":{\"bgcolor\":\"white\",\"landcolor\":\"#E5ECF6\",\"subunitcolor\":\"white\",\"showland\":true,\"showlakes\":true,\"lakecolor\":\"white\"},\"title\":{\"x\":0.05},\"mapbox\":{\"style\":\"light\"}}},\"xaxis\":{\"anchor\":\"y\",\"domain\":[0.0,1.0],\"title\":{\"text\":\"Quantity\"}},\"yaxis\":{\"anchor\":\"x\",\"domain\":[0.0,1.0],\"title\":{\"text\":\"Revenue\"}},\"legend\":{\"tracegroupgap\":0},\"title\":{\"text\":\"Average by country\"}},                        {\"responsive\": true}                    ).then(function(){\n",
       "                            \n",
       "var gd = document.getElementById('3c5ba4cb-ee6b-4355-bac1-2b1c25d67ebb');\n",
       "var x = new MutationObserver(function (mutations, observer) {{\n",
       "        var display = window.getComputedStyle(gd).display;\n",
       "        if (!display || display === 'none') {{\n",
       "            console.log([gd, 'removed!']);\n",
       "            Plotly.purge(gd);\n",
       "            observer.disconnect();\n",
       "        }}\n",
       "}});\n",
       "\n",
       "// Listen for the removal of the full notebook cells\n",
       "var notebookContainer = gd.closest('#notebook-container');\n",
       "if (notebookContainer) {{\n",
       "    x.observe(notebookContainer, {childList: true});\n",
       "}}\n",
       "\n",
       "// Listen for the clearing of the current output cell\n",
       "var outputEl = gd.closest('.output');\n",
       "if (outputEl) {{\n",
       "    x.observe(outputEl, {childList: true});\n",
       "}}\n",
       "\n",
       "                        })                };                });            </script>        </div>"
      ]
     },
     "metadata": {},
     "output_type": "display_data"
    }
   ],
   "source": [
    "px.scatter(data_party, \n",
    "           x=\"Quantity\", \n",
    "           y=\"Revenue\",\n",
    "           title='Average by country')"
   ]
  },
  {
   "cell_type": "markdown",
   "metadata": {},
   "source": [
    "## 4. Create a set of interactive histograms showing the distributions of quantity per invoice for the following countries: EIRE, Germany, France, and Netherlands."
   ]
  },
  {
   "cell_type": "code",
   "execution_count": 67,
   "metadata": {},
   "outputs": [
    {
     "data": {
      "text/html": [
       "<div>\n",
       "<style scoped>\n",
       "    .dataframe tbody tr th:only-of-type {\n",
       "        vertical-align: middle;\n",
       "    }\n",
       "\n",
       "    .dataframe tbody tr th {\n",
       "        vertical-align: top;\n",
       "    }\n",
       "\n",
       "    .dataframe thead th {\n",
       "        text-align: right;\n",
       "    }\n",
       "</style>\n",
       "<table border=\"1\" class=\"dataframe\">\n",
       "  <thead>\n",
       "    <tr style=\"text-align: right;\">\n",
       "      <th></th>\n",
       "      <th>InvoiceNo</th>\n",
       "      <th>InvoiceDate</th>\n",
       "      <th>StockCode</th>\n",
       "      <th>Description</th>\n",
       "      <th>Quantity</th>\n",
       "      <th>UnitPrice</th>\n",
       "      <th>Revenue</th>\n",
       "      <th>CustomerID</th>\n",
       "      <th>Country</th>\n",
       "    </tr>\n",
       "  </thead>\n",
       "  <tbody>\n",
       "    <tr>\n",
       "      <th>179</th>\n",
       "      <td>539320</td>\n",
       "      <td>2010-12-16 19:16:00</td>\n",
       "      <td>85123A</td>\n",
       "      <td>CREAM HANGING HEART T-LIGHT HOLDER</td>\n",
       "      <td>24</td>\n",
       "      <td>2.95</td>\n",
       "      <td>70.8</td>\n",
       "      <td>14911</td>\n",
       "      <td>EIRE</td>\n",
       "    </tr>\n",
       "    <tr>\n",
       "      <th>198</th>\n",
       "      <td>539722</td>\n",
       "      <td>2010-12-21 13:45:00</td>\n",
       "      <td>85123A</td>\n",
       "      <td>CREAM HANGING HEART T-LIGHT HOLDER</td>\n",
       "      <td>24</td>\n",
       "      <td>2.95</td>\n",
       "      <td>70.8</td>\n",
       "      <td>14911</td>\n",
       "      <td>EIRE</td>\n",
       "    </tr>\n",
       "    <tr>\n",
       "      <th>304</th>\n",
       "      <td>541570</td>\n",
       "      <td>2011-01-19 12:34:00</td>\n",
       "      <td>85123A</td>\n",
       "      <td>CREAM HANGING HEART T-LIGHT HOLDER</td>\n",
       "      <td>256</td>\n",
       "      <td>2.55</td>\n",
       "      <td>652.8</td>\n",
       "      <td>14646</td>\n",
       "      <td>Netherlands</td>\n",
       "    </tr>\n",
       "    <tr>\n",
       "      <th>322</th>\n",
       "      <td>541979</td>\n",
       "      <td>2011-01-24 14:54:00</td>\n",
       "      <td>85123A</td>\n",
       "      <td>CREAM HANGING HEART T-LIGHT HOLDER</td>\n",
       "      <td>6</td>\n",
       "      <td>2.95</td>\n",
       "      <td>17.7</td>\n",
       "      <td>14911</td>\n",
       "      <td>EIRE</td>\n",
       "    </tr>\n",
       "    <tr>\n",
       "      <th>367</th>\n",
       "      <td>542777</td>\n",
       "      <td>2011-02-01 08:31:00</td>\n",
       "      <td>85123A</td>\n",
       "      <td>CREAM HANGING HEART T-LIGHT HOLDER</td>\n",
       "      <td>6</td>\n",
       "      <td>2.95</td>\n",
       "      <td>17.7</td>\n",
       "      <td>14911</td>\n",
       "      <td>EIRE</td>\n",
       "    </tr>\n",
       "  </tbody>\n",
       "</table>\n",
       "</div>"
      ],
      "text/plain": [
       "     InvoiceNo         InvoiceDate StockCode   \n",
       "179     539320 2010-12-16 19:16:00    85123A  \\\n",
       "198     539722 2010-12-21 13:45:00    85123A   \n",
       "304     541570 2011-01-19 12:34:00    85123A   \n",
       "322     541979 2011-01-24 14:54:00    85123A   \n",
       "367     542777 2011-02-01 08:31:00    85123A   \n",
       "\n",
       "                            Description  Quantity  UnitPrice  Revenue   \n",
       "179  CREAM HANGING HEART T-LIGHT HOLDER        24       2.95     70.8  \\\n",
       "198  CREAM HANGING HEART T-LIGHT HOLDER        24       2.95     70.8   \n",
       "304  CREAM HANGING HEART T-LIGHT HOLDER       256       2.55    652.8   \n",
       "322  CREAM HANGING HEART T-LIGHT HOLDER         6       2.95     17.7   \n",
       "367  CREAM HANGING HEART T-LIGHT HOLDER         6       2.95     17.7   \n",
       "\n",
       "     CustomerID      Country  \n",
       "179       14911         EIRE  \n",
       "198       14911         EIRE  \n",
       "304       14646  Netherlands  \n",
       "322       14911         EIRE  \n",
       "367       14911         EIRE  "
      ]
     },
     "execution_count": 67,
     "metadata": {},
     "output_type": "execute_result"
    }
   ],
   "source": [
    "country_lst=['EIRE', 'Germany', 'France', 'Netherlands']\n",
    "data4=online.loc[online.Country.isin(country_lst)]\n",
    "data4.head()"
   ]
  },
  {
   "cell_type": "code",
   "execution_count": 76,
   "metadata": {},
   "outputs": [],
   "source": [
    "data41=data4.groupby('InvoiceNo')[['Quantity', 'Revenue']].sum()"
   ]
  },
  {
   "cell_type": "code",
   "execution_count": 77,
   "metadata": {},
   "outputs": [],
   "source": [
    "data41.reset_index(inplace=True)"
   ]
  },
  {
   "cell_type": "code",
   "execution_count": 78,
   "metadata": {},
   "outputs": [
    {
     "data": {
      "application/vnd.plotly.v1+json": {
       "config": {
        "linkText": "Export to plot.ly",
        "plotlyServerURL": "https://plot.ly",
        "showLink": true
       },
       "data": [
        {
         "marker": {
          "color": "rgba(255, 153, 51, 0.6)",
          "line": {
           "color": "rgba(255, 153, 51, 1.0)",
           "width": 1
          }
         },
         "name": "Quantity",
         "orientation": "v",
         "text": "",
         "type": "bar",
         "x": [
          536370,
          536403,
          536527,
          536540,
          536541,
          536803,
          536840,
          536852,
          536861,
          536890,
          536967,
          536974,
          536975,
          536983,
          537065,
          537197,
          537198,
          537201,
          537212,
          537250,
          537368,
          537378,
          537386,
          537463,
          537468,
          537594,
          537673,
          537693,
          537892,
          537894,
          537897,
          537967,
          537995,
          538008,
          538009,
          538093,
          538174,
          538196,
          538255,
          538644,
          539050,
          539113,
          539320,
          539327,
          539395,
          539398,
          539401,
          539403,
          539405,
          539407,
          539408,
          539421,
          539435,
          539446,
          539466,
          539473,
          539491,
          539551,
          539607,
          539636,
          539722,
          539727,
          539731,
          539829,
          539946,
          539957,
          539984,
          540178,
          540239,
          540351,
          540365,
          540410,
          540414,
          540455,
          540458,
          540463,
          540480,
          540521,
          540547,
          540553,
          540562,
          540642,
          540688,
          540769,
          540789,
          540824,
          540835,
          540851,
          540900,
          540972,
          540976,
          541093,
          541120,
          541121,
          541122,
          541125,
          541138,
          541206,
          541220,
          541224,
          541269,
          541277,
          541405,
          541434,
          541480,
          541517,
          541567,
          541570,
          541608,
          541631,
          541670,
          541711,
          541857,
          541877,
          541962,
          541965,
          541979,
          541981,
          542080,
          542106,
          542128,
          542215,
          542216,
          542229,
          542278,
          542369,
          542371,
          542375,
          542425,
          542433,
          542535,
          542621,
          542626,
          542629,
          542648,
          542713,
          542720,
          542735,
          542777,
          542782,
          542894,
          542904,
          542922,
          542926,
          543030,
          543048,
          543056,
          543114,
          543121,
          543178,
          543188,
          543387,
          543459,
          543484,
          543492,
          543550,
          543587,
          543625,
          543737,
          543828,
          543833,
          543900,
          544069,
          544074,
          544075,
          544115,
          544200,
          544210,
          544281,
          544302,
          544340,
          544355,
          544390,
          544423,
          544470,
          544479,
          544480,
          544483,
          544573,
          544585,
          544672,
          544690,
          544811,
          544817,
          544818,
          544933,
          544996,
          545051,
          545086,
          545105,
          545180,
          545181,
          545235,
          545295,
          545301,
          545320,
          545515,
          545517,
          545533,
          545557,
          545583,
          545634,
          545657,
          545706,
          545709,
          545718,
          545916,
          545988,
          545994,
          546027,
          546172,
          546212,
          546213,
          546263,
          546365,
          546373,
          546428,
          546433,
          546479,
          546509,
          546520,
          546541,
          546569,
          546580,
          546660,
          546678,
          546759,
          546765,
          546770,
          546843,
          546851,
          546861,
          546917,
          546919,
          546920,
          546921,
          546925,
          547005,
          547048,
          547071,
          547085,
          547087,
          547194,
          547196,
          547327,
          547365,
          547379,
          547383,
          547492,
          547504,
          547508,
          547520,
          547702,
          547715,
          547722,
          547789,
          547796,
          547821,
          547822,
          547825,
          547863,
          547882,
          547892,
          547925,
          547926,
          547934,
          548010,
          548011,
          548211,
          548320,
          548409,
          548410,
          548412,
          548449,
          548489,
          548496,
          548553,
          548606,
          548654,
          548664,
          548718,
          548737,
          548745,
          548746,
          548858,
          548969,
          548970,
          549118,
          549193,
          549196,
          549242,
          549274,
          549316,
          549434,
          549614,
          549667,
          549680,
          549721,
          550002,
          550004,
          550137,
          550145,
          550162,
          550178,
          550187,
          550302,
          550313,
          550338,
          550527,
          550618,
          550620,
          550625,
          550661,
          550665,
          550821,
          550827,
          550946,
          550960,
          551163,
          551187,
          551258,
          551345,
          551389,
          551467,
          551529,
          551539,
          551544,
          551545,
          551649,
          551652,
          551656,
          551657,
          551728,
          551729,
          551818,
          551820,
          551886,
          551887,
          551950,
          552008,
          552038,
          552211,
          552262,
          552315,
          552325,
          552337,
          552464,
          552631,
          552649,
          552656,
          552826,
          552844,
          552845,
          552846,
          552851,
          552871,
          552874,
          552875,
          552878,
          552882,
          552883,
          552885,
          552946,
          552978,
          553037,
          553038,
          553044,
          553143,
          553161,
          553195,
          553203,
          553206,
          553208,
          553210,
          553316,
          553348,
          553375,
          553411,
          553547,
          553566,
          553577,
          553666,
          553682,
          553686,
          553731,
          553732,
          553741,
          553838,
          553842,
          553843,
          553884,
          553885,
          553897,
          553901,
          553931,
          553997,
          554038,
          554097,
          554104,
          554106,
          554109,
          554134,
          554137,
          554139,
          554263,
          554324,
          554325,
          554356,
          554363,
          554555,
          554642,
          554648,
          554650,
          554699,
          554700,
          554711,
          554713,
          554770,
          554776,
          554791,
          554794,
          554826,
          554827,
          554840,
          554861,
          554940,
          554985,
          555003,
          555093,
          555096,
          555106,
          555160,
          555162,
          555164,
          555282,
          555383,
          555407,
          555417,
          555523,
          555531,
          555547,
          555553,
          555569,
          555589,
          555637,
          555650,
          555719,
          555858,
          555933,
          555936,
          555937,
          555941,
          555947,
          556060,
          556114,
          556118,
          556126,
          556206,
          556235,
          556258,
          556259,
          556305,
          556443,
          556463,
          556469,
          556507,
          556509,
          556510,
          556517,
          556526,
          556529,
          556578,
          556816,
          556819,
          556820,
          556886,
          556927,
          556928,
          556953,
          557055,
          557056,
          557069,
          557136,
          557247,
          557263,
          557295,
          557318,
          557328,
          557466,
          557483,
          557489,
          557525,
          557569,
          557605,
          557627,
          557669,
          557734,
          557742,
          557759,
          557850,
          557872,
          557880,
          557972,
          558045,
          558067,
          558069,
          558109,
          558113,
          558114,
          558124,
          558262,
          558263,
          558311,
          558334,
          558417,
          558431,
          558608,
          558613,
          558626,
          558628,
          558640,
          558644,
          558684,
          558687,
          558699,
          558717,
          558813,
          558881,
          559010,
          559036,
          559134,
          559298,
          559300,
          559316,
          559362,
          559418,
          559421,
          559422,
          559441,
          559607,
          559685,
          559699,
          559704,
          559710,
          559782,
          559797,
          559798,
          559819,
          559889,
          559899,
          559987,
          560036,
          560038,
          560041,
          560202,
          560211,
          560230,
          560272,
          560300,
          560363,
          560398,
          560445,
          560446,
          560451,
          560452,
          560534,
          560544,
          560545,
          560566,
          560569,
          560590,
          560635,
          560710,
          560728,
          560876,
          560894,
          560901,
          560916,
          560922,
          560997,
          561029,
          561037,
          561094,
          561194,
          561257,
          561468,
          561470,
          561471,
          561472,
          561583,
          561631,
          561645,
          561795,
          561798,
          561870,
          561901,
          561911,
          562035,
          562038,
          562039,
          562045,
          562137,
          562207,
          562275,
          562370,
          562374,
          562435,
          562450,
          562520,
          562527,
          562537,
          562560,
          562568,
          562605,
          562670,
          562729,
          562789,
          562790,
          562894,
          562935,
          562960,
          562973,
          563076,
          563098,
          563165,
          563169,
          563189,
          563202,
          563288,
          563345,
          563355,
          563373,
          563502,
          563540,
          563548,
          563558,
          563559,
          563662,
          563685,
          563712,
          563753,
          563776,
          563808,
          563848,
          563897,
          563913,
          563914,
          563926,
          563950,
          564039,
          564079,
          564140,
          564159,
          564169,
          564173,
          564216,
          564226,
          564309,
          564314,
          564328,
          564329,
          564337,
          564338,
          564360,
          564367,
          564372,
          564471,
          564475,
          564479,
          564531,
          564565,
          564638,
          564650,
          564652,
          564654,
          564666,
          564670,
          564749,
          564856,
          564897,
          564906,
          564912,
          564972,
          565213,
          565214,
          565239,
          565261,
          565289,
          565321,
          565322,
          565412,
          565416,
          565423,
          565430,
          565440,
          565442,
          565443,
          565475,
          565476,
          565587,
          565612,
          565748,
          565749,
          565759,
          565760,
          565765,
          565777,
          565800,
          565801,
          565851,
          565854,
          565857,
          565865,
          565916,
          565930,
          565931,
          565967,
          565975,
          566041,
          566054,
          566059,
          566074,
          566115,
          566163,
          566173,
          566233,
          566256,
          566267,
          566268,
          566492,
          566557,
          566586,
          566625,
          566736,
          566739,
          566776,
          566816,
          566846,
          566873,
          566918,
          566984,
          566987,
          567134,
          567191,
          567280,
          567290,
          567291,
          567293,
          567296,
          567298,
          567300,
          567305,
          567334,
          567336,
          567378,
          567380,
          567428,
          567512,
          567552,
          567578,
          567616,
          567618,
          567640,
          567657,
          567666,
          567720,
          567756,
          567793,
          567795,
          567899,
          567900,
          567904,
          567910,
          567914,
          567915,
          567924,
          567958,
          567959,
          568040,
          568048,
          568056,
          568095,
          568103,
          568137,
          568176,
          568221,
          568310,
          568350,
          568417,
          568472,
          568518,
          568645,
          568654,
          568656,
          568674,
          568698,
          568706,
          568707,
          568798,
          568953,
          568987,
          568988,
          568994,
          569001,
          569010,
          569017,
          569028,
          569097,
          569120,
          569122,
          569130,
          569332,
          569402,
          569531,
          569562,
          569563,
          569568,
          569640,
          569665,
          569686,
          569699,
          569701,
          569719,
          569720,
          569721,
          569727,
          569739,
          569844,
          569860,
          569861,
          569867,
          569893,
          569907,
          569921,
          570002,
          570007,
          570016,
          570020,
          570030,
          570082,
          570095,
          570189,
          570191,
          570253,
          570267,
          570388,
          570409,
          570452,
          570485,
          570637,
          570640,
          570651,
          570657,
          570672,
          570674,
          570694,
          570700,
          570703,
          570706,
          570718,
          570724,
          570754,
          570784,
          570792,
          570798,
          570823,
          570839,
          570841,
          570851,
          570879,
          570881,
          571065,
          571129,
          571215,
          571227,
          571240,
          571304,
          571308,
          571312,
          571313,
          571314,
          571328,
          571377,
          571409,
          571425,
          571446,
          571447,
          571556,
          571559,
          571562,
          571565,
          571658,
          571697,
          571724,
          571729,
          571739,
          571745,
          571824,
          571864,
          571904,
          571923,
          571937,
          572035,
          572051,
          572052,
          572054,
          572060,
          572061,
          572069,
          572087,
          572123,
          572124,
          572127,
          572134,
          572233,
          572236,
          572241,
          572459,
          572559,
          572560,
          572894,
          572895,
          572925,
          572986,
          572992,
          573002,
          573003,
          573004,
          573036,
          573106,
          573136,
          573153,
          573273,
          573284,
          573289,
          573316,
          573391,
          573402,
          573417,
          573424,
          573428,
          573430,
          573442,
          573581,
          573629,
          573748,
          573867,
          573868,
          573891,
          573892,
          574056,
          574058,
          574059,
          574068,
          574071,
          574093,
          574097,
          574104,
          574252,
          574255,
          574501,
          574506,
          574653,
          574679,
          574713,
          574745,
          574841,
          574869,
          574874,
          574885,
          574938,
          575049,
          575067,
          575193,
          575326,
          575352,
          575486,
          575498,
          575508,
          575510,
          575519,
          575581,
          575584,
          575629,
          575661,
          575671,
          575692,
          575709,
          575713,
          575728,
          575732,
          575733,
          575735,
          575747,
          575750,
          575751,
          575787,
          575845,
          575871,
          575880,
          575884,
          575886,
          575896,
          575916,
          575933,
          576051,
          576064,
          576087,
          576141,
          576222,
          576245,
          576322,
          576327,
          576371,
          576373,
          576390,
          576399,
          576595,
          576596,
          576602,
          576603,
          576607,
          576629,
          576630,
          576653,
          576657,
          576664,
          576669,
          576672,
          576787,
          576789,
          576790,
          576863,
          576869,
          576880,
          576890,
          576891,
          576893,
          576894,
          576899,
          576909,
          576910,
          576927,
          576941,
          577027,
          577054,
          577061,
          577121,
          577135,
          577152,
          577168,
          577295,
          577299,
          577301,
          577326,
          577344,
          577355,
          577406,
          577474,
          577479,
          577502,
          577512,
          577607,
          577613,
          577615,
          577687,
          577776,
          577850,
          577856,
          578024,
          578033,
          578034,
          578043,
          578054,
          578082,
          578093,
          578105,
          578140,
          578141,
          578143,
          578273,
          578277,
          578287,
          578295,
          578298,
          578331,
          578333,
          578348,
          578469,
          578472,
          578509,
          578541,
          578547,
          578550,
          578626,
          578698,
          578705,
          578736,
          578792,
          578835,
          578994,
          579069,
          579094,
          579102,
          579152,
          579153,
          579190,
          579193,
          579276,
          579345,
          579393,
          579416,
          579419,
          579492,
          579528,
          579529,
          579539,
          579553,
          579634,
          579708,
          579747,
          579768,
          579786,
          579792,
          579870,
          579901,
          579910,
          579927,
          580120,
          580126,
          580127,
          580144,
          580154,
          580160,
          580285,
          580509,
          580511,
          580512,
          580528,
          580531,
          580534,
          580536,
          580548,
          580555,
          580557,
          580648,
          580705,
          580736,
          580753,
          580756,
          580986,
          581000,
          581001,
          581003,
          581006,
          581098,
          581171,
          581175,
          581176,
          581179,
          581183,
          581184,
          581266,
          581279,
          581338,
          581433,
          581494,
          581570,
          581574,
          581578,
          581587
         ],
         "y": [
          446,
          96,
          156,
          230,
          12,
          6,
          147,
          106,
          76,
          1548,
          30,
          130,
          827,
          59,
          602,
          76,
          10,
          966,
          295,
          88,
          134,
          475,
          3,
          581,
          164,
          150,
          132,
          120,
          84,
          225,
          106,
          8,
          82,
          552,
          287,
          339,
          1075,
          410,
          379,
          2,
          134,
          3,
          358,
          42,
          433,
          6,
          133,
          81,
          322,
          332,
          221,
          373,
          64,
          388,
          333,
          154,
          45,
          128,
          599,
          228,
          344,
          24,
          6668,
          88,
          62,
          866,
          107,
          359,
          369,
          261,
          177,
          92,
          410,
          488,
          1775,
          103,
          363,
          78,
          84,
          242,
          389,
          628,
          168,
          86,
          576,
          120,
          114,
          43,
          95,
          131,
          498,
          95,
          543,
          78,
          164,
          10,
          440,
          8210,
          6198,
          70,
          404,
          171,
          263,
          286,
          112,
          36,
          383,
          6072,
          288,
          702,
          1332,
          5730,
          120,
          245,
          45,
          902,
          46,
          84,
          603,
          314,
          221,
          482,
          690,
          206,
          154,
          234,
          125,
          46,
          59,
          406,
          102,
          278,
          180,
          1617,
          126,
          468,
          116,
          202,
          463,
          59,
          111,
          197,
          159,
          36,
          206,
          102,
          174,
          270,
          182,
          74,
          611,
          1116,
          214,
          298,
          159,
          50,
          177,
          452,
          639,
          939,
          46,
          409,
          96,
          470,
          1932,
          772,
          114,
          86,
          302,
          76,
          108,
          748,
          60,
          15,
          256,
          8174,
          4034,
          266,
          515,
          77,
          2940,
          668,
          198,
          264,
          96,
          583,
          122,
          70,
          213,
          310,
          72,
          54,
          245,
          384,
          329,
          669,
          314,
          24,
          341,
          192,
          123,
          263,
          593,
          90,
          190,
          76,
          75,
          168,
          189,
          275,
          263,
          2826,
          108,
          218,
          613,
          323,
          183,
          151,
          184,
          206,
          498,
          230,
          511,
          328,
          335,
          314,
          48,
          97,
          62,
          366,
          388,
          416,
          265,
          168,
          288,
          12,
          222,
          546,
          72,
          87,
          24,
          422,
          85,
          5,
          198,
          169,
          484,
          482,
          136,
          713,
          242,
          130,
          113,
          126,
          261,
          533,
          722,
          480,
          506,
          103,
          59,
          744,
          842,
          421,
          268,
          156,
          1070,
          11116,
          1208,
          172,
          946,
          132,
          48,
          44,
          44,
          2271,
          88,
          240,
          108,
          713,
          1162,
          293,
          347,
          40,
          76,
          636,
          700,
          655,
          236,
          271,
          118,
          236,
          757,
          84,
          218,
          477,
          244,
          112,
          40,
          98,
          728,
          284,
          78,
          226,
          27,
          150,
          375,
          25,
          617,
          233,
          401,
          466,
          196,
          230,
          23,
          275,
          145,
          68,
          84,
          162,
          460,
          426,
          146,
          84,
          639,
          368,
          350,
          6,
          120,
          192,
          297,
          235,
          110,
          10,
          142,
          238,
          48,
          98,
          192,
          16,
          1694,
          224,
          446,
          773,
          162,
          377,
          332,
          458,
          164,
          145,
          859,
          202,
          200,
          72,
          734,
          83,
          643,
          104,
          695,
          924,
          12266,
          72,
          105,
          4282,
          288,
          32,
          202,
          33,
          267,
          140,
          138,
          526,
          220,
          543,
          58,
          711,
          494,
          476,
          526,
          103,
          152,
          72,
          408,
          636,
          425,
          90,
          196,
          434,
          468,
          126,
          46,
          34,
          112,
          284,
          225,
          464,
          126,
          229,
          578,
          382,
          62,
          304,
          161,
          401,
          12,
          30,
          242,
          208,
          119,
          180,
          960,
          180,
          374,
          191,
          79,
          39,
          34,
          304,
          4,
          4,
          184,
          86,
          4664,
          424,
          337,
          155,
          254,
          64,
          32,
          200,
          164,
          1038,
          553,
          1836,
          653,
          420,
          328,
          22,
          237,
          1184,
          347,
          288,
          358,
          312,
          115,
          404,
          290,
          191,
          216,
          216,
          464,
          444,
          2090,
          492,
          78,
          36,
          244,
          261,
          84,
          320,
          460,
          160,
          88,
          714,
          342,
          549,
          99,
          427,
          412,
          110,
          232,
          784,
          356,
          170,
          139,
          206,
          2642,
          384,
          268,
          457,
          12,
          267,
          355,
          514,
          4718,
          62,
          83,
          61,
          1346,
          50,
          208,
          350,
          270,
          48,
          350,
          270,
          384,
          308,
          280,
          143,
          186,
          1,
          71,
          410,
          571,
          48,
          15,
          314,
          79,
          118,
          8998,
          424,
          1588,
          108,
          2086,
          17,
          166,
          394,
          46,
          578,
          81,
          18,
          697,
          284,
          78,
          60,
          256,
          863,
          20,
          321,
          592,
          292,
          148,
          142,
          396,
          322,
          159,
          135,
          198,
          236,
          48,
          76,
          262,
          124,
          156,
          252,
          192,
          116,
          666,
          91,
          776,
          688,
          300,
          177,
          115,
          294,
          105,
          46,
          1202,
          82,
          838,
          5726,
          496,
          762,
          32,
          256,
          25,
          56,
          192,
          331,
          812,
          306,
          9,
          152,
          516,
          269,
          297,
          228,
          146,
          422,
          234,
          469,
          408,
          332,
          251,
          222,
          147,
          602,
          55,
          174,
          362,
          2270,
          500,
          286,
          1410,
          5246,
          645,
          262,
          136,
          52,
          325,
          187,
          690,
          279,
          552,
          2270,
          32,
          320,
          162,
          132,
          416,
          744,
          60,
          271,
          603,
          34,
          7807,
          375,
          197,
          391,
          314,
          872,
          14730,
          554,
          992,
          491,
          178,
          3,
          603,
          460,
          579,
          20,
          400,
          316,
          48,
          579,
          12,
          231,
          38,
          228,
          459,
          99,
          214,
          644,
          33,
          147,
          185,
          234,
          384,
          348,
          322,
          359,
          54,
          288,
          402,
          275,
          105,
          70,
          139,
          176,
          29,
          375,
          6,
          392,
          109,
          784,
          170,
          288,
          204,
          145,
          572,
          190,
          4628,
          480,
          276,
          68,
          688,
          131,
          1151,
          820,
          120,
          198,
          486,
          1776,
          408,
          270,
          312,
          163,
          98,
          54,
          1272,
          402,
          38,
          340,
          266,
          556,
          506,
          5034,
          456,
          142,
          184,
          1145,
          140,
          324,
          10,
          316,
          20,
          417,
          265,
          331,
          646,
          942,
          719,
          185,
          644,
          209,
          1012,
          1,
          532,
          124,
          8,
          104,
          292,
          719,
          144,
          766,
          42,
          193,
          80,
          72,
          4951,
          212,
          734,
          436,
          262,
          225,
          1060,
          84,
          164,
          6,
          226,
          181,
          68,
          228,
          6932,
          3717,
          13,
          241,
          177,
          1231,
          189,
          174,
          166,
          230,
          615,
          306,
          342,
          104,
          274,
          430,
          93,
          416,
          64,
          63,
          336,
          132,
          484,
          255,
          545,
          670,
          5,
          128,
          172,
          63,
          282,
          138,
          424,
          526,
          475,
          717,
          456,
          1242,
          292,
          169,
          111,
          223,
          256,
          260,
          202,
          208,
          64,
          265,
          549,
          70,
          163,
          333,
          58,
          16,
          335,
          162,
          321,
          201,
          286,
          163,
          2720,
          175,
          385,
          710,
          173,
          183,
          18,
          156,
          80,
          34,
          395,
          782,
          885,
          962,
          3,
          160,
          188,
          2,
          332,
          15,
          194,
          50,
          228,
          849,
          66,
          175,
          244,
          862,
          12,
          29,
          346,
          180,
          448,
          184,
          342,
          1292,
          100,
          122,
          211,
          360,
          60,
          646,
          158,
          112,
          12,
          311,
          252,
          85,
          416,
          2801,
          1704,
          46,
          75,
          510,
          2,
          322,
          162,
          93,
          26,
          328,
          72,
          98,
          406,
          218,
          100,
          122,
          67,
          878,
          352,
          176,
          316,
          232,
          222,
          532,
          476,
          668,
          456,
          1550,
          66,
          599,
          223,
          572,
          36,
          295,
          283,
          342,
          82,
          343,
          269,
          290,
          576,
          1,
          711,
          917,
          566,
          128,
          165,
          4462,
          13392,
          3020,
          1728,
          106,
          48,
          552,
          490,
          524,
          1780,
          414,
          487,
          201,
          660,
          29,
          68,
          220,
          292,
          128,
          4,
          18,
          136,
          297,
          48,
          3069,
          2400,
          300,
          76,
          136,
          108,
          5202,
          36,
          74,
          457,
          5,
          184,
          208,
          160,
          154,
          326,
          112,
          90,
          391,
          64,
          624,
          344,
          258,
          421,
          270,
          2454,
          216,
          62,
          288,
          63,
          567,
          372,
          373,
          92,
          39,
          304,
          33,
          520,
          256,
          105,
          324,
          29,
          139,
          334,
          136,
          78,
          406,
          459,
          341,
          151,
          84,
          580,
          12,
          6712,
          1040,
          183,
          104,
          100,
          206,
          213,
          330,
          203,
          32,
          146,
          496,
          48,
          131,
          152,
          220,
          158,
          840,
          321,
          336,
          258,
          760,
          200,
          317,
          603,
          96,
          1200,
          945,
          69,
          343,
          205,
          320,
          222,
          165,
          70,
          533,
          36,
          55,
          439,
          198,
          52,
          226,
          194,
          536,
          250,
          90,
          2900,
          259,
          146,
          24,
          662,
          495,
          108,
          5,
          121,
          576,
          147,
          221,
          42,
          152,
          108,
          248,
          511,
          473,
          766,
          210,
          127,
          96,
          383,
          510,
          338,
          298,
          56,
          154,
          80,
          9,
          32,
          92,
          296,
          52,
          152,
          440,
          221,
          77,
          12,
          614,
          317,
          268,
          3,
          870,
          182,
          341,
          171,
          372,
          219,
          238,
          136,
          375,
          59,
          5760,
          200,
          1284,
          39,
          212,
          7,
          72,
          458,
          142,
          200,
          132,
          256,
          582,
          130,
          825,
          358,
          59,
          322,
          439,
          45,
          310,
          91,
          68,
          225,
          605,
          292,
          340,
          382,
          126,
          386,
          386,
          48,
          338,
          306,
          228,
          48,
          300,
          50,
          267,
          99,
          354,
          147,
          236,
          148,
          132,
          108,
          806,
          97,
          85,
          131,
          156,
          168,
          320,
          256,
          84,
          8,
          694,
          14,
          210,
          286,
          178,
          534,
          33,
          74,
          252,
          6,
          184,
          34,
          146,
          467,
          203,
          300,
          24,
          250,
          163,
          309,
          817,
          609,
          572,
          247,
          7366,
          452,
          889,
          134,
          22,
          987,
          18,
          140,
          806,
          186,
          95,
          86,
          505,
          105
         ]
        },
        {
         "marker": {
          "color": "rgba(55, 128, 191, 0.6)",
          "line": {
           "color": "rgba(55, 128, 191, 1.0)",
           "width": 1
          }
         },
         "name": "Revenue",
         "orientation": "v",
         "text": "",
         "type": "bar",
         "x": [
          536370,
          536403,
          536527,
          536540,
          536541,
          536803,
          536840,
          536852,
          536861,
          536890,
          536967,
          536974,
          536975,
          536983,
          537065,
          537197,
          537198,
          537201,
          537212,
          537250,
          537368,
          537378,
          537386,
          537463,
          537468,
          537594,
          537673,
          537693,
          537892,
          537894,
          537897,
          537967,
          537995,
          538008,
          538009,
          538093,
          538174,
          538196,
          538255,
          538644,
          539050,
          539113,
          539320,
          539327,
          539395,
          539398,
          539401,
          539403,
          539405,
          539407,
          539408,
          539421,
          539435,
          539446,
          539466,
          539473,
          539491,
          539551,
          539607,
          539636,
          539722,
          539727,
          539731,
          539829,
          539946,
          539957,
          539984,
          540178,
          540239,
          540351,
          540365,
          540410,
          540414,
          540455,
          540458,
          540463,
          540480,
          540521,
          540547,
          540553,
          540562,
          540642,
          540688,
          540769,
          540789,
          540824,
          540835,
          540851,
          540900,
          540972,
          540976,
          541093,
          541120,
          541121,
          541122,
          541125,
          541138,
          541206,
          541220,
          541224,
          541269,
          541277,
          541405,
          541434,
          541480,
          541517,
          541567,
          541570,
          541608,
          541631,
          541670,
          541711,
          541857,
          541877,
          541962,
          541965,
          541979,
          541981,
          542080,
          542106,
          542128,
          542215,
          542216,
          542229,
          542278,
          542369,
          542371,
          542375,
          542425,
          542433,
          542535,
          542621,
          542626,
          542629,
          542648,
          542713,
          542720,
          542735,
          542777,
          542782,
          542894,
          542904,
          542922,
          542926,
          543030,
          543048,
          543056,
          543114,
          543121,
          543178,
          543188,
          543387,
          543459,
          543484,
          543492,
          543550,
          543587,
          543625,
          543737,
          543828,
          543833,
          543900,
          544069,
          544074,
          544075,
          544115,
          544200,
          544210,
          544281,
          544302,
          544340,
          544355,
          544390,
          544423,
          544470,
          544479,
          544480,
          544483,
          544573,
          544585,
          544672,
          544690,
          544811,
          544817,
          544818,
          544933,
          544996,
          545051,
          545086,
          545105,
          545180,
          545181,
          545235,
          545295,
          545301,
          545320,
          545515,
          545517,
          545533,
          545557,
          545583,
          545634,
          545657,
          545706,
          545709,
          545718,
          545916,
          545988,
          545994,
          546027,
          546172,
          546212,
          546213,
          546263,
          546365,
          546373,
          546428,
          546433,
          546479,
          546509,
          546520,
          546541,
          546569,
          546580,
          546660,
          546678,
          546759,
          546765,
          546770,
          546843,
          546851,
          546861,
          546917,
          546919,
          546920,
          546921,
          546925,
          547005,
          547048,
          547071,
          547085,
          547087,
          547194,
          547196,
          547327,
          547365,
          547379,
          547383,
          547492,
          547504,
          547508,
          547520,
          547702,
          547715,
          547722,
          547789,
          547796,
          547821,
          547822,
          547825,
          547863,
          547882,
          547892,
          547925,
          547926,
          547934,
          548010,
          548011,
          548211,
          548320,
          548409,
          548410,
          548412,
          548449,
          548489,
          548496,
          548553,
          548606,
          548654,
          548664,
          548718,
          548737,
          548745,
          548746,
          548858,
          548969,
          548970,
          549118,
          549193,
          549196,
          549242,
          549274,
          549316,
          549434,
          549614,
          549667,
          549680,
          549721,
          550002,
          550004,
          550137,
          550145,
          550162,
          550178,
          550187,
          550302,
          550313,
          550338,
          550527,
          550618,
          550620,
          550625,
          550661,
          550665,
          550821,
          550827,
          550946,
          550960,
          551163,
          551187,
          551258,
          551345,
          551389,
          551467,
          551529,
          551539,
          551544,
          551545,
          551649,
          551652,
          551656,
          551657,
          551728,
          551729,
          551818,
          551820,
          551886,
          551887,
          551950,
          552008,
          552038,
          552211,
          552262,
          552315,
          552325,
          552337,
          552464,
          552631,
          552649,
          552656,
          552826,
          552844,
          552845,
          552846,
          552851,
          552871,
          552874,
          552875,
          552878,
          552882,
          552883,
          552885,
          552946,
          552978,
          553037,
          553038,
          553044,
          553143,
          553161,
          553195,
          553203,
          553206,
          553208,
          553210,
          553316,
          553348,
          553375,
          553411,
          553547,
          553566,
          553577,
          553666,
          553682,
          553686,
          553731,
          553732,
          553741,
          553838,
          553842,
          553843,
          553884,
          553885,
          553897,
          553901,
          553931,
          553997,
          554038,
          554097,
          554104,
          554106,
          554109,
          554134,
          554137,
          554139,
          554263,
          554324,
          554325,
          554356,
          554363,
          554555,
          554642,
          554648,
          554650,
          554699,
          554700,
          554711,
          554713,
          554770,
          554776,
          554791,
          554794,
          554826,
          554827,
          554840,
          554861,
          554940,
          554985,
          555003,
          555093,
          555096,
          555106,
          555160,
          555162,
          555164,
          555282,
          555383,
          555407,
          555417,
          555523,
          555531,
          555547,
          555553,
          555569,
          555589,
          555637,
          555650,
          555719,
          555858,
          555933,
          555936,
          555937,
          555941,
          555947,
          556060,
          556114,
          556118,
          556126,
          556206,
          556235,
          556258,
          556259,
          556305,
          556443,
          556463,
          556469,
          556507,
          556509,
          556510,
          556517,
          556526,
          556529,
          556578,
          556816,
          556819,
          556820,
          556886,
          556927,
          556928,
          556953,
          557055,
          557056,
          557069,
          557136,
          557247,
          557263,
          557295,
          557318,
          557328,
          557466,
          557483,
          557489,
          557525,
          557569,
          557605,
          557627,
          557669,
          557734,
          557742,
          557759,
          557850,
          557872,
          557880,
          557972,
          558045,
          558067,
          558069,
          558109,
          558113,
          558114,
          558124,
          558262,
          558263,
          558311,
          558334,
          558417,
          558431,
          558608,
          558613,
          558626,
          558628,
          558640,
          558644,
          558684,
          558687,
          558699,
          558717,
          558813,
          558881,
          559010,
          559036,
          559134,
          559298,
          559300,
          559316,
          559362,
          559418,
          559421,
          559422,
          559441,
          559607,
          559685,
          559699,
          559704,
          559710,
          559782,
          559797,
          559798,
          559819,
          559889,
          559899,
          559987,
          560036,
          560038,
          560041,
          560202,
          560211,
          560230,
          560272,
          560300,
          560363,
          560398,
          560445,
          560446,
          560451,
          560452,
          560534,
          560544,
          560545,
          560566,
          560569,
          560590,
          560635,
          560710,
          560728,
          560876,
          560894,
          560901,
          560916,
          560922,
          560997,
          561029,
          561037,
          561094,
          561194,
          561257,
          561468,
          561470,
          561471,
          561472,
          561583,
          561631,
          561645,
          561795,
          561798,
          561870,
          561901,
          561911,
          562035,
          562038,
          562039,
          562045,
          562137,
          562207,
          562275,
          562370,
          562374,
          562435,
          562450,
          562520,
          562527,
          562537,
          562560,
          562568,
          562605,
          562670,
          562729,
          562789,
          562790,
          562894,
          562935,
          562960,
          562973,
          563076,
          563098,
          563165,
          563169,
          563189,
          563202,
          563288,
          563345,
          563355,
          563373,
          563502,
          563540,
          563548,
          563558,
          563559,
          563662,
          563685,
          563712,
          563753,
          563776,
          563808,
          563848,
          563897,
          563913,
          563914,
          563926,
          563950,
          564039,
          564079,
          564140,
          564159,
          564169,
          564173,
          564216,
          564226,
          564309,
          564314,
          564328,
          564329,
          564337,
          564338,
          564360,
          564367,
          564372,
          564471,
          564475,
          564479,
          564531,
          564565,
          564638,
          564650,
          564652,
          564654,
          564666,
          564670,
          564749,
          564856,
          564897,
          564906,
          564912,
          564972,
          565213,
          565214,
          565239,
          565261,
          565289,
          565321,
          565322,
          565412,
          565416,
          565423,
          565430,
          565440,
          565442,
          565443,
          565475,
          565476,
          565587,
          565612,
          565748,
          565749,
          565759,
          565760,
          565765,
          565777,
          565800,
          565801,
          565851,
          565854,
          565857,
          565865,
          565916,
          565930,
          565931,
          565967,
          565975,
          566041,
          566054,
          566059,
          566074,
          566115,
          566163,
          566173,
          566233,
          566256,
          566267,
          566268,
          566492,
          566557,
          566586,
          566625,
          566736,
          566739,
          566776,
          566816,
          566846,
          566873,
          566918,
          566984,
          566987,
          567134,
          567191,
          567280,
          567290,
          567291,
          567293,
          567296,
          567298,
          567300,
          567305,
          567334,
          567336,
          567378,
          567380,
          567428,
          567512,
          567552,
          567578,
          567616,
          567618,
          567640,
          567657,
          567666,
          567720,
          567756,
          567793,
          567795,
          567899,
          567900,
          567904,
          567910,
          567914,
          567915,
          567924,
          567958,
          567959,
          568040,
          568048,
          568056,
          568095,
          568103,
          568137,
          568176,
          568221,
          568310,
          568350,
          568417,
          568472,
          568518,
          568645,
          568654,
          568656,
          568674,
          568698,
          568706,
          568707,
          568798,
          568953,
          568987,
          568988,
          568994,
          569001,
          569010,
          569017,
          569028,
          569097,
          569120,
          569122,
          569130,
          569332,
          569402,
          569531,
          569562,
          569563,
          569568,
          569640,
          569665,
          569686,
          569699,
          569701,
          569719,
          569720,
          569721,
          569727,
          569739,
          569844,
          569860,
          569861,
          569867,
          569893,
          569907,
          569921,
          570002,
          570007,
          570016,
          570020,
          570030,
          570082,
          570095,
          570189,
          570191,
          570253,
          570267,
          570388,
          570409,
          570452,
          570485,
          570637,
          570640,
          570651,
          570657,
          570672,
          570674,
          570694,
          570700,
          570703,
          570706,
          570718,
          570724,
          570754,
          570784,
          570792,
          570798,
          570823,
          570839,
          570841,
          570851,
          570879,
          570881,
          571065,
          571129,
          571215,
          571227,
          571240,
          571304,
          571308,
          571312,
          571313,
          571314,
          571328,
          571377,
          571409,
          571425,
          571446,
          571447,
          571556,
          571559,
          571562,
          571565,
          571658,
          571697,
          571724,
          571729,
          571739,
          571745,
          571824,
          571864,
          571904,
          571923,
          571937,
          572035,
          572051,
          572052,
          572054,
          572060,
          572061,
          572069,
          572087,
          572123,
          572124,
          572127,
          572134,
          572233,
          572236,
          572241,
          572459,
          572559,
          572560,
          572894,
          572895,
          572925,
          572986,
          572992,
          573002,
          573003,
          573004,
          573036,
          573106,
          573136,
          573153,
          573273,
          573284,
          573289,
          573316,
          573391,
          573402,
          573417,
          573424,
          573428,
          573430,
          573442,
          573581,
          573629,
          573748,
          573867,
          573868,
          573891,
          573892,
          574056,
          574058,
          574059,
          574068,
          574071,
          574093,
          574097,
          574104,
          574252,
          574255,
          574501,
          574506,
          574653,
          574679,
          574713,
          574745,
          574841,
          574869,
          574874,
          574885,
          574938,
          575049,
          575067,
          575193,
          575326,
          575352,
          575486,
          575498,
          575508,
          575510,
          575519,
          575581,
          575584,
          575629,
          575661,
          575671,
          575692,
          575709,
          575713,
          575728,
          575732,
          575733,
          575735,
          575747,
          575750,
          575751,
          575787,
          575845,
          575871,
          575880,
          575884,
          575886,
          575896,
          575916,
          575933,
          576051,
          576064,
          576087,
          576141,
          576222,
          576245,
          576322,
          576327,
          576371,
          576373,
          576390,
          576399,
          576595,
          576596,
          576602,
          576603,
          576607,
          576629,
          576630,
          576653,
          576657,
          576664,
          576669,
          576672,
          576787,
          576789,
          576790,
          576863,
          576869,
          576880,
          576890,
          576891,
          576893,
          576894,
          576899,
          576909,
          576910,
          576927,
          576941,
          577027,
          577054,
          577061,
          577121,
          577135,
          577152,
          577168,
          577295,
          577299,
          577301,
          577326,
          577344,
          577355,
          577406,
          577474,
          577479,
          577502,
          577512,
          577607,
          577613,
          577615,
          577687,
          577776,
          577850,
          577856,
          578024,
          578033,
          578034,
          578043,
          578054,
          578082,
          578093,
          578105,
          578140,
          578141,
          578143,
          578273,
          578277,
          578287,
          578295,
          578298,
          578331,
          578333,
          578348,
          578469,
          578472,
          578509,
          578541,
          578547,
          578550,
          578626,
          578698,
          578705,
          578736,
          578792,
          578835,
          578994,
          579069,
          579094,
          579102,
          579152,
          579153,
          579190,
          579193,
          579276,
          579345,
          579393,
          579416,
          579419,
          579492,
          579528,
          579529,
          579539,
          579553,
          579634,
          579708,
          579747,
          579768,
          579786,
          579792,
          579870,
          579901,
          579910,
          579927,
          580120,
          580126,
          580127,
          580144,
          580154,
          580160,
          580285,
          580509,
          580511,
          580512,
          580528,
          580531,
          580534,
          580536,
          580548,
          580555,
          580557,
          580648,
          580705,
          580736,
          580753,
          580756,
          580986,
          581000,
          581001,
          581003,
          581006,
          581098,
          581171,
          581175,
          581176,
          581179,
          581183,
          581184,
          581266,
          581279,
          581338,
          581433,
          581494,
          581570,
          581574,
          581578,
          581587
         ],
         "y": [
          801.86,
          177.6,
          243.48,
          490.38,
          15,
          22.5,
          137.35,
          71.14,
          249.5,
          322.2,
          58.5,
          300.24,
          1705.65,
          157.53,
          1364.92,
          232.5,
          67.5,
          1523.3,
          401.39,
          178.44,
          327.5,
          734.1500000000001,
          20.85,
          961.52,
          361.46,
          506.8,
          396.7,
          155.55,
          141.38,
          428.60999999999996,
          195.88,
          39.599999999999994,
          259.1,
          759.2,
          945.55,
          649.0500000000001,
          1982.41,
          927.9,
          1156.05,
          12.45,
          195.89,
          4.949999999999999,
          707.0600000000001,
          180.3,
          1286.25,
          29.7,
          792.99,
          188.8,
          811.04,
          152.27999999999997,
          129.74,
          703.74,
          162.00000000000003,
          696,
          397.87,
          361.1,
          55.96,
          268.6,
          994.5899999999999,
          523.96,
          762.3,
          53.28,
          8520.92,
          110.39999999999999,
          110.69999999999999,
          1154.85,
          239.85,
          502.07,
          763.11,
          283.77,
          425.25,
          333.4,
          549.09,
          676.16,
          2025.3899999999999,
          298.93,
          744.25,
          114,
          208,
          326.93999999999994,
          283.39,
          1112.06,
          144,
          126.25999999999999,
          835.1999999999999,
          216.54,
          136.9,
          102.94999999999999,
          214.65,
          338.7,
          793.98,
          663.4499999999999,
          774.22,
          225.9,
          248.62,
          29.5,
          592.31,
          10389.06,
          16774.72,
          183.9,
          952,
          220.9,
          642.14,
          415.58,
          114.52,
          45,
          698.75,
          7722.04,
          305.28,
          1408.68,
          2756.84,
          8060.3,
          406.5,
          450.11,
          126.05,
          1590.6200000000001,
          232.44,
          190.2,
          922.01,
          1116.9,
          251.93,
          771.36,
          802.56,
          332.4,
          514.05,
          351.29999999999995,
          184.59000000000003,
          142.1,
          182.45,
          365.58,
          405.8,
          439.53,
          243.29999999999998,
          3174.43,
          459.58,
          883.8,
          119.47999999999999,
          363.54,
          797.77,
          278.15000000000003,
          184.45,
          456.84999999999997,
          454.89,
          75.60000000000001,
          132.5,
          373.94,
          839.4,
          788.0600000000001,
          300.7,
          179.6,
          1128.73,
          1156.28,
          165.85999999999999,
          401.02,
          150.9,
          95.10000000000001,
          238.85,
          285.56,
          2355.9500000000003,
          2024.57,
          142.2,
          588.29,
          219.6,
          856.26,
          3506.2400000000002,
          829.66,
          214,
          231.12,
          355.97999999999996,
          148.6,
          152.40000000000003,
          878.3,
          112.69999999999999,
          6.3,
          603.42,
          11956.1,
          6323.38,
          435.34000000000003,
          802.95,
          125.4,
          3211.7,
          1480.2,
          334.3,
          308,
          95.76,
          904.8199999999999,
          251.58000000000004,
          92.6,
          335.43,
          612.86,
          182.72,
          158.5,
          316.2,
          762.5,
          722.06,
          2541.15,
          480.76000000000005,
          20.4,
          439.44,
          231.83999999999997,
          281.25,
          258.18,
          877.31,
          201.3,
          264.65999999999997,
          315.6,
          242.13,
          283.40000000000003,
          269.1,
          414.8,
          535.32,
          3500.5,
          1614.6,
          461.6,
          897.42,
          676.8499999999999,
          307.28999999999996,
          102.92999999999999,
          425.40000000000003,
          472.6,
          706.6,
          546.05,
          1477.56,
          870.59,
          1041.45,
          511.53999999999996,
          264.7,
          129.70999999999998,
          115.09,
          556.1800000000001,
          645.02,
          331.78,
          743.71,
          223.44,
          701.32,
          33,
          410.7,
          734.47,
          147.8,
          203.85,
          106.08000000000001,
          298.02,
          201.24,
          4.63,
          469.98,
          220.71000000000004,
          390.32,
          749.66,
          160.5,
          733.88,
          378,
          402.9,
          365.45,
          210.54,
          303.91,
          750.37,
          1272.86,
          888,
          1156.8,
          140.65,
          128.05,
          489,
          1028.3,
          530.86,
          229.48,
          239.2,
          2527.94,
          15719.56,
          1807.04,
          382.7,
          1937.06,
          413.4,
          93,
          118.4,
          205.98,
          3243.13,
          138.75,
          252,
          222.68,
          1407.19,
          2183.8199999999997,
          513.55,
          570.29,
          50,
          214.3,
          1129.2,
          1155,
          955.99,
          379.7,
          356.23,
          177.18,
          312.2,
          1321.25,
          278.76,
          293.24,
          744.41,
          301.08,
          204.12,
          50,
          207.18,
          2221.02,
          615.2,
          132.54000000000002,
          408.82,
          222.75,
          396.74,
          509.57,
          84.65,
          1213.67,
          317.62,
          669.25,
          389.68,
          469.20000000000005,
          381.6,
          73.5,
          579.05,
          184.5,
          162.1,
          160.54000000000002,
          312.90000000000003,
          1065.8,
          602.36,
          191.10000000000002,
          268.88,
          950.33,
          528.88,
          620.84,
          24.9,
          162.48000000000002,
          336.24,
          619.2,
          545.01,
          133.6,
          20.8,
          166.74,
          393.6,
          111.18,
          200,
          316.86,
          239.2,
          3869.18,
          246.07999999999998,
          862.53,
          984.4300000000001,
          295.5,
          613.11,
          205.4,
          453.09999999999997,
          213.8,
          511.25,
          1637.43,
          339,
          446.4,
          270,
          1381.3,
          192.87,
          792.4,
          186.52,
          823.2,
          1792.72,
          14415.74,
          270,
          278.53000000000003,
          9341.26,
          702.5999999999999,
          106.6,
          459.98,
          89.25,
          397.28000000000003,
          133.4,
          553.78,
          1543,
          550.74,
          1133.33,
          121.88,
          754.81,
          1184.22,
          739.62,
          688.28,
          335.01,
          332.20000000000005,
          76.32000000000001,
          672.4,
          1414.36,
          666.96,
          134.82,
          409.59999999999997,
          561.66,
          364.88,
          316.85,
          184.26,
          122.6,
          217.46,
          936.34,
          330.32,
          956.4,
          264.72,
          615.21,
          912.85,
          646.96,
          169.5,
          385.96,
          335.95,
          1007.75,
          7.800000000000001,
          128.8,
          441.1,
          357.34,
          257.25,
          231.12,
          1392,
          390.96,
          514.74,
          447.83000000000004,
          139.03,
          105.05,
          48.1,
          432.44,
          5.8,
          5.8,
          179.51999999999998,
          196.5,
          8980.88,
          362,
          626.73,
          367.09,
          510.73,
          143.10000000000002,
          74.96,
          404.84000000000003,
          294.91999999999996,
          1799.6,
          600.1899999999999,
          3623.2,
          1225.26,
          766.95,
          404.8,
          50.099999999999994,
          472.95000000000005,
          1741.52,
          637.91,
          457.68,
          703.08,
          397.58,
          371.45,
          958.12,
          422.8,
          204.31,
          286.34,
          286.34,
          615.36,
          338.03999999999996,
          2233.28,
          1118.04,
          124.14000000000001,
          297,
          288,
          596.27,
          69,
          385.5,
          519.09,
          408,
          555.4,
          324.18,
          529.2,
          1506.1,
          253.76999999999998,
          821.32,
          911.2099999999999,
          218.26,
          441.26,
          1140.66,
          447.64,
          348.94,
          364.15,
          263.94,
          3876.86,
          606.72,
          1012.86,
          597.5500000000001,
          49.8,
          456.27,
          576.13,
          1359.58,
          5683.06,
          107.46000000000001,
          253.3,
          154.67,
          1767.74,
          232.5,
          430.06,
          592.72,
          391.76000000000005,
          122.4,
          239.3,
          354.06,
          426.38,
          476.15999999999997,
          443.04,
          240.93,
          320.84999999999997,
          1.45,
          149.64000000000001,
          580.74,
          930.71,
          69.6,
          44.25,
          616.17,
          200.14999999999998,
          183.24,
          10174.94,
          1113.6000000000001,
          2739.92,
          116.28,
          2822.74,
          106.15,
          271.1,
          756.36,
          77.28,
          724.74,
          88.5,
          629.1,
          976.58,
          280.64,
          135.22,
          53.4,
          420.36,
          998.4200000000001,
          155.6,
          662.35,
          966.62,
          631.64,
          208.62,
          258.6,
          629.64,
          525.26,
          300.05,
          248.75,
          293.23999999999995,
          442.48,
          60.599999999999994,
          174.8,
          399.43,
          173.60000000000002,
          302.92,
          267.03999999999996,
          100.32,
          238.7,
          770.46,
          227.71,
          598,
          1147.1,
          875.28,
          604.97,
          704.0500000000001,
          507.06,
          309.23,
          132.10000000000002,
          800.46,
          113.5,
          1734.58,
          11134.34,
          532.3199999999999,
          1527,
          81.60000000000001,
          340.98,
          60.650000000000006,
          87.6,
          395.66,
          503.68,
          1292.31,
          545.68,
          11.02,
          312.29,
          1051.06,
          751.75,
          620.57,
          275.64,
          210.9,
          696.02,
          376.93,
          558.1,
          477.64,
          617.54,
          346.77,
          350.7,
          186.75,
          660.26,
          104.25,
          331.14000000000004,
          574.22,
          4345.1,
          623.9,
          728.94,
          1056.11,
          13464.26,
          981.18,
          402.16,
          201.2,
          85.8,
          477.90999999999997,
          221.04,
          1067.22,
          475.03,
          990.84,
          4345.1,
          189.14000000000001,
          596,
          162.3,
          271.8,
          681.75,
          1572.73,
          107.4,
          380.65000000000003,
          829.96,
          84.98,
          12341.21,
          157.5,
          248.35,
          1253.05,
          388.4,
          1234,
          19150.66,
          1396.66,
          825.6,
          768.97,
          376.88,
          46.65,
          1089.07,
          342.12,
          417.42,
          79.3,
          580.08,
          424.06,
          180,
          1544.01,
          34.68,
          417.01,
          131.85,
          275.78,
          558.29,
          239.37,
          427.26,
          989.49,
          110.55,
          408.9,
          288.83,
          364.22,
          1001.0199999999999,
          475.96000000000004,
          630.39,
          379.17,
          96.3,
          424.79999999999995,
          779.06,
          330.45,
          148.26,
          83.58,
          244.65,
          347.92,
          60.75,
          215.21,
          15.3,
          476.21999999999997,
          224.15,
          1006.52,
          225.1,
          360,
          434.40000000000003,
          305.19,
          812.02,
          260.74,
          6429.64,
          998.4000000000001,
          590.14,
          108.39,
          1022.95,
          367.83000000000004,
          4257.06,
          1330.44,
          214.8,
          370.06,
          1071.6399999999999,
          2242.32,
          1638.24,
          554.08,
          429.68,
          749.13,
          233.57999999999998,
          65.1,
          629.04,
          322.65999999999997,
          73.86,
          359.25,
          761.6800000000001,
          765.26,
          837.82,
          7480.0599999999995,
          958.8,
          429.3,
          421.7,
          4005.35,
          228.84000000000003,
          304.84,
          16.5,
          484.3,
          88.80000000000001,
          809.0699999999999,
          495.24,
          587.29,
          963.82,
          1464.58,
          1304.7,
          454.35,
          967.18,
          368.31,
          1944.6000000000001,
          2.08,
          961.5799999999999,
          187.8,
          68,
          344.9,
          407.2,
          1304.7,
          171.55999999999997,
          879.54,
          94.38,
          302.11,
          238.24,
          76.32000000000001,
          8281.12,
          181.79999999999998,
          781.11,
          321.32,
          297.65,
          318.37,
          2377.9,
          275.16,
          240.27999999999997,
          49.980000000000004,
          386.5,
          461.6,
          264.9,
          334.64,
          10267.88,
          5350.4,
          63.79,
          674.59,
          321.01,
          953.1,
          488.81,
          366.70000000000005,
          648.48,
          590.9,
          948.47,
          377.66,
          849.92,
          138.48,
          486.8,
          424.63,
          331.22,
          324.9,
          75.67999999999999,
          124.38,
          516.41,
          384.1,
          344.24,
          546.44,
          814.62,
          809.8199999999999,
          10.5,
          290.12,
          204.6,
          140.85,
          386.42,
          205.26,
          437.12,
          656.86,
          718.54,
          1261.09,
          752.62,
          2241.81,
          470.90000000000003,
          553.39,
          204.6,
          368.21999999999997,
          737.92,
          668.04,
          776.3000000000001,
          381.2,
          171.2,
          590.75,
          1297.8500000000001,
          141.62,
          331.37,
          480.77,
          279.75,
          50.400000000000006,
          522.65,
          201.01999999999998,
          824.83,
          202.25,
          325.76,
          265.55,
          5867.08,
          245.94,
          222.16,
          1192.5,
          291.23,
          376.17,
          66.3,
          322.4,
          176.20000000000002,
          163.10000000000002,
          431.78,
          1163.76,
          1386.19,
          2145.38,
          76.85,
          247.6,
          265.51,
          33.9,
          668.16,
          23.39,
          315.64,
          114.25,
          371.3,
          1251.55,
          121.88,
          317.69,
          284.4,
          1075.72,
          59.4,
          157,
          1059.24,
          286.84000000000003,
          904.14,
          229.75999999999996,
          427.6,
          929.44,
          238.51,
          118.82,
          156.92999999999998,
          1974,
          95.4,
          1209.8799999999999,
          277.18,
          246.58,
          17.4,
          404.63,
          486.36,
          271.35,
          485.8,
          4279.71,
          768.64,
          164.3,
          369.84999999999997,
          803.24,
          25.5,
          345.06,
          153.12,
          197.23,
          85.5,
          533.12,
          76.32000000000001,
          285.1,
          749.67,
          441.55,
          296.20000000000005,
          295.72,
          211.25,
          1755.8600000000001,
          356.84000000000003,
          599.5,
          1288.78,
          477.6,
          447.28,
          669.38,
          500.23,
          728.24,
          894.64,
          1571.98,
          292,
          964.22,
          640.34,
          1761.24,
          118.44,
          485.62,
          808.1500000000001,
          704.02,
          163.1,
          576.55,
          403.92,
          478.74,
          599.04,
          3,
          1588.75,
          1268.43,
          2503.74,
          71.39999999999999,
          253.22,
          2856.14,
          20277.92,
          4311.48,
          1244.16,
          255.95999999999998,
          67.68,
          704.41,
          715.21,
          948.9,
          2314.48,
          773.94,
          906.09,
          1096.65,
          825.1199999999999,
          81.02,
          232.4,
          596.02,
          448.88,
          504.28,
          34,
          49.74,
          228.22,
          436.19,
          85.92,
          4534.22,
          4992,
          469,
          227.46,
          198.96,
          232.68,
          8460.76,
          52.2,
          102.38,
          896.45,
          42.5,
          451.66,
          196.73999999999998,
          179.71,
          76.96,
          271.26,
          353.54,
          214.06,
          546.91,
          85.32,
          1212.67,
          532.6,
          424.4,
          735.81,
          834.38,
          3949.66,
          449.28,
          87.97,
          579.44,
          153.23,
          736.55,
          635.72,
          602.95,
          224.48000000000002,
          74.25,
          327.89,
          130.07,
          446.15999999999997,
          410.32,
          219.57,
          170.64,
          347.43000000000006,
          262.77,
          282.36,
          250.07999999999998,
          206.89999999999998,
          560.32,
          738.45,
          628.99,
          313.83,
          395.4,
          826.04,
          15,
          8111.2,
          1549.12,
          283.23,
          73.67999999999999,
          227.4,
          157.54,
          355.53,
          611.46,
          275.19,
          132.8,
          218.28,
          1003.03,
          196.65,
          228.01,
          320.8,
          461.18,
          325.58,
          1674.65,
          432.96,
          318.8,
          411.32,
          730.46,
          359.12,
          492.94,
          992.6800000000001,
          158.4,
          1285.44,
          2068.4900000000002,
          123.08,
          664.58,
          298.21,
          375.72,
          464.12,
          318.84999999999997,
          207.53,
          355.07,
          260.23,
          112.85,
          440.99,
          326.58,
          107.8,
          832.58,
          474.28000000000003,
          690.56,
          556.28,
          181.98,
          4391.16,
          355.02,
          217.5,
          59.76000000000001,
          1497.52,
          874.41,
          42.12,
          49.75,
          215.97,
          599.04,
          300.62,
          292.65,
          120.9,
          168.8,
          255.85999999999999,
          759.48,
          928.12,
          2037.69,
          1443.3,
          529.9,
          231.15,
          103.2,
          842.94,
          728.96,
          203.72,
          463.4,
          613.1999999999999,
          320.67999999999995,
          108,
          30.45,
          136,
          180.6,
          785.5600000000001,
          201,
          104.24,
          917.54,
          576.29,
          262.42,
          95.4,
          805.1999999999999,
          632.05,
          343.72,
          32.65,
          1136.96,
          285.88,
          639.2,
          513.75,
          513.24,
          380.17,
          566,
          206.35999999999999,
          252.23999999999998,
          127.33,
          7952.68,
          290,
          1835.96,
          109.01,
          329.12,
          19.259999999999998,
          168.3,
          344.7,
          157.14,
          296.96000000000004,
          126.5,
          518.32,
          1588.46,
          165.5,
          2079.37,
          270.74,
          111.34,
          879.1,
          364.09,
          125.22,
          562.5,
          243.79,
          135.72,
          829.91,
          1073.23,
          738.68,
          805.6,
          473.2,
          227.1,
          419.12,
          419.12,
          75,
          571,
          512.98,
          514.86,
          94.02,
          642.12,
          104.00000000000001,
          477.21000000000004,
          300.97,
          760.71,
          163.85,
          434.96,
          317.6,
          432.96000000000004,
          271.8,
          1229.16,
          256.40999999999997,
          154.19,
          317.75,
          433.68,
          259.02,
          600.37,
          259.2,
          161.39999999999998,
          49,
          1188.75,
          85.1,
          325.35,
          625.7,
          353.62,
          773.54,
          74.55,
          190.24,
          408.3,
          51,
          462,
          75.4,
          197.25,
          707.48,
          339.59,
          582.63,
          59.28,
          242.44,
          292.47,
          640.77,
          1273.15,
          1186.78,
          1396.96,
          386.85,
          10901.539999999999,
          575.88,
          1998.51,
          79.38,
          70.9,
          1098.2,
          111.9,
          250.6,
          1084.14,
          303.14,
          206.95,
          241.07999999999998,
          794.55,
          249.45
         ]
        }
       ],
       "layout": {
        "legend": {
         "bgcolor": "#F5F6F9",
         "font": {
          "color": "#4D5663"
         }
        },
        "paper_bgcolor": "#F5F6F9",
        "plot_bgcolor": "#F5F6F9",
        "template": {
         "data": {
          "bar": [
           {
            "error_x": {
             "color": "#2a3f5f"
            },
            "error_y": {
             "color": "#2a3f5f"
            },
            "marker": {
             "line": {
              "color": "#E5ECF6",
              "width": 0.5
             },
             "pattern": {
              "fillmode": "overlay",
              "size": 10,
              "solidity": 0.2
             }
            },
            "type": "bar"
           }
          ],
          "barpolar": [
           {
            "marker": {
             "line": {
              "color": "#E5ECF6",
              "width": 0.5
             },
             "pattern": {
              "fillmode": "overlay",
              "size": 10,
              "solidity": 0.2
             }
            },
            "type": "barpolar"
           }
          ],
          "carpet": [
           {
            "aaxis": {
             "endlinecolor": "#2a3f5f",
             "gridcolor": "white",
             "linecolor": "white",
             "minorgridcolor": "white",
             "startlinecolor": "#2a3f5f"
            },
            "baxis": {
             "endlinecolor": "#2a3f5f",
             "gridcolor": "white",
             "linecolor": "white",
             "minorgridcolor": "white",
             "startlinecolor": "#2a3f5f"
            },
            "type": "carpet"
           }
          ],
          "choropleth": [
           {
            "colorbar": {
             "outlinewidth": 0,
             "ticks": ""
            },
            "type": "choropleth"
           }
          ],
          "contour": [
           {
            "colorbar": {
             "outlinewidth": 0,
             "ticks": ""
            },
            "colorscale": [
             [
              0,
              "#0d0887"
             ],
             [
              0.1111111111111111,
              "#46039f"
             ],
             [
              0.2222222222222222,
              "#7201a8"
             ],
             [
              0.3333333333333333,
              "#9c179e"
             ],
             [
              0.4444444444444444,
              "#bd3786"
             ],
             [
              0.5555555555555556,
              "#d8576b"
             ],
             [
              0.6666666666666666,
              "#ed7953"
             ],
             [
              0.7777777777777778,
              "#fb9f3a"
             ],
             [
              0.8888888888888888,
              "#fdca26"
             ],
             [
              1,
              "#f0f921"
             ]
            ],
            "type": "contour"
           }
          ],
          "contourcarpet": [
           {
            "colorbar": {
             "outlinewidth": 0,
             "ticks": ""
            },
            "type": "contourcarpet"
           }
          ],
          "heatmap": [
           {
            "colorbar": {
             "outlinewidth": 0,
             "ticks": ""
            },
            "colorscale": [
             [
              0,
              "#0d0887"
             ],
             [
              0.1111111111111111,
              "#46039f"
             ],
             [
              0.2222222222222222,
              "#7201a8"
             ],
             [
              0.3333333333333333,
              "#9c179e"
             ],
             [
              0.4444444444444444,
              "#bd3786"
             ],
             [
              0.5555555555555556,
              "#d8576b"
             ],
             [
              0.6666666666666666,
              "#ed7953"
             ],
             [
              0.7777777777777778,
              "#fb9f3a"
             ],
             [
              0.8888888888888888,
              "#fdca26"
             ],
             [
              1,
              "#f0f921"
             ]
            ],
            "type": "heatmap"
           }
          ],
          "heatmapgl": [
           {
            "colorbar": {
             "outlinewidth": 0,
             "ticks": ""
            },
            "colorscale": [
             [
              0,
              "#0d0887"
             ],
             [
              0.1111111111111111,
              "#46039f"
             ],
             [
              0.2222222222222222,
              "#7201a8"
             ],
             [
              0.3333333333333333,
              "#9c179e"
             ],
             [
              0.4444444444444444,
              "#bd3786"
             ],
             [
              0.5555555555555556,
              "#d8576b"
             ],
             [
              0.6666666666666666,
              "#ed7953"
             ],
             [
              0.7777777777777778,
              "#fb9f3a"
             ],
             [
              0.8888888888888888,
              "#fdca26"
             ],
             [
              1,
              "#f0f921"
             ]
            ],
            "type": "heatmapgl"
           }
          ],
          "histogram": [
           {
            "marker": {
             "pattern": {
              "fillmode": "overlay",
              "size": 10,
              "solidity": 0.2
             }
            },
            "type": "histogram"
           }
          ],
          "histogram2d": [
           {
            "colorbar": {
             "outlinewidth": 0,
             "ticks": ""
            },
            "colorscale": [
             [
              0,
              "#0d0887"
             ],
             [
              0.1111111111111111,
              "#46039f"
             ],
             [
              0.2222222222222222,
              "#7201a8"
             ],
             [
              0.3333333333333333,
              "#9c179e"
             ],
             [
              0.4444444444444444,
              "#bd3786"
             ],
             [
              0.5555555555555556,
              "#d8576b"
             ],
             [
              0.6666666666666666,
              "#ed7953"
             ],
             [
              0.7777777777777778,
              "#fb9f3a"
             ],
             [
              0.8888888888888888,
              "#fdca26"
             ],
             [
              1,
              "#f0f921"
             ]
            ],
            "type": "histogram2d"
           }
          ],
          "histogram2dcontour": [
           {
            "colorbar": {
             "outlinewidth": 0,
             "ticks": ""
            },
            "colorscale": [
             [
              0,
              "#0d0887"
             ],
             [
              0.1111111111111111,
              "#46039f"
             ],
             [
              0.2222222222222222,
              "#7201a8"
             ],
             [
              0.3333333333333333,
              "#9c179e"
             ],
             [
              0.4444444444444444,
              "#bd3786"
             ],
             [
              0.5555555555555556,
              "#d8576b"
             ],
             [
              0.6666666666666666,
              "#ed7953"
             ],
             [
              0.7777777777777778,
              "#fb9f3a"
             ],
             [
              0.8888888888888888,
              "#fdca26"
             ],
             [
              1,
              "#f0f921"
             ]
            ],
            "type": "histogram2dcontour"
           }
          ],
          "mesh3d": [
           {
            "colorbar": {
             "outlinewidth": 0,
             "ticks": ""
            },
            "type": "mesh3d"
           }
          ],
          "parcoords": [
           {
            "line": {
             "colorbar": {
              "outlinewidth": 0,
              "ticks": ""
             }
            },
            "type": "parcoords"
           }
          ],
          "pie": [
           {
            "automargin": true,
            "type": "pie"
           }
          ],
          "scatter": [
           {
            "fillpattern": {
             "fillmode": "overlay",
             "size": 10,
             "solidity": 0.2
            },
            "type": "scatter"
           }
          ],
          "scatter3d": [
           {
            "line": {
             "colorbar": {
              "outlinewidth": 0,
              "ticks": ""
             }
            },
            "marker": {
             "colorbar": {
              "outlinewidth": 0,
              "ticks": ""
             }
            },
            "type": "scatter3d"
           }
          ],
          "scattercarpet": [
           {
            "marker": {
             "colorbar": {
              "outlinewidth": 0,
              "ticks": ""
             }
            },
            "type": "scattercarpet"
           }
          ],
          "scattergeo": [
           {
            "marker": {
             "colorbar": {
              "outlinewidth": 0,
              "ticks": ""
             }
            },
            "type": "scattergeo"
           }
          ],
          "scattergl": [
           {
            "marker": {
             "colorbar": {
              "outlinewidth": 0,
              "ticks": ""
             }
            },
            "type": "scattergl"
           }
          ],
          "scattermapbox": [
           {
            "marker": {
             "colorbar": {
              "outlinewidth": 0,
              "ticks": ""
             }
            },
            "type": "scattermapbox"
           }
          ],
          "scatterpolar": [
           {
            "marker": {
             "colorbar": {
              "outlinewidth": 0,
              "ticks": ""
             }
            },
            "type": "scatterpolar"
           }
          ],
          "scatterpolargl": [
           {
            "marker": {
             "colorbar": {
              "outlinewidth": 0,
              "ticks": ""
             }
            },
            "type": "scatterpolargl"
           }
          ],
          "scatterternary": [
           {
            "marker": {
             "colorbar": {
              "outlinewidth": 0,
              "ticks": ""
             }
            },
            "type": "scatterternary"
           }
          ],
          "surface": [
           {
            "colorbar": {
             "outlinewidth": 0,
             "ticks": ""
            },
            "colorscale": [
             [
              0,
              "#0d0887"
             ],
             [
              0.1111111111111111,
              "#46039f"
             ],
             [
              0.2222222222222222,
              "#7201a8"
             ],
             [
              0.3333333333333333,
              "#9c179e"
             ],
             [
              0.4444444444444444,
              "#bd3786"
             ],
             [
              0.5555555555555556,
              "#d8576b"
             ],
             [
              0.6666666666666666,
              "#ed7953"
             ],
             [
              0.7777777777777778,
              "#fb9f3a"
             ],
             [
              0.8888888888888888,
              "#fdca26"
             ],
             [
              1,
              "#f0f921"
             ]
            ],
            "type": "surface"
           }
          ],
          "table": [
           {
            "cells": {
             "fill": {
              "color": "#EBF0F8"
             },
             "line": {
              "color": "white"
             }
            },
            "header": {
             "fill": {
              "color": "#C8D4E3"
             },
             "line": {
              "color": "white"
             }
            },
            "type": "table"
           }
          ]
         },
         "layout": {
          "annotationdefaults": {
           "arrowcolor": "#2a3f5f",
           "arrowhead": 0,
           "arrowwidth": 1
          },
          "autotypenumbers": "strict",
          "coloraxis": {
           "colorbar": {
            "outlinewidth": 0,
            "ticks": ""
           }
          },
          "colorscale": {
           "diverging": [
            [
             0,
             "#8e0152"
            ],
            [
             0.1,
             "#c51b7d"
            ],
            [
             0.2,
             "#de77ae"
            ],
            [
             0.3,
             "#f1b6da"
            ],
            [
             0.4,
             "#fde0ef"
            ],
            [
             0.5,
             "#f7f7f7"
            ],
            [
             0.6,
             "#e6f5d0"
            ],
            [
             0.7,
             "#b8e186"
            ],
            [
             0.8,
             "#7fbc41"
            ],
            [
             0.9,
             "#4d9221"
            ],
            [
             1,
             "#276419"
            ]
           ],
           "sequential": [
            [
             0,
             "#0d0887"
            ],
            [
             0.1111111111111111,
             "#46039f"
            ],
            [
             0.2222222222222222,
             "#7201a8"
            ],
            [
             0.3333333333333333,
             "#9c179e"
            ],
            [
             0.4444444444444444,
             "#bd3786"
            ],
            [
             0.5555555555555556,
             "#d8576b"
            ],
            [
             0.6666666666666666,
             "#ed7953"
            ],
            [
             0.7777777777777778,
             "#fb9f3a"
            ],
            [
             0.8888888888888888,
             "#fdca26"
            ],
            [
             1,
             "#f0f921"
            ]
           ],
           "sequentialminus": [
            [
             0,
             "#0d0887"
            ],
            [
             0.1111111111111111,
             "#46039f"
            ],
            [
             0.2222222222222222,
             "#7201a8"
            ],
            [
             0.3333333333333333,
             "#9c179e"
            ],
            [
             0.4444444444444444,
             "#bd3786"
            ],
            [
             0.5555555555555556,
             "#d8576b"
            ],
            [
             0.6666666666666666,
             "#ed7953"
            ],
            [
             0.7777777777777778,
             "#fb9f3a"
            ],
            [
             0.8888888888888888,
             "#fdca26"
            ],
            [
             1,
             "#f0f921"
            ]
           ]
          },
          "colorway": [
           "#636efa",
           "#EF553B",
           "#00cc96",
           "#ab63fa",
           "#FFA15A",
           "#19d3f3",
           "#FF6692",
           "#B6E880",
           "#FF97FF",
           "#FECB52"
          ],
          "font": {
           "color": "#2a3f5f"
          },
          "geo": {
           "bgcolor": "white",
           "lakecolor": "white",
           "landcolor": "#E5ECF6",
           "showlakes": true,
           "showland": true,
           "subunitcolor": "white"
          },
          "hoverlabel": {
           "align": "left"
          },
          "hovermode": "closest",
          "mapbox": {
           "style": "light"
          },
          "paper_bgcolor": "white",
          "plot_bgcolor": "#E5ECF6",
          "polar": {
           "angularaxis": {
            "gridcolor": "white",
            "linecolor": "white",
            "ticks": ""
           },
           "bgcolor": "#E5ECF6",
           "radialaxis": {
            "gridcolor": "white",
            "linecolor": "white",
            "ticks": ""
           }
          },
          "scene": {
           "xaxis": {
            "backgroundcolor": "#E5ECF6",
            "gridcolor": "white",
            "gridwidth": 2,
            "linecolor": "white",
            "showbackground": true,
            "ticks": "",
            "zerolinecolor": "white"
           },
           "yaxis": {
            "backgroundcolor": "#E5ECF6",
            "gridcolor": "white",
            "gridwidth": 2,
            "linecolor": "white",
            "showbackground": true,
            "ticks": "",
            "zerolinecolor": "white"
           },
           "zaxis": {
            "backgroundcolor": "#E5ECF6",
            "gridcolor": "white",
            "gridwidth": 2,
            "linecolor": "white",
            "showbackground": true,
            "ticks": "",
            "zerolinecolor": "white"
           }
          },
          "shapedefaults": {
           "line": {
            "color": "#2a3f5f"
           }
          },
          "ternary": {
           "aaxis": {
            "gridcolor": "white",
            "linecolor": "white",
            "ticks": ""
           },
           "baxis": {
            "gridcolor": "white",
            "linecolor": "white",
            "ticks": ""
           },
           "bgcolor": "#E5ECF6",
           "caxis": {
            "gridcolor": "white",
            "linecolor": "white",
            "ticks": ""
           }
          },
          "title": {
           "x": 0.05
          },
          "xaxis": {
           "automargin": true,
           "gridcolor": "white",
           "linecolor": "white",
           "ticks": "",
           "title": {
            "standoff": 15
           },
           "zerolinecolor": "white",
           "zerolinewidth": 2
          },
          "yaxis": {
           "automargin": true,
           "gridcolor": "white",
           "linecolor": "white",
           "ticks": "",
           "title": {
            "standoff": 15
           },
           "zerolinecolor": "white",
           "zerolinewidth": 2
          }
         }
        },
        "title": {
         "font": {
          "color": "#4D5663"
         },
         "text": "distributions of quantity per invoice"
        },
        "xaxis": {
         "gridcolor": "#E1E5ED",
         "showgrid": true,
         "tickfont": {
          "color": "#4D5663"
         },
         "title": {
          "font": {
           "color": "#4D5663"
          },
          "text": "InvoiceNo"
         },
         "zerolinecolor": "#E1E5ED"
        },
        "yaxis": {
         "gridcolor": "#E1E5ED",
         "showgrid": true,
         "tickfont": {
          "color": "#4D5663"
         },
         "title": {
          "font": {
           "color": "#4D5663"
          },
          "text": "Revenue"
         },
         "zerolinecolor": "#E1E5ED"
        }
       }
      },
      "text/html": [
       "<div>                            <div id=\"1537f318-a68b-4bb0-a4ec-5a7d01fb5a48\" class=\"plotly-graph-div\" style=\"height:525px; width:100%;\"></div>            <script type=\"text/javascript\">                require([\"plotly\"], function(Plotly) {                    window.PLOTLYENV=window.PLOTLYENV || {};\n",
       "                    window.PLOTLYENV.BASE_URL='https://plot.ly';                                    if (document.getElementById(\"1537f318-a68b-4bb0-a4ec-5a7d01fb5a48\")) {                    Plotly.newPlot(                        \"1537f318-a68b-4bb0-a4ec-5a7d01fb5a48\",                        [{\"marker\":{\"color\":\"rgba(255, 153, 51, 0.6)\",\"line\":{\"color\":\"rgba(255, 153, 51, 1.0)\",\"width\":1}},\"name\":\"Quantity\",\"orientation\":\"v\",\"text\":\"\",\"x\":[536370,536403,536527,536540,536541,536803,536840,536852,536861,536890,536967,536974,536975,536983,537065,537197,537198,537201,537212,537250,537368,537378,537386,537463,537468,537594,537673,537693,537892,537894,537897,537967,537995,538008,538009,538093,538174,538196,538255,538644,539050,539113,539320,539327,539395,539398,539401,539403,539405,539407,539408,539421,539435,539446,539466,539473,539491,539551,539607,539636,539722,539727,539731,539829,539946,539957,539984,540178,540239,540351,540365,540410,540414,540455,540458,540463,540480,540521,540547,540553,540562,540642,540688,540769,540789,540824,540835,540851,540900,540972,540976,541093,541120,541121,541122,541125,541138,541206,541220,541224,541269,541277,541405,541434,541480,541517,541567,541570,541608,541631,541670,541711,541857,541877,541962,541965,541979,541981,542080,542106,542128,542215,542216,542229,542278,542369,542371,542375,542425,542433,542535,542621,542626,542629,542648,542713,542720,542735,542777,542782,542894,542904,542922,542926,543030,543048,543056,543114,543121,543178,543188,543387,543459,543484,543492,543550,543587,543625,543737,543828,543833,543900,544069,544074,544075,544115,544200,544210,544281,544302,544340,544355,544390,544423,544470,544479,544480,544483,544573,544585,544672,544690,544811,544817,544818,544933,544996,545051,545086,545105,545180,545181,545235,545295,545301,545320,545515,545517,545533,545557,545583,545634,545657,545706,545709,545718,545916,545988,545994,546027,546172,546212,546213,546263,546365,546373,546428,546433,546479,546509,546520,546541,546569,546580,546660,546678,546759,546765,546770,546843,546851,546861,546917,546919,546920,546921,546925,547005,547048,547071,547085,547087,547194,547196,547327,547365,547379,547383,547492,547504,547508,547520,547702,547715,547722,547789,547796,547821,547822,547825,547863,547882,547892,547925,547926,547934,548010,548011,548211,548320,548409,548410,548412,548449,548489,548496,548553,548606,548654,548664,548718,548737,548745,548746,548858,548969,548970,549118,549193,549196,549242,549274,549316,549434,549614,549667,549680,549721,550002,550004,550137,550145,550162,550178,550187,550302,550313,550338,550527,550618,550620,550625,550661,550665,550821,550827,550946,550960,551163,551187,551258,551345,551389,551467,551529,551539,551544,551545,551649,551652,551656,551657,551728,551729,551818,551820,551886,551887,551950,552008,552038,552211,552262,552315,552325,552337,552464,552631,552649,552656,552826,552844,552845,552846,552851,552871,552874,552875,552878,552882,552883,552885,552946,552978,553037,553038,553044,553143,553161,553195,553203,553206,553208,553210,553316,553348,553375,553411,553547,553566,553577,553666,553682,553686,553731,553732,553741,553838,553842,553843,553884,553885,553897,553901,553931,553997,554038,554097,554104,554106,554109,554134,554137,554139,554263,554324,554325,554356,554363,554555,554642,554648,554650,554699,554700,554711,554713,554770,554776,554791,554794,554826,554827,554840,554861,554940,554985,555003,555093,555096,555106,555160,555162,555164,555282,555383,555407,555417,555523,555531,555547,555553,555569,555589,555637,555650,555719,555858,555933,555936,555937,555941,555947,556060,556114,556118,556126,556206,556235,556258,556259,556305,556443,556463,556469,556507,556509,556510,556517,556526,556529,556578,556816,556819,556820,556886,556927,556928,556953,557055,557056,557069,557136,557247,557263,557295,557318,557328,557466,557483,557489,557525,557569,557605,557627,557669,557734,557742,557759,557850,557872,557880,557972,558045,558067,558069,558109,558113,558114,558124,558262,558263,558311,558334,558417,558431,558608,558613,558626,558628,558640,558644,558684,558687,558699,558717,558813,558881,559010,559036,559134,559298,559300,559316,559362,559418,559421,559422,559441,559607,559685,559699,559704,559710,559782,559797,559798,559819,559889,559899,559987,560036,560038,560041,560202,560211,560230,560272,560300,560363,560398,560445,560446,560451,560452,560534,560544,560545,560566,560569,560590,560635,560710,560728,560876,560894,560901,560916,560922,560997,561029,561037,561094,561194,561257,561468,561470,561471,561472,561583,561631,561645,561795,561798,561870,561901,561911,562035,562038,562039,562045,562137,562207,562275,562370,562374,562435,562450,562520,562527,562537,562560,562568,562605,562670,562729,562789,562790,562894,562935,562960,562973,563076,563098,563165,563169,563189,563202,563288,563345,563355,563373,563502,563540,563548,563558,563559,563662,563685,563712,563753,563776,563808,563848,563897,563913,563914,563926,563950,564039,564079,564140,564159,564169,564173,564216,564226,564309,564314,564328,564329,564337,564338,564360,564367,564372,564471,564475,564479,564531,564565,564638,564650,564652,564654,564666,564670,564749,564856,564897,564906,564912,564972,565213,565214,565239,565261,565289,565321,565322,565412,565416,565423,565430,565440,565442,565443,565475,565476,565587,565612,565748,565749,565759,565760,565765,565777,565800,565801,565851,565854,565857,565865,565916,565930,565931,565967,565975,566041,566054,566059,566074,566115,566163,566173,566233,566256,566267,566268,566492,566557,566586,566625,566736,566739,566776,566816,566846,566873,566918,566984,566987,567134,567191,567280,567290,567291,567293,567296,567298,567300,567305,567334,567336,567378,567380,567428,567512,567552,567578,567616,567618,567640,567657,567666,567720,567756,567793,567795,567899,567900,567904,567910,567914,567915,567924,567958,567959,568040,568048,568056,568095,568103,568137,568176,568221,568310,568350,568417,568472,568518,568645,568654,568656,568674,568698,568706,568707,568798,568953,568987,568988,568994,569001,569010,569017,569028,569097,569120,569122,569130,569332,569402,569531,569562,569563,569568,569640,569665,569686,569699,569701,569719,569720,569721,569727,569739,569844,569860,569861,569867,569893,569907,569921,570002,570007,570016,570020,570030,570082,570095,570189,570191,570253,570267,570388,570409,570452,570485,570637,570640,570651,570657,570672,570674,570694,570700,570703,570706,570718,570724,570754,570784,570792,570798,570823,570839,570841,570851,570879,570881,571065,571129,571215,571227,571240,571304,571308,571312,571313,571314,571328,571377,571409,571425,571446,571447,571556,571559,571562,571565,571658,571697,571724,571729,571739,571745,571824,571864,571904,571923,571937,572035,572051,572052,572054,572060,572061,572069,572087,572123,572124,572127,572134,572233,572236,572241,572459,572559,572560,572894,572895,572925,572986,572992,573002,573003,573004,573036,573106,573136,573153,573273,573284,573289,573316,573391,573402,573417,573424,573428,573430,573442,573581,573629,573748,573867,573868,573891,573892,574056,574058,574059,574068,574071,574093,574097,574104,574252,574255,574501,574506,574653,574679,574713,574745,574841,574869,574874,574885,574938,575049,575067,575193,575326,575352,575486,575498,575508,575510,575519,575581,575584,575629,575661,575671,575692,575709,575713,575728,575732,575733,575735,575747,575750,575751,575787,575845,575871,575880,575884,575886,575896,575916,575933,576051,576064,576087,576141,576222,576245,576322,576327,576371,576373,576390,576399,576595,576596,576602,576603,576607,576629,576630,576653,576657,576664,576669,576672,576787,576789,576790,576863,576869,576880,576890,576891,576893,576894,576899,576909,576910,576927,576941,577027,577054,577061,577121,577135,577152,577168,577295,577299,577301,577326,577344,577355,577406,577474,577479,577502,577512,577607,577613,577615,577687,577776,577850,577856,578024,578033,578034,578043,578054,578082,578093,578105,578140,578141,578143,578273,578277,578287,578295,578298,578331,578333,578348,578469,578472,578509,578541,578547,578550,578626,578698,578705,578736,578792,578835,578994,579069,579094,579102,579152,579153,579190,579193,579276,579345,579393,579416,579419,579492,579528,579529,579539,579553,579634,579708,579747,579768,579786,579792,579870,579901,579910,579927,580120,580126,580127,580144,580154,580160,580285,580509,580511,580512,580528,580531,580534,580536,580548,580555,580557,580648,580705,580736,580753,580756,580986,581000,581001,581003,581006,581098,581171,581175,581176,581179,581183,581184,581266,581279,581338,581433,581494,581570,581574,581578,581587],\"y\":[446,96,156,230,12,6,147,106,76,1548,30,130,827,59,602,76,10,966,295,88,134,475,3,581,164,150,132,120,84,225,106,8,82,552,287,339,1075,410,379,2,134,3,358,42,433,6,133,81,322,332,221,373,64,388,333,154,45,128,599,228,344,24,6668,88,62,866,107,359,369,261,177,92,410,488,1775,103,363,78,84,242,389,628,168,86,576,120,114,43,95,131,498,95,543,78,164,10,440,8210,6198,70,404,171,263,286,112,36,383,6072,288,702,1332,5730,120,245,45,902,46,84,603,314,221,482,690,206,154,234,125,46,59,406,102,278,180,1617,126,468,116,202,463,59,111,197,159,36,206,102,174,270,182,74,611,1116,214,298,159,50,177,452,639,939,46,409,96,470,1932,772,114,86,302,76,108,748,60,15,256,8174,4034,266,515,77,2940,668,198,264,96,583,122,70,213,310,72,54,245,384,329,669,314,24,341,192,123,263,593,90,190,76,75,168,189,275,263,2826,108,218,613,323,183,151,184,206,498,230,511,328,335,314,48,97,62,366,388,416,265,168,288,12,222,546,72,87,24,422,85,5,198,169,484,482,136,713,242,130,113,126,261,533,722,480,506,103,59,744,842,421,268,156,1070,11116,1208,172,946,132,48,44,44,2271,88,240,108,713,1162,293,347,40,76,636,700,655,236,271,118,236,757,84,218,477,244,112,40,98,728,284,78,226,27,150,375,25,617,233,401,466,196,230,23,275,145,68,84,162,460,426,146,84,639,368,350,6,120,192,297,235,110,10,142,238,48,98,192,16,1694,224,446,773,162,377,332,458,164,145,859,202,200,72,734,83,643,104,695,924,12266,72,105,4282,288,32,202,33,267,140,138,526,220,543,58,711,494,476,526,103,152,72,408,636,425,90,196,434,468,126,46,34,112,284,225,464,126,229,578,382,62,304,161,401,12,30,242,208,119,180,960,180,374,191,79,39,34,304,4,4,184,86,4664,424,337,155,254,64,32,200,164,1038,553,1836,653,420,328,22,237,1184,347,288,358,312,115,404,290,191,216,216,464,444,2090,492,78,36,244,261,84,320,460,160,88,714,342,549,99,427,412,110,232,784,356,170,139,206,2642,384,268,457,12,267,355,514,4718,62,83,61,1346,50,208,350,270,48,350,270,384,308,280,143,186,1,71,410,571,48,15,314,79,118,8998,424,1588,108,2086,17,166,394,46,578,81,18,697,284,78,60,256,863,20,321,592,292,148,142,396,322,159,135,198,236,48,76,262,124,156,252,192,116,666,91,776,688,300,177,115,294,105,46,1202,82,838,5726,496,762,32,256,25,56,192,331,812,306,9,152,516,269,297,228,146,422,234,469,408,332,251,222,147,602,55,174,362,2270,500,286,1410,5246,645,262,136,52,325,187,690,279,552,2270,32,320,162,132,416,744,60,271,603,34,7807,375,197,391,314,872,14730,554,992,491,178,3,603,460,579,20,400,316,48,579,12,231,38,228,459,99,214,644,33,147,185,234,384,348,322,359,54,288,402,275,105,70,139,176,29,375,6,392,109,784,170,288,204,145,572,190,4628,480,276,68,688,131,1151,820,120,198,486,1776,408,270,312,163,98,54,1272,402,38,340,266,556,506,5034,456,142,184,1145,140,324,10,316,20,417,265,331,646,942,719,185,644,209,1012,1,532,124,8,104,292,719,144,766,42,193,80,72,4951,212,734,436,262,225,1060,84,164,6,226,181,68,228,6932,3717,13,241,177,1231,189,174,166,230,615,306,342,104,274,430,93,416,64,63,336,132,484,255,545,670,5,128,172,63,282,138,424,526,475,717,456,1242,292,169,111,223,256,260,202,208,64,265,549,70,163,333,58,16,335,162,321,201,286,163,2720,175,385,710,173,183,18,156,80,34,395,782,885,962,3,160,188,2,332,15,194,50,228,849,66,175,244,862,12,29,346,180,448,184,342,1292,100,122,211,360,60,646,158,112,12,311,252,85,416,2801,1704,46,75,510,2,322,162,93,26,328,72,98,406,218,100,122,67,878,352,176,316,232,222,532,476,668,456,1550,66,599,223,572,36,295,283,342,82,343,269,290,576,1,711,917,566,128,165,4462,13392,3020,1728,106,48,552,490,524,1780,414,487,201,660,29,68,220,292,128,4,18,136,297,48,3069,2400,300,76,136,108,5202,36,74,457,5,184,208,160,154,326,112,90,391,64,624,344,258,421,270,2454,216,62,288,63,567,372,373,92,39,304,33,520,256,105,324,29,139,334,136,78,406,459,341,151,84,580,12,6712,1040,183,104,100,206,213,330,203,32,146,496,48,131,152,220,158,840,321,336,258,760,200,317,603,96,1200,945,69,343,205,320,222,165,70,533,36,55,439,198,52,226,194,536,250,90,2900,259,146,24,662,495,108,5,121,576,147,221,42,152,108,248,511,473,766,210,127,96,383,510,338,298,56,154,80,9,32,92,296,52,152,440,221,77,12,614,317,268,3,870,182,341,171,372,219,238,136,375,59,5760,200,1284,39,212,7,72,458,142,200,132,256,582,130,825,358,59,322,439,45,310,91,68,225,605,292,340,382,126,386,386,48,338,306,228,48,300,50,267,99,354,147,236,148,132,108,806,97,85,131,156,168,320,256,84,8,694,14,210,286,178,534,33,74,252,6,184,34,146,467,203,300,24,250,163,309,817,609,572,247,7366,452,889,134,22,987,18,140,806,186,95,86,505,105],\"type\":\"bar\"},{\"marker\":{\"color\":\"rgba(55, 128, 191, 0.6)\",\"line\":{\"color\":\"rgba(55, 128, 191, 1.0)\",\"width\":1}},\"name\":\"Revenue\",\"orientation\":\"v\",\"text\":\"\",\"x\":[536370,536403,536527,536540,536541,536803,536840,536852,536861,536890,536967,536974,536975,536983,537065,537197,537198,537201,537212,537250,537368,537378,537386,537463,537468,537594,537673,537693,537892,537894,537897,537967,537995,538008,538009,538093,538174,538196,538255,538644,539050,539113,539320,539327,539395,539398,539401,539403,539405,539407,539408,539421,539435,539446,539466,539473,539491,539551,539607,539636,539722,539727,539731,539829,539946,539957,539984,540178,540239,540351,540365,540410,540414,540455,540458,540463,540480,540521,540547,540553,540562,540642,540688,540769,540789,540824,540835,540851,540900,540972,540976,541093,541120,541121,541122,541125,541138,541206,541220,541224,541269,541277,541405,541434,541480,541517,541567,541570,541608,541631,541670,541711,541857,541877,541962,541965,541979,541981,542080,542106,542128,542215,542216,542229,542278,542369,542371,542375,542425,542433,542535,542621,542626,542629,542648,542713,542720,542735,542777,542782,542894,542904,542922,542926,543030,543048,543056,543114,543121,543178,543188,543387,543459,543484,543492,543550,543587,543625,543737,543828,543833,543900,544069,544074,544075,544115,544200,544210,544281,544302,544340,544355,544390,544423,544470,544479,544480,544483,544573,544585,544672,544690,544811,544817,544818,544933,544996,545051,545086,545105,545180,545181,545235,545295,545301,545320,545515,545517,545533,545557,545583,545634,545657,545706,545709,545718,545916,545988,545994,546027,546172,546212,546213,546263,546365,546373,546428,546433,546479,546509,546520,546541,546569,546580,546660,546678,546759,546765,546770,546843,546851,546861,546917,546919,546920,546921,546925,547005,547048,547071,547085,547087,547194,547196,547327,547365,547379,547383,547492,547504,547508,547520,547702,547715,547722,547789,547796,547821,547822,547825,547863,547882,547892,547925,547926,547934,548010,548011,548211,548320,548409,548410,548412,548449,548489,548496,548553,548606,548654,548664,548718,548737,548745,548746,548858,548969,548970,549118,549193,549196,549242,549274,549316,549434,549614,549667,549680,549721,550002,550004,550137,550145,550162,550178,550187,550302,550313,550338,550527,550618,550620,550625,550661,550665,550821,550827,550946,550960,551163,551187,551258,551345,551389,551467,551529,551539,551544,551545,551649,551652,551656,551657,551728,551729,551818,551820,551886,551887,551950,552008,552038,552211,552262,552315,552325,552337,552464,552631,552649,552656,552826,552844,552845,552846,552851,552871,552874,552875,552878,552882,552883,552885,552946,552978,553037,553038,553044,553143,553161,553195,553203,553206,553208,553210,553316,553348,553375,553411,553547,553566,553577,553666,553682,553686,553731,553732,553741,553838,553842,553843,553884,553885,553897,553901,553931,553997,554038,554097,554104,554106,554109,554134,554137,554139,554263,554324,554325,554356,554363,554555,554642,554648,554650,554699,554700,554711,554713,554770,554776,554791,554794,554826,554827,554840,554861,554940,554985,555003,555093,555096,555106,555160,555162,555164,555282,555383,555407,555417,555523,555531,555547,555553,555569,555589,555637,555650,555719,555858,555933,555936,555937,555941,555947,556060,556114,556118,556126,556206,556235,556258,556259,556305,556443,556463,556469,556507,556509,556510,556517,556526,556529,556578,556816,556819,556820,556886,556927,556928,556953,557055,557056,557069,557136,557247,557263,557295,557318,557328,557466,557483,557489,557525,557569,557605,557627,557669,557734,557742,557759,557850,557872,557880,557972,558045,558067,558069,558109,558113,558114,558124,558262,558263,558311,558334,558417,558431,558608,558613,558626,558628,558640,558644,558684,558687,558699,558717,558813,558881,559010,559036,559134,559298,559300,559316,559362,559418,559421,559422,559441,559607,559685,559699,559704,559710,559782,559797,559798,559819,559889,559899,559987,560036,560038,560041,560202,560211,560230,560272,560300,560363,560398,560445,560446,560451,560452,560534,560544,560545,560566,560569,560590,560635,560710,560728,560876,560894,560901,560916,560922,560997,561029,561037,561094,561194,561257,561468,561470,561471,561472,561583,561631,561645,561795,561798,561870,561901,561911,562035,562038,562039,562045,562137,562207,562275,562370,562374,562435,562450,562520,562527,562537,562560,562568,562605,562670,562729,562789,562790,562894,562935,562960,562973,563076,563098,563165,563169,563189,563202,563288,563345,563355,563373,563502,563540,563548,563558,563559,563662,563685,563712,563753,563776,563808,563848,563897,563913,563914,563926,563950,564039,564079,564140,564159,564169,564173,564216,564226,564309,564314,564328,564329,564337,564338,564360,564367,564372,564471,564475,564479,564531,564565,564638,564650,564652,564654,564666,564670,564749,564856,564897,564906,564912,564972,565213,565214,565239,565261,565289,565321,565322,565412,565416,565423,565430,565440,565442,565443,565475,565476,565587,565612,565748,565749,565759,565760,565765,565777,565800,565801,565851,565854,565857,565865,565916,565930,565931,565967,565975,566041,566054,566059,566074,566115,566163,566173,566233,566256,566267,566268,566492,566557,566586,566625,566736,566739,566776,566816,566846,566873,566918,566984,566987,567134,567191,567280,567290,567291,567293,567296,567298,567300,567305,567334,567336,567378,567380,567428,567512,567552,567578,567616,567618,567640,567657,567666,567720,567756,567793,567795,567899,567900,567904,567910,567914,567915,567924,567958,567959,568040,568048,568056,568095,568103,568137,568176,568221,568310,568350,568417,568472,568518,568645,568654,568656,568674,568698,568706,568707,568798,568953,568987,568988,568994,569001,569010,569017,569028,569097,569120,569122,569130,569332,569402,569531,569562,569563,569568,569640,569665,569686,569699,569701,569719,569720,569721,569727,569739,569844,569860,569861,569867,569893,569907,569921,570002,570007,570016,570020,570030,570082,570095,570189,570191,570253,570267,570388,570409,570452,570485,570637,570640,570651,570657,570672,570674,570694,570700,570703,570706,570718,570724,570754,570784,570792,570798,570823,570839,570841,570851,570879,570881,571065,571129,571215,571227,571240,571304,571308,571312,571313,571314,571328,571377,571409,571425,571446,571447,571556,571559,571562,571565,571658,571697,571724,571729,571739,571745,571824,571864,571904,571923,571937,572035,572051,572052,572054,572060,572061,572069,572087,572123,572124,572127,572134,572233,572236,572241,572459,572559,572560,572894,572895,572925,572986,572992,573002,573003,573004,573036,573106,573136,573153,573273,573284,573289,573316,573391,573402,573417,573424,573428,573430,573442,573581,573629,573748,573867,573868,573891,573892,574056,574058,574059,574068,574071,574093,574097,574104,574252,574255,574501,574506,574653,574679,574713,574745,574841,574869,574874,574885,574938,575049,575067,575193,575326,575352,575486,575498,575508,575510,575519,575581,575584,575629,575661,575671,575692,575709,575713,575728,575732,575733,575735,575747,575750,575751,575787,575845,575871,575880,575884,575886,575896,575916,575933,576051,576064,576087,576141,576222,576245,576322,576327,576371,576373,576390,576399,576595,576596,576602,576603,576607,576629,576630,576653,576657,576664,576669,576672,576787,576789,576790,576863,576869,576880,576890,576891,576893,576894,576899,576909,576910,576927,576941,577027,577054,577061,577121,577135,577152,577168,577295,577299,577301,577326,577344,577355,577406,577474,577479,577502,577512,577607,577613,577615,577687,577776,577850,577856,578024,578033,578034,578043,578054,578082,578093,578105,578140,578141,578143,578273,578277,578287,578295,578298,578331,578333,578348,578469,578472,578509,578541,578547,578550,578626,578698,578705,578736,578792,578835,578994,579069,579094,579102,579152,579153,579190,579193,579276,579345,579393,579416,579419,579492,579528,579529,579539,579553,579634,579708,579747,579768,579786,579792,579870,579901,579910,579927,580120,580126,580127,580144,580154,580160,580285,580509,580511,580512,580528,580531,580534,580536,580548,580555,580557,580648,580705,580736,580753,580756,580986,581000,581001,581003,581006,581098,581171,581175,581176,581179,581183,581184,581266,581279,581338,581433,581494,581570,581574,581578,581587],\"y\":[801.86,177.6,243.48,490.38,15.0,22.5,137.35,71.14,249.5,322.2,58.5,300.24,1705.65,157.53,1364.92,232.5,67.5,1523.3,401.39,178.44,327.5,734.1500000000001,20.85,961.52,361.46,506.8,396.7,155.55,141.38,428.60999999999996,195.88,39.599999999999994,259.1,759.2,945.55,649.0500000000001,1982.41,927.9,1156.05,12.45,195.89,4.949999999999999,707.0600000000001,180.3,1286.25,29.7,792.99,188.8,811.04,152.27999999999997,129.74,703.74,162.00000000000003,696.0,397.87,361.1,55.96,268.6,994.5899999999999,523.96,762.3,53.28,8520.92,110.39999999999999,110.69999999999999,1154.85,239.85,502.07,763.11,283.77,425.25,333.4,549.09,676.16,2025.3899999999999,298.93,744.25,114.0,208.0,326.93999999999994,283.39,1112.06,144.0,126.25999999999999,835.1999999999999,216.54,136.9,102.94999999999999,214.65,338.7,793.98,663.4499999999999,774.22,225.9,248.62,29.5,592.31,10389.06,16774.72,183.9,952.0,220.9,642.14,415.58,114.52,45.0,698.75,7722.04,305.28,1408.68,2756.84,8060.3,406.5,450.11,126.05,1590.6200000000001,232.44,190.2,922.01,1116.9,251.93,771.36,802.56,332.4,514.05,351.29999999999995,184.59000000000003,142.1,182.45,365.58,405.8,439.53,243.29999999999998,3174.43,459.58,883.8,119.47999999999999,363.54,797.77,278.15000000000003,184.45,456.84999999999997,454.89,75.60000000000001,132.5,373.94,839.4,788.0600000000001,300.7,179.6,1128.73,1156.28,165.85999999999999,401.02,150.9,95.10000000000001,238.85,285.56,2355.9500000000003,2024.57,142.2,588.29,219.6,856.26,3506.2400000000002,829.66,214.0,231.12,355.97999999999996,148.6,152.40000000000003,878.3,112.69999999999999,6.3,603.42,11956.1,6323.38,435.34000000000003,802.95,125.4,3211.7,1480.2,334.3,308.0,95.76,904.8199999999999,251.58000000000004,92.6,335.43,612.86,182.72,158.5,316.2,762.5,722.06,2541.15,480.76000000000005,20.4,439.44,231.83999999999997,281.25,258.18,877.31,201.3,264.65999999999997,315.6,242.13,283.40000000000003,269.1,414.8,535.32,3500.5,1614.6,461.6,897.42,676.8499999999999,307.28999999999996,102.92999999999999,425.40000000000003,472.6,706.6,546.05,1477.56,870.59,1041.45,511.53999999999996,264.7,129.70999999999998,115.09,556.1800000000001,645.02,331.78,743.71,223.44,701.32,33.0,410.7,734.47,147.8,203.85,106.08000000000001,298.02,201.24,4.63,469.98,220.71000000000004,390.32,749.66,160.5,733.88,378.0,402.9,365.45,210.54,303.91,750.37,1272.86,888.0,1156.8,140.65,128.05,489.0,1028.3,530.86,229.48,239.2,2527.94,15719.56,1807.04,382.7,1937.06,413.4,93.0,118.4,205.98,3243.13,138.75,252.0,222.68,1407.19,2183.8199999999997,513.55,570.29,50.0,214.3,1129.2,1155.0,955.99,379.7,356.23,177.18,312.2,1321.25,278.76,293.24,744.41,301.08,204.12,50.0,207.18,2221.02,615.2,132.54000000000002,408.82,222.75,396.74,509.57,84.65,1213.67,317.62,669.25,389.68,469.20000000000005,381.6,73.5,579.05,184.5,162.1,160.54000000000002,312.90000000000003,1065.8,602.36,191.10000000000002,268.88,950.33,528.88,620.84,24.9,162.48000000000002,336.24,619.2,545.01,133.6,20.8,166.74,393.6,111.18,200.0,316.86,239.2,3869.18,246.07999999999998,862.53,984.4300000000001,295.5,613.11,205.4,453.09999999999997,213.8,511.25,1637.43,339.0,446.4,270.0,1381.3,192.87,792.4,186.52,823.2,1792.72,14415.74,270.0,278.53000000000003,9341.26,702.5999999999999,106.6,459.98,89.25,397.28000000000003,133.4,553.78,1543.0,550.74,1133.33,121.88,754.81,1184.22,739.62,688.28,335.01,332.20000000000005,76.32000000000001,672.4,1414.36,666.96,134.82,409.59999999999997,561.66,364.88,316.85,184.26,122.6,217.46,936.34,330.32,956.4,264.72,615.21,912.85,646.96,169.5,385.96,335.95,1007.75,7.800000000000001,128.8,441.1,357.34,257.25,231.12,1392.0,390.96,514.74,447.83000000000004,139.03,105.05,48.1,432.44,5.8,5.8,179.51999999999998,196.5,8980.88,362.0,626.73,367.09,510.73,143.10000000000002,74.96,404.84000000000003,294.91999999999996,1799.6,600.1899999999999,3623.2,1225.26,766.95,404.8,50.099999999999994,472.95000000000005,1741.52,637.91,457.68,703.08,397.58,371.45,958.12,422.8,204.31,286.34,286.34,615.36,338.03999999999996,2233.28,1118.04,124.14000000000001,297.0,288.0,596.27,69.0,385.5,519.09,408.0,555.4,324.18,529.2,1506.1,253.76999999999998,821.32,911.2099999999999,218.26,441.26,1140.66,447.64,348.94,364.15,263.94,3876.86,606.72,1012.86,597.5500000000001,49.8,456.27,576.13,1359.58,5683.06,107.46000000000001,253.3,154.67,1767.74,232.5,430.06,592.72,391.76000000000005,122.4,239.3,354.06,426.38,476.15999999999997,443.04,240.93,320.84999999999997,1.45,149.64000000000001,580.74,930.71,69.6,44.25,616.17,200.14999999999998,183.24,10174.94,1113.6000000000001,2739.92,116.28,2822.74,106.15,271.1,756.36,77.28,724.74,88.5,629.1,976.58,280.64,135.22,53.4,420.36,998.4200000000001,155.6,662.35,966.62,631.64,208.62,258.6,629.64,525.26,300.05,248.75,293.23999999999995,442.48,60.599999999999994,174.8,399.43,173.60000000000002,302.92,267.03999999999996,100.32,238.7,770.46,227.71,598.0,1147.1,875.28,604.97,704.0500000000001,507.06,309.23,132.10000000000002,800.46,113.5,1734.58,11134.34,532.3199999999999,1527.0,81.60000000000001,340.98,60.650000000000006,87.6,395.66,503.68,1292.31,545.68,11.02,312.29,1051.06,751.75,620.57,275.64,210.9,696.02,376.93,558.1,477.64,617.54,346.77,350.7,186.75,660.26,104.25,331.14000000000004,574.22,4345.1,623.9,728.94,1056.11,13464.26,981.18,402.16,201.2,85.8,477.90999999999997,221.04,1067.22,475.03,990.84,4345.1,189.14000000000001,596.0,162.3,271.8,681.75,1572.73,107.4,380.65000000000003,829.96,84.98,12341.21,157.5,248.35,1253.05,388.4,1234.0,19150.66,1396.66,825.6,768.97,376.88,46.65,1089.07,342.12,417.42,79.3,580.08,424.06,180.0,1544.01,34.68,417.01,131.85,275.78,558.29,239.37,427.26,989.49,110.55,408.9,288.83,364.22,1001.0199999999999,475.96000000000004,630.39,379.17,96.3,424.79999999999995,779.06,330.45,148.26,83.58,244.65,347.92,60.75,215.21,15.3,476.21999999999997,224.15,1006.52,225.1,360.0,434.40000000000003,305.19,812.02,260.74,6429.64,998.4000000000001,590.14,108.39,1022.95,367.83000000000004,4257.06,1330.44,214.8,370.06,1071.6399999999999,2242.32,1638.24,554.08,429.68,749.13,233.57999999999998,65.1,629.04,322.65999999999997,73.86,359.25,761.6800000000001,765.26,837.82,7480.0599999999995,958.8,429.3,421.7,4005.35,228.84000000000003,304.84,16.5,484.3,88.80000000000001,809.0699999999999,495.24,587.29,963.82,1464.58,1304.7,454.35,967.18,368.31,1944.6000000000001,2.08,961.5799999999999,187.8,68.0,344.9,407.2,1304.7,171.55999999999997,879.54,94.38,302.11,238.24,76.32000000000001,8281.12,181.79999999999998,781.11,321.32,297.65,318.37,2377.9,275.16,240.27999999999997,49.980000000000004,386.5,461.6,264.9,334.64,10267.88,5350.4,63.79,674.59,321.01,953.1,488.81,366.70000000000005,648.48,590.9,948.47,377.66,849.92,138.48,486.8,424.63,331.22,324.9,75.67999999999999,124.38,516.41,384.1,344.24,546.44,814.62,809.8199999999999,10.5,290.12,204.6,140.85,386.42,205.26,437.12,656.86,718.54,1261.09,752.62,2241.81,470.90000000000003,553.39,204.6,368.21999999999997,737.92,668.04,776.3000000000001,381.2,171.2,590.75,1297.8500000000001,141.62,331.37,480.77,279.75,50.400000000000006,522.65,201.01999999999998,824.83,202.25,325.76,265.55,5867.08,245.94,222.16,1192.5,291.23,376.17,66.3,322.4,176.20000000000002,163.10000000000002,431.78,1163.76,1386.19,2145.38,76.85,247.6,265.51,33.9,668.16,23.39,315.64,114.25,371.3,1251.55,121.88,317.69,284.4,1075.72,59.4,157.0,1059.24,286.84000000000003,904.14,229.75999999999996,427.6,929.44,238.51,118.82,156.92999999999998,1974.0,95.4,1209.8799999999999,277.18,246.58,17.4,404.63,486.36,271.35,485.8,4279.71,768.64,164.3,369.84999999999997,803.24,25.5,345.06,153.12,197.23,85.5,533.12,76.32000000000001,285.1,749.67,441.55,296.20000000000005,295.72,211.25,1755.8600000000001,356.84000000000003,599.5,1288.78,477.6,447.28,669.38,500.23,728.24,894.64,1571.98,292.0,964.22,640.34,1761.24,118.44,485.62,808.1500000000001,704.02,163.1,576.55,403.92,478.74,599.04,3.0,1588.75,1268.43,2503.74,71.39999999999999,253.22,2856.14,20277.92,4311.48,1244.16,255.95999999999998,67.68,704.41,715.21,948.9,2314.48,773.94,906.09,1096.65,825.1199999999999,81.02,232.4,596.02,448.88,504.28,34.0,49.74,228.22,436.19,85.92,4534.22,4992.0,469.0,227.46,198.96,232.68,8460.76,52.2,102.38,896.45,42.5,451.66,196.73999999999998,179.71,76.96,271.26,353.54,214.06,546.91,85.32,1212.67,532.6,424.4,735.81,834.38,3949.66,449.28,87.97,579.44,153.23,736.55,635.72,602.95,224.48000000000002,74.25,327.89,130.07,446.15999999999997,410.32,219.57,170.64,347.43000000000006,262.77,282.36,250.07999999999998,206.89999999999998,560.32,738.45,628.99,313.83,395.4,826.04,15.0,8111.2,1549.12,283.23,73.67999999999999,227.4,157.54,355.53,611.46,275.19,132.8,218.28,1003.03,196.65,228.01,320.8,461.18,325.58,1674.65,432.96,318.8,411.32,730.46,359.12,492.94,992.6800000000001,158.4,1285.44,2068.4900000000002,123.08,664.58,298.21,375.72,464.12,318.84999999999997,207.53,355.07,260.23,112.85,440.99,326.58,107.8,832.58,474.28000000000003,690.56,556.28,181.98,4391.16,355.02,217.5,59.76000000000001,1497.52,874.41,42.12,49.75,215.97,599.04,300.62,292.65,120.9,168.8,255.85999999999999,759.48,928.12,2037.69,1443.3,529.9,231.15,103.2,842.94,728.96,203.72,463.4,613.1999999999999,320.67999999999995,108.0,30.45,136.0,180.6,785.5600000000001,201.0,104.24,917.54,576.29,262.42,95.4,805.1999999999999,632.05,343.72,32.65,1136.96,285.88,639.2,513.75,513.24,380.17,566.0,206.35999999999999,252.23999999999998,127.33,7952.68,290.0,1835.96,109.01,329.12,19.259999999999998,168.3,344.7,157.14,296.96000000000004,126.5,518.32,1588.46,165.5,2079.37,270.74,111.34,879.1,364.09,125.22,562.5,243.79,135.72,829.91,1073.23,738.68,805.6,473.2,227.1,419.12,419.12,75.0,571.0,512.98,514.86,94.02,642.12,104.00000000000001,477.21000000000004,300.97,760.71,163.85,434.96,317.6,432.96000000000004,271.8,1229.16,256.40999999999997,154.19,317.75,433.68,259.02,600.37,259.2,161.39999999999998,49.0,1188.75,85.1,325.35,625.7,353.62,773.54,74.55,190.24,408.3,51.0,462.0,75.4,197.25,707.48,339.59,582.63,59.28,242.44,292.47,640.77,1273.15,1186.78,1396.96,386.85,10901.539999999999,575.88,1998.51,79.38,70.9,1098.2,111.9,250.6,1084.14,303.14,206.95,241.07999999999998,794.55,249.45],\"type\":\"bar\"}],                        {\"legend\":{\"bgcolor\":\"#F5F6F9\",\"font\":{\"color\":\"#4D5663\"}},\"paper_bgcolor\":\"#F5F6F9\",\"plot_bgcolor\":\"#F5F6F9\",\"template\":{\"data\":{\"barpolar\":[{\"marker\":{\"line\":{\"color\":\"#E5ECF6\",\"width\":0.5},\"pattern\":{\"fillmode\":\"overlay\",\"size\":10,\"solidity\":0.2}},\"type\":\"barpolar\"}],\"bar\":[{\"error_x\":{\"color\":\"#2a3f5f\"},\"error_y\":{\"color\":\"#2a3f5f\"},\"marker\":{\"line\":{\"color\":\"#E5ECF6\",\"width\":0.5},\"pattern\":{\"fillmode\":\"overlay\",\"size\":10,\"solidity\":0.2}},\"type\":\"bar\"}],\"carpet\":[{\"aaxis\":{\"endlinecolor\":\"#2a3f5f\",\"gridcolor\":\"white\",\"linecolor\":\"white\",\"minorgridcolor\":\"white\",\"startlinecolor\":\"#2a3f5f\"},\"baxis\":{\"endlinecolor\":\"#2a3f5f\",\"gridcolor\":\"white\",\"linecolor\":\"white\",\"minorgridcolor\":\"white\",\"startlinecolor\":\"#2a3f5f\"},\"type\":\"carpet\"}],\"choropleth\":[{\"colorbar\":{\"outlinewidth\":0,\"ticks\":\"\"},\"type\":\"choropleth\"}],\"contourcarpet\":[{\"colorbar\":{\"outlinewidth\":0,\"ticks\":\"\"},\"type\":\"contourcarpet\"}],\"contour\":[{\"colorbar\":{\"outlinewidth\":0,\"ticks\":\"\"},\"colorscale\":[[0.0,\"#0d0887\"],[0.1111111111111111,\"#46039f\"],[0.2222222222222222,\"#7201a8\"],[0.3333333333333333,\"#9c179e\"],[0.4444444444444444,\"#bd3786\"],[0.5555555555555556,\"#d8576b\"],[0.6666666666666666,\"#ed7953\"],[0.7777777777777778,\"#fb9f3a\"],[0.8888888888888888,\"#fdca26\"],[1.0,\"#f0f921\"]],\"type\":\"contour\"}],\"heatmapgl\":[{\"colorbar\":{\"outlinewidth\":0,\"ticks\":\"\"},\"colorscale\":[[0.0,\"#0d0887\"],[0.1111111111111111,\"#46039f\"],[0.2222222222222222,\"#7201a8\"],[0.3333333333333333,\"#9c179e\"],[0.4444444444444444,\"#bd3786\"],[0.5555555555555556,\"#d8576b\"],[0.6666666666666666,\"#ed7953\"],[0.7777777777777778,\"#fb9f3a\"],[0.8888888888888888,\"#fdca26\"],[1.0,\"#f0f921\"]],\"type\":\"heatmapgl\"}],\"heatmap\":[{\"colorbar\":{\"outlinewidth\":0,\"ticks\":\"\"},\"colorscale\":[[0.0,\"#0d0887\"],[0.1111111111111111,\"#46039f\"],[0.2222222222222222,\"#7201a8\"],[0.3333333333333333,\"#9c179e\"],[0.4444444444444444,\"#bd3786\"],[0.5555555555555556,\"#d8576b\"],[0.6666666666666666,\"#ed7953\"],[0.7777777777777778,\"#fb9f3a\"],[0.8888888888888888,\"#fdca26\"],[1.0,\"#f0f921\"]],\"type\":\"heatmap\"}],\"histogram2dcontour\":[{\"colorbar\":{\"outlinewidth\":0,\"ticks\":\"\"},\"colorscale\":[[0.0,\"#0d0887\"],[0.1111111111111111,\"#46039f\"],[0.2222222222222222,\"#7201a8\"],[0.3333333333333333,\"#9c179e\"],[0.4444444444444444,\"#bd3786\"],[0.5555555555555556,\"#d8576b\"],[0.6666666666666666,\"#ed7953\"],[0.7777777777777778,\"#fb9f3a\"],[0.8888888888888888,\"#fdca26\"],[1.0,\"#f0f921\"]],\"type\":\"histogram2dcontour\"}],\"histogram2d\":[{\"colorbar\":{\"outlinewidth\":0,\"ticks\":\"\"},\"colorscale\":[[0.0,\"#0d0887\"],[0.1111111111111111,\"#46039f\"],[0.2222222222222222,\"#7201a8\"],[0.3333333333333333,\"#9c179e\"],[0.4444444444444444,\"#bd3786\"],[0.5555555555555556,\"#d8576b\"],[0.6666666666666666,\"#ed7953\"],[0.7777777777777778,\"#fb9f3a\"],[0.8888888888888888,\"#fdca26\"],[1.0,\"#f0f921\"]],\"type\":\"histogram2d\"}],\"histogram\":[{\"marker\":{\"pattern\":{\"fillmode\":\"overlay\",\"size\":10,\"solidity\":0.2}},\"type\":\"histogram\"}],\"mesh3d\":[{\"colorbar\":{\"outlinewidth\":0,\"ticks\":\"\"},\"type\":\"mesh3d\"}],\"parcoords\":[{\"line\":{\"colorbar\":{\"outlinewidth\":0,\"ticks\":\"\"}},\"type\":\"parcoords\"}],\"pie\":[{\"automargin\":true,\"type\":\"pie\"}],\"scatter3d\":[{\"line\":{\"colorbar\":{\"outlinewidth\":0,\"ticks\":\"\"}},\"marker\":{\"colorbar\":{\"outlinewidth\":0,\"ticks\":\"\"}},\"type\":\"scatter3d\"}],\"scattercarpet\":[{\"marker\":{\"colorbar\":{\"outlinewidth\":0,\"ticks\":\"\"}},\"type\":\"scattercarpet\"}],\"scattergeo\":[{\"marker\":{\"colorbar\":{\"outlinewidth\":0,\"ticks\":\"\"}},\"type\":\"scattergeo\"}],\"scattergl\":[{\"marker\":{\"colorbar\":{\"outlinewidth\":0,\"ticks\":\"\"}},\"type\":\"scattergl\"}],\"scattermapbox\":[{\"marker\":{\"colorbar\":{\"outlinewidth\":0,\"ticks\":\"\"}},\"type\":\"scattermapbox\"}],\"scatterpolargl\":[{\"marker\":{\"colorbar\":{\"outlinewidth\":0,\"ticks\":\"\"}},\"type\":\"scatterpolargl\"}],\"scatterpolar\":[{\"marker\":{\"colorbar\":{\"outlinewidth\":0,\"ticks\":\"\"}},\"type\":\"scatterpolar\"}],\"scatter\":[{\"fillpattern\":{\"fillmode\":\"overlay\",\"size\":10,\"solidity\":0.2},\"type\":\"scatter\"}],\"scatterternary\":[{\"marker\":{\"colorbar\":{\"outlinewidth\":0,\"ticks\":\"\"}},\"type\":\"scatterternary\"}],\"surface\":[{\"colorbar\":{\"outlinewidth\":0,\"ticks\":\"\"},\"colorscale\":[[0.0,\"#0d0887\"],[0.1111111111111111,\"#46039f\"],[0.2222222222222222,\"#7201a8\"],[0.3333333333333333,\"#9c179e\"],[0.4444444444444444,\"#bd3786\"],[0.5555555555555556,\"#d8576b\"],[0.6666666666666666,\"#ed7953\"],[0.7777777777777778,\"#fb9f3a\"],[0.8888888888888888,\"#fdca26\"],[1.0,\"#f0f921\"]],\"type\":\"surface\"}],\"table\":[{\"cells\":{\"fill\":{\"color\":\"#EBF0F8\"},\"line\":{\"color\":\"white\"}},\"header\":{\"fill\":{\"color\":\"#C8D4E3\"},\"line\":{\"color\":\"white\"}},\"type\":\"table\"}]},\"layout\":{\"annotationdefaults\":{\"arrowcolor\":\"#2a3f5f\",\"arrowhead\":0,\"arrowwidth\":1},\"autotypenumbers\":\"strict\",\"coloraxis\":{\"colorbar\":{\"outlinewidth\":0,\"ticks\":\"\"}},\"colorscale\":{\"diverging\":[[0,\"#8e0152\"],[0.1,\"#c51b7d\"],[0.2,\"#de77ae\"],[0.3,\"#f1b6da\"],[0.4,\"#fde0ef\"],[0.5,\"#f7f7f7\"],[0.6,\"#e6f5d0\"],[0.7,\"#b8e186\"],[0.8,\"#7fbc41\"],[0.9,\"#4d9221\"],[1,\"#276419\"]],\"sequential\":[[0.0,\"#0d0887\"],[0.1111111111111111,\"#46039f\"],[0.2222222222222222,\"#7201a8\"],[0.3333333333333333,\"#9c179e\"],[0.4444444444444444,\"#bd3786\"],[0.5555555555555556,\"#d8576b\"],[0.6666666666666666,\"#ed7953\"],[0.7777777777777778,\"#fb9f3a\"],[0.8888888888888888,\"#fdca26\"],[1.0,\"#f0f921\"]],\"sequentialminus\":[[0.0,\"#0d0887\"],[0.1111111111111111,\"#46039f\"],[0.2222222222222222,\"#7201a8\"],[0.3333333333333333,\"#9c179e\"],[0.4444444444444444,\"#bd3786\"],[0.5555555555555556,\"#d8576b\"],[0.6666666666666666,\"#ed7953\"],[0.7777777777777778,\"#fb9f3a\"],[0.8888888888888888,\"#fdca26\"],[1.0,\"#f0f921\"]]},\"colorway\":[\"#636efa\",\"#EF553B\",\"#00cc96\",\"#ab63fa\",\"#FFA15A\",\"#19d3f3\",\"#FF6692\",\"#B6E880\",\"#FF97FF\",\"#FECB52\"],\"font\":{\"color\":\"#2a3f5f\"},\"geo\":{\"bgcolor\":\"white\",\"lakecolor\":\"white\",\"landcolor\":\"#E5ECF6\",\"showlakes\":true,\"showland\":true,\"subunitcolor\":\"white\"},\"hoverlabel\":{\"align\":\"left\"},\"hovermode\":\"closest\",\"mapbox\":{\"style\":\"light\"},\"paper_bgcolor\":\"white\",\"plot_bgcolor\":\"#E5ECF6\",\"polar\":{\"angularaxis\":{\"gridcolor\":\"white\",\"linecolor\":\"white\",\"ticks\":\"\"},\"bgcolor\":\"#E5ECF6\",\"radialaxis\":{\"gridcolor\":\"white\",\"linecolor\":\"white\",\"ticks\":\"\"}},\"scene\":{\"xaxis\":{\"backgroundcolor\":\"#E5ECF6\",\"gridcolor\":\"white\",\"gridwidth\":2,\"linecolor\":\"white\",\"showbackground\":true,\"ticks\":\"\",\"zerolinecolor\":\"white\"},\"yaxis\":{\"backgroundcolor\":\"#E5ECF6\",\"gridcolor\":\"white\",\"gridwidth\":2,\"linecolor\":\"white\",\"showbackground\":true,\"ticks\":\"\",\"zerolinecolor\":\"white\"},\"zaxis\":{\"backgroundcolor\":\"#E5ECF6\",\"gridcolor\":\"white\",\"gridwidth\":2,\"linecolor\":\"white\",\"showbackground\":true,\"ticks\":\"\",\"zerolinecolor\":\"white\"}},\"shapedefaults\":{\"line\":{\"color\":\"#2a3f5f\"}},\"ternary\":{\"aaxis\":{\"gridcolor\":\"white\",\"linecolor\":\"white\",\"ticks\":\"\"},\"baxis\":{\"gridcolor\":\"white\",\"linecolor\":\"white\",\"ticks\":\"\"},\"bgcolor\":\"#E5ECF6\",\"caxis\":{\"gridcolor\":\"white\",\"linecolor\":\"white\",\"ticks\":\"\"}},\"title\":{\"x\":0.05},\"xaxis\":{\"automargin\":true,\"gridcolor\":\"white\",\"linecolor\":\"white\",\"ticks\":\"\",\"title\":{\"standoff\":15},\"zerolinecolor\":\"white\",\"zerolinewidth\":2},\"yaxis\":{\"automargin\":true,\"gridcolor\":\"white\",\"linecolor\":\"white\",\"ticks\":\"\",\"title\":{\"standoff\":15},\"zerolinecolor\":\"white\",\"zerolinewidth\":2}}},\"title\":{\"font\":{\"color\":\"#4D5663\"},\"text\":\"distributions of quantity per invoice\"},\"xaxis\":{\"gridcolor\":\"#E1E5ED\",\"showgrid\":true,\"tickfont\":{\"color\":\"#4D5663\"},\"title\":{\"font\":{\"color\":\"#4D5663\"},\"text\":\"InvoiceNo\"},\"zerolinecolor\":\"#E1E5ED\"},\"yaxis\":{\"gridcolor\":\"#E1E5ED\",\"showgrid\":true,\"tickfont\":{\"color\":\"#4D5663\"},\"title\":{\"font\":{\"color\":\"#4D5663\"},\"text\":\"Revenue\"},\"zerolinecolor\":\"#E1E5ED\"}},                        {\"showLink\": true, \"linkText\": \"Export to plot.ly\", \"plotlyServerURL\": \"https://plot.ly\", \"responsive\": true}                    ).then(function(){\n",
       "                            \n",
       "var gd = document.getElementById('1537f318-a68b-4bb0-a4ec-5a7d01fb5a48');\n",
       "var x = new MutationObserver(function (mutations, observer) {{\n",
       "        var display = window.getComputedStyle(gd).display;\n",
       "        if (!display || display === 'none') {{\n",
       "            console.log([gd, 'removed!']);\n",
       "            Plotly.purge(gd);\n",
       "            observer.disconnect();\n",
       "        }}\n",
       "}});\n",
       "\n",
       "// Listen for the removal of the full notebook cells\n",
       "var notebookContainer = gd.closest('#notebook-container');\n",
       "if (notebookContainer) {{\n",
       "    x.observe(notebookContainer, {childList: true});\n",
       "}}\n",
       "\n",
       "// Listen for the clearing of the current output cell\n",
       "var outputEl = gd.closest('.output');\n",
       "if (outputEl) {{\n",
       "    x.observe(outputEl, {childList: true});\n",
       "}}\n",
       "\n",
       "                        })                };                });            </script>        </div>"
      ]
     },
     "metadata": {},
     "output_type": "display_data"
    }
   ],
   "source": [
    "data41.iplot(kind='bar', \n",
    "           x='InvoiceNo', \n",
    "           title='distributions of quantity per invoice',\n",
    "           xTitle='InvoiceNo', \n",
    "           yTitle='Revenue')"
   ]
  },
  {
   "cell_type": "markdown",
   "metadata": {},
   "source": [
    "## 5. Create an interactive side-by-side bar chart showing the revenue by country listed below (bars) for each of the products listed below."
   ]
  },
  {
   "cell_type": "code",
   "execution_count": 80,
   "metadata": {},
   "outputs": [],
   "source": [
    "prod_lst=['JUMBO BAG RED RETROSPOT', \n",
    "          'CREAM HANGING HEART T-LIGHT HOLDER',\n",
    "          'REGENCY CAKESTAND 3 TIER']\n",
    "\n",
    "country_lst=['EIRE', 'Germany', 'France','Netherlands' ]\n",
    "\n",
    "data5=data4.loc[online.Description.isin(prod_lst)]"
   ]
  },
  {
   "cell_type": "code",
   "execution_count": 82,
   "metadata": {},
   "outputs": [],
   "source": [
    "data51=data5.pivot_table(values='Revenue', \n",
    "                      columns='Description',\n",
    "                      index='Country', \n",
    "                      aggfunc='sum')"
   ]
  },
  {
   "cell_type": "code",
   "execution_count": 83,
   "metadata": {},
   "outputs": [],
   "source": [
    "data51.reset_index(inplace=True)"
   ]
  },
  {
   "cell_type": "code",
   "execution_count": 84,
   "metadata": {},
   "outputs": [
    {
     "data": {
      "application/vnd.plotly.v1+json": {
       "config": {
        "linkText": "Export to plot.ly",
        "plotlyServerURL": "https://plot.ly",
        "showLink": true
       },
       "data": [
        {
         "marker": {
          "color": "rgba(255, 153, 51, 0.6)",
          "line": {
           "color": "rgba(255, 153, 51, 1.0)",
           "width": 1
          }
         },
         "name": "CREAM HANGING HEART T-LIGHT HOLDER",
         "orientation": "v",
         "text": "",
         "type": "bar",
         "x": [
          "EIRE",
          "France",
          "Germany",
          "Netherlands"
         ],
         "y": [
          2740.8,
          131.75,
          35.40000000000001,
          1167
         ]
        },
        {
         "marker": {
          "color": "rgba(55, 128, 191, 0.6)",
          "line": {
           "color": "rgba(55, 128, 191, 1.0)",
           "width": 1
          }
         },
         "name": "JUMBO BAG RED RETROSPOT",
         "orientation": "v",
         "text": "",
         "type": "bar",
         "x": [
          "EIRE",
          "France",
          "Germany",
          "Netherlands"
         ],
         "y": [
          278.72,
          903.37,
          1072.76,
          3468
         ]
        },
        {
         "marker": {
          "color": "rgba(50, 171, 96, 0.6)",
          "line": {
           "color": "rgba(50, 171, 96, 1.0)",
           "width": 1
          }
         },
         "name": "REGENCY CAKESTAND 3 TIER",
         "orientation": "v",
         "text": "",
         "type": "bar",
         "x": [
          "EIRE",
          "France",
          "Germany",
          "Netherlands"
         ],
         "y": [
          7388.55,
          2816.85,
          9061.949999999999,
          3166.35
         ]
        }
       ],
       "layout": {
        "legend": {
         "bgcolor": "#F5F6F9",
         "font": {
          "color": "#4D5663"
         }
        },
        "paper_bgcolor": "#F5F6F9",
        "plot_bgcolor": "#F5F6F9",
        "template": {
         "data": {
          "bar": [
           {
            "error_x": {
             "color": "#2a3f5f"
            },
            "error_y": {
             "color": "#2a3f5f"
            },
            "marker": {
             "line": {
              "color": "#E5ECF6",
              "width": 0.5
             },
             "pattern": {
              "fillmode": "overlay",
              "size": 10,
              "solidity": 0.2
             }
            },
            "type": "bar"
           }
          ],
          "barpolar": [
           {
            "marker": {
             "line": {
              "color": "#E5ECF6",
              "width": 0.5
             },
             "pattern": {
              "fillmode": "overlay",
              "size": 10,
              "solidity": 0.2
             }
            },
            "type": "barpolar"
           }
          ],
          "carpet": [
           {
            "aaxis": {
             "endlinecolor": "#2a3f5f",
             "gridcolor": "white",
             "linecolor": "white",
             "minorgridcolor": "white",
             "startlinecolor": "#2a3f5f"
            },
            "baxis": {
             "endlinecolor": "#2a3f5f",
             "gridcolor": "white",
             "linecolor": "white",
             "minorgridcolor": "white",
             "startlinecolor": "#2a3f5f"
            },
            "type": "carpet"
           }
          ],
          "choropleth": [
           {
            "colorbar": {
             "outlinewidth": 0,
             "ticks": ""
            },
            "type": "choropleth"
           }
          ],
          "contour": [
           {
            "colorbar": {
             "outlinewidth": 0,
             "ticks": ""
            },
            "colorscale": [
             [
              0,
              "#0d0887"
             ],
             [
              0.1111111111111111,
              "#46039f"
             ],
             [
              0.2222222222222222,
              "#7201a8"
             ],
             [
              0.3333333333333333,
              "#9c179e"
             ],
             [
              0.4444444444444444,
              "#bd3786"
             ],
             [
              0.5555555555555556,
              "#d8576b"
             ],
             [
              0.6666666666666666,
              "#ed7953"
             ],
             [
              0.7777777777777778,
              "#fb9f3a"
             ],
             [
              0.8888888888888888,
              "#fdca26"
             ],
             [
              1,
              "#f0f921"
             ]
            ],
            "type": "contour"
           }
          ],
          "contourcarpet": [
           {
            "colorbar": {
             "outlinewidth": 0,
             "ticks": ""
            },
            "type": "contourcarpet"
           }
          ],
          "heatmap": [
           {
            "colorbar": {
             "outlinewidth": 0,
             "ticks": ""
            },
            "colorscale": [
             [
              0,
              "#0d0887"
             ],
             [
              0.1111111111111111,
              "#46039f"
             ],
             [
              0.2222222222222222,
              "#7201a8"
             ],
             [
              0.3333333333333333,
              "#9c179e"
             ],
             [
              0.4444444444444444,
              "#bd3786"
             ],
             [
              0.5555555555555556,
              "#d8576b"
             ],
             [
              0.6666666666666666,
              "#ed7953"
             ],
             [
              0.7777777777777778,
              "#fb9f3a"
             ],
             [
              0.8888888888888888,
              "#fdca26"
             ],
             [
              1,
              "#f0f921"
             ]
            ],
            "type": "heatmap"
           }
          ],
          "heatmapgl": [
           {
            "colorbar": {
             "outlinewidth": 0,
             "ticks": ""
            },
            "colorscale": [
             [
              0,
              "#0d0887"
             ],
             [
              0.1111111111111111,
              "#46039f"
             ],
             [
              0.2222222222222222,
              "#7201a8"
             ],
             [
              0.3333333333333333,
              "#9c179e"
             ],
             [
              0.4444444444444444,
              "#bd3786"
             ],
             [
              0.5555555555555556,
              "#d8576b"
             ],
             [
              0.6666666666666666,
              "#ed7953"
             ],
             [
              0.7777777777777778,
              "#fb9f3a"
             ],
             [
              0.8888888888888888,
              "#fdca26"
             ],
             [
              1,
              "#f0f921"
             ]
            ],
            "type": "heatmapgl"
           }
          ],
          "histogram": [
           {
            "marker": {
             "pattern": {
              "fillmode": "overlay",
              "size": 10,
              "solidity": 0.2
             }
            },
            "type": "histogram"
           }
          ],
          "histogram2d": [
           {
            "colorbar": {
             "outlinewidth": 0,
             "ticks": ""
            },
            "colorscale": [
             [
              0,
              "#0d0887"
             ],
             [
              0.1111111111111111,
              "#46039f"
             ],
             [
              0.2222222222222222,
              "#7201a8"
             ],
             [
              0.3333333333333333,
              "#9c179e"
             ],
             [
              0.4444444444444444,
              "#bd3786"
             ],
             [
              0.5555555555555556,
              "#d8576b"
             ],
             [
              0.6666666666666666,
              "#ed7953"
             ],
             [
              0.7777777777777778,
              "#fb9f3a"
             ],
             [
              0.8888888888888888,
              "#fdca26"
             ],
             [
              1,
              "#f0f921"
             ]
            ],
            "type": "histogram2d"
           }
          ],
          "histogram2dcontour": [
           {
            "colorbar": {
             "outlinewidth": 0,
             "ticks": ""
            },
            "colorscale": [
             [
              0,
              "#0d0887"
             ],
             [
              0.1111111111111111,
              "#46039f"
             ],
             [
              0.2222222222222222,
              "#7201a8"
             ],
             [
              0.3333333333333333,
              "#9c179e"
             ],
             [
              0.4444444444444444,
              "#bd3786"
             ],
             [
              0.5555555555555556,
              "#d8576b"
             ],
             [
              0.6666666666666666,
              "#ed7953"
             ],
             [
              0.7777777777777778,
              "#fb9f3a"
             ],
             [
              0.8888888888888888,
              "#fdca26"
             ],
             [
              1,
              "#f0f921"
             ]
            ],
            "type": "histogram2dcontour"
           }
          ],
          "mesh3d": [
           {
            "colorbar": {
             "outlinewidth": 0,
             "ticks": ""
            },
            "type": "mesh3d"
           }
          ],
          "parcoords": [
           {
            "line": {
             "colorbar": {
              "outlinewidth": 0,
              "ticks": ""
             }
            },
            "type": "parcoords"
           }
          ],
          "pie": [
           {
            "automargin": true,
            "type": "pie"
           }
          ],
          "scatter": [
           {
            "fillpattern": {
             "fillmode": "overlay",
             "size": 10,
             "solidity": 0.2
            },
            "type": "scatter"
           }
          ],
          "scatter3d": [
           {
            "line": {
             "colorbar": {
              "outlinewidth": 0,
              "ticks": ""
             }
            },
            "marker": {
             "colorbar": {
              "outlinewidth": 0,
              "ticks": ""
             }
            },
            "type": "scatter3d"
           }
          ],
          "scattercarpet": [
           {
            "marker": {
             "colorbar": {
              "outlinewidth": 0,
              "ticks": ""
             }
            },
            "type": "scattercarpet"
           }
          ],
          "scattergeo": [
           {
            "marker": {
             "colorbar": {
              "outlinewidth": 0,
              "ticks": ""
             }
            },
            "type": "scattergeo"
           }
          ],
          "scattergl": [
           {
            "marker": {
             "colorbar": {
              "outlinewidth": 0,
              "ticks": ""
             }
            },
            "type": "scattergl"
           }
          ],
          "scattermapbox": [
           {
            "marker": {
             "colorbar": {
              "outlinewidth": 0,
              "ticks": ""
             }
            },
            "type": "scattermapbox"
           }
          ],
          "scatterpolar": [
           {
            "marker": {
             "colorbar": {
              "outlinewidth": 0,
              "ticks": ""
             }
            },
            "type": "scatterpolar"
           }
          ],
          "scatterpolargl": [
           {
            "marker": {
             "colorbar": {
              "outlinewidth": 0,
              "ticks": ""
             }
            },
            "type": "scatterpolargl"
           }
          ],
          "scatterternary": [
           {
            "marker": {
             "colorbar": {
              "outlinewidth": 0,
              "ticks": ""
             }
            },
            "type": "scatterternary"
           }
          ],
          "surface": [
           {
            "colorbar": {
             "outlinewidth": 0,
             "ticks": ""
            },
            "colorscale": [
             [
              0,
              "#0d0887"
             ],
             [
              0.1111111111111111,
              "#46039f"
             ],
             [
              0.2222222222222222,
              "#7201a8"
             ],
             [
              0.3333333333333333,
              "#9c179e"
             ],
             [
              0.4444444444444444,
              "#bd3786"
             ],
             [
              0.5555555555555556,
              "#d8576b"
             ],
             [
              0.6666666666666666,
              "#ed7953"
             ],
             [
              0.7777777777777778,
              "#fb9f3a"
             ],
             [
              0.8888888888888888,
              "#fdca26"
             ],
             [
              1,
              "#f0f921"
             ]
            ],
            "type": "surface"
           }
          ],
          "table": [
           {
            "cells": {
             "fill": {
              "color": "#EBF0F8"
             },
             "line": {
              "color": "white"
             }
            },
            "header": {
             "fill": {
              "color": "#C8D4E3"
             },
             "line": {
              "color": "white"
             }
            },
            "type": "table"
           }
          ]
         },
         "layout": {
          "annotationdefaults": {
           "arrowcolor": "#2a3f5f",
           "arrowhead": 0,
           "arrowwidth": 1
          },
          "autotypenumbers": "strict",
          "coloraxis": {
           "colorbar": {
            "outlinewidth": 0,
            "ticks": ""
           }
          },
          "colorscale": {
           "diverging": [
            [
             0,
             "#8e0152"
            ],
            [
             0.1,
             "#c51b7d"
            ],
            [
             0.2,
             "#de77ae"
            ],
            [
             0.3,
             "#f1b6da"
            ],
            [
             0.4,
             "#fde0ef"
            ],
            [
             0.5,
             "#f7f7f7"
            ],
            [
             0.6,
             "#e6f5d0"
            ],
            [
             0.7,
             "#b8e186"
            ],
            [
             0.8,
             "#7fbc41"
            ],
            [
             0.9,
             "#4d9221"
            ],
            [
             1,
             "#276419"
            ]
           ],
           "sequential": [
            [
             0,
             "#0d0887"
            ],
            [
             0.1111111111111111,
             "#46039f"
            ],
            [
             0.2222222222222222,
             "#7201a8"
            ],
            [
             0.3333333333333333,
             "#9c179e"
            ],
            [
             0.4444444444444444,
             "#bd3786"
            ],
            [
             0.5555555555555556,
             "#d8576b"
            ],
            [
             0.6666666666666666,
             "#ed7953"
            ],
            [
             0.7777777777777778,
             "#fb9f3a"
            ],
            [
             0.8888888888888888,
             "#fdca26"
            ],
            [
             1,
             "#f0f921"
            ]
           ],
           "sequentialminus": [
            [
             0,
             "#0d0887"
            ],
            [
             0.1111111111111111,
             "#46039f"
            ],
            [
             0.2222222222222222,
             "#7201a8"
            ],
            [
             0.3333333333333333,
             "#9c179e"
            ],
            [
             0.4444444444444444,
             "#bd3786"
            ],
            [
             0.5555555555555556,
             "#d8576b"
            ],
            [
             0.6666666666666666,
             "#ed7953"
            ],
            [
             0.7777777777777778,
             "#fb9f3a"
            ],
            [
             0.8888888888888888,
             "#fdca26"
            ],
            [
             1,
             "#f0f921"
            ]
           ]
          },
          "colorway": [
           "#636efa",
           "#EF553B",
           "#00cc96",
           "#ab63fa",
           "#FFA15A",
           "#19d3f3",
           "#FF6692",
           "#B6E880",
           "#FF97FF",
           "#FECB52"
          ],
          "font": {
           "color": "#2a3f5f"
          },
          "geo": {
           "bgcolor": "white",
           "lakecolor": "white",
           "landcolor": "#E5ECF6",
           "showlakes": true,
           "showland": true,
           "subunitcolor": "white"
          },
          "hoverlabel": {
           "align": "left"
          },
          "hovermode": "closest",
          "mapbox": {
           "style": "light"
          },
          "paper_bgcolor": "white",
          "plot_bgcolor": "#E5ECF6",
          "polar": {
           "angularaxis": {
            "gridcolor": "white",
            "linecolor": "white",
            "ticks": ""
           },
           "bgcolor": "#E5ECF6",
           "radialaxis": {
            "gridcolor": "white",
            "linecolor": "white",
            "ticks": ""
           }
          },
          "scene": {
           "xaxis": {
            "backgroundcolor": "#E5ECF6",
            "gridcolor": "white",
            "gridwidth": 2,
            "linecolor": "white",
            "showbackground": true,
            "ticks": "",
            "zerolinecolor": "white"
           },
           "yaxis": {
            "backgroundcolor": "#E5ECF6",
            "gridcolor": "white",
            "gridwidth": 2,
            "linecolor": "white",
            "showbackground": true,
            "ticks": "",
            "zerolinecolor": "white"
           },
           "zaxis": {
            "backgroundcolor": "#E5ECF6",
            "gridcolor": "white",
            "gridwidth": 2,
            "linecolor": "white",
            "showbackground": true,
            "ticks": "",
            "zerolinecolor": "white"
           }
          },
          "shapedefaults": {
           "line": {
            "color": "#2a3f5f"
           }
          },
          "ternary": {
           "aaxis": {
            "gridcolor": "white",
            "linecolor": "white",
            "ticks": ""
           },
           "baxis": {
            "gridcolor": "white",
            "linecolor": "white",
            "ticks": ""
           },
           "bgcolor": "#E5ECF6",
           "caxis": {
            "gridcolor": "white",
            "linecolor": "white",
            "ticks": ""
           }
          },
          "title": {
           "x": 0.05
          },
          "xaxis": {
           "automargin": true,
           "gridcolor": "white",
           "linecolor": "white",
           "ticks": "",
           "title": {
            "standoff": 15
           },
           "zerolinecolor": "white",
           "zerolinewidth": 2
          },
          "yaxis": {
           "automargin": true,
           "gridcolor": "white",
           "linecolor": "white",
           "ticks": "",
           "title": {
            "standoff": 15
           },
           "zerolinecolor": "white",
           "zerolinewidth": 2
          }
         }
        },
        "title": {
         "font": {
          "color": "#4D5663"
         },
         "text": "revenue by country"
        },
        "xaxis": {
         "gridcolor": "#E1E5ED",
         "showgrid": true,
         "tickfont": {
          "color": "#4D5663"
         },
         "title": {
          "font": {
           "color": "#4D5663"
          },
          "text": "Country"
         },
         "zerolinecolor": "#E1E5ED"
        },
        "yaxis": {
         "gridcolor": "#E1E5ED",
         "showgrid": true,
         "tickfont": {
          "color": "#4D5663"
         },
         "title": {
          "font": {
           "color": "#4D5663"
          },
          "text": "Revenue"
         },
         "zerolinecolor": "#E1E5ED"
        }
       }
      },
      "text/html": [
       "<div>                            <div id=\"7f3a7d67-7f3a-402d-b2c8-6ee8145fdcfd\" class=\"plotly-graph-div\" style=\"height:525px; width:100%;\"></div>            <script type=\"text/javascript\">                require([\"plotly\"], function(Plotly) {                    window.PLOTLYENV=window.PLOTLYENV || {};\n",
       "                    window.PLOTLYENV.BASE_URL='https://plot.ly';                                    if (document.getElementById(\"7f3a7d67-7f3a-402d-b2c8-6ee8145fdcfd\")) {                    Plotly.newPlot(                        \"7f3a7d67-7f3a-402d-b2c8-6ee8145fdcfd\",                        [{\"marker\":{\"color\":\"rgba(255, 153, 51, 0.6)\",\"line\":{\"color\":\"rgba(255, 153, 51, 1.0)\",\"width\":1}},\"name\":\"CREAM HANGING HEART T-LIGHT HOLDER\",\"orientation\":\"v\",\"text\":\"\",\"x\":[\"EIRE\",\"France\",\"Germany\",\"Netherlands\"],\"y\":[2740.8,131.75,35.40000000000001,1167.0],\"type\":\"bar\"},{\"marker\":{\"color\":\"rgba(55, 128, 191, 0.6)\",\"line\":{\"color\":\"rgba(55, 128, 191, 1.0)\",\"width\":1}},\"name\":\"JUMBO BAG RED RETROSPOT\",\"orientation\":\"v\",\"text\":\"\",\"x\":[\"EIRE\",\"France\",\"Germany\",\"Netherlands\"],\"y\":[278.72,903.37,1072.76,3468.0],\"type\":\"bar\"},{\"marker\":{\"color\":\"rgba(50, 171, 96, 0.6)\",\"line\":{\"color\":\"rgba(50, 171, 96, 1.0)\",\"width\":1}},\"name\":\"REGENCY CAKESTAND 3 TIER\",\"orientation\":\"v\",\"text\":\"\",\"x\":[\"EIRE\",\"France\",\"Germany\",\"Netherlands\"],\"y\":[7388.55,2816.85,9061.949999999999,3166.35],\"type\":\"bar\"}],                        {\"legend\":{\"bgcolor\":\"#F5F6F9\",\"font\":{\"color\":\"#4D5663\"}},\"paper_bgcolor\":\"#F5F6F9\",\"plot_bgcolor\":\"#F5F6F9\",\"template\":{\"data\":{\"barpolar\":[{\"marker\":{\"line\":{\"color\":\"#E5ECF6\",\"width\":0.5},\"pattern\":{\"fillmode\":\"overlay\",\"size\":10,\"solidity\":0.2}},\"type\":\"barpolar\"}],\"bar\":[{\"error_x\":{\"color\":\"#2a3f5f\"},\"error_y\":{\"color\":\"#2a3f5f\"},\"marker\":{\"line\":{\"color\":\"#E5ECF6\",\"width\":0.5},\"pattern\":{\"fillmode\":\"overlay\",\"size\":10,\"solidity\":0.2}},\"type\":\"bar\"}],\"carpet\":[{\"aaxis\":{\"endlinecolor\":\"#2a3f5f\",\"gridcolor\":\"white\",\"linecolor\":\"white\",\"minorgridcolor\":\"white\",\"startlinecolor\":\"#2a3f5f\"},\"baxis\":{\"endlinecolor\":\"#2a3f5f\",\"gridcolor\":\"white\",\"linecolor\":\"white\",\"minorgridcolor\":\"white\",\"startlinecolor\":\"#2a3f5f\"},\"type\":\"carpet\"}],\"choropleth\":[{\"colorbar\":{\"outlinewidth\":0,\"ticks\":\"\"},\"type\":\"choropleth\"}],\"contourcarpet\":[{\"colorbar\":{\"outlinewidth\":0,\"ticks\":\"\"},\"type\":\"contourcarpet\"}],\"contour\":[{\"colorbar\":{\"outlinewidth\":0,\"ticks\":\"\"},\"colorscale\":[[0.0,\"#0d0887\"],[0.1111111111111111,\"#46039f\"],[0.2222222222222222,\"#7201a8\"],[0.3333333333333333,\"#9c179e\"],[0.4444444444444444,\"#bd3786\"],[0.5555555555555556,\"#d8576b\"],[0.6666666666666666,\"#ed7953\"],[0.7777777777777778,\"#fb9f3a\"],[0.8888888888888888,\"#fdca26\"],[1.0,\"#f0f921\"]],\"type\":\"contour\"}],\"heatmapgl\":[{\"colorbar\":{\"outlinewidth\":0,\"ticks\":\"\"},\"colorscale\":[[0.0,\"#0d0887\"],[0.1111111111111111,\"#46039f\"],[0.2222222222222222,\"#7201a8\"],[0.3333333333333333,\"#9c179e\"],[0.4444444444444444,\"#bd3786\"],[0.5555555555555556,\"#d8576b\"],[0.6666666666666666,\"#ed7953\"],[0.7777777777777778,\"#fb9f3a\"],[0.8888888888888888,\"#fdca26\"],[1.0,\"#f0f921\"]],\"type\":\"heatmapgl\"}],\"heatmap\":[{\"colorbar\":{\"outlinewidth\":0,\"ticks\":\"\"},\"colorscale\":[[0.0,\"#0d0887\"],[0.1111111111111111,\"#46039f\"],[0.2222222222222222,\"#7201a8\"],[0.3333333333333333,\"#9c179e\"],[0.4444444444444444,\"#bd3786\"],[0.5555555555555556,\"#d8576b\"],[0.6666666666666666,\"#ed7953\"],[0.7777777777777778,\"#fb9f3a\"],[0.8888888888888888,\"#fdca26\"],[1.0,\"#f0f921\"]],\"type\":\"heatmap\"}],\"histogram2dcontour\":[{\"colorbar\":{\"outlinewidth\":0,\"ticks\":\"\"},\"colorscale\":[[0.0,\"#0d0887\"],[0.1111111111111111,\"#46039f\"],[0.2222222222222222,\"#7201a8\"],[0.3333333333333333,\"#9c179e\"],[0.4444444444444444,\"#bd3786\"],[0.5555555555555556,\"#d8576b\"],[0.6666666666666666,\"#ed7953\"],[0.7777777777777778,\"#fb9f3a\"],[0.8888888888888888,\"#fdca26\"],[1.0,\"#f0f921\"]],\"type\":\"histogram2dcontour\"}],\"histogram2d\":[{\"colorbar\":{\"outlinewidth\":0,\"ticks\":\"\"},\"colorscale\":[[0.0,\"#0d0887\"],[0.1111111111111111,\"#46039f\"],[0.2222222222222222,\"#7201a8\"],[0.3333333333333333,\"#9c179e\"],[0.4444444444444444,\"#bd3786\"],[0.5555555555555556,\"#d8576b\"],[0.6666666666666666,\"#ed7953\"],[0.7777777777777778,\"#fb9f3a\"],[0.8888888888888888,\"#fdca26\"],[1.0,\"#f0f921\"]],\"type\":\"histogram2d\"}],\"histogram\":[{\"marker\":{\"pattern\":{\"fillmode\":\"overlay\",\"size\":10,\"solidity\":0.2}},\"type\":\"histogram\"}],\"mesh3d\":[{\"colorbar\":{\"outlinewidth\":0,\"ticks\":\"\"},\"type\":\"mesh3d\"}],\"parcoords\":[{\"line\":{\"colorbar\":{\"outlinewidth\":0,\"ticks\":\"\"}},\"type\":\"parcoords\"}],\"pie\":[{\"automargin\":true,\"type\":\"pie\"}],\"scatter3d\":[{\"line\":{\"colorbar\":{\"outlinewidth\":0,\"ticks\":\"\"}},\"marker\":{\"colorbar\":{\"outlinewidth\":0,\"ticks\":\"\"}},\"type\":\"scatter3d\"}],\"scattercarpet\":[{\"marker\":{\"colorbar\":{\"outlinewidth\":0,\"ticks\":\"\"}},\"type\":\"scattercarpet\"}],\"scattergeo\":[{\"marker\":{\"colorbar\":{\"outlinewidth\":0,\"ticks\":\"\"}},\"type\":\"scattergeo\"}],\"scattergl\":[{\"marker\":{\"colorbar\":{\"outlinewidth\":0,\"ticks\":\"\"}},\"type\":\"scattergl\"}],\"scattermapbox\":[{\"marker\":{\"colorbar\":{\"outlinewidth\":0,\"ticks\":\"\"}},\"type\":\"scattermapbox\"}],\"scatterpolargl\":[{\"marker\":{\"colorbar\":{\"outlinewidth\":0,\"ticks\":\"\"}},\"type\":\"scatterpolargl\"}],\"scatterpolar\":[{\"marker\":{\"colorbar\":{\"outlinewidth\":0,\"ticks\":\"\"}},\"type\":\"scatterpolar\"}],\"scatter\":[{\"fillpattern\":{\"fillmode\":\"overlay\",\"size\":10,\"solidity\":0.2},\"type\":\"scatter\"}],\"scatterternary\":[{\"marker\":{\"colorbar\":{\"outlinewidth\":0,\"ticks\":\"\"}},\"type\":\"scatterternary\"}],\"surface\":[{\"colorbar\":{\"outlinewidth\":0,\"ticks\":\"\"},\"colorscale\":[[0.0,\"#0d0887\"],[0.1111111111111111,\"#46039f\"],[0.2222222222222222,\"#7201a8\"],[0.3333333333333333,\"#9c179e\"],[0.4444444444444444,\"#bd3786\"],[0.5555555555555556,\"#d8576b\"],[0.6666666666666666,\"#ed7953\"],[0.7777777777777778,\"#fb9f3a\"],[0.8888888888888888,\"#fdca26\"],[1.0,\"#f0f921\"]],\"type\":\"surface\"}],\"table\":[{\"cells\":{\"fill\":{\"color\":\"#EBF0F8\"},\"line\":{\"color\":\"white\"}},\"header\":{\"fill\":{\"color\":\"#C8D4E3\"},\"line\":{\"color\":\"white\"}},\"type\":\"table\"}]},\"layout\":{\"annotationdefaults\":{\"arrowcolor\":\"#2a3f5f\",\"arrowhead\":0,\"arrowwidth\":1},\"autotypenumbers\":\"strict\",\"coloraxis\":{\"colorbar\":{\"outlinewidth\":0,\"ticks\":\"\"}},\"colorscale\":{\"diverging\":[[0,\"#8e0152\"],[0.1,\"#c51b7d\"],[0.2,\"#de77ae\"],[0.3,\"#f1b6da\"],[0.4,\"#fde0ef\"],[0.5,\"#f7f7f7\"],[0.6,\"#e6f5d0\"],[0.7,\"#b8e186\"],[0.8,\"#7fbc41\"],[0.9,\"#4d9221\"],[1,\"#276419\"]],\"sequential\":[[0.0,\"#0d0887\"],[0.1111111111111111,\"#46039f\"],[0.2222222222222222,\"#7201a8\"],[0.3333333333333333,\"#9c179e\"],[0.4444444444444444,\"#bd3786\"],[0.5555555555555556,\"#d8576b\"],[0.6666666666666666,\"#ed7953\"],[0.7777777777777778,\"#fb9f3a\"],[0.8888888888888888,\"#fdca26\"],[1.0,\"#f0f921\"]],\"sequentialminus\":[[0.0,\"#0d0887\"],[0.1111111111111111,\"#46039f\"],[0.2222222222222222,\"#7201a8\"],[0.3333333333333333,\"#9c179e\"],[0.4444444444444444,\"#bd3786\"],[0.5555555555555556,\"#d8576b\"],[0.6666666666666666,\"#ed7953\"],[0.7777777777777778,\"#fb9f3a\"],[0.8888888888888888,\"#fdca26\"],[1.0,\"#f0f921\"]]},\"colorway\":[\"#636efa\",\"#EF553B\",\"#00cc96\",\"#ab63fa\",\"#FFA15A\",\"#19d3f3\",\"#FF6692\",\"#B6E880\",\"#FF97FF\",\"#FECB52\"],\"font\":{\"color\":\"#2a3f5f\"},\"geo\":{\"bgcolor\":\"white\",\"lakecolor\":\"white\",\"landcolor\":\"#E5ECF6\",\"showlakes\":true,\"showland\":true,\"subunitcolor\":\"white\"},\"hoverlabel\":{\"align\":\"left\"},\"hovermode\":\"closest\",\"mapbox\":{\"style\":\"light\"},\"paper_bgcolor\":\"white\",\"plot_bgcolor\":\"#E5ECF6\",\"polar\":{\"angularaxis\":{\"gridcolor\":\"white\",\"linecolor\":\"white\",\"ticks\":\"\"},\"bgcolor\":\"#E5ECF6\",\"radialaxis\":{\"gridcolor\":\"white\",\"linecolor\":\"white\",\"ticks\":\"\"}},\"scene\":{\"xaxis\":{\"backgroundcolor\":\"#E5ECF6\",\"gridcolor\":\"white\",\"gridwidth\":2,\"linecolor\":\"white\",\"showbackground\":true,\"ticks\":\"\",\"zerolinecolor\":\"white\"},\"yaxis\":{\"backgroundcolor\":\"#E5ECF6\",\"gridcolor\":\"white\",\"gridwidth\":2,\"linecolor\":\"white\",\"showbackground\":true,\"ticks\":\"\",\"zerolinecolor\":\"white\"},\"zaxis\":{\"backgroundcolor\":\"#E5ECF6\",\"gridcolor\":\"white\",\"gridwidth\":2,\"linecolor\":\"white\",\"showbackground\":true,\"ticks\":\"\",\"zerolinecolor\":\"white\"}},\"shapedefaults\":{\"line\":{\"color\":\"#2a3f5f\"}},\"ternary\":{\"aaxis\":{\"gridcolor\":\"white\",\"linecolor\":\"white\",\"ticks\":\"\"},\"baxis\":{\"gridcolor\":\"white\",\"linecolor\":\"white\",\"ticks\":\"\"},\"bgcolor\":\"#E5ECF6\",\"caxis\":{\"gridcolor\":\"white\",\"linecolor\":\"white\",\"ticks\":\"\"}},\"title\":{\"x\":0.05},\"xaxis\":{\"automargin\":true,\"gridcolor\":\"white\",\"linecolor\":\"white\",\"ticks\":\"\",\"title\":{\"standoff\":15},\"zerolinecolor\":\"white\",\"zerolinewidth\":2},\"yaxis\":{\"automargin\":true,\"gridcolor\":\"white\",\"linecolor\":\"white\",\"ticks\":\"\",\"title\":{\"standoff\":15},\"zerolinecolor\":\"white\",\"zerolinewidth\":2}}},\"title\":{\"font\":{\"color\":\"#4D5663\"},\"text\":\"revenue by country\"},\"xaxis\":{\"gridcolor\":\"#E1E5ED\",\"showgrid\":true,\"tickfont\":{\"color\":\"#4D5663\"},\"title\":{\"font\":{\"color\":\"#4D5663\"},\"text\":\"Country\"},\"zerolinecolor\":\"#E1E5ED\"},\"yaxis\":{\"gridcolor\":\"#E1E5ED\",\"showgrid\":true,\"tickfont\":{\"color\":\"#4D5663\"},\"title\":{\"font\":{\"color\":\"#4D5663\"},\"text\":\"Revenue\"},\"zerolinecolor\":\"#E1E5ED\"}},                        {\"showLink\": true, \"linkText\": \"Export to plot.ly\", \"plotlyServerURL\": \"https://plot.ly\", \"responsive\": true}                    ).then(function(){\n",
       "                            \n",
       "var gd = document.getElementById('7f3a7d67-7f3a-402d-b2c8-6ee8145fdcfd');\n",
       "var x = new MutationObserver(function (mutations, observer) {{\n",
       "        var display = window.getComputedStyle(gd).display;\n",
       "        if (!display || display === 'none') {{\n",
       "            console.log([gd, 'removed!']);\n",
       "            Plotly.purge(gd);\n",
       "            observer.disconnect();\n",
       "        }}\n",
       "}});\n",
       "\n",
       "// Listen for the removal of the full notebook cells\n",
       "var notebookContainer = gd.closest('#notebook-container');\n",
       "if (notebookContainer) {{\n",
       "    x.observe(notebookContainer, {childList: true});\n",
       "}}\n",
       "\n",
       "// Listen for the clearing of the current output cell\n",
       "var outputEl = gd.closest('.output');\n",
       "if (outputEl) {{\n",
       "    x.observe(outputEl, {childList: true});\n",
       "}}\n",
       "\n",
       "                        })                };                });            </script>        </div>"
      ]
     },
     "metadata": {},
     "output_type": "display_data"
    }
   ],
   "source": [
    "data51.iplot(kind='bar', \n",
    "           x='Country', \n",
    "           title='revenue by country',\n",
    "           xTitle='Country', \n",
    "           yTitle='Revenue')"
   ]
  },
  {
   "cell_type": "markdown",
   "metadata": {},
   "source": [
    "## 6. Create an interactive line chart showing quantity sold by day for the United Kingdom. Add drop-down boxes for Year and Month that allow you to filter the date range that appears in the chart."
   ]
  },
  {
   "cell_type": "code",
   "execution_count": 115,
   "metadata": {},
   "outputs": [],
   "source": [
    "data6=online[online.Country=='United Kingdom']"
   ]
  },
  {
   "cell_type": "code",
   "execution_count": 116,
   "metadata": {},
   "outputs": [],
   "source": [
    "data61=data6.groupby('InvoiceDate')[['Quantity']].sum()"
   ]
  },
  {
   "cell_type": "code",
   "execution_count": 118,
   "metadata": {},
   "outputs": [],
   "source": [
    "# data61.iplot(kind='bar', \n",
    "#            x='Quantity', \n",
    "#            categories='Quantity',\n",
    "#            title='quantity sold by day for the United Kingdom',\n",
    "#            xTitle='InvoiceDate', \n",
    "#            yTitle='Quantity')\n",
    "\n",
    "# No te sale, vuelvelo a intentar."
   ]
  },
  {
   "cell_type": "code",
   "execution_count": null,
   "metadata": {},
   "outputs": [],
   "source": []
  },
  {
   "cell_type": "code",
   "execution_count": null,
   "metadata": {},
   "outputs": [],
   "source": []
  },
  {
   "cell_type": "code",
   "execution_count": null,
   "metadata": {},
   "outputs": [],
   "source": []
  },
  {
   "cell_type": "markdown",
   "metadata": {},
   "source": [
    "## 7. Create an interactive scatter plot that plots number of invoices (x-axis) vs. number of customers (y-axis) and the plot points represent individual products. Add two sliders that control the x and y axis ranges."
   ]
  },
  {
   "cell_type": "code",
   "execution_count": null,
   "metadata": {},
   "outputs": [],
   "source": []
  },
  {
   "cell_type": "code",
   "execution_count": null,
   "metadata": {},
   "outputs": [],
   "source": []
  },
  {
   "cell_type": "code",
   "execution_count": null,
   "metadata": {},
   "outputs": [],
   "source": []
  },
  {
   "cell_type": "markdown",
   "metadata": {},
   "source": [
    "## 8. Creat an interactive bar chart that shows revenue by product description. Add a text field widget that filters the results to show the product that contain the text entered in their description."
   ]
  },
  {
   "cell_type": "code",
   "execution_count": null,
   "metadata": {},
   "outputs": [],
   "source": []
  }
 ],
 "metadata": {
  "kernelspec": {
   "display_name": "Python 3 (ipykernel)",
   "language": "python",
   "name": "python3"
  },
  "language_info": {
   "codemirror_mode": {
    "name": "ipython",
    "version": 3
   },
   "file_extension": ".py",
   "mimetype": "text/x-python",
   "name": "python",
   "nbconvert_exporter": "python",
   "pygments_lexer": "ipython3",
   "version": "3.11.1"
  }
 },
 "nbformat": 4,
 "nbformat_minor": 2
}
