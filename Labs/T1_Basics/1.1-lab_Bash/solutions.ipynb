echo "hello world"
mkdir new_dir
rm -r new_dir
mkdir lorem-copy
cp sed.txt lorem-copy/
cd ..
cat sed.txt
cat at.txt 
cat lorem.txt
cd lorem-copy
Get-Content sed.txt -TotalCount 3
echo 'Homo homini lupus.' >> sed.txt
Get-Content sed.txt -Tail 3
$env:USERNAME
pwd
cd ..
Get-ChildItem -Filter *.txt
(Get-Content sed.txt).Count
(Get-ChildItem -Recurse -Filter "lorem*").Count
(Get-Content at.txt | Select-String -Pattern "et" -AllMatches).Matches.Count