{
 "cells": [
  {
   "cell_type": "markdown",
   "metadata": {},
   "source": [
    "# Working with RSS Feeds Lab\n",
    "\n",
    "Complete the following set of exercises to solidify your knowledge of parsing RSS feeds and extracting information from them."
   ]
  },
  {
   "cell_type": "code",
   "execution_count": 3,
   "metadata": {},
   "outputs": [
    {
     "name": "stdout",
     "output_type": "stream",
     "text": [
      "Collecting feedparser\n",
      "  Downloading feedparser-6.0.10-py3-none-any.whl (81 kB)\n",
      "     ---------------------------------------- 0.0/81.1 kB ? eta -:--:--\n",
      "     ---------------------------------------- 81.1/81.1 kB 4.7 MB/s eta 0:00:00\n",
      "Collecting sgmllib3k\n",
      "  Downloading sgmllib3k-1.0.0.tar.gz (5.8 kB)\n",
      "  Preparing metadata (setup.py): started\n",
      "  Preparing metadata (setup.py): finished with status 'done'\n",
      "Installing collected packages: sgmllib3k, feedparser\n",
      "  Running setup.py install for sgmllib3k: started\n",
      "  Running setup.py install for sgmllib3k: finished with status 'done'\n",
      "Successfully installed feedparser-6.0.10 sgmllib3k-1.0.0\n",
      "Note: you may need to restart the kernel to use updated packages.\n"
     ]
    },
    {
     "name": "stderr",
     "output_type": "stream",
     "text": [
      "  DEPRECATION: sgmllib3k is being installed using the legacy 'setup.py install' method, because it does not have a 'pyproject.toml' and the 'wheel' package is not installed. pip 23.1 will enforce this behaviour change. A possible replacement is to enable the '--use-pep517' option. Discussion can be found at https://github.com/pypa/pip/issues/8559\n",
      "\n",
      "[notice] A new release of pip is available: 23.0.1 -> 23.1.2\n",
      "[notice] To update, run: python.exe -m pip install --upgrade pip\n"
     ]
    }
   ],
   "source": [
    "%pip install feedparser"
   ]
  },
  {
   "cell_type": "code",
   "execution_count": 223,
   "metadata": {},
   "outputs": [],
   "source": [
    "import feedparser\n",
    "from datetime import datetime"
   ]
  },
  {
   "cell_type": "markdown",
   "metadata": {},
   "source": [
    "### 1. Use feedparser to parse the following RSS feed URL."
   ]
  },
  {
   "cell_type": "code",
   "execution_count": 51,
   "metadata": {},
   "outputs": [],
   "source": [
    "url = 'https://www.nasa.gov/rss/dyn/onthestation_rss.rss'\n",
    "nasa = feedparser.parse(f'{url}')"
   ]
  },
  {
   "cell_type": "markdown",
   "metadata": {},
   "source": [
    "### 2. Obtain a list of components (keys) that are available for this feed."
   ]
  },
  {
   "cell_type": "code",
   "execution_count": 19,
   "metadata": {},
   "outputs": [
    {
     "data": {
      "text/plain": [
       "dict_keys(['bozo', 'entries', 'feed', 'headers', 'href', 'status', 'encoding', 'version', 'namespaces'])"
      ]
     },
     "execution_count": 19,
     "metadata": {},
     "output_type": "execute_result"
    }
   ],
   "source": [
    "nasa.keys()"
   ]
  },
  {
   "cell_type": "markdown",
   "metadata": {},
   "source": [
    "### 3. Obtain a list of components (keys) that are available for the *feed* component of this RSS feed."
   ]
  },
  {
   "cell_type": "code",
   "execution_count": 27,
   "metadata": {},
   "outputs": [
    {
     "data": {
      "text/plain": [
       "['entries',\n",
       " 'feed',\n",
       " 'headers',\n",
       " 'href',\n",
       " 'status',\n",
       " 'encoding',\n",
       " 'version',\n",
       " 'namespaces']"
      ]
     },
     "execution_count": 27,
     "metadata": {},
     "output_type": "execute_result"
    }
   ],
   "source": [
    "avaliable = []\n",
    "for key, value in nasa.items():\n",
    "    if value != False:\n",
    "        avaliable.append(key)\n",
    "avaliable"
   ]
  },
  {
   "cell_type": "markdown",
   "metadata": {},
   "source": [
    "### 4. Extract and print the feed title, subtitle, author, and link."
   ]
  },
  {
   "cell_type": "markdown",
   "metadata": {},
   "source": [
    "No he encontrado una key que sea subtitle y author, por lo que las he sustituido por language y summary.\n"
   ]
  },
  {
   "cell_type": "code",
   "execution_count": 103,
   "metadata": {},
   "outputs": [
    {
     "name": "stdout",
     "output_type": "stream",
     "text": [
      "Entry 0:\n",
      "Title: Space Station Science Highlights: Week of April 24, 2023\n",
      "Language: en\n",
      "Link: http://www.nasa.gov/mission_pages/station/research/news/space-station-science-highlights-24apr23\n",
      "Summary: Crew members aboard the International Space Station conducted scientific investigations during the week of April 24.\n",
      "\n",
      "Entry 1:\n",
      "Title: Space Station Science Highlights: Week of April 17, 2023\n",
      "Language: en\n",
      "Link: http://www.nasa.gov/mission_pages/station/research/news/space-station-science-highlights-17apr23\n",
      "Summary: Crew members aboard the International Space Station conducted scientific investigations during the week of April 17 that included demonstrating a liquid-based carbon dioxide removal system, measuring eye changes during spaceflight, and offering students in Europe an opportunity to use computers on the space station for specific challenges.\n",
      "\n",
      "Entry 2:\n",
      "Title: Space Station Studies Help Monitor Climate Change\n",
      "Language: en\n",
      "Link: http://www.nasa.gov/mission_pages/station/research/news/Space_Station_Monitors_Climate_Change\n",
      "Summary: On Earth Day, people focus on the well-being of our planet, including how humans are affecting its climate.\n",
      "\n",
      "Entry 3:\n",
      "Title: NASA Teams Persevere Through Plant Challenges in Space\n",
      "Language: en\n",
      "Link: http://www.nasa.gov/feature/nasa-teams-persevere-through-plant-challenges-in-space\n",
      "Summary: Dr. Gioia Massa, life sciences project scientist at NASA’s Kennedy Space Center in Florida, talks about persevering through a challenging plant experiment in space.\n",
      "\n",
      "Entry 4:\n",
      "Title: Space Station Science Highlights: Week of April 10, 2023\n",
      "Language: en\n",
      "Link: http://www.nasa.gov/mission_pages/station/research/news/space-station-science-highlights-10Apr23\n",
      "Summary: Crew members aboard the International Space Station conducted scientific investigations during the week of April 10\n",
      "\n",
      "Entry 5:\n",
      "Title: NASA, SpaceX's 27th Resupply Mission Returns Science Samples for Study\n",
      "Language: en\n",
      "Link: http://www.nasa.gov/mission_pages/station/research/news/SpX-27_Resupply_Returns_Science\n",
      "Summary: Samples from NASA studies are returning from the International Space Station April 15 aboard the 27th SpaceX commercial resupply services mission for the agency.\n",
      "\n",
      "Entry 6:\n",
      "Title: Space Station Science Highlights: Week of April 3, 2023\n",
      "Language: en\n",
      "Link: http://www.nasa.gov/mission_pages/station/research/news/space-station-science-highlights-030423\n",
      "Summary: Crew members aboard the International Space Station conducted scientific investigations during the week of April 3.\n",
      "\n",
      "Entry 7:\n",
      "Title: Space Station Science Highlights: Week of March 27, 2023\n",
      "Language: en\n",
      "Link: http://www.nasa.gov/mission_pages/station/research/news/space-station-science-highlights-27mar23\n",
      "Summary: Crew members aboard the International Space Station conducted scientific investigations during the week of March 27\n",
      "\n",
      "Entry 8:\n",
      "Title: Celebrating Women’s History Month: Female Space Station Crew Members\n",
      "Language: en\n",
      "Link: http://www.nasa.gov/mission_pages/station/research/news/2023-womens-history-month-nasa-female-space-station-crew-members\n",
      "Summary: For Women’s History Month, NASA and the International Space Station celebrate women conducting science aboard the orbiting lab.\n",
      "\n",
      "Entry 9:\n",
      "Title: Space Station Science Highlights: Week of March 20, 2023\n",
      "Language: en\n",
      "Link: http://www.nasa.gov/mission_pages/station/research/news/space-station-science-highlights-20Mar23\n",
      "Summary: Crew members aboard the International Space Station conducted scientific investigations during the week of March 20.\n",
      "\n"
     ]
    }
   ],
   "source": [
    "extraction = {}\n",
    "for i, entry in enumerate(nasa['entries']):\n",
    "    title = entry['title']\n",
    "    language = entry['title_detail']['language']\n",
    "    link = entry['link']\n",
    "    summ = entry['summary']\n",
    "    extraction[i] = {'title': title, 'language': language, 'link': link, 'summary': summ}\n",
    "for key, value in extraction.items():\n",
    "    print(f\"Entry {key}:\")\n",
    "    print(f\"Title: {value['title']}\")\n",
    "    print(f\"Language: {value['language']}\")\n",
    "    print(f\"Link: {value['link']}\")\n",
    "    print(f\"Summary: {value['summary']}\")\n",
    "    print()"
   ]
  },
  {
   "cell_type": "markdown",
   "metadata": {},
   "source": [
    "### 5. Count the number of entries that are contained in this RSS feed."
   ]
  },
  {
   "cell_type": "code",
   "execution_count": 73,
   "metadata": {},
   "outputs": [
    {
     "data": {
      "text/plain": [
       "10"
      ]
     },
     "execution_count": 73,
     "metadata": {},
     "output_type": "execute_result"
    }
   ],
   "source": [
    "len(nasa['entries'])"
   ]
  },
  {
   "cell_type": "markdown",
   "metadata": {},
   "source": [
    "### 6. Obtain a list of components (keys) available for an entry.\n",
    "\n",
    "*Hint: Remember to index first before requesting the keys*"
   ]
  },
  {
   "cell_type": "code",
   "execution_count": 111,
   "metadata": {},
   "outputs": [
    {
     "data": {
      "text/plain": [
       "dict_keys(['title', 'title_detail', 'links', 'link', 'summary', 'summary_detail', 'id', 'guidislink', 'published', 'published_parsed', 'source'])"
      ]
     },
     "execution_count": 111,
     "metadata": {},
     "output_type": "execute_result"
    }
   ],
   "source": [
    "keys = []\n",
    "for i in nasa['entries']:\n",
    "    keys.append(i.keys())\n",
    "keys[0]"
   ]
  },
  {
   "cell_type": "markdown",
   "metadata": {},
   "source": [
    "### 7. Extract a list of entry titles."
   ]
  },
  {
   "cell_type": "code",
   "execution_count": 115,
   "metadata": {},
   "outputs": [
    {
     "data": {
      "text/plain": [
       "['Space Station Science Highlights: Week of April 24, 2023',\n",
       " 'Space Station Science Highlights: Week of April 17, 2023',\n",
       " 'Space Station Studies Help Monitor Climate Change',\n",
       " 'NASA Teams Persevere Through Plant Challenges in Space',\n",
       " 'Space Station Science Highlights: Week of April 10, 2023',\n",
       " \"NASA, SpaceX's 27th Resupply Mission Returns Science Samples for Study\",\n",
       " 'Space Station Science Highlights: Week of April 3, 2023',\n",
       " 'Space Station Science Highlights: Week of March 27, 2023',\n",
       " 'Celebrating Women’s History Month: Female Space Station Crew Members',\n",
       " 'Space Station Science Highlights: Week of March 20, 2023']"
      ]
     },
     "execution_count": 115,
     "metadata": {},
     "output_type": "execute_result"
    }
   ],
   "source": [
    "titles = []\n",
    "for i in nasa['entries']:\n",
    "    titles.append(i['title'])\n",
    "titles"
   ]
  },
  {
   "cell_type": "markdown",
   "metadata": {},
   "source": [
    "### 8. Calculate the percentage of \"Four short links\" entry titles."
   ]
  },
  {
   "cell_type": "code",
   "execution_count": 118,
   "metadata": {},
   "outputs": [
    {
     "data": {
      "text/plain": [
       "{'title': 'Space Station Science Highlights: Week of April 24, 2023',\n",
       " 'title_detail': {'type': 'text/plain',\n",
       "  'language': 'en',\n",
       "  'base': 'http://www.nasa.gov/',\n",
       "  'value': 'Space Station Science Highlights: Week of April 24, 2023'},\n",
       " 'links': [{'rel': 'alternate',\n",
       "   'type': 'text/html',\n",
       "   'href': 'http://www.nasa.gov/mission_pages/station/research/news/space-station-science-highlights-24apr23'},\n",
       "  {'length': '2224270',\n",
       "   'type': 'image/jpeg',\n",
       "   'href': 'http://www.nasa.gov/sites/default/files/styles/1x1_cardfeed/public/thumbnails/image/canadarm.jpg?itok=vVHvKY0-',\n",
       "   'rel': 'enclosure'}],\n",
       " 'link': 'http://www.nasa.gov/mission_pages/station/research/news/space-station-science-highlights-24apr23',\n",
       " 'summary': 'Crew members aboard the International Space Station conducted scientific investigations during the week of April 24.',\n",
       " 'summary_detail': {'type': 'text/html',\n",
       "  'language': 'en',\n",
       "  'base': 'http://www.nasa.gov/',\n",
       "  'value': 'Crew members aboard the International Space Station conducted scientific investigations during the week of April 24.'},\n",
       " 'id': 'http://www.nasa.gov/mission_pages/station/research/news/space-station-science-highlights-24apr23',\n",
       " 'guidislink': False,\n",
       " 'published': 'Fri, 28 Apr 2023 14:00 EDT',\n",
       " 'published_parsed': time.struct_time(tm_year=2023, tm_mon=4, tm_mday=28, tm_hour=18, tm_min=0, tm_sec=0, tm_wday=4, tm_yday=118, tm_isdst=0),\n",
       " 'source': {'href': 'http://www.nasa.gov/rss/dyn/onthestation_rss.rss',\n",
       "  'title': 'On the Station - Latest News'}}"
      ]
     },
     "execution_count": 118,
     "metadata": {},
     "output_type": "execute_result"
    }
   ],
   "source": [
    "nasa['entries'][0]\n",
    "\n",
    "# Revisar, porque no entiendo la pregunta..."
   ]
  },
  {
   "cell_type": "markdown",
   "metadata": {},
   "source": [
    "### 9. Create a Pandas data frame from the feed's entries."
   ]
  },
  {
   "cell_type": "code",
   "execution_count": 119,
   "metadata": {},
   "outputs": [],
   "source": [
    "import pandas as pd"
   ]
  },
  {
   "cell_type": "code",
   "execution_count": 172,
   "metadata": {},
   "outputs": [
    {
     "data": {
      "text/plain": [
       "dict_keys(['bozo', 'entries', 'feed', 'headers', 'href', 'status', 'encoding', 'version', 'namespaces'])"
      ]
     },
     "execution_count": 172,
     "metadata": {},
     "output_type": "execute_result"
    }
   ],
   "source": [
    "nasa.keys()"
   ]
  },
  {
   "cell_type": "code",
   "execution_count": 175,
   "metadata": {},
   "outputs": [
    {
     "data": {
      "text/plain": [
       "{'title': 'Space Station Science Highlights: Week of April 24, 2023',\n",
       " 'title_detail': {'type': 'text/plain',\n",
       "  'language': 'en',\n",
       "  'base': 'http://www.nasa.gov/',\n",
       "  'value': 'Space Station Science Highlights: Week of April 24, 2023'},\n",
       " 'links': [{'rel': 'alternate',\n",
       "   'type': 'text/html',\n",
       "   'href': 'http://www.nasa.gov/mission_pages/station/research/news/space-station-science-highlights-24apr23'},\n",
       "  {'length': '2224270',\n",
       "   'type': 'image/jpeg',\n",
       "   'href': 'http://www.nasa.gov/sites/default/files/styles/1x1_cardfeed/public/thumbnails/image/canadarm.jpg?itok=vVHvKY0-',\n",
       "   'rel': 'enclosure'}],\n",
       " 'link': 'http://www.nasa.gov/mission_pages/station/research/news/space-station-science-highlights-24apr23',\n",
       " 'summary': 'Crew members aboard the International Space Station conducted scientific investigations during the week of April 24.',\n",
       " 'summary_detail': {'type': 'text/html',\n",
       "  'language': 'en',\n",
       "  'base': 'http://www.nasa.gov/',\n",
       "  'value': 'Crew members aboard the International Space Station conducted scientific investigations during the week of April 24.'},\n",
       " 'id': 'http://www.nasa.gov/mission_pages/station/research/news/space-station-science-highlights-24apr23',\n",
       " 'guidislink': False,\n",
       " 'published': 'Fri, 28 Apr 2023 14:00 EDT',\n",
       " 'published_parsed': time.struct_time(tm_year=2023, tm_mon=4, tm_mday=28, tm_hour=18, tm_min=0, tm_sec=0, tm_wday=4, tm_yday=118, tm_isdst=0),\n",
       " 'source': {'href': 'http://www.nasa.gov/rss/dyn/onthestation_rss.rss',\n",
       "  'title': 'On the Station - Latest News'}}"
      ]
     },
     "execution_count": 175,
     "metadata": {},
     "output_type": "execute_result"
    }
   ],
   "source": [
    "nasa['entries'][0]"
   ]
  },
  {
   "cell_type": "code",
   "execution_count": 186,
   "metadata": {},
   "outputs": [
    {
     "data": {
      "text/plain": [
       "dict_keys(['language', 'title', 'title_detail', 'subtitle', 'subtitle_detail', 'links', 'link'])"
      ]
     },
     "execution_count": 186,
     "metadata": {},
     "output_type": "execute_result"
    }
   ],
   "source": [
    "nasa['feed'].keys()"
   ]
  },
  {
   "cell_type": "markdown",
   "metadata": {},
   "source": [
    "Como no sabía si se pide de entries o de feed lo hago de los dos"
   ]
  },
  {
   "cell_type": "code",
   "execution_count": 191,
   "metadata": {},
   "outputs": [],
   "source": [
    "def extraction_feed():\n",
    "    ext = {}\n",
    "    result = []\n",
    "    include = ['language', 'title', 'subtitle', 'link']\n",
    "    for key, value in nasa['feed'].items():\n",
    "        if key in include:\n",
    "            ext[key] = value\n",
    "            result.append(ext)\n",
    "        \n",
    "    return result"
   ]
  },
  {
   "cell_type": "code",
   "execution_count": 194,
   "metadata": {},
   "outputs": [],
   "source": [
    " def extraction_entry():\n",
    "    ext = {}\n",
    "    result = []\n",
    "    for i, entry in enumerate(nasa['entries']):\n",
    "        ext['title'] = entry['title']\n",
    "        ext['link'] = entry['link']\n",
    "        ext['summ'] = entry['summary']\n",
    "        ext['published'] = entry['published']\n",
    "        \n",
    "        result.append(ext)\n",
    "    return result"
   ]
  },
  {
   "cell_type": "code",
   "execution_count": 192,
   "metadata": {},
   "outputs": [
    {
     "data": {
      "text/html": [
       "<div>\n",
       "<style scoped>\n",
       "    .dataframe tbody tr th:only-of-type {\n",
       "        vertical-align: middle;\n",
       "    }\n",
       "\n",
       "    .dataframe tbody tr th {\n",
       "        vertical-align: top;\n",
       "    }\n",
       "\n",
       "    .dataframe thead th {\n",
       "        text-align: right;\n",
       "    }\n",
       "</style>\n",
       "<table border=\"1\" class=\"dataframe\">\n",
       "  <thead>\n",
       "    <tr style=\"text-align: right;\">\n",
       "      <th></th>\n",
       "      <th>language</th>\n",
       "      <th>title</th>\n",
       "      <th>subtitle</th>\n",
       "      <th>link</th>\n",
       "    </tr>\n",
       "  </thead>\n",
       "  <tbody>\n",
       "    <tr>\n",
       "      <th>0</th>\n",
       "      <td>en-us</td>\n",
       "      <td>On the Station - Latest News</td>\n",
       "      <td>On the Station - Latest News</td>\n",
       "      <td>http://www.nasa.gov/</td>\n",
       "    </tr>\n",
       "    <tr>\n",
       "      <th>1</th>\n",
       "      <td>en-us</td>\n",
       "      <td>On the Station - Latest News</td>\n",
       "      <td>On the Station - Latest News</td>\n",
       "      <td>http://www.nasa.gov/</td>\n",
       "    </tr>\n",
       "    <tr>\n",
       "      <th>2</th>\n",
       "      <td>en-us</td>\n",
       "      <td>On the Station - Latest News</td>\n",
       "      <td>On the Station - Latest News</td>\n",
       "      <td>http://www.nasa.gov/</td>\n",
       "    </tr>\n",
       "    <tr>\n",
       "      <th>3</th>\n",
       "      <td>en-us</td>\n",
       "      <td>On the Station - Latest News</td>\n",
       "      <td>On the Station - Latest News</td>\n",
       "      <td>http://www.nasa.gov/</td>\n",
       "    </tr>\n",
       "  </tbody>\n",
       "</table>\n",
       "</div>"
      ],
      "text/plain": [
       "  language                         title                      subtitle   \n",
       "0    en-us  On the Station - Latest News  On the Station - Latest News  \\\n",
       "1    en-us  On the Station - Latest News  On the Station - Latest News   \n",
       "2    en-us  On the Station - Latest News  On the Station - Latest News   \n",
       "3    en-us  On the Station - Latest News  On the Station - Latest News   \n",
       "\n",
       "                   link  \n",
       "0  http://www.nasa.gov/  \n",
       "1  http://www.nasa.gov/  \n",
       "2  http://www.nasa.gov/  \n",
       "3  http://www.nasa.gov/  "
      ]
     },
     "execution_count": 192,
     "metadata": {},
     "output_type": "execute_result"
    }
   ],
   "source": [
    "nasa_db_feed = pd.DataFrame(extraction_feed())\n",
    "nasa_db_feed"
   ]
  },
  {
   "cell_type": "code",
   "execution_count": 195,
   "metadata": {},
   "outputs": [
    {
     "data": {
      "text/html": [
       "<div>\n",
       "<style scoped>\n",
       "    .dataframe tbody tr th:only-of-type {\n",
       "        vertical-align: middle;\n",
       "    }\n",
       "\n",
       "    .dataframe tbody tr th {\n",
       "        vertical-align: top;\n",
       "    }\n",
       "\n",
       "    .dataframe thead th {\n",
       "        text-align: right;\n",
       "    }\n",
       "</style>\n",
       "<table border=\"1\" class=\"dataframe\">\n",
       "  <thead>\n",
       "    <tr style=\"text-align: right;\">\n",
       "      <th></th>\n",
       "      <th>title</th>\n",
       "      <th>link</th>\n",
       "      <th>summ</th>\n",
       "      <th>published</th>\n",
       "    </tr>\n",
       "  </thead>\n",
       "  <tbody>\n",
       "    <tr>\n",
       "      <th>0</th>\n",
       "      <td>Space Station Science Highlights: Week of Marc...</td>\n",
       "      <td>http://www.nasa.gov/mission_pages/station/rese...</td>\n",
       "      <td>Crew members aboard the International Space St...</td>\n",
       "      <td>Fri, 24 Mar 2023 14:00 EDT</td>\n",
       "    </tr>\n",
       "    <tr>\n",
       "      <th>1</th>\n",
       "      <td>Space Station Science Highlights: Week of Marc...</td>\n",
       "      <td>http://www.nasa.gov/mission_pages/station/rese...</td>\n",
       "      <td>Crew members aboard the International Space St...</td>\n",
       "      <td>Fri, 24 Mar 2023 14:00 EDT</td>\n",
       "    </tr>\n",
       "    <tr>\n",
       "      <th>2</th>\n",
       "      <td>Space Station Science Highlights: Week of Marc...</td>\n",
       "      <td>http://www.nasa.gov/mission_pages/station/rese...</td>\n",
       "      <td>Crew members aboard the International Space St...</td>\n",
       "      <td>Fri, 24 Mar 2023 14:00 EDT</td>\n",
       "    </tr>\n",
       "    <tr>\n",
       "      <th>3</th>\n",
       "      <td>Space Station Science Highlights: Week of Marc...</td>\n",
       "      <td>http://www.nasa.gov/mission_pages/station/rese...</td>\n",
       "      <td>Crew members aboard the International Space St...</td>\n",
       "      <td>Fri, 24 Mar 2023 14:00 EDT</td>\n",
       "    </tr>\n",
       "    <tr>\n",
       "      <th>4</th>\n",
       "      <td>Space Station Science Highlights: Week of Marc...</td>\n",
       "      <td>http://www.nasa.gov/mission_pages/station/rese...</td>\n",
       "      <td>Crew members aboard the International Space St...</td>\n",
       "      <td>Fri, 24 Mar 2023 14:00 EDT</td>\n",
       "    </tr>\n",
       "    <tr>\n",
       "      <th>5</th>\n",
       "      <td>Space Station Science Highlights: Week of Marc...</td>\n",
       "      <td>http://www.nasa.gov/mission_pages/station/rese...</td>\n",
       "      <td>Crew members aboard the International Space St...</td>\n",
       "      <td>Fri, 24 Mar 2023 14:00 EDT</td>\n",
       "    </tr>\n",
       "    <tr>\n",
       "      <th>6</th>\n",
       "      <td>Space Station Science Highlights: Week of Marc...</td>\n",
       "      <td>http://www.nasa.gov/mission_pages/station/rese...</td>\n",
       "      <td>Crew members aboard the International Space St...</td>\n",
       "      <td>Fri, 24 Mar 2023 14:00 EDT</td>\n",
       "    </tr>\n",
       "    <tr>\n",
       "      <th>7</th>\n",
       "      <td>Space Station Science Highlights: Week of Marc...</td>\n",
       "      <td>http://www.nasa.gov/mission_pages/station/rese...</td>\n",
       "      <td>Crew members aboard the International Space St...</td>\n",
       "      <td>Fri, 24 Mar 2023 14:00 EDT</td>\n",
       "    </tr>\n",
       "    <tr>\n",
       "      <th>8</th>\n",
       "      <td>Space Station Science Highlights: Week of Marc...</td>\n",
       "      <td>http://www.nasa.gov/mission_pages/station/rese...</td>\n",
       "      <td>Crew members aboard the International Space St...</td>\n",
       "      <td>Fri, 24 Mar 2023 14:00 EDT</td>\n",
       "    </tr>\n",
       "    <tr>\n",
       "      <th>9</th>\n",
       "      <td>Space Station Science Highlights: Week of Marc...</td>\n",
       "      <td>http://www.nasa.gov/mission_pages/station/rese...</td>\n",
       "      <td>Crew members aboard the International Space St...</td>\n",
       "      <td>Fri, 24 Mar 2023 14:00 EDT</td>\n",
       "    </tr>\n",
       "  </tbody>\n",
       "</table>\n",
       "</div>"
      ],
      "text/plain": [
       "                                               title   \n",
       "0  Space Station Science Highlights: Week of Marc...  \\\n",
       "1  Space Station Science Highlights: Week of Marc...   \n",
       "2  Space Station Science Highlights: Week of Marc...   \n",
       "3  Space Station Science Highlights: Week of Marc...   \n",
       "4  Space Station Science Highlights: Week of Marc...   \n",
       "5  Space Station Science Highlights: Week of Marc...   \n",
       "6  Space Station Science Highlights: Week of Marc...   \n",
       "7  Space Station Science Highlights: Week of Marc...   \n",
       "8  Space Station Science Highlights: Week of Marc...   \n",
       "9  Space Station Science Highlights: Week of Marc...   \n",
       "\n",
       "                                                link   \n",
       "0  http://www.nasa.gov/mission_pages/station/rese...  \\\n",
       "1  http://www.nasa.gov/mission_pages/station/rese...   \n",
       "2  http://www.nasa.gov/mission_pages/station/rese...   \n",
       "3  http://www.nasa.gov/mission_pages/station/rese...   \n",
       "4  http://www.nasa.gov/mission_pages/station/rese...   \n",
       "5  http://www.nasa.gov/mission_pages/station/rese...   \n",
       "6  http://www.nasa.gov/mission_pages/station/rese...   \n",
       "7  http://www.nasa.gov/mission_pages/station/rese...   \n",
       "8  http://www.nasa.gov/mission_pages/station/rese...   \n",
       "9  http://www.nasa.gov/mission_pages/station/rese...   \n",
       "\n",
       "                                                summ   \n",
       "0  Crew members aboard the International Space St...  \\\n",
       "1  Crew members aboard the International Space St...   \n",
       "2  Crew members aboard the International Space St...   \n",
       "3  Crew members aboard the International Space St...   \n",
       "4  Crew members aboard the International Space St...   \n",
       "5  Crew members aboard the International Space St...   \n",
       "6  Crew members aboard the International Space St...   \n",
       "7  Crew members aboard the International Space St...   \n",
       "8  Crew members aboard the International Space St...   \n",
       "9  Crew members aboard the International Space St...   \n",
       "\n",
       "                    published  \n",
       "0  Fri, 24 Mar 2023 14:00 EDT  \n",
       "1  Fri, 24 Mar 2023 14:00 EDT  \n",
       "2  Fri, 24 Mar 2023 14:00 EDT  \n",
       "3  Fri, 24 Mar 2023 14:00 EDT  \n",
       "4  Fri, 24 Mar 2023 14:00 EDT  \n",
       "5  Fri, 24 Mar 2023 14:00 EDT  \n",
       "6  Fri, 24 Mar 2023 14:00 EDT  \n",
       "7  Fri, 24 Mar 2023 14:00 EDT  \n",
       "8  Fri, 24 Mar 2023 14:00 EDT  \n",
       "9  Fri, 24 Mar 2023 14:00 EDT  "
      ]
     },
     "execution_count": 195,
     "metadata": {},
     "output_type": "execute_result"
    }
   ],
   "source": [
    "nasa_db_entry = pd.DataFrame(extraction_entry())\n",
    "nasa_db_entry"
   ]
  },
  {
   "cell_type": "markdown",
   "metadata": {},
   "source": [
    "### 10. Count the number of entries per author and sort them in descending order."
   ]
  },
  {
   "cell_type": "markdown",
   "metadata": {},
   "source": [
    "No hay aunthor en las entradas, así que lo ordeno por orden de entrada, de más lejano a más cercano"
   ]
  },
  {
   "cell_type": "code",
   "execution_count": 216,
   "metadata": {},
   "outputs": [
    {
     "data": {
      "text/plain": [
       "time.struct_time(tm_year=2023, tm_mon=4, tm_mday=28, tm_hour=18, tm_min=0, tm_sec=0, tm_wday=4, tm_yday=118, tm_isdst=0)"
      ]
     },
     "execution_count": 216,
     "metadata": {},
     "output_type": "execute_result"
    }
   ],
   "source": [
    "nasa['entries'][0]['published_parsed']"
   ]
  },
  {
   "cell_type": "code",
   "execution_count": 225,
   "metadata": {},
   "outputs": [],
   "source": [
    "def fechas():\n",
    "    dat = []\n",
    "    for entry in nasa['entries']:\n",
    "        dates = {}\n",
    "        for i, date in enumerate(entry['published_parsed']):\n",
    "            if i == 0:\n",
    "                dates['year'] = date\n",
    "            if i == 1:\n",
    "                dates['month'] = date\n",
    "            if i == 2:\n",
    "                dates['day'] = date\n",
    "        dt = datetime(**dates)\n",
    "        dat.append(dt)\n",
    "    return dat"
   ]
  },
  {
   "cell_type": "code",
   "execution_count": 229,
   "metadata": {},
   "outputs": [
    {
     "data": {
      "text/plain": [
       "[datetime.datetime(2023, 4, 28, 0, 0),\n",
       " datetime.datetime(2023, 4, 21, 0, 0),\n",
       " datetime.datetime(2023, 4, 21, 0, 0),\n",
       " datetime.datetime(2023, 4, 20, 0, 0),\n",
       " datetime.datetime(2023, 4, 14, 0, 0),\n",
       " datetime.datetime(2023, 4, 13, 0, 0),\n",
       " datetime.datetime(2023, 4, 7, 0, 0),\n",
       " datetime.datetime(2023, 3, 31, 0, 0),\n",
       " datetime.datetime(2023, 3, 28, 0, 0),\n",
       " datetime.datetime(2023, 3, 24, 0, 0)]"
      ]
     },
     "execution_count": 229,
     "metadata": {},
     "output_type": "execute_result"
    }
   ],
   "source": [
    "fechas()"
   ]
  },
  {
   "cell_type": "code",
   "execution_count": 228,
   "metadata": {},
   "outputs": [
    {
     "data": {
      "text/plain": [
       "[datetime.datetime(2023, 3, 24, 0, 0),\n",
       " datetime.datetime(2023, 3, 28, 0, 0),\n",
       " datetime.datetime(2023, 3, 31, 0, 0),\n",
       " datetime.datetime(2023, 4, 7, 0, 0),\n",
       " datetime.datetime(2023, 4, 13, 0, 0),\n",
       " datetime.datetime(2023, 4, 14, 0, 0),\n",
       " datetime.datetime(2023, 4, 20, 0, 0),\n",
       " datetime.datetime(2023, 4, 21, 0, 0),\n",
       " datetime.datetime(2023, 4, 21, 0, 0),\n",
       " datetime.datetime(2023, 4, 28, 0, 0)]"
      ]
     },
     "execution_count": 228,
     "metadata": {},
     "output_type": "execute_result"
    }
   ],
   "source": [
    "orden = sorted(fechas())\n",
    "orden"
   ]
  },
  {
   "cell_type": "markdown",
   "metadata": {},
   "source": [
    "### 11. Add a new column to the data frame that contains the length (number of characters) of each entry title. Return a data frame that contains the title, author, and title length of each entry in descending order (longest title length at the top)."
   ]
  },
  {
   "cell_type": "code",
   "execution_count": null,
   "metadata": {},
   "outputs": [],
   "source": []
  },
  {
   "cell_type": "markdown",
   "metadata": {},
   "source": [
    "### 12. Create a list of entry titles whose summary includes the phrase \"machine learning.\""
   ]
  },
  {
   "cell_type": "code",
   "execution_count": null,
   "metadata": {},
   "outputs": [],
   "source": []
  },
  {
   "cell_type": "code",
   "execution_count": null,
   "metadata": {},
   "outputs": [],
   "source": []
  }
 ],
 "metadata": {
  "kernelspec": {
   "display_name": "Python 3 (ipykernel)",
   "language": "python",
   "name": "python3"
  },
  "language_info": {
   "codemirror_mode": {
    "name": "ipython",
    "version": 3
   },
   "file_extension": ".py",
   "mimetype": "text/x-python",
   "name": "python",
   "nbconvert_exporter": "python",
   "pygments_lexer": "ipython3",
   "version": "3.11.1"
  }
 },
 "nbformat": 4,
 "nbformat_minor": 2
}
