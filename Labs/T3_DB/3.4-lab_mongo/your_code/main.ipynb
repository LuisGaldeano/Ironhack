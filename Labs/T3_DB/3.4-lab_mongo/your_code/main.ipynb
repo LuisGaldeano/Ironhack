{
 "cells": [
  {
   "cell_type": "markdown",
   "metadata": {},
   "source": [
    "# Advanced Querying Mongo"
   ]
  },
  {
   "cell_type": "markdown",
   "metadata": {},
   "source": [
    "Importing libraries and setting up connection"
   ]
  },
  {
   "cell_type": "code",
   "execution_count": 3,
   "metadata": {},
   "outputs": [
    {
     "name": "stdout",
     "output_type": "stream",
     "text": [
      "Requirement already satisfied: pymongo in c:\\users\\lpgal\\appdata\\local\\programs\\python\\python311\\lib\\site-packages (4.3.3)\n",
      "Requirement already satisfied: dnspython<3.0.0,>=1.16.0 in c:\\users\\lpgal\\appdata\\local\\programs\\python\\python311\\lib\\site-packages (from pymongo) (2.3.0)\n",
      "Note: you may need to restart the kernel to use updated packages.\n"
     ]
    },
    {
     "name": "stderr",
     "output_type": "stream",
     "text": [
      "\n",
      "[notice] A new release of pip is available: 23.0.1 -> 23.1.1\n",
      "[notice] To update, run: python.exe -m pip install --upgrade pip\n"
     ]
    }
   ],
   "source": [
    "%pip install pymongo"
   ]
  },
  {
   "cell_type": "code",
   "execution_count": 5,
   "metadata": {},
   "outputs": [],
   "source": [
    "from pymongo import MongoClient"
   ]
  },
  {
   "cell_type": "code",
   "execution_count": 7,
   "metadata": {},
   "outputs": [],
   "source": [
    "client = MongoClient()"
   ]
  },
  {
   "cell_type": "code",
   "execution_count": 35,
   "metadata": {},
   "outputs": [
    {
     "data": {
      "text/plain": [
       "['admin', 'companies', 'config', 'local']"
      ]
     },
     "execution_count": 35,
     "metadata": {},
     "output_type": "execute_result"
    }
   ],
   "source": [
    "client.list_database_names()  # Lista de bases de datos"
   ]
  },
  {
   "cell_type": "code",
   "execution_count": 36,
   "metadata": {},
   "outputs": [
    {
     "data": {
      "text/plain": [
       "['Companies']"
      ]
     },
     "execution_count": 36,
     "metadata": {},
     "output_type": "execute_result"
    }
   ],
   "source": [
    "cli = client.companies  # Asocia la DB que quieres a una variable\n",
    "cli.list_collection_names()   # Lista de colecciones"
   ]
  },
  {
   "cell_type": "code",
   "execution_count": 37,
   "metadata": {},
   "outputs": [],
   "source": [
    "coll = cli.Companies "
   ]
  },
  {
   "cell_type": "markdown",
   "metadata": {},
   "source": [
    "### 1. All the companies whose name match 'Babelgum'. Retrieve only their `name` field."
   ]
  },
  {
   "cell_type": "code",
   "execution_count": 39,
   "metadata": {},
   "outputs": [
    {
     "data": {
      "text/plain": [
       "[{'name': 'Babelgum'}]"
      ]
     },
     "execution_count": 39,
     "metadata": {},
     "output_type": "execute_result"
    }
   ],
   "source": [
    "# Your Code\n",
    "query = {'name': 'Babelgum'}\n",
    "select={\n",
    "    '_id':False,\n",
    "    'name':True}\n",
    "list(coll.find(query, select))"
   ]
  },
  {
   "cell_type": "markdown",
   "metadata": {},
   "source": [
    "### 2. All the companies that have more than 5000 employees. Limit the search to 20 companies and sort them by **number of employees**."
   ]
  },
  {
   "cell_type": "code",
   "execution_count": 47,
   "metadata": {},
   "outputs": [
    {
     "data": {
      "text/plain": [
       "[{'name': 'Siemens'}, {'name': 'IBM'}]"
      ]
     },
     "execution_count": 47,
     "metadata": {},
     "output_type": "execute_result"
    }
   ],
   "source": [
    "# Your Code\n",
    "query = {\n",
    "        'number_of_employees': {'$gte': 5000}}  # Muestra los que tienen MAS de 5000 empleados\n",
    "select={\n",
    "    '_id':False,\n",
    "    'name':True}\n",
    "list(coll.find(query, select).sort('number_of_employees', -1).limit(2))"
   ]
  },
  {
   "cell_type": "markdown",
   "metadata": {},
   "source": [
    "### 3. All the companies founded between 2000 and 2005, both years included. Retrieve only the `name` and `founded_year` fields."
   ]
  },
  {
   "cell_type": "code",
   "execution_count": 49,
   "metadata": {},
   "outputs": [
    {
     "data": {
      "text/plain": [
       "[{'name': 'AllofMP3', 'founded_year': 2000},\n",
       " {'name': 'Steorn', 'founded_year': 2000},\n",
       " {'name': 'MeeVee', 'founded_year': 2000},\n",
       " {'name': 'PhotoBox', 'founded_year': 2000},\n",
       " {'name': 'Boonex', 'founded_year': 2000},\n",
       " {'name': 'Sulake', 'founded_year': 2000},\n",
       " {'name': 'SelectMinds', 'founded_year': 2000},\n",
       " {'name': 'ContextWeb', 'founded_year': 2000},\n",
       " {'name': 'ZoomInfo', 'founded_year': 2000},\n",
       " {'name': 'eHarmony', 'founded_year': 2000}]"
      ]
     },
     "execution_count": 49,
     "metadata": {},
     "output_type": "execute_result"
    }
   ],
   "source": [
    "# Your Code\n",
    "query = {'$and': [{'founded_year': {'$gte': 2000}},\n",
    "                  {'founded_year': {'$lte': 2000}}]}\n",
    "select={\n",
    "    '_id': False,\n",
    "    'name': True,\n",
    "    'founded_year': True}\n",
    "\n",
    "list(coll.find(query, select).limit(10))"
   ]
  },
  {
   "cell_type": "markdown",
   "metadata": {},
   "source": [
    "### 4. All the companies that had a Valuation Amount of more than 100.000.000 and have been founded before 2010. Retrieve only the `name` and `ipo` fields."
   ]
  },
  {
   "cell_type": "code",
   "execution_count": null,
   "metadata": {},
   "outputs": [],
   "source": [
    "# Your Code\n",
    "\n",
    "# LO DEJO PARA EL FINAL"
   ]
  },
  {
   "cell_type": "markdown",
   "metadata": {},
   "source": [
    "### 5. All the companies that have less than 1000 employees and have been founded before 2005. Order them by the number of employees and limit the search to 10 companies."
   ]
  },
  {
   "cell_type": "code",
   "execution_count": 50,
   "metadata": {},
   "outputs": [
    {
     "data": {
      "text/plain": [
       "[{'name': 'Infinera Corporation',\n",
       "  'number_of_employees': 974,\n",
       "  'founded_year': 2000},\n",
       " {'name': 'NorthPoint Communications Group',\n",
       "  'number_of_employees': 948,\n",
       "  'founded_year': 1997},\n",
       " {'name': '888 Holdings', 'number_of_employees': 931, 'founded_year': 1997},\n",
       " {'name': 'Forrester Research',\n",
       "  'number_of_employees': 903,\n",
       "  'founded_year': 1983},\n",
       " {'name': 'SonicWALL', 'number_of_employees': 900, 'founded_year': 1991},\n",
       " {'name': 'Webmetrics', 'number_of_employees': 900, 'founded_year': 1999},\n",
       " {'name': 'Cornerstone OnDemand',\n",
       "  'number_of_employees': 881,\n",
       "  'founded_year': 1999},\n",
       " {'name': 'Mozilla', 'number_of_employees': 800, 'founded_year': 1998},\n",
       " {'name': 'Buongiorno', 'number_of_employees': 800, 'founded_year': 1999},\n",
       " {'name': 'Yelp', 'number_of_employees': 800, 'founded_year': 2004}]"
      ]
     },
     "execution_count": 50,
     "metadata": {},
     "output_type": "execute_result"
    }
   ],
   "source": [
    "# Your Code\n",
    "query = {'$and': [{'number_of_employees': {'$lt': 1000}},\n",
    "                  {'founded_year': {'$lt': 2005}}]}\n",
    "select={\n",
    "    '_id': False,\n",
    "    'name': True,\n",
    "    'number_of_employees': True,\n",
    "    'founded_year': True}\n",
    "\n",
    "list(coll.find(query, select).sort('number_of_employees', -1).limit(10))"
   ]
  },
  {
   "cell_type": "markdown",
   "metadata": {},
   "source": [
    "### 6. All the companies that don't include the `partners` field."
   ]
  },
  {
   "cell_type": "code",
   "execution_count": 58,
   "metadata": {},
   "outputs": [
    {
     "data": {
      "text/plain": [
       "[]"
      ]
     },
     "execution_count": 58,
     "metadata": {},
     "output_type": "execute_result"
    }
   ],
   "source": [
    "# Your Code\n",
    "query = {'partners': {'$exists': False}}\n",
    "select={\n",
    "    '_id': False,\n",
    "    'name': True,}\n",
    "list(coll.find(query, select).limit(10))"
   ]
  },
  {
   "cell_type": "markdown",
   "metadata": {},
   "source": [
    "### 7. All the companies that have a null type of value on the `category_code` field."
   ]
  },
  {
   "cell_type": "code",
   "execution_count": 56,
   "metadata": {},
   "outputs": [
    {
     "data": {
      "text/plain": [
       "[{'name': 'Collective'},\n",
       " {'name': 'Snimmer'},\n",
       " {'name': 'KoolIM'},\n",
       " {'name': 'Level9 Media'},\n",
       " {'name': 'VidKing'},\n",
       " {'name': 'Drigg'},\n",
       " {'name': 'SpaceTime'},\n",
       " {'name': 'Touch Clarity'},\n",
       " {'name': 'MMDAYS'},\n",
       " {'name': 'Inside Group'}]"
      ]
     },
     "execution_count": 56,
     "metadata": {},
     "output_type": "execute_result"
    }
   ],
   "source": [
    "# Your Code\n",
    "query = {'category_code': None}\n",
    "select={\n",
    "    '_id': False,\n",
    "    'name': True,}\n",
    "list(coll.find(query, select).limit(10))"
   ]
  },
  {
   "cell_type": "markdown",
   "metadata": {},
   "source": [
    "### 8. All the companies that have at least 100 employees but less than 1000. Retrieve only the `name` and `number of employees` fields."
   ]
  },
  {
   "cell_type": "code",
   "execution_count": 65,
   "metadata": {},
   "outputs": [
    {
     "data": {
      "text/plain": [
       "[{'name': 'AdventNet', 'number_of_employees': 600},\n",
       " {'name': 'AddThis', 'number_of_employees': 120},\n",
       " {'name': 'OpenX', 'number_of_employees': 305},\n",
       " {'name': 'LifeLock', 'number_of_employees': 644},\n",
       " {'name': 'Jajah', 'number_of_employees': 110},\n",
       " {'name': 'Livestream', 'number_of_employees': 120},\n",
       " {'name': 'Ustream', 'number_of_employees': 250},\n",
       " {'name': 'iContact', 'number_of_employees': 300},\n",
       " {'name': 'Yelp', 'number_of_employees': 800},\n",
       " {'name': 'Dailymotion', 'number_of_employees': 120}]"
      ]
     },
     "execution_count": 65,
     "metadata": {},
     "output_type": "execute_result"
    }
   ],
   "source": [
    "# Your Code\n",
    "query = {'number_of_employees': {'$gte': 100, '$lte': 1000}}\n",
    "select = {\n",
    "    '_id' : False,\n",
    "    'name': True,\n",
    "    'number_of_employees' : True,\n",
    "}\n",
    "list(coll.find(query, select).limit(10))"
   ]
  },
  {
   "cell_type": "markdown",
   "metadata": {},
   "source": [
    "### 9. Order all the companies by their IPO price in a descending order."
   ]
  },
  {
   "cell_type": "code",
   "execution_count": null,
   "metadata": {},
   "outputs": [],
   "source": [
    "# Your Code\n",
    "\n",
    "# LO DEJO PARA EL FINAL"
   ]
  },
  {
   "cell_type": "markdown",
   "metadata": {},
   "source": [
    "### 10. Retrieve the 10 companies with more employees, order by the `number of employees`"
   ]
  },
  {
   "cell_type": "code",
   "execution_count": 68,
   "metadata": {},
   "outputs": [
    {
     "data": {
      "text/plain": [
       "[{'name': 'Siemens', 'number_of_employees': 405000},\n",
       " {'name': 'IBM', 'number_of_employees': 388000},\n",
       " {'name': 'Toyota', 'number_of_employees': 320000},\n",
       " {'name': 'PayPal', 'number_of_employees': 300000},\n",
       " {'name': 'Nippon Telegraph and Telephone Corporation',\n",
       "  'number_of_employees': 227000},\n",
       " {'name': 'Samsung Electronics', 'number_of_employees': 221726},\n",
       " {'name': 'Accenture', 'number_of_employees': 205000},\n",
       " {'name': 'Tata Consultancy Services', 'number_of_employees': 200300},\n",
       " {'name': 'Flextronics International', 'number_of_employees': 200000},\n",
       " {'name': 'Safeway', 'number_of_employees': 186000}]"
      ]
     },
     "execution_count": 68,
     "metadata": {},
     "output_type": "execute_result"
    }
   ],
   "source": [
    "# Your Code\n",
    "query = {}  # La query está vacía porque no necesito filtrar por ningún campo\n",
    "select = {\n",
    "    '_id': False,\n",
    "    'name': True,\n",
    "    'number_of_employees': True,\n",
    "}\n",
    "list(coll.find(query, select).sort('number_of_employees', -1).limit(10))"
   ]
  },
  {
   "cell_type": "markdown",
   "metadata": {},
   "source": [
    "### 11. All the companies founded on the second semester of the year. Limit your search to 1000 companies."
   ]
  },
  {
   "cell_type": "code",
   "execution_count": 70,
   "metadata": {},
   "outputs": [
    {
     "data": {
      "text/plain": [
       "[{'name': 'Wetpaint', 'founded_month': 10},\n",
       " {'name': 'Zoho', 'founded_month': 9},\n",
       " {'name': 'Digg', 'founded_month': 10},\n",
       " {'name': 'Omnidrive', 'founded_month': 11},\n",
       " {'name': 'eBay', 'founded_month': 9},\n",
       " {'name': 'Joost', 'founded_month': 10},\n",
       " {'name': 'Plaxo', 'founded_month': 11},\n",
       " {'name': 'Powerset', 'founded_month': 10},\n",
       " {'name': 'Kyte', 'founded_month': 12},\n",
       " {'name': 'Thoof', 'founded_month': 12}]"
      ]
     },
     "execution_count": 70,
     "metadata": {},
     "output_type": "execute_result"
    }
   ],
   "source": [
    "# Your Code\n",
    "query = {'founded_month':{'$gt': 6}}\n",
    "select = {\n",
    "    '_id': False,\n",
    "    'name': True,\n",
    "    'founded_month': True, \n",
    "}\n",
    "\n",
    "list(coll.find(query, select).limit(10))"
   ]
  },
  {
   "cell_type": "markdown",
   "metadata": {},
   "source": [
    "### 12. All the companies founded before 2000 that have an acquisition amount of more than 10.000.00"
   ]
  },
  {
   "cell_type": "code",
   "execution_count": 78,
   "metadata": {},
   "outputs": [
    {
     "data": {
      "text/plain": [
       "[{'name': 'Postini',\n",
       "  'founded_year': 1999,\n",
       "  'acquisition': {'price_amount': 625000000}},\n",
       " {'name': 'SideStep',\n",
       "  'founded_year': 1999,\n",
       "  'acquisition': {'price_amount': 180000000}},\n",
       " {'name': 'Recipezaar',\n",
       "  'founded_year': 1999,\n",
       "  'acquisition': {'price_amount': 25000000}},\n",
       " {'name': 'PayPal',\n",
       "  'founded_year': 1998,\n",
       "  'acquisition': {'price_amount': 1500000000}},\n",
       " {'name': 'Snapfish',\n",
       "  'founded_year': 1999,\n",
       "  'acquisition': {'price_amount': 300000000}},\n",
       " {'name': 'Neopets',\n",
       "  'founded_year': 1999,\n",
       "  'acquisition': {'price_amount': 160000000}},\n",
       " {'name': 'Sun Microsystems',\n",
       "  'founded_year': 1982,\n",
       "  'acquisition': {'price_amount': 7400000000.0}},\n",
       " {'name': 'Zappos',\n",
       "  'founded_year': 1999,\n",
       "  'acquisition': {'price_amount': 1200000000}},\n",
       " {'name': 'Alibaba',\n",
       "  'founded_year': 1999,\n",
       "  'acquisition': {'price_amount': 1000000000}},\n",
       " {'name': 'Sabre',\n",
       "  'founded_year': 1960,\n",
       "  'acquisition': {'price_amount': 4300000000.0}}]"
      ]
     },
     "execution_count": 78,
     "metadata": {},
     "output_type": "execute_result"
    }
   ],
   "source": [
    "# Your Code\n",
    "query = {'$and': [{'founded_year': {'$lt': 2000},\n",
    "                 'acquisition.price_amount': {'$gt': 10000000}}]}\n",
    "select = {\n",
    "    '_id': False,\n",
    "    'name': True,\n",
    "    'founded_year': True,\n",
    "    'acquisition.price_amount': True, \n",
    "}\n",
    "\n",
    "list(coll.find(query, select).limit(10))"
   ]
  },
  {
   "cell_type": "markdown",
   "metadata": {},
   "source": [
    "### 13. All the companies that have been acquired after 2010, order by the acquisition amount, and retrieve only their `name` and `acquisition` field."
   ]
  },
  {
   "cell_type": "code",
   "execution_count": 87,
   "metadata": {},
   "outputs": [
    {
     "data": {
      "text/plain": [
       "[{'name': 'T-Mobile',\n",
       "  'acquisition': {'price_amount': 39000000000.0,\n",
       "   'price_currency_code': 'USD',\n",
       "   'term_code': None,\n",
       "   'source_url': 'http://techcrunch.com/2011/03/20/in-the-race-for-more-spectrum-att-is-acquiring-t-mobile-for-39-billion/',\n",
       "   'source_description': 'In The Race For More Spectrum, AT&T Is Acquiring T-Mobile For $39 Billion',\n",
       "   'acquired_year': 2011,\n",
       "   'acquired_month': 3,\n",
       "   'acquired_day': 20,\n",
       "   'acquiring_company': {'name': 'AT&T', 'permalink': 'at-t'}}},\n",
       " {'name': 'Goodrich Corporation',\n",
       "  'acquisition': {'price_amount': 18400000000.0,\n",
       "   'price_currency_code': 'USD',\n",
       "   'term_code': None,\n",
       "   'source_url': 'http://www.masshightech.com/stories/2011/09/19/daily37-UTC-shells-out-184-billion-for-Goodrich.html',\n",
       "   'source_description': 'UTC shells out $18.4 billion for Goodrich',\n",
       "   'acquired_year': 2011,\n",
       "   'acquired_month': 9,\n",
       "   'acquired_day': 22,\n",
       "   'acquiring_company': {'name': 'United Technologies',\n",
       "    'permalink': 'united-technologies'}}}]"
      ]
     },
     "execution_count": 87,
     "metadata": {},
     "output_type": "execute_result"
    }
   ],
   "source": [
    "# Your Code\n",
    "query = {'acquisition.acquired_year': {'$gte': 2010}}\n",
    "select = {\n",
    "    '_id': False,\n",
    "    'name': True,\n",
    "    'acquisition': True, \n",
    "}\n",
    "\n",
    "list(coll.find(query, select).sort('acquisition.price_amount', -1).limit(2))"
   ]
  },
  {
   "cell_type": "markdown",
   "metadata": {},
   "source": [
    "### 14. Order the companies by their `founded year`, retrieving only their `name` and `founded year`."
   ]
  },
  {
   "cell_type": "code",
   "execution_count": 84,
   "metadata": {},
   "outputs": [
    {
     "data": {
      "text/plain": [
       "[{'name': 'Wamba', 'founded_year': 2013},\n",
       " {'name': 'Gimigo', 'founded_year': 2013},\n",
       " {'name': 'Clowdy', 'founded_year': 2013},\n",
       " {'name': 'Fixya', 'founded_year': 2013},\n",
       " {'name': 'Fluc', 'founded_year': 2013},\n",
       " {'name': 'SEOGroup', 'founded_year': 2013},\n",
       " {'name': 'Pikk', 'founded_year': 2013},\n",
       " {'name': 'WhosCall', 'founded_year': 2013},\n",
       " {'name': 'iBazar', 'founded_year': 2013},\n",
       " {'name': 'Advaliant', 'founded_year': 2013}]"
      ]
     },
     "execution_count": 84,
     "metadata": {},
     "output_type": "execute_result"
    }
   ],
   "source": [
    "# Your Code\n",
    "query = {}\n",
    "select = {\n",
    "    '_id': False,\n",
    "    'name': True,\n",
    "    'founded_year': True, \n",
    "}\n",
    "\n",
    "list(coll.find(query, select).sort('founded_year', -1).limit(10))"
   ]
  },
  {
   "cell_type": "markdown",
   "metadata": {},
   "source": [
    "### 15. All the companies that have been founded on the first seven days of the month, including the seventh. Sort them by their `acquisition price` in a descending order. Limit the search to 10 documents."
   ]
  },
  {
   "cell_type": "code",
   "execution_count": 94,
   "metadata": {},
   "outputs": [
    {
     "data": {
      "text/plain": [
       "[{'name': 'Netscape', 'acquisition': {'price_amount': 4200000000.0}},\n",
       " {'name': 'PayPal', 'acquisition': {'price_amount': 1500000000}},\n",
       " {'name': 'Zappos', 'acquisition': {'price_amount': 1200000000}},\n",
       " {'name': 'Alibaba', 'acquisition': {'price_amount': 1000000000}},\n",
       " {'name': 'Postini', 'acquisition': {'price_amount': 625000000}},\n",
       " {'name': 'Danger', 'acquisition': {'price_amount': 500000000}},\n",
       " {'name': 'Clearwell Systems', 'acquisition': {'price_amount': 410000000}},\n",
       " {'name': 'PrimeSense', 'acquisition': {'price_amount': 345000000}},\n",
       " {'name': 'Amobee', 'acquisition': {'price_amount': 321000000}},\n",
       " {'name': 'BlueLithium', 'acquisition': {'price_amount': 300000000}}]"
      ]
     },
     "execution_count": 94,
     "metadata": {},
     "output_type": "execute_result"
    }
   ],
   "source": [
    "# Your Code\n",
    "query = {'founded_day': {'$lte': 7}}\n",
    "select = {\n",
    "    '_id': False,\n",
    "    'name': True,\n",
    "    'acquisition.price_amount': True, \n",
    "}\n",
    "\n",
    "list(coll.find(query, select).sort('acquisition.price_amount', -1).limit(10))"
   ]
  },
  {
   "cell_type": "markdown",
   "metadata": {},
   "source": [
    "### 16. All the companies on the 'web' `category` that have more than 4000 employees. Sort them by the amount of employees in ascending order."
   ]
  },
  {
   "cell_type": "code",
   "execution_count": 99,
   "metadata": {},
   "outputs": [
    {
     "data": {
      "text/plain": [
       "[{'name': 'Expedia', 'category_code': 'web', 'number_of_employees': 4400},\n",
       " {'name': 'AOL', 'category_code': 'web', 'number_of_employees': 8000},\n",
       " {'name': 'Webkinz', 'category_code': 'web', 'number_of_employees': 8657},\n",
       " {'name': 'Rakuten', 'category_code': 'web', 'number_of_employees': 10000},\n",
       " {'name': 'Los Angeles Times Media Group',\n",
       "  'category_code': 'web',\n",
       "  'number_of_employees': 10000},\n",
       " {'name': 'Groupon', 'category_code': 'web', 'number_of_employees': 10000},\n",
       " {'name': 'Yahoo!', 'category_code': 'web', 'number_of_employees': 13600},\n",
       " {'name': 'eBay', 'category_code': 'web', 'number_of_employees': 15000},\n",
       " {'name': 'Experian', 'category_code': 'web', 'number_of_employees': 15500}]"
      ]
     },
     "execution_count": 99,
     "metadata": {},
     "output_type": "execute_result"
    }
   ],
   "source": [
    "# Your Code\n",
    "query = {'$and': [{'category_code': 'web',\n",
    "                  'number_of_employees':{'$gt': 4000}}]}\n",
    "\n",
    "         \n",
    "select = {\n",
    "    '_id': False,\n",
    "    'name': True,\n",
    "    'category_code': True,\n",
    "    'number_of_employees': True,\n",
    "}\n",
    "\n",
    "list(coll.find(query, select).sort('number_of_employees', 1).limit(10))"
   ]
  },
  {
   "cell_type": "markdown",
   "metadata": {},
   "source": [
    "### 17. All the companies whose acquisition amount is more than 10.000.000, and currency is 'EUR'."
   ]
  },
  {
   "cell_type": "code",
   "execution_count": 100,
   "metadata": {},
   "outputs": [
    {
     "data": {
      "text/plain": [
       "[{'name': 'ZYB',\n",
       "  'acquisition': {'price_amount': 31500000, 'price_currency_code': 'EUR'}},\n",
       " {'name': 'Apertio',\n",
       "  'acquisition': {'price_amount': 140000000, 'price_currency_code': 'EUR'}},\n",
       " {'name': 'Greenfield Online',\n",
       "  'acquisition': {'price_amount': 40000000, 'price_currency_code': 'EUR'}},\n",
       " {'name': 'Webedia',\n",
       "  'acquisition': {'price_amount': 70000000, 'price_currency_code': 'EUR'}},\n",
       " {'name': 'Wayfinder',\n",
       "  'acquisition': {'price_amount': 24000000, 'price_currency_code': 'EUR'}},\n",
       " {'name': 'Tuenti Technologies',\n",
       "  'acquisition': {'price_amount': 70000000, 'price_currency_code': 'EUR'}},\n",
       " {'name': 'BioMed Central',\n",
       "  'acquisition': {'price_amount': 43400000, 'price_currency_code': 'EUR'}}]"
      ]
     },
     "execution_count": 100,
     "metadata": {},
     "output_type": "execute_result"
    }
   ],
   "source": [
    "# Your Code\n",
    "query = {'$and': [{'acquisition.price_amount':{'$gt': 10000000},\n",
    "                  'acquisition.price_currency_code': 'EUR'}]}\n",
    "\n",
    "         \n",
    "select = {\n",
    "    '_id': False,\n",
    "    'name': True,\n",
    "    'acquisition.price_currency_code': True,\n",
    "    'acquisition.price_amount': True,\n",
    "}\n",
    "\n",
    "list(coll.find(query, select).limit(10))"
   ]
  },
  {
   "cell_type": "markdown",
   "metadata": {},
   "source": [
    "### 18. All the companies that have been acquired on the first trimester of the year. Limit the search to 10 companies, and retrieve only their `name` and `acquisition` fields."
   ]
  },
  {
   "cell_type": "code",
   "execution_count": 103,
   "metadata": {},
   "outputs": [
    {
     "data": {
      "text/plain": [
       "[{'name': 'Kyte',\n",
       "  'acquisition': {'price_amount': None,\n",
       "   'price_currency_code': 'USD',\n",
       "   'term_code': None,\n",
       "   'source_url': 'http://techcrunch.com/2011/01/31/exclusive-kit-digital-acquires-kickapps-kewego-and-kyte-for-77-2-million/',\n",
       "   'source_description': 'KIT digital Acquires KickApps, Kewego AND Kyte For $77.2 Million',\n",
       "   'acquired_year': 2011,\n",
       "   'acquired_month': 1,\n",
       "   'acquired_day': 31,\n",
       "   'acquiring_company': {'name': 'KIT digital', 'permalink': 'kit-digital'}}},\n",
       " {'name': 'NetRatings',\n",
       "  'acquisition': {'price_amount': 327000000,\n",
       "   'price_currency_code': 'USD',\n",
       "   'term_code': 'cash',\n",
       "   'source_url': 'http://login.vnuemedia.com/hr/login/login_subscribe.jsp?id=0oqDem1gYIfIclz9i2%2Ffqj5NxCp2AC5DPbVnyT2da8GyV2mXjasabE128n69OrmcAh52%2FGE3pSG%2F%0AEKRYD9vh9EhrJrxukmUzh532fSMTZXL42gwPB80UWVtF1NwJ5UZSM%2BCkLU1mpYBoHFgiH%2Fi0f6Ax%0A9yMIVxt47t%2BHamhEQ0nkOEK24L',\n",
       "   'source_description': 'Nielsen buys rest of NetRatings',\n",
       "   'acquired_year': 2007,\n",
       "   'acquired_month': 2,\n",
       "   'acquired_day': None,\n",
       "   'acquiring_company': {'name': 'Nielsen', 'permalink': 'nielsen'}}}]"
      ]
     },
     "execution_count": 103,
     "metadata": {},
     "output_type": "execute_result"
    }
   ],
   "source": [
    "# Your Code\n",
    "query = {'acquisition.acquired_month':{'$lte': 3}}\n",
    "\n",
    "         \n",
    "select = {\n",
    "    '_id': False,\n",
    "    'name': True,\n",
    "    'acquisition': True,\n",
    "}\n",
    "\n",
    "list(coll.find(query, select).limit(2))  # las dejo solo en 2 porque el diccionario acquisition es muy largo"
   ]
  },
  {
   "cell_type": "markdown",
   "metadata": {},
   "source": [
    "# Bonus\n",
    "### 19. All the companies that have been founded between 2000 and 2010, but have not been acquired before 2011."
   ]
  },
  {
   "cell_type": "code",
   "execution_count": 104,
   "metadata": {},
   "outputs": [
    {
     "data": {
      "text/plain": [
       "[{'name': 'Wetpaint',\n",
       "  'founded_year': 2005,\n",
       "  'acquisition': {'acquired_year': 2013}},\n",
       " {'name': 'Digg',\n",
       "  'founded_year': 2004,\n",
       "  'acquisition': {'acquired_year': 2012}},\n",
       " {'name': 'Geni',\n",
       "  'founded_year': 2006,\n",
       "  'acquisition': {'acquired_year': 2012}},\n",
       " {'name': 'Kyte',\n",
       "  'founded_year': 2006,\n",
       "  'acquisition': {'acquired_year': 2011}},\n",
       " {'name': 'Jingle Networks',\n",
       "  'founded_year': 2005,\n",
       "  'acquisition': {'acquired_year': 2011}},\n",
       " {'name': 'blogTV',\n",
       "  'founded_year': 2006,\n",
       "  'acquisition': {'acquired_year': 2013}},\n",
       " {'name': 'delicious',\n",
       "  'founded_year': 2003,\n",
       "  'acquisition': {'acquired_year': 2011}},\n",
       " {'name': 'Revision3',\n",
       "  'founded_year': 2005,\n",
       "  'acquisition': {'acquired_year': 2012}},\n",
       " {'name': 'iContact',\n",
       "  'founded_year': 2003,\n",
       "  'acquisition': {'acquired_year': 2012}},\n",
       " {'name': 'Mashery',\n",
       "  'founded_year': 2006,\n",
       "  'acquisition': {'acquired_year': 2013}}]"
      ]
     },
     "execution_count": 104,
     "metadata": {},
     "output_type": "execute_result"
    }
   ],
   "source": [
    "# Your Code\n",
    "query = {'$and': [{'founded_year': {'$gte': 2000, '$lte': 2010},\n",
    "                  'acquisition.acquired_year': {'$gt': 2010}}]}\n",
    "\n",
    "         \n",
    "select = {\n",
    "    '_id': False,\n",
    "    'name': True,\n",
    "    'founded_year': True,\n",
    "    'acquisition.acquired_year': True,    \n",
    "}\n",
    "\n",
    "list(coll.find(query, select).limit(10))"
   ]
  },
  {
   "cell_type": "markdown",
   "metadata": {},
   "source": [
    "### 20. All the companies that have been 'deadpooled' after the third year."
   ]
  },
  {
   "cell_type": "code",
   "execution_count": 119,
   "metadata": {},
   "outputs": [
    {
     "name": "stdout",
     "output_type": "stream",
     "text": [
      "{'name': 'Babelgum', 'founded_year': 2007, 'deadpooled_year': 2013}\n",
      "{'name': 'Thoof', 'founded_year': 2006, 'deadpooled_year': 2013}\n",
      "{'name': 'Wesabe', 'founded_year': 2005, 'deadpooled_year': 2010}\n",
      "{'name': 'Stickam', 'founded_year': 2006, 'deadpooled_year': 2013}\n",
      "{'name': 'AllPeers', 'founded_year': 2004, 'deadpooled_year': 2008}\n",
      "{'name': 'EQO', 'founded_year': 2006, 'deadpooled_year': 2012}\n",
      "{'name': 'AllofMP3', 'founded_year': 2000, 'deadpooled_year': 2007}\n",
      "{'name': 'SellABand', 'founded_year': 2006, 'deadpooled_year': 2010}\n",
      "{'name': 'Zlio', 'founded_year': 2005, 'deadpooled_year': 2011}\n",
      "{'name': 'Jaiku', 'founded_year': 2006, 'deadpooled_year': 2012}\n",
      "{'name': 'Coghead', 'founded_year': 2003, 'deadpooled_year': 2009}\n",
      "{'name': 'Swivel', 'founded_year': 2005, 'deadpooled_year': 2010}\n",
      "{'name': 'Slide', 'founded_year': 2005, 'deadpooled_year': 2011}\n",
      "{'name': 'Sway', 'founded_year': 2004, 'deadpooled_year': 2012}\n",
      "{'name': 'coComment', 'founded_year': 2006, 'deadpooled_year': 2012}\n",
      "{'name': 'Hotelicopter', 'founded_year': 2006, 'deadpooled_year': 2012}\n",
      "{'name': 'Ujogo', 'founded_year': 2007, 'deadpooled_year': 2012}\n",
      "{'name': 'PeerMe', 'founded_year': 2004, 'deadpooled_year': 2009}\n",
      "{'name': 'Tangler', 'founded_year': 2006, 'deadpooled_year': 2012}\n",
      "{'name': 'TalkPlus', 'founded_year': 2004, 'deadpooled_year': 2008}\n",
      "{'name': 'PermissionTV', 'founded_year': 2005, 'deadpooled_year': 2012}\n",
      "{'name': 'Nirvanix', 'founded_year': 2007, 'deadpooled_year': 2013}\n",
      "{'name': 'Millsberry', 'founded_year': 2004, 'deadpooled_year': 2011}\n",
      "{'name': 'Revver', 'founded_year': 2004, 'deadpooled_year': 2011}\n",
      "{'name': 'Sampa', 'founded_year': 2005, 'deadpooled_year': 2009}\n",
      "{'name': 'DanceJam', 'founded_year': 2007, 'deadpooled_year': 2011}\n",
      "{'name': 'Brightkite', 'founded_year': 2007, 'deadpooled_year': 2011}\n",
      "{'name': 'Zango', 'founded_year': 1999, 'deadpooled_year': 2009}\n",
      "{'name': 'BitPass', 'founded_year': 2002, 'deadpooled_year': 2012}\n",
      "{'name': 'SpiralFrog', 'founded_year': 2004, 'deadpooled_year': 2009}\n",
      "{'name': 'Multiply', 'founded_year': 2003, 'deadpooled_year': 2013}\n",
      "{'name': 'RampedMedia', 'founded_year': 2006, 'deadpooled_year': 2013}\n",
      "{'name': 'Nemedia', 'founded_year': 2002, 'deadpooled_year': 2013}\n",
      "{'name': 'Trutap', 'founded_year': 1989, 'deadpooled_year': 2009}\n",
      "{'name': 'ITema', 'founded_year': 2007, 'deadpooled_year': 2011}\n",
      "{'name': 'Orgoo', 'founded_year': 2005, 'deadpooled_year': 2013}\n",
      "{'name': 'RatePoint', 'founded_year': 2006, 'deadpooled_year': 2012}\n",
      "{'name': 'MuseStorm', 'founded_year': 2005, 'deadpooled_year': 2010}\n",
      "{'name': 'Eons', 'founded_year': 2005, 'deadpooled_year': 2012}\n",
      "{'name': 'Cuil', 'founded_year': 2005, 'deadpooled_year': 2010}\n",
      "{'name': 'mEgo', 'founded_year': 2005, 'deadpooled_year': 2012}\n",
      "{'name': 'StoryBlender', 'founded_year': 2005, 'deadpooled_year': 2012}\n",
      "{'name': 'BroadClip', 'founded_year': 2006, 'deadpooled_year': 2012}\n",
      "{'name': 'Goojet', 'founded_year': 2006, 'deadpooled_year': 2012}\n",
      "{'name': 'Notemarks', 'founded_year': 2003, 'deadpooled_year': 2009}\n",
      "{'name': 'mPortico', 'founded_year': 2006, 'deadpooled_year': 2012}\n",
      "{'name': 'Grouply', 'founded_year': 2006, 'deadpooled_year': 2012}\n",
      "{'name': 'PlanHQ', 'founded_year': 2007, 'deadpooled_year': 2013}\n",
      "{'name': 'Youlicit', 'founded_year': 2006, 'deadpooled_year': 2010}\n",
      "{'name': 'Mixaloo', 'founded_year': 2007, 'deadpooled_year': 2013}\n",
      "{'name': 'Zipidee', 'founded_year': 2007, 'deadpooled_year': 2011}\n",
      "{'name': 'Confabb', 'founded_year': 2006, 'deadpooled_year': 2013}\n",
      "{'name': 'Buzzwire', 'founded_year': 2007, 'deadpooled_year': 2013}\n",
      "{'name': 'YowTRIP', 'founded_year': 2007, 'deadpooled_year': 2011}\n",
      "{'name': 'Eurekster', 'founded_year': 2004, 'deadpooled_year': 2008}\n",
      "{'name': 'Songbird', 'founded_year': 2006, 'deadpooled_year': 2013}\n",
      "{'name': 'GridNetworks', 'founded_year': 2004, 'deadpooled_year': 2012}\n",
      "{'name': 'Upcoming', 'founded_year': 2003, 'deadpooled_year': 2013}\n",
      "{'name': 'Excite@Home', 'founded_year': 1995, 'deadpooled_year': 2001}\n",
      "{'name': 'Faves', 'founded_year': 2004, 'deadpooled_year': 2011}\n",
      "{'name': 'Minekey', 'founded_year': 2005, 'deadpooled_year': 2012}\n",
      "{'name': 'Apprema', 'founded_year': 2007, 'deadpooled_year': 2013}\n",
      "{'name': 'Skribit', 'founded_year': 2007, 'deadpooled_year': 2012}\n",
      "{'name': 'xkoto', 'founded_year': 2005, 'deadpooled_year': 2011}\n",
      "{'name': 'Adhysteria', 'founded_year': 2007, 'deadpooled_year': 2012}\n",
      "{'name': 'SeeToo', 'founded_year': 2007, 'deadpooled_year': 2012}\n",
      "{'name': 'betNOW', 'founded_year': 2005, 'deadpooled_year': 2011}\n",
      "{'name': 'Dapper', 'founded_year': 2006, 'deadpooled_year': 2010}\n",
      "{'name': 'RipCode', 'founded_year': 2006, 'deadpooled_year': 2012}\n",
      "{'name': 'SimulScribe', 'founded_year': 2003, 'deadpooled_year': 2013}\n",
      "{'name': 'bluepulse', 'founded_year': 1990, 'deadpooled_year': 2010}\n",
      "{'name': 'ARPU', 'founded_year': 2005, 'deadpooled_year': 2010}\n",
      "{'name': 'Journeys', 'founded_year': 2007, 'deadpooled_year': 2012}\n",
      "{'name': 'yoonew', 'founded_year': 2004, 'deadpooled_year': 2010}\n",
      "{'name': 'Enforta', 'founded_year': 2003, 'deadpooled_year': 2013}\n",
      "{'name': 'Mumboe', 'founded_year': 2005, 'deadpooled_year': 2012}\n",
      "{'name': 'Bizak', 'founded_year': 2007, 'deadpooled_year': 2012}\n",
      "{'name': 'TV Shack', 'founded_year': 2007, 'deadpooled_year': 2011}\n",
      "{'name': 'Sharetivity', 'founded_year': 2007, 'deadpooled_year': 2012}\n",
      "{'name': 'What They Like', 'founded_year': 2007, 'deadpooled_year': 2011}\n",
      "{'name': 'Qifang', 'founded_year': 2007, 'deadpooled_year': 2011}\n",
      "{'name': 'Smalltown', 'founded_year': 2005, 'deadpooled_year': 2010}\n",
      "{'name': 'EveryBlock', 'founded_year': 2007, 'deadpooled_year': 2013}\n",
      "{'name': 'QponDirect', 'founded_year': 2006, 'deadpooled_year': 2011}\n",
      "{'name': 'Danger', 'founded_year': 1999, 'deadpooled_year': 2011}\n",
      "{'name': 'RealNames', 'founded_year': 1996, 'deadpooled_year': 2002}\n",
      "{'name': 'YouCastr', 'founded_year': 2007, 'deadpooled_year': 2011}\n",
      "{'name': 'JackPot Rewards', 'founded_year': 2008, 'deadpooled_year': 2012}\n",
      "{'name': 'World Reviewer', 'founded_year': 2007, 'deadpooled_year': 2012}\n",
      "{'name': 'Swarmcast', 'founded_year': 2001, 'deadpooled_year': 2010}\n",
      "{'name': 'Fifteen Reasons', 'founded_year': 2006, 'deadpooled_year': 2013}\n",
      "{'name': 'I-stats', 'founded_year': 2004, 'deadpooled_year': 2012}\n",
      "{'name': 'Akoha', 'founded_year': 2006, 'deadpooled_year': 2011}\n",
      "{'name': 'BrightSide Software', 'founded_year': 2007, 'deadpooled_year': 2013}\n",
      "{'name': 'CityIN', 'founded_year': 2008, 'deadpooled_year': 2012}\n",
      "{'name': 'Everex', 'founded_year': 1983, 'deadpooled_year': 2009}\n",
      "{'name': 'SearchMe', 'founded_year': 2005, 'deadpooled_year': 2009}\n",
      "{'name': 'Global Roaming', 'founded_year': 2006, 'deadpooled_year': 2010}\n",
      "{'name': 'modu', 'founded_year': 2007, 'deadpooled_year': 2011}\n",
      "{'name': 'Elastra', 'founded_year': 2007, 'deadpooled_year': 2011}\n",
      "{'name': 'Authenticlick', 'founded_year': 2005, 'deadpooled_year': 2009}\n",
      "{'name': 'Socialmoth', 'founded_year': 2004, 'deadpooled_year': 2012}\n",
      "{'name': 'Tapioca Mobile', 'founded_year': 2008, 'deadpooled_year': 2012}\n",
      "{'name': 'WebVisible', 'founded_year': 2001, 'deadpooled_year': 2011}\n",
      "{'name': 'Zebtab', 'founded_year': 2005, 'deadpooled_year': 2012}\n",
      "{'name': 'Etelos', 'founded_year': 1999, 'deadpooled_year': 2013}\n",
      "{'name': 'HelloTxt', 'founded_year': 2007, 'deadpooled_year': 2012}\n",
      "{'name': 'Clearwell Systems', 'founded_year': 2004, 'deadpooled_year': 2011}\n",
      "{'name': 'YourTeamOnline', 'founded_year': 2007, 'deadpooled_year': 2011}\n",
      "{'name': 'Pressflip', 'founded_year': 2007, 'deadpooled_year': 2012}\n",
      "{'name': 'itzbig', 'founded_year': 2006, 'deadpooled_year': 2010}\n",
      "{'name': 'Minggl', 'founded_year': 2005, 'deadpooled_year': 2012}\n",
      "{'name': 'Naubo', 'founded_year': 2007, 'deadpooled_year': 2012}\n",
      "{'name': 'Netcipia', 'founded_year': 2006, 'deadpooled_year': 2013}\n",
      "{'name': 'Jodange', 'founded_year': 2007, 'deadpooled_year': 2011}\n",
      "{'name': 'PutPlace', 'founded_year': 2006, 'deadpooled_year': 2012}\n",
      "{'name': 'Vivity Labs', 'founded_year': 2007, 'deadpooled_year': 2012}\n",
      "{'name': 'Labmeeting', 'founded_year': 2007, 'deadpooled_year': 2011}\n",
      "{'name': 'CVN Networks', 'founded_year': 2007, 'deadpooled_year': 2011}\n",
      "{'name': 'Twitlinks', 'founded_year': 2008, 'deadpooled_year': 2012}\n",
      "{'name': 'BubbleShare', 'founded_year': 1991, 'deadpooled_year': 2009}\n",
      "{'name': 'Muxlim', 'founded_year': 2006, 'deadpooled_year': 2012}\n",
      "{'name': 'PrepChamps', 'founded_year': 2007, 'deadpooled_year': 2012}\n",
      "{'name': 'Aardvark', 'founded_year': 2007, 'deadpooled_year': 2011}\n",
      "{'name': 'Viewzi', 'founded_year': 2006, 'deadpooled_year': 2010}\n",
      "{'name': 'Talicious', 'founded_year': 2006, 'deadpooled_year': 2012}\n",
      "{'name': 'OPEN Sports Network', 'founded_year': 2007, 'deadpooled_year': 2011}\n",
      "{'name': \"Center'd\", 'founded_year': 2006, 'deadpooled_year': 2011}\n",
      "{'name': 'Skyrider', 'founded_year': 2003, 'deadpooled_year': 2008}\n",
      "{'name': 'twidox', 'founded_year': 2007, 'deadpooled_year': 2013}\n",
      "{'name': 'Your Survival', 'founded_year': 2006, 'deadpooled_year': 2012}\n",
      "{'name': 'BView', 'founded_year': 2008, 'deadpooled_year': 2012}\n",
      "{'name': 'Dilithium Networks', 'founded_year': 2001, 'deadpooled_year': 2012}\n",
      "{'name': 'Accoona', 'founded_year': 2004, 'deadpooled_year': 2008}\n",
      "{'name': 'Fonemesh', 'founded_year': 2008, 'deadpooled_year': 2012}\n",
      "{'name': 'shopandsave', 'founded_year': 2008, 'deadpooled_year': 2013}\n",
      "{'name': 'mywaves', 'founded_year': 2005, 'deadpooled_year': 2012}\n",
      "{'name': 'Amazing Worlds', 'founded_year': 2007, 'deadpooled_year': 2012}\n",
      "{'name': 'Ztail', 'founded_year': 2005, 'deadpooled_year': 2012}\n",
      "{'name': 'MediaRush', 'founded_year': 2000, 'deadpooled_year': 2004}\n",
      "{'name': 'Creative Citizen', 'founded_year': 2007, 'deadpooled_year': 2011}\n",
      "{'name': 'EnterMedia', 'founded_year': 2005, 'deadpooled_year': 2009}\n",
      "{'name': 'Sxip Identity', 'founded_year': 2003, 'deadpooled_year': 2008}\n",
      "{'name': 'Zefanclub', 'founded_year': 2008, 'deadpooled_year': 2012}\n",
      "{'name': '1bib', 'founded_year': 2006, 'deadpooled_year': 2011}\n",
      "{'name': 'Aptera', 'founded_year': 2003, 'deadpooled_year': 2011}\n",
      "{'name': 'TeleFlip', 'founded_year': 2004, 'deadpooled_year': 2008}\n",
      "{'name': 'Inertia Beverage Group', 'founded_year': 2004, 'deadpooled_year': 2013}\n",
      "{'name': 'DotSpots', 'founded_year': 2007, 'deadpooled_year': 2012}\n",
      "{'name': 'Muecs', 'founded_year': 2008, 'deadpooled_year': 2012}\n",
      "{'name': 'MyPronostic', 'founded_year': 2007, 'deadpooled_year': 2011}\n",
      "{'name': 'MIKESTAR', 'founded_year': 2007, 'deadpooled_year': 2011}\n",
      "{'name': 'Twiddict', 'founded_year': 2008, 'deadpooled_year': 2012}\n",
      "{'name': 'ECO-SAFE', 'founded_year': 2007, 'deadpooled_year': 2012}\n",
      "{'name': 'MovieSet', 'founded_year': 2007, 'deadpooled_year': 2011}\n",
      "{'name': 'Loud3r', 'founded_year': 2007, 'deadpooled_year': 2012}\n",
      "{'name': 'MyTrainer', 'founded_year': 2007, 'deadpooled_year': 2012}\n",
      "{'name': 'IntroNiche', 'founded_year': 2007, 'deadpooled_year': 2012}\n",
      "{'name': 'LinQpay', 'founded_year': 2007, 'deadpooled_year': 2011}\n",
      "{'name': 'SaySwap', 'founded_year': 2007, 'deadpooled_year': 2012}\n",
      "{'name': 'Guruji', 'founded_year': 2006, 'deadpooled_year': 2012}\n",
      "{'name': 'RoboDynamics', 'founded_year': 2003, 'deadpooled_year': 2012}\n",
      "{'name': 'FlyCast', 'founded_year': 2006, 'deadpooled_year': 2013}\n",
      "{'name': 'rPath', 'founded_year': 2005, 'deadpooled_year': 2013}\n",
      "{'name': 'Fortisphere', 'founded_year': 2006, 'deadpooled_year': 2010}\n",
      "{'name': 'Zoopy', 'founded_year': 2007, 'deadpooled_year': 2013}\n",
      "{'name': 'Cyloop', 'founded_year': 2007, 'deadpooled_year': 2011}\n",
      "{'name': 'Yuntaa', 'founded_year': 2006, 'deadpooled_year': 2012}\n",
      "{'name': 'adicate timeads', 'founded_year': 2005, 'deadpooled_year': 2012}\n",
      "{'name': 'Semanticator', 'founded_year': 2008, 'deadpooled_year': 2012}\n",
      "{'name': 'Partnerbyte', 'founded_year': 2006, 'deadpooled_year': 2012}\n",
      "{'name': 'mmCHANNEL', 'founded_year': 2003, 'deadpooled_year': 2010}\n",
      "{'name': 'KnowNow', 'founded_year': 2000, 'deadpooled_year': 2008}\n",
      "{'name': 'Refulgence Technostream', 'founded_year': 2007, 'deadpooled_year': 2011}\n",
      "{'name': 'SulfurCell', 'founded_year': 2002, 'deadpooled_year': 2011}\n",
      "{'name': 'AtBizz', 'founded_year': 2007, 'deadpooled_year': 2011}\n",
      "{'name': 'Kappa Prime', 'founded_year': 2008, 'deadpooled_year': 2012}\n",
      "{'name': 'Polka', 'founded_year': 2007, 'deadpooled_year': 2011}\n",
      "{'name': 'Blue Lava Technologies', 'founded_year': 2006, 'deadpooled_year': 2012}\n",
      "{'name': 'neoSaej', 'founded_year': 2006, 'deadpooled_year': 2013}\n",
      "{'name': 'ByteShield', 'founded_year': 2004, 'deadpooled_year': 2012}\n",
      "{'name': 'Medpedia', 'founded_year': 2007, 'deadpooled_year': 2013}\n",
      "{'name': 'Myrio', 'founded_year': 1999, 'deadpooled_year': 2012}\n",
      "{'name': 'ArtistForce', 'founded_year': 2006, 'deadpooled_year': 2013}\n",
      "{'name': 'PhoneFromHere', 'founded_year': 2007, 'deadpooled_year': 2012}\n",
      "{'name': 'Cascada Mobile', 'founded_year': 2004, 'deadpooled_year': 2012}\n",
      "{'name': 'Jamglue', 'founded_year': 2006, 'deadpooled_year': 2010}\n",
      "{'name': 'Lexy', 'founded_year': 2006, 'deadpooled_year': 2011}\n",
      "{'name': 'Code71', 'founded_year': 2006, 'deadpooled_year': 2013}\n",
      "{'name': 'Carbonetworks', 'founded_year': 2005, 'deadpooled_year': 2011}\n",
      "{'name': 'Instagarage', 'founded_year': 2007, 'deadpooled_year': 2011}\n",
      "{'name': 'Enikos', 'founded_year': 2006, 'deadpooled_year': 2013}\n",
      "{'name': 'RODECO ICT Services', 'founded_year': 2004, 'deadpooled_year': 2009}\n",
      "{'name': 'Cucku', 'founded_year': 2007, 'deadpooled_year': 2011}\n",
      "{'name': 'Mobnotes', 'founded_year': 2007, 'deadpooled_year': 2011}\n",
      "{'name': 'Six Degrees Games', 'founded_year': 2006, 'deadpooled_year': 2012}\n",
      "{'name': 'Local Marketers', 'founded_year': 2005, 'deadpooled_year': 2011}\n",
      "{'name': 'LeisureLogix', 'founded_year': 2006, 'deadpooled_year': 2012}\n",
      "{'name': 'Logia Group', 'founded_year': 2004, 'deadpooled_year': 2013}\n",
      "{'name': 'Heekya', 'founded_year': 2008, 'deadpooled_year': 2012}\n",
      "{'name': 'ididwork', 'founded_year': 2008, 'deadpooled_year': 2012}\n",
      "{'name': 'MyFrontSteps', 'founded_year': 2008, 'deadpooled_year': 2013}\n",
      "{'name': 'Frogmetrics', 'founded_year': 2008, 'deadpooled_year': 2012}\n",
      "{'name': '1Cast', 'founded_year': 2006, 'deadpooled_year': 2012}\n",
      "{'name': 'Varolii', 'founded_year': 1999, 'deadpooled_year': 2013}\n",
      "{'name': 'Nevis Networks', 'founded_year': 2002, 'deadpooled_year': 2009}\n",
      "{'name': 'Sequoia Communications', 'founded_year': 2000, 'deadpooled_year': 2011}\n",
      "{'name': 'Unity 4 Humanity', 'founded_year': 2006, 'deadpooled_year': 2012}\n",
      "{'name': 'Storrz', 'founded_year': 2007, 'deadpooled_year': 2013}\n",
      "{'name': 'Phokki', 'founded_year': 2008, 'deadpooled_year': 2013}\n",
      "{'name': 'Carticipate', 'founded_year': 2008, 'deadpooled_year': 2012}\n",
      "{'name': 'Shattered Reality Interactive', 'founded_year': 2006, 'deadpooled_year': 2012}\n",
      "{'name': 'FairSoftware', 'founded_year': 2007, 'deadpooled_year': 2012}\n",
      "{'name': 'HammerKit', 'founded_year': 2006, 'deadpooled_year': 2013}\n",
      "{'name': 'Klatcher', 'founded_year': 2008, 'deadpooled_year': 2012}\n",
      "{'name': 'artandseek', 'founded_year': 2007, 'deadpooled_year': 2012}\n",
      "{'name': 'Picateers', 'founded_year': 2005, 'deadpooled_year': 2011}\n",
      "{'name': 'Linkua', 'founded_year': 2007, 'deadpooled_year': 2013}\n",
      "{'name': 'SimpleLeap Software', 'founded_year': 2008, 'deadpooled_year': 2012}\n",
      "{'name': 'Fusion Garage', 'founded_year': 2008, 'deadpooled_year': 2012}\n",
      "{'name': 'Gruvie', 'founded_year': 2007, 'deadpooled_year': 2012}\n",
      "{'name': 'Pixelpipe', 'founded_year': 2008, 'deadpooled_year': 2013}\n",
      "{'name': 'Frogmetrics', 'founded_year': 2008, 'deadpooled_year': 2012}\n",
      "{'name': '1Cast', 'founded_year': 2006, 'deadpooled_year': 2012}\n",
      "{'name': 'Varolii', 'founded_year': 1999, 'deadpooled_year': 2013}\n",
      "{'name': 'Nevis Networks', 'founded_year': 2002, 'deadpooled_year': 2009}\n",
      "{'name': 'Sequoia Communications', 'founded_year': 2000, 'deadpooled_year': 2011}\n",
      "{'name': 'Unity 4 Humanity', 'founded_year': 2006, 'deadpooled_year': 2012}\n",
      "{'name': 'Storrz', 'founded_year': 2007, 'deadpooled_year': 2013}\n",
      "{'name': 'Phokki', 'founded_year': 2008, 'deadpooled_year': 2013}\n",
      "{'name': 'Carticipate', 'founded_year': 2008, 'deadpooled_year': 2012}\n",
      "{'name': 'Shattered Reality Interactive', 'founded_year': 2006, 'deadpooled_year': 2012}\n",
      "{'name': 'FairSoftware', 'founded_year': 2007, 'deadpooled_year': 2012}\n",
      "{'name': 'HammerKit', 'founded_year': 2006, 'deadpooled_year': 2013}\n",
      "{'name': 'Klatcher', 'founded_year': 2008, 'deadpooled_year': 2012}\n",
      "{'name': 'artandseek', 'founded_year': 2007, 'deadpooled_year': 2012}\n",
      "{'name': 'Picateers', 'founded_year': 2005, 'deadpooled_year': 2011}\n",
      "{'name': 'Linkua', 'founded_year': 2007, 'deadpooled_year': 2013}\n",
      "{'name': 'SimpleLeap Software', 'founded_year': 2008, 'deadpooled_year': 2012}\n",
      "{'name': 'Fusion Garage', 'founded_year': 2008, 'deadpooled_year': 2012}\n",
      "{'name': 'Gruvie', 'founded_year': 2007, 'deadpooled_year': 2012}\n",
      "{'name': 'Pixelpipe', 'founded_year': 2008, 'deadpooled_year': 2013}\n",
      "{'name': 'Getfugu', 'founded_year': 2007, 'deadpooled_year': 2012}\n",
      "{'name': 'The Society', 'founded_year': 2007, 'deadpooled_year': 2013}\n",
      "{'name': 'ConSentry Networks', 'founded_year': 2003, 'deadpooled_year': 2011}\n",
      "{'name': 'Telera', 'founded_year': 1998, 'deadpooled_year': 2012}\n",
      "{'name': 'Metranome', 'founded_year': 2007, 'deadpooled_year': 2012}\n",
      "{'name': 'Semantra', 'founded_year': 2003, 'deadpooled_year': 2010}\n",
      "{'name': 'Qpyn', 'founded_year': 2003, 'deadpooled_year': 2013}\n",
      "{'name': 'DirectMoney', 'founded_year': 2006, 'deadpooled_year': 2010}\n",
      "{'name': 'Ziva Software', 'founded_year': 2005, 'deadpooled_year': 2011}\n",
      "{'name': 'Vertica Systems', 'founded_year': 2005, 'deadpooled_year': 2013}\n",
      "{'name': 'Club Scene Network', 'founded_year': 2004, 'deadpooled_year': 2010}\n",
      "{'name': 'Povo', 'founded_year': 2007, 'deadpooled_year': 2011}\n",
      "{'name': 'GeoCities', 'founded_year': 1996, 'deadpooled_year': 2009}\n",
      "{'name': 'FanPrice', 'founded_year': 2007, 'deadpooled_year': 2011}\n",
      "{'name': 'SDH Group', 'founded_year': 2003, 'deadpooled_year': 2011}\n",
      "{'name': 'MyShape', 'founded_year': 2003, 'deadpooled_year': 2013}\n",
      "{'name': 'FlameUp', 'founded_year': 2008, 'deadpooled_year': 2013}\n",
      "{'name': 'Koala Databank', 'founded_year': 2006, 'deadpooled_year': 2011}\n",
      "{'name': 'Gossip Girls', 'founded_year': 2003, 'deadpooled_year': 2008}\n",
      "{'name': 'Zubka', 'founded_year': 2006, 'deadpooled_year': 2010}\n",
      "{'name': 'Tailgate Technologies', 'founded_year': 2007, 'deadpooled_year': 2012}\n",
      "{'name': 'SolFocus', 'founded_year': 2005, 'deadpooled_year': 2013}\n",
      "{'name': 'InterStilist Professionnel', 'founded_year': 2008, 'deadpooled_year': 2012}\n",
      "{'name': 'TripShake', 'founded_year': 2008, 'deadpooled_year': 2012}\n",
      "{'name': 'Vontoo', 'founded_year': 2005, 'deadpooled_year': 2012}\n",
      "{'name': 'Mybandstock', 'founded_year': 2009, 'deadpooled_year': 2013}\n",
      "{'name': 'DubMeNow', 'founded_year': 2008, 'deadpooled_year': 2013}\n",
      "{'name': 'Microsupply', 'founded_year': 2001, 'deadpooled_year': 2010}\n",
      "{'name': 'Engineering Ideas', 'founded_year': 2008, 'deadpooled_year': 2012}\n",
      "{'name': 'FanSnap', 'founded_year': 2007, 'deadpooled_year': 2013}\n",
      "{'name': 'Karo Internet', 'founded_year': 2007, 'deadpooled_year': 2012}\n",
      "{'name': 'Pumant', 'founded_year': 2005, 'deadpooled_year': 2012}\n",
      "{'name': 'Tyfish', 'founded_year': 2007, 'deadpooled_year': 2012}\n",
      "{'name': 'maufait', 'founded_year': 2007, 'deadpooled_year': 2011}\n",
      "{'name': 'Dolphin Geeks', 'founded_year': 2005, 'deadpooled_year': 2012}\n",
      "{'name': 'Newmerix', 'founded_year': 2002, 'deadpooled_year': 2008}\n",
      "{'name': 'Qoof', 'founded_year': 2006, 'deadpooled_year': 2013}\n",
      "{'name': 'Zadby', 'founded_year': 2002, 'deadpooled_year': 2011}\n",
      "{'name': 'iKobo', 'founded_year': 2001, 'deadpooled_year': 2008}\n",
      "{'name': 'kidthing', 'founded_year': 2005, 'deadpooled_year': 2012}\n",
      "{'name': 'Q-magic', 'founded_year': 2007, 'deadpooled_year': 2011}\n",
      "{'name': 'GlobalCrypto', 'founded_year': 2006, 'deadpooled_year': 2012}\n",
      "{'name': 'Planet Metrics', 'founded_year': 2007, 'deadpooled_year': 2011}\n",
      "{'name': 'Illumix Software', 'founded_year': 2008, 'deadpooled_year': 2012}\n",
      "{'name': 'Easy Bill Online', 'founded_year': 2003, 'deadpooled_year': 2012}\n",
      "{'name': 'pickrset', 'founded_year': 2007, 'deadpooled_year': 2012}\n",
      "{'name': 'Qapacity', 'founded_year': 2008, 'deadpooled_year': 2012}\n",
      "{'name': 'Tiberium', 'founded_year': 2004, 'deadpooled_year': 2010}\n",
      "{'name': 'Behind the Burner', 'founded_year': 2008, 'deadpooled_year': 2012}\n",
      "{'name': 'Amadesa', 'founded_year': 2005, 'deadpooled_year': 2013}\n",
      "{'name': 'AndSpot', 'founded_year': 2008, 'deadpooled_year': 2012}\n",
      "{'name': 'FirstDIBZ', 'founded_year': 2001, 'deadpooled_year': 2010}\n",
      "{'name': 'AutoVirt', 'founded_year': 2007, 'deadpooled_year': 2012}\n",
      "{'name': 'Darkstrand', 'founded_year': 2005, 'deadpooled_year': 2012}\n",
      "{'name': 'Raffstar', 'founded_year': 2008, 'deadpooled_year': 2013}\n",
      "{'name': 'Meijob', 'founded_year': 2006, 'deadpooled_year': 2011}\n",
      "{'name': 'BetUknow', 'founded_year': 2007, 'deadpooled_year': 2011}\n",
      "{'name': 'Bloggerce', 'founded_year': 2006, 'deadpooled_year': 2011}\n",
      "{'name': 'Hit Systems', 'founded_year': 2008, 'deadpooled_year': 2013}\n",
      "{'name': 'REMOTV', 'founded_year': 2007, 'deadpooled_year': 2011}\n",
      "{'name': 'Zykis', 'founded_year': 2006, 'deadpooled_year': 2013}\n",
      "{'name': 'Exit41', 'founded_year': 1999, 'deadpooled_year': 2013}\n",
      "{'name': 'Broadchoice', 'founded_year': 2007, 'deadpooled_year': 2013}\n",
      "{'name': 'Zentact', 'founded_year': 2008, 'deadpooled_year': 2012}\n",
      "{'name': 'Novafora', 'founded_year': 2004, 'deadpooled_year': 2009}\n",
      "{'name': 'artaculous', 'founded_year': 2007, 'deadpooled_year': 2011}\n",
      "{'name': 'eBillme', 'founded_year': 2004, 'deadpooled_year': 2012}\n",
      "{'name': 'Rudder', 'founded_year': 2006, 'deadpooled_year': 2010}\n",
      "{'name': 'i2we', 'founded_year': 2007, 'deadpooled_year': 2013}\n",
      "{'name': 'mBeat Media', 'founded_year': 2008, 'deadpooled_year': 2012}\n",
      "{'name': 'SeeSaw Networks', 'founded_year': 2005, 'deadpooled_year': 2012}\n",
      "{'name': 'IMedExchange', 'founded_year': 2007, 'deadpooled_year': 2012}\n",
      "{'name': 'Robotgalaxy', 'founded_year': 2006, 'deadpooled_year': 2012}\n",
      "{'name': 'Avega Systems', 'founded_year': 2005, 'deadpooled_year': 2012}\n",
      "{'name': 'Hammerhead Systems', 'founded_year': 2002, 'deadpooled_year': 2009}\n",
      "{'name': 'Neopolitan Networks', 'founded_year': 2002, 'deadpooled_year': 2008}\n",
      "{'name': 'VoloMedia', 'founded_year': 2005, 'deadpooled_year': 2011}\n",
      "{'name': 'Fuego Nation', 'founded_year': 2007, 'deadpooled_year': 2011}\n",
      "{'name': 'Applied Identity', 'founded_year': 2002, 'deadpooled_year': 2012}\n",
      "{'name': 'Kickfire', 'founded_year': 2006, 'deadpooled_year': 2010}\n",
      "{'name': 'AdYouNet', 'founded_year': 2006, 'deadpooled_year': 2012}\n",
      "{'name': 'Aquest Systems', 'founded_year': 2004, 'deadpooled_year': 2010}\n",
      "{'name': 'ChipVision Design', 'founded_year': 2002, 'deadpooled_year': 2011}\n",
      "{'name': 'Digital Performance', 'founded_year': 2002, 'deadpooled_year': 2012}\n",
      "{'name': 'Crowd Rent', 'founded_year': 2009, 'deadpooled_year': 2013}\n",
      "{'name': 'Rapport', 'founded_year': 2001, 'deadpooled_year': 2012}\n",
      "{'name': 'Focus', 'founded_year': 2005, 'deadpooled_year': 2012}\n",
      "{'name': 'Zeugma Systems', 'founded_year': 2004, 'deadpooled_year': 2011}\n",
      "{'name': 'Extreme Enterprises', 'founded_year': 2007, 'deadpooled_year': 2011}\n",
      "{'name': 'scanR', 'founded_year': 2005, 'deadpooled_year': 2011}\n",
      "{'name': 'QSecure', 'founded_year': 2003, 'deadpooled_year': 2012}\n",
      "{'name': 'IonLogix Systems', 'founded_year': 2007, 'deadpooled_year': 2011}\n",
      "{'name': 'KlickSports', 'founded_year': 2006, 'deadpooled_year': 2012}\n",
      "{'name': '4Blox', 'founded_year': 2006, 'deadpooled_year': 2012}\n",
      "{'name': 'HeySpace', 'founded_year': 2005, 'deadpooled_year': 2009}\n",
      "{'name': 'Speedshape', 'founded_year': 2003, 'deadpooled_year': 2013}\n",
      "{'name': 'Power Analog Microelectronics', 'founded_year': 2004, 'deadpooled_year': 2012}\n",
      "{'name': 'Shocking Technologies', 'founded_year': 2006, 'deadpooled_year': 2013}\n",
      "{'name': 'Appscio', 'founded_year': 2006, 'deadpooled_year': 2011}\n",
      "{'name': 'Nanoradio', 'founded_year': 2004, 'deadpooled_year': 2013}\n",
      "{'name': 'Aurora Feint', 'founded_year': 2008, 'deadpooled_year': 2012}\n",
      "{'name': 'Jumper Networks', 'founded_year': 2008, 'deadpooled_year': 2012}\n",
      "{'name': 'Gemisimo', 'founded_year': 2008, 'deadpooled_year': 2012}\n",
      "{'name': 'RADLIVE', 'founded_year': 2005, 'deadpooled_year': 2012}\n",
      "{'name': 'OpVista', 'founded_year': 2000, 'deadpooled_year': 2009}\n",
      "{'name': 'Hidden City Games', 'founded_year': 2004, 'deadpooled_year': 2011}\n",
      "{'name': 'Collexpo', 'founded_year': 2008, 'deadpooled_year': 2012}\n",
      "{'name': 'CipherMax', 'founded_year': 2000, 'deadpooled_year': 2008}\n",
      "{'name': 'Etology', 'founded_year': 2005, 'deadpooled_year': 2011}\n",
      "{'name': 'Gecko Audio', 'founded_year': 2006, 'deadpooled_year': 2012}\n",
      "{'name': 'Executive Intermediary', 'founded_year': 2007, 'deadpooled_year': 2011}\n",
      "{'name': 'Bandbox', 'founded_year': 2007, 'deadpooled_year': 2012}\n",
      "{'name': 'Spotigo', 'founded_year': 2005, 'deadpooled_year': 2009}\n",
      "{'name': 'Filmmortal', 'founded_year': 2008, 'deadpooled_year': 2013}\n",
      "{'name': 'Pollsb', 'founded_year': 2007, 'deadpooled_year': 2012}\n",
      "{'name': 'Digital Marketing Solutions', 'founded_year': 2002, 'deadpooled_year': 2012}\n",
      "{'name': 'HellHouse Media', 'founded_year': 2004, 'deadpooled_year': 2010}\n",
      "{'name': 'Punch Entertainment', 'founded_year': 2005, 'deadpooled_year': 2012}\n",
      "{'name': 'htmlPlayground', 'founded_year': 2006, 'deadpooled_year': 2010}\n",
      "{'name': 'servtag', 'founded_year': 2007, 'deadpooled_year': 2012}\n",
      "{'name': 'Pocket Communications Northeast', 'founded_year': 2006, 'deadpooled_year': 2012}\n",
      "{'name': 'Hotalot', 'founded_year': 2008, 'deadpooled_year': 2012}\n",
      "{'name': 'ABC Live', 'founded_year': 2007, 'deadpooled_year': 2013}\n",
      "{'name': 'M3X Media', 'founded_year': 2005, 'deadpooled_year': 2012}\n",
      "{'name': 'Gnomz Software', 'founded_year': 2005, 'deadpooled_year': 2009}\n",
      "{'name': 'Ondeego', 'founded_year': 2007, 'deadpooled_year': 2011}\n",
      "{'name': 'Fabchannel', 'founded_year': 2000, 'deadpooled_year': 2009}\n",
      "{'name': 'Foldees', 'founded_year': 2007, 'deadpooled_year': 2011}\n",
      "{'name': 'Pacinian', 'founded_year': 2007, 'deadpooled_year': 2012}\n",
      "{'name': 'Dmailer', 'founded_year': 2001, 'deadpooled_year': 2010}\n",
      "{'name': 'Ubequity', 'founded_year': 2003, 'deadpooled_year': 2010}\n",
      "{'name': 'Futuretec', 'founded_year': 2005, 'deadpooled_year': 2010}\n",
      "{'name': 'Heartscape', 'founded_year': 2000, 'deadpooled_year': 2009}\n",
      "{'name': 'Rovrr', 'founded_year': 2007, 'deadpooled_year': 2011}\n",
      "{'name': 'TrewCap', 'founded_year': 2006, 'deadpooled_year': 2010}\n",
      "{'name': 'Cruxy', 'founded_year': 2004, 'deadpooled_year': 2009}\n",
      "{'name': 'LookStat', 'founded_year': 2008, 'deadpooled_year': 2012}\n",
      "{'name': 'KnewCo', 'founded_year': 2006, 'deadpooled_year': 2013}\n",
      "{'name': 'Groxis', 'founded_year': 2001, 'deadpooled_year': 2009}\n",
      "{'name': 'GoNogging', 'founded_year': 2007, 'deadpooled_year': 2012}\n",
      "{'name': 'Divided', 'founded_year': 2006, 'deadpooled_year': 2011}\n",
      "{'name': 'Aerovance', 'founded_year': 2004, 'deadpooled_year': 2011}\n",
      "{'name': 'Airship Ventures', 'founded_year': 2007, 'deadpooled_year': 2012}\n",
      "{'name': 'Factery', 'founded_year': 2009, 'deadpooled_year': 2013}\n",
      "{'name': 'FledgeWing', 'founded_year': 2007, 'deadpooled_year': 2013}\n",
      "{'name': 'kinkon', 'founded_year': 2008, 'deadpooled_year': 2012}\n",
      "{'name': 'LETSGROOP', 'founded_year': 2008, 'deadpooled_year': 2012}\n",
      "{'name': 'Bidoo', 'founded_year': 2004, 'deadpooled_year': 2010}\n",
      "{'name': 'SPOC Medical', 'founded_year': 2006, 'deadpooled_year': 2012}\n",
      "{'name': 'Matisse Networks', 'founded_year': 2002, 'deadpooled_year': 2009}\n",
      "{'name': 'Nakaya Microdevices', 'founded_year': 1970, 'deadpooled_year': 2010}\n",
      "{'name': 'CinemaKi', 'founded_year': 2008, 'deadpooled_year': 2013}\n",
      "{'name': 'Canopy Financial', 'founded_year': 2004, 'deadpooled_year': 2009}\n",
      "{'name': 'FanFeedr', 'founded_year': 2008, 'deadpooled_year': 2012}\n",
      "{'name': 'Elanti Systems', 'founded_year': 2007, 'deadpooled_year': 2012}\n",
      "{'name': 'Virgin Play', 'founded_year': 1995, 'deadpooled_year': 2012}\n",
      "{'name': 'Therosteon', 'founded_year': 2008, 'deadpooled_year': 2012}\n",
      "{'name': 'DermaGen', 'founded_year': 2004, 'deadpooled_year': 2011}\n",
      "{'name': 'Pigmata Media', 'founded_year': 2007, 'deadpooled_year': 2013}\n",
      "{'name': 'Ecast', 'founded_year': 1999, 'deadpooled_year': 2012}\n",
      "{'name': 'Libox', 'founded_year': 2008, 'deadpooled_year': 2012}\n",
      "{'name': 'ClassifEye', 'founded_year': 2003, 'deadpooled_year': 2011}\n",
      "{'name': 'Vocab', 'founded_year': 2002, 'deadpooled_year': 2012}\n",
      "{'name': 'ZettaCore', 'founded_year': 1999, 'deadpooled_year': 2012}\n",
      "{'name': 'Mobshop', 'founded_year': 2008, 'deadpooled_year': 2012}\n",
      "{'name': 'Rewarding Return', 'founded_year': 2007, 'deadpooled_year': 2012}\n",
      "{'name': 'BeeTV', 'founded_year': 2007, 'deadpooled_year': 2011}\n",
      "{'name': 'GameGround', 'founded_year': 2007, 'deadpooled_year': 2012}\n",
      "{'name': 'DynaPump', 'founded_year': 1992, 'deadpooled_year': 2011}\n",
      "{'name': 'Apieron', 'founded_year': 2001, 'deadpooled_year': 2011}\n",
      "{'name': 'Anaphore', 'founded_year': 2008, 'deadpooled_year': 2012}\n",
      "{'name': 'Morgan Everett', 'founded_year': 2002, 'deadpooled_year': 2010}\n",
      "{'name': 'Biofisica', 'founded_year': 2000, 'deadpooled_year': 2012}\n",
      "{'name': 'InterMed Discovery', 'founded_year': 2006, 'deadpooled_year': 2012}\n",
      "{'name': 'S*Bio', 'founded_year': 2000, 'deadpooled_year': 2012}\n",
      "{'name': 'Limerick BioPharma', 'founded_year': 2004, 'deadpooled_year': 2013}\n",
      "{'name': 'CostumeWorks', 'founded_year': 2008, 'deadpooled_year': 2012}\n",
      "{'name': 'FuckedCompany', 'founded_year': 2000, 'deadpooled_year': 2007}\n",
      "{'name': 'Scopial', 'founded_year': 2008, 'deadpooled_year': 2012}\n",
      "{'name': 'Biolex Therapeutics', 'founded_year': 1997, 'deadpooled_year': 2012}\n",
      "{'name': 'PhotoThera', 'founded_year': 1997, 'deadpooled_year': 2012}\n",
      "{'name': 'Global Data Solutions', 'founded_year': 2000, 'deadpooled_year': 2012}\n",
      "{'name': 'Azingo', 'founded_year': 2005, 'deadpooled_year': 2009}\n",
      "{'name': 'JinkoSolar Holding', 'founded_year': 2006, 'deadpooled_year': 2013}\n",
      "{'name': 'ERTH Technologies', 'founded_year': 2002, 'deadpooled_year': 2011}\n",
      "{'name': 'LEYIO', 'founded_year': 2008, 'deadpooled_year': 2012}\n",
      "{'name': 'Kurani Interactive', 'founded_year': 2000, 'deadpooled_year': 2013}\n",
      "{'name': 'Metallkraft AS', 'founded_year': 1999, 'deadpooled_year': 2011}\n",
      "{'name': 'MindFuse', 'founded_year': 2006, 'deadpooled_year': 2010}\n",
      "{'name': 'Bling Nation', 'founded_year': 2007, 'deadpooled_year': 2011}\n",
      "{'name': 'SpeakSoft', 'founded_year': 2007, 'deadpooled_year': 2012}\n",
      "{'name': 'Tagito', 'founded_year': 2008, 'deadpooled_year': 2012}\n",
      "{'name': 'Nordic Windpower', 'founded_year': 2007, 'deadpooled_year': 2013}\n",
      "{'name': 'Nethra Imaging', 'founded_year': 2003, 'deadpooled_year': 2012}\n",
      "{'name': 'Prolify', 'founded_year': 2002, 'deadpooled_year': 2007}\n"
     ]
    }
   ],
   "source": [
    "# Your Code\n",
    "query = {'deadpooled_year': {'$exists': True},\n",
    "         'founded_year': {'$exists': True}}\n",
    "\n",
    "select = {'_id': False,\n",
    "          'name': True,\n",
    "          'founded_year': True,\n",
    "          'deadpooled_year': True}\n",
    "\n",
    "companies = coll.find(query, select)\n",
    "\n",
    "for company in companies:\n",
    "    if (company['deadpooled_year'] is not None \n",
    "        and company['founded_year'] is not None \n",
    "        and company['deadpooled_year'] > company['founded_year'] + 3):\n",
    "        print(company)"
   ]
  }
 ],
 "metadata": {
  "kernelspec": {
   "display_name": "Python 3 (ipykernel)",
   "language": "python",
   "name": "python3"
  },
  "language_info": {
   "codemirror_mode": {
    "name": "ipython",
    "version": 3
   },
   "file_extension": ".py",
   "mimetype": "text/x-python",
   "name": "python",
   "nbconvert_exporter": "python",
   "pygments_lexer": "ipython3",
   "version": "3.11.1"
  }
 },
 "nbformat": 4,
 "nbformat_minor": 2
}
