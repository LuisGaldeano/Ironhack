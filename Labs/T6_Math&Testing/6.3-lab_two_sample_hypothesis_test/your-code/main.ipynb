{
 "cells": [
  {
   "cell_type": "markdown",
   "metadata": {},
   "source": [
    "# Before your start:\n",
    "- Read the README.md file\n",
    "- Comment as much as you can and use the resources (README.md file)\n",
    "- Happy learning!"
   ]
  },
  {
   "cell_type": "code",
   "execution_count": 2,
   "metadata": {
    "ExecuteTime": {
     "end_time": "2023-05-17T13:11:15.922701Z",
     "start_time": "2023-05-17T13:11:11.948915100Z"
    }
   },
   "outputs": [],
   "source": [
    "# import numpy and pandas\n",
    "import pandas as pd\n",
    "from scipy.stats import ttest_rel\n",
    "import numpy as np"
   ]
  },
  {
   "cell_type": "markdown",
   "metadata": {},
   "source": [
    "# Challenge 1 - Independent Sample T-tests\n",
    "\n",
    "In this challenge, we will be using the Pokemon dataset. Before applying statistical methods to this data, let's first examine the data.\n",
    "\n",
    "To load the data, run the code below."
   ]
  },
  {
   "cell_type": "code",
   "execution_count": 4,
   "metadata": {
    "ExecuteTime": {
     "end_time": "2023-05-17T13:14:21.809848400Z",
     "start_time": "2023-05-17T13:14:21.775649200Z"
    }
   },
   "outputs": [],
   "source": [
    "# Run this code:\n",
    "pokemon = pd.read_csv('../pokemon.csv')"
   ]
  },
  {
   "cell_type": "markdown",
   "metadata": {},
   "source": [
    "Let's start off by looking at the `head` function in the cell below."
   ]
  },
  {
   "cell_type": "code",
   "execution_count": 3,
   "metadata": {
    "ExecuteTime": {
     "end_time": "2023-05-17T10:27:15.729780Z",
     "start_time": "2023-05-17T10:27:15.675422Z"
    }
   },
   "outputs": [
    {
     "data": {
      "text/html": [
       "<div>\n",
       "<style scoped>\n",
       "    .dataframe tbody tr th:only-of-type {\n",
       "        vertical-align: middle;\n",
       "    }\n",
       "\n",
       "    .dataframe tbody tr th {\n",
       "        vertical-align: top;\n",
       "    }\n",
       "\n",
       "    .dataframe thead th {\n",
       "        text-align: right;\n",
       "    }\n",
       "</style>\n",
       "<table border=\"1\" class=\"dataframe\">\n",
       "  <thead>\n",
       "    <tr style=\"text-align: right;\">\n",
       "      <th></th>\n",
       "      <th>#</th>\n",
       "      <th>Name</th>\n",
       "      <th>Type 1</th>\n",
       "      <th>Type 2</th>\n",
       "      <th>Total</th>\n",
       "      <th>HP</th>\n",
       "      <th>Attack</th>\n",
       "      <th>Defense</th>\n",
       "      <th>Sp. Atk</th>\n",
       "      <th>Sp. Def</th>\n",
       "      <th>Speed</th>\n",
       "      <th>Generation</th>\n",
       "      <th>Legendary</th>\n",
       "    </tr>\n",
       "  </thead>\n",
       "  <tbody>\n",
       "    <tr>\n",
       "      <th>0</th>\n",
       "      <td>1</td>\n",
       "      <td>Bulbasaur</td>\n",
       "      <td>Grass</td>\n",
       "      <td>Poison</td>\n",
       "      <td>318</td>\n",
       "      <td>45</td>\n",
       "      <td>49</td>\n",
       "      <td>49</td>\n",
       "      <td>65</td>\n",
       "      <td>65</td>\n",
       "      <td>45</td>\n",
       "      <td>1</td>\n",
       "      <td>False</td>\n",
       "    </tr>\n",
       "    <tr>\n",
       "      <th>1</th>\n",
       "      <td>2</td>\n",
       "      <td>Ivysaur</td>\n",
       "      <td>Grass</td>\n",
       "      <td>Poison</td>\n",
       "      <td>405</td>\n",
       "      <td>60</td>\n",
       "      <td>62</td>\n",
       "      <td>63</td>\n",
       "      <td>80</td>\n",
       "      <td>80</td>\n",
       "      <td>60</td>\n",
       "      <td>1</td>\n",
       "      <td>False</td>\n",
       "    </tr>\n",
       "    <tr>\n",
       "      <th>2</th>\n",
       "      <td>3</td>\n",
       "      <td>Venusaur</td>\n",
       "      <td>Grass</td>\n",
       "      <td>Poison</td>\n",
       "      <td>525</td>\n",
       "      <td>80</td>\n",
       "      <td>82</td>\n",
       "      <td>83</td>\n",
       "      <td>100</td>\n",
       "      <td>100</td>\n",
       "      <td>80</td>\n",
       "      <td>1</td>\n",
       "      <td>False</td>\n",
       "    </tr>\n",
       "    <tr>\n",
       "      <th>3</th>\n",
       "      <td>3</td>\n",
       "      <td>VenusaurMega Venusaur</td>\n",
       "      <td>Grass</td>\n",
       "      <td>Poison</td>\n",
       "      <td>625</td>\n",
       "      <td>80</td>\n",
       "      <td>100</td>\n",
       "      <td>123</td>\n",
       "      <td>122</td>\n",
       "      <td>120</td>\n",
       "      <td>80</td>\n",
       "      <td>1</td>\n",
       "      <td>False</td>\n",
       "    </tr>\n",
       "    <tr>\n",
       "      <th>4</th>\n",
       "      <td>4</td>\n",
       "      <td>Charmander</td>\n",
       "      <td>Fire</td>\n",
       "      <td>NaN</td>\n",
       "      <td>309</td>\n",
       "      <td>39</td>\n",
       "      <td>52</td>\n",
       "      <td>43</td>\n",
       "      <td>60</td>\n",
       "      <td>50</td>\n",
       "      <td>65</td>\n",
       "      <td>1</td>\n",
       "      <td>False</td>\n",
       "    </tr>\n",
       "  </tbody>\n",
       "</table>\n",
       "</div>"
      ],
      "text/plain": [
       "   #                   Name Type 1  Type 2  Total  HP  Attack  Defense   \n",
       "0  1              Bulbasaur  Grass  Poison    318  45      49       49  \\\n",
       "1  2                Ivysaur  Grass  Poison    405  60      62       63   \n",
       "2  3               Venusaur  Grass  Poison    525  80      82       83   \n",
       "3  3  VenusaurMega Venusaur  Grass  Poison    625  80     100      123   \n",
       "4  4             Charmander   Fire     NaN    309  39      52       43   \n",
       "\n",
       "   Sp. Atk  Sp. Def  Speed  Generation  Legendary  \n",
       "0       65       65     45           1      False  \n",
       "1       80       80     60           1      False  \n",
       "2      100      100     80           1      False  \n",
       "3      122      120     80           1      False  \n",
       "4       60       50     65           1      False  "
      ]
     },
     "execution_count": 3,
     "metadata": {},
     "output_type": "execute_result"
    }
   ],
   "source": [
    "# Your code here:\n",
    "pokemon.head()"
   ]
  },
  {
   "cell_type": "markdown",
   "metadata": {},
   "source": [
    "The first thing we would like to do is compare the legendary Pokemon to the regular Pokemon. To do this, we should examine the data further. What is the count of legendary vs. non legendary Pokemons?"
   ]
  },
  {
   "cell_type": "code",
   "execution_count": 7,
   "metadata": {
    "ExecuteTime": {
     "end_time": "2023-05-17T10:30:21.152834200Z",
     "start_time": "2023-05-17T10:30:21.147836900Z"
    }
   },
   "outputs": [
    {
     "name": "stdout",
     "output_type": "stream",
     "text": [
      "Número de Pokemon Legendarios: Legendary\n",
      "False    0.91875\n",
      "True     0.08125\n",
      "Name: proportion, dtype: float64, Número de Pokemon no Legendarios: Legendary\n",
      "False    735\n",
      "True      65\n",
      "Name: count, dtype: int64\n"
     ]
    }
   ],
   "source": [
    "pok_noLeg_num = pokemon['Legendary'].value_counts(False)\n",
    "pok_Leg_num = pokemon['Legendary'].value_counts(True)\n",
    "print(f'Número de Pokemon Legendarios: {pok_Leg_num}, Número de Pokemon no Legendarios: {pok_noLeg_num}')"
   ]
  },
  {
   "cell_type": "markdown",
   "metadata": {},
   "source": [
    "Compute the mean and standard deviation of the total points for both legendary and non-legendary Pokemon."
   ]
  },
  {
   "cell_type": "code",
   "execution_count": 23,
   "metadata": {
    "ExecuteTime": {
     "end_time": "2023-05-17T13:32:27.848130100Z",
     "start_time": "2023-05-17T13:32:27.845088400Z"
    }
   },
   "outputs": [
    {
     "name": "stdout",
     "output_type": "stream",
     "text": [
      "637.3846153846154 60.93738905315344 417.21360544217686 106.76041745713005\n"
     ]
    }
   ],
   "source": [
    "# Your code here:\n",
    "pok_Leg =  pokemon.loc[pokemon['Legendary'] == True]\n",
    "pok_Leg_mean = pok_Leg.Total.mean()\n",
    "pok_Leg_std = pok_Leg.Total.std()\n",
    "pok_noLeg =  pokemon.loc[pokemon['Legendary'] == False]\n",
    "pok_noLeg_mean = pok_noLeg.Total.mean()\n",
    "pok_noLeg_std = pok_noLeg.Total.std()\n",
    "print(pok_Leg_mean, pok_Leg_std, pok_noLeg_mean, pok_noLeg_std)"
   ]
  },
  {
   "cell_type": "markdown",
   "metadata": {},
   "source": [
    "The computation of the mean might give us a clue regarding how the statistical test may turn out; However, it certainly does not prove whether there is a significant difference between the two groups.\n",
    "\n",
    "In the cell below, use the `ttest_ind` function in `scipy.stats` to compare the the total points for legendary and non-legendary Pokemon. Since we do not have any information about the population, assume the variances are not equal."
   ]
  },
  {
   "cell_type": "code",
   "execution_count": 17,
   "metadata": {
    "ExecuteTime": {
     "end_time": "2023-05-17T10:45:15.039408700Z",
     "start_time": "2023-05-17T10:45:15.030918Z"
    }
   },
   "outputs": [
    {
     "data": {
      "text/plain": [
       "Ttest_indResult(statistic=16.386116965872425, pvalue=3.0952457469652825e-52)"
      ]
     },
     "execution_count": 17,
     "metadata": {},
     "output_type": "execute_result"
    }
   ],
   "source": [
    "# Your code here:\n",
    "from scipy.stats import ttest_ind\n",
    "'Hipótesis:   H0: mu = 0 | H1 mu != 0'\n",
    "\n",
    "pok_Leg_total = pok_Leg.Total\n",
    "pok_noLeg_total = pok_noLeg.Total\n",
    "\n",
    "ttest_ind(pok_Leg_total, pok_noLeg_total, alternative='two-sided')\n"
   ]
  },
  {
   "cell_type": "markdown",
   "metadata": {},
   "source": [
    "What do you conclude from this test? Write your conclusions below."
   ]
  },
  {
   "cell_type": "code",
   "execution_count": 18,
   "metadata": {
    "ExecuteTime": {
     "end_time": "2023-05-17T10:47:07.422275400Z",
     "start_time": "2023-05-17T10:47:07.397394400Z"
    }
   },
   "outputs": [
    {
     "data": {
      "text/plain": [
       "'Como el pvalor es < 0.05 Rechazamos H0'"
      ]
     },
     "execution_count": 18,
     "metadata": {},
     "output_type": "execute_result"
    }
   ],
   "source": [
    "# Your conclusions here:\n",
    "\n",
    "'Como el pvalor es < 0.05 Rechazamos H0'"
   ]
  },
  {
   "cell_type": "markdown",
   "metadata": {},
   "source": [
    "How about we try to compare the different types of pokemon? In the cell below, list the types of Pokemon from column `Type 1` and the count of each type."
   ]
  },
  {
   "cell_type": "code",
   "execution_count": 42,
   "metadata": {
    "ExecuteTime": {
     "end_time": "2023-05-17T11:33:56.981165Z",
     "start_time": "2023-05-17T11:33:56.963514700Z"
    }
   },
   "outputs": [
    {
     "name": "stdout",
     "output_type": "stream",
     "text": [
      "Type 1\n",
      "Water       112\n",
      "Normal       98\n",
      "Grass        70\n",
      "Bug          69\n",
      "Psychic      57\n",
      "Fire         52\n",
      "Electric     44\n",
      "Rock         44\n",
      "Dragon       32\n",
      "Ground       32\n",
      "Ghost        32\n",
      "Dark         31\n",
      "Poison       28\n",
      "Steel        27\n",
      "Fighting     27\n",
      "Ice          24\n",
      "Fairy        17\n",
      "Flying        4\n",
      "Name: count, dtype: int64\n"
     ]
    }
   ],
   "source": [
    "# Your code here:\n",
    "pok_t1 = pokemon['Type 1'].value_counts()\n",
    "print(pok_t1)"
   ]
  },
  {
   "cell_type": "markdown",
   "metadata": {},
   "source": [
    "Since water is the largest group of Pokemon, compare the mean and standard deviation of water Pokemon to all other Pokemon."
   ]
  },
  {
   "cell_type": "code",
   "execution_count": 21,
   "metadata": {
    "ExecuteTime": {
     "end_time": "2023-05-17T13:31:43.036605Z",
     "start_time": "2023-05-17T13:31:43.014884800Z"
    }
   },
   "outputs": [
    {
     "name": "stdout",
     "output_type": "stream",
     "text": [
      "430.45535714285717 113.1882660643146\n"
     ]
    }
   ],
   "source": [
    "# Your code here:\n",
    "pok_water = pokemon.loc[pokemon['Type 1'] == 'Water']\n",
    "pok_water_total = pok_water.Total\n",
    "pok_water_mean = pok_water.Total.mean()\n",
    "pok_water_std = pok_water.Total.std()\n",
    "print(pok_water_mean, pok_water_std)"
   ]
  },
  {
   "cell_type": "code",
   "execution_count": 22,
   "metadata": {
    "ExecuteTime": {
     "end_time": "2023-05-17T13:31:46.975974600Z",
     "start_time": "2023-05-17T13:31:46.967278700Z"
    }
   },
   "outputs": [
    {
     "name": "stdout",
     "output_type": "stream",
     "text": [
      "435.85901162790697 121.0916823020807\n"
     ]
    }
   ],
   "source": [
    "pok_no_water = pokemon.loc[pokemon['Type 1'] != 'Water']\n",
    "pok_no_water_total = pok_no_water.Total\n",
    "pok_no_water_mean = pok_no_water.Total.mean()\n",
    "pok_no_water_std = pok_no_water.Total.std()\n",
    "print(pok_no_water_mean, pok_no_water_std)"
   ]
  },
  {
   "cell_type": "markdown",
   "metadata": {},
   "source": [
    "Perform a hypothesis test comparing the mean of total points for water Pokemon to all non-water Pokemon. Assume the variances are equal."
   ]
  },
  {
   "cell_type": "code",
   "execution_count": 55,
   "metadata": {
    "ExecuteTime": {
     "end_time": "2023-05-17T11:45:58.337573900Z",
     "start_time": "2023-05-17T11:45:58.329025200Z"
    }
   },
   "outputs": [
    {
     "data": {
      "text/plain": [
       "Ttest_indResult(statistic=-0.4418547448849676, pvalue=0.6587140317488793)"
      ]
     },
     "execution_count": 55,
     "metadata": {},
     "output_type": "execute_result"
    }
   ],
   "source": [
    "'Hipótesis:   H0: mu = 0 | H1 mu != 0'\n",
    "\n",
    "ttest_ind(pok_water_total, pok_no_water_total, alternative='two-sided')"
   ]
  },
  {
   "cell_type": "markdown",
   "metadata": {},
   "source": [
    "Write your conclusion below."
   ]
  },
  {
   "cell_type": "code",
   "execution_count": 1,
   "metadata": {
    "ExecuteTime": {
     "end_time": "2023-05-17T13:09:19.110997700Z",
     "start_time": "2023-05-17T13:09:19.098502300Z"
    }
   },
   "outputs": [
    {
     "data": {
      "text/plain": "'Como el p-valor es 0.65 > 0.05 no podemos rechazar la H0 y por lo tanto todas las medias son iguales'"
     },
     "execution_count": 1,
     "metadata": {},
     "output_type": "execute_result"
    }
   ],
   "source": [
    "# Your conclusions here:\n",
    "\n",
    "'Como el p-valor es 0.65 > 0.05 no podemos rechazar la H0 y por lo tanto todas las medias son iguales'"
   ]
  },
  {
   "cell_type": "markdown",
   "metadata": {},
   "source": [
    "# Challenge 2 - Matched Pairs Test\n",
    "\n",
    "In this challenge we will compare dependent samples of data describing our Pokemon. Our goal is to see whether there is a significant difference between each Pokemon's defense and attack scores. Our hypothesis is that the defense and attack scores are equal. In the cell below, import the `ttest_rel` function from `scipy.stats` and compare the two columns to see if there is a statistically significant difference between them."
   ]
  },
  {
   "cell_type": "code",
   "execution_count": 12,
   "metadata": {
    "ExecuteTime": {
     "end_time": "2023-05-17T13:19:48.240072600Z",
     "start_time": "2023-05-17T13:19:48.232101Z"
    }
   },
   "outputs": [
    {
     "data": {
      "text/plain": "TtestResult(statistic=4.325566393330478, pvalue=1.7140303479358558e-05, df=799)"
     },
     "execution_count": 12,
     "metadata": {},
     "output_type": "execute_result"
    }
   ],
   "source": [
    "# Your code here:\n",
    "'h0 = Iguales | H1 != Iguales'\n",
    "pok_at = pokemon['Attack']\n",
    "pok_def = pokemon['Defense']\n",
    "ttest_rel(pok_at, pok_def)"
   ]
  },
  {
   "cell_type": "markdown",
   "metadata": {},
   "source": [
    "Describe the results of the test in the cell below."
   ]
  },
  {
   "cell_type": "code",
   "execution_count": 9,
   "metadata": {
    "ExecuteTime": {
     "end_time": "2023-05-17T13:16:22.891424500Z",
     "start_time": "2023-05-17T13:16:22.885299500Z"
    }
   },
   "outputs": [
    {
     "data": {
      "text/plain": "'Como el p-valor es < 0.05 rechazamos la hipótesis nula y por lo tanto son diferentes'"
     },
     "execution_count": 9,
     "metadata": {},
     "output_type": "execute_result"
    }
   ],
   "source": [
    "# Your conclusions here:\n",
    "\n",
    "'Como el p-valor es < 0.05 rechazamos la hipótesis nula y por lo tanto son diferentes'"
   ]
  },
  {
   "cell_type": "markdown",
   "metadata": {},
   "source": [
    "no We are also curious about whether therer is a significant difference between the mean of special defense and the mean of special attack. Perform the hypothesis test in the cell below."
   ]
  },
  {
   "cell_type": "code",
   "execution_count": 14,
   "metadata": {
    "ExecuteTime": {
     "end_time": "2023-05-17T13:20:32.813999300Z",
     "start_time": "2023-05-17T13:20:32.805271Z"
    }
   },
   "outputs": [
    {
     "data": {
      "text/plain": "Ttest_indResult(statistic=0.6041290031014401, pvalue=0.5458436328840358)"
     },
     "execution_count": 14,
     "metadata": {},
     "output_type": "execute_result"
    }
   ],
   "source": [
    "# Your code here:\n",
    "from scipy.stats import ttest_ind\n",
    "\n",
    "'H0: m1-m2 = 0, H1 ≠ 0'\n",
    "pok_spA = pokemon['Sp. Atk']\n",
    "pok_spD = pokemon['Sp. Def']\n",
    "\n",
    "ttest_ind(pok_spA, pok_spD, alternative='two-sided')"
   ]
  },
  {
   "cell_type": "markdown",
   "metadata": {},
   "source": [
    "Describe the results of the test in the cell below."
   ]
  },
  {
   "cell_type": "code",
   "execution_count": 15,
   "metadata": {
    "ExecuteTime": {
     "end_time": "2023-05-17T13:22:22.099608400Z",
     "start_time": "2023-05-17T13:22:22.090911400Z"
    }
   },
   "outputs": [
    {
     "data": {
      "text/plain": "' Como el p-valor es > 0.05 no podemos rechazar la H0 y por lo tanto no hay una diferencia significativa entre los ataques especiales y las defensas especiales '"
     },
     "execution_count": 15,
     "metadata": {},
     "output_type": "execute_result"
    }
   ],
   "source": [
    "# Your conclusions here:\n",
    "\n",
    "' Como el p-valor es > 0.05 no podemos rechazar la H0 y por lo tanto no hay una diferencia significativa entre los ataques especiales y las defensas especiales '"
   ]
  },
  {
   "cell_type": "markdown",
   "metadata": {},
   "source": [
    "As you may recall, a two sample matched pairs test can also be expressed as a one sample test of the difference between the two dependent columns.\n",
    "\n",
    "Import the `ttest_1samp` function and perform a one sample t-test of the difference between defense and attack. Test the hypothesis that the difference between the means is zero. Confirm that the results of the test are the same."
   ]
  },
  {
   "cell_type": "code",
   "execution_count": 19,
   "metadata": {
    "ExecuteTime": {
     "end_time": "2023-05-17T13:27:59.925493700Z",
     "start_time": "2023-05-17T13:27:59.920501100Z"
    }
   },
   "outputs": [
    {
     "name": "stdout",
     "output_type": "stream",
     "text": [
      "TtestResult(statistic=-4.325566393330478, pvalue=8.570151739679279e-06, df=799)\n"
     ]
    }
   ],
   "source": [
    "# Your code here:\n",
    "from scipy.stats import ttest_1samp\n",
    "'H0 = 0 | H1 != 0'\n",
    "\n",
    "pok_At_Def = pok_def - pok_at\n",
    "\n",
    "t_test = ttest_1samp(pok_At_Def, 0, alternative='less')\n",
    "print(t_test)"
   ]
  },
  {
   "cell_type": "code",
   "execution_count": 20,
   "outputs": [
    {
     "data": {
      "text/plain": "'Como el p-valor es < 0.05 rechazamos H0 y por lo tanto las medias del ataque y la defensa son significativamente diferentes'"
     },
     "execution_count": 20,
     "metadata": {},
     "output_type": "execute_result"
    }
   ],
   "source": [
    "'Como el p-valor es < 0.05 rechazamos H0 y por lo tanto las medias del ataque y la defensa son significativamente diferentes'"
   ],
   "metadata": {
    "collapsed": false,
    "ExecuteTime": {
     "end_time": "2023-05-17T13:29:07.685547500Z",
     "start_time": "2023-05-17T13:29:07.663007600Z"
    }
   }
  },
  {
   "cell_type": "markdown",
   "metadata": {},
   "source": [
    "# Bonus Challenge - The Chi-Square Test\n",
    "\n",
    "The Chi-Square test is used to determine whether there is a statistically significant difference in frequencies. In other words, we are testing whether there is a relationship between categorical variables or rather when the variables are independent. This test is an alternative to Fisher's exact test and is used in scenarios where sample sizes are larger. However, with a large enough sample size, both tests produce similar results. Read more about the Chi Squared test [here](https://en.wikipedia.org/wiki/Chi-squared_test).\n",
    "\n",
    "In the cell below, create a contingency table using `pd.crosstab` comparing whether a Pokemon is legenadary or not and whether the Type 1 of a Pokemon is water or not."
   ]
  },
  {
   "cell_type": "code",
   "execution_count": 29,
   "metadata": {
    "ExecuteTime": {
     "end_time": "2023-05-17T13:37:01.637649500Z",
     "start_time": "2023-05-17T13:37:01.616384800Z"
    }
   },
   "outputs": [
    {
     "name": "stdout",
     "output_type": "stream",
     "text": [
      "Legendary  False  True \n",
      "Type 1                 \n",
      "False        627     61\n",
      "True         108      4\n"
     ]
    }
   ],
   "source": [
    "# Your code here:\n",
    "cross=pd.crosstab(pokemon['Type 1'] == 'Water', pokemon['Legendary'])\n",
    "print(cross)"
   ]
  },
  {
   "cell_type": "markdown",
   "metadata": {},
   "source": [
    "Perform a chi-squared test using the `chi2_contingency` function in `scipy.stats`. You can read the documentation of the function [here](https://docs.scipy.org/doc/scipy-0.15.1/reference/generated/scipy.stats.chi2_contingency.html)."
   ]
  },
  {
   "cell_type": "code",
   "execution_count": 31,
   "metadata": {
    "ExecuteTime": {
     "end_time": "2023-05-17T13:38:30.010146400Z",
     "start_time": "2023-05-17T13:38:30.003297500Z"
    }
   },
   "outputs": [
    {
     "name": "stdout",
     "output_type": "stream",
     "text": [
      "2.9429200762850503 0.0862546724955095 1 [[632.1  55.9]\n",
      " [102.9   9.1]]\n"
     ]
    }
   ],
   "source": [
    "from scipy.stats import chi2_contingency\n",
    "\n",
    "'H0: No, H1: Si'\n",
    "\n",
    "# Your code here:\n",
    "ji_dos, pval, dof, ex = chi2_contingency(cross)\n",
    "print(ji_dos, pval, dof, ex)"
   ]
  },
  {
   "cell_type": "markdown",
   "metadata": {},
   "source": [
    "Based on a 95% confidence, should we reject the null hypothesis?"
   ]
  },
  {
   "cell_type": "code",
   "execution_count": 32,
   "metadata": {
    "ExecuteTime": {
     "end_time": "2023-05-17T13:40:39.447659100Z",
     "start_time": "2023-05-17T13:40:39.427109500Z"
    }
   },
   "outputs": [
    {
     "data": {
      "text/plain": "'Con el intervalo de confianza de 95% y dado que nos ha dado un pvalor > 0.05 NO podemos rechazar H0 y por lo tanto no existe asociacion significativa entre los grupos.'"
     },
     "execution_count": 32,
     "metadata": {},
     "output_type": "execute_result"
    }
   ],
   "source": [
    "# Your answer here:\n",
    "'Con el intervalo de confianza de 95% y dado que nos ha dado un pvalor > 0.05 NO podemos rechazar H0 y por lo tanto no existe asociacion significativa entre los grupos.'\n"
   ]
  }
 ],
 "metadata": {
  "kernelspec": {
   "display_name": "Python 3 (ipykernel)",
   "language": "python",
   "name": "python3"
  },
  "language_info": {
   "codemirror_mode": {
    "name": "ipython",
    "version": 3
   },
   "file_extension": ".py",
   "mimetype": "text/x-python",
   "name": "python",
   "nbconvert_exporter": "python",
   "pygments_lexer": "ipython3",
   "version": "3.11.1"
  }
 },
 "nbformat": 4,
 "nbformat_minor": 2
}
